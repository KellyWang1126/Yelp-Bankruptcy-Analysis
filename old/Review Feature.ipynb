{
 "cells": [
  {
   "cell_type": "code",
   "execution_count": 1,
   "metadata": {},
   "outputs": [],
   "source": [
    "import pandas as pd\n",
    "import matplotlib.pyplot as plt\n",
    "from textblob import TextBlob\n",
    "from gensim.corpora import Dictionary\n",
    "from gensim.utils import simple_preprocess\n",
    "from gensim.models import Phrases, TfidfModel, LdaModel, CoherenceModel"
   ]
  },
  {
   "cell_type": "markdown",
   "metadata": {},
   "source": [
    "# Review Features"
   ]
  },
  {
   "cell_type": "code",
   "execution_count": 2,
   "metadata": {},
   "outputs": [
    {
     "data": {
      "text/plain": [
       "(781473, 8)"
      ]
     },
     "execution_count": 2,
     "metadata": {},
     "output_type": "execute_result"
    }
   ],
   "source": [
    "# Load review data\n",
    "review = pd.read_csv('clean_review.csv')\n",
    "review.shape"
   ]
  },
  {
   "cell_type": "code",
   "execution_count": 3,
   "metadata": {},
   "outputs": [
    {
     "data": {
      "text/html": [
       "<div>\n",
       "<style scoped>\n",
       "    .dataframe tbody tr th:only-of-type {\n",
       "        vertical-align: middle;\n",
       "    }\n",
       "\n",
       "    .dataframe tbody tr th {\n",
       "        vertical-align: top;\n",
       "    }\n",
       "\n",
       "    .dataframe thead th {\n",
       "        text-align: right;\n",
       "    }\n",
       "</style>\n",
       "<table border=\"1\" class=\"dataframe\">\n",
       "  <thead>\n",
       "    <tr style=\"text-align: right;\">\n",
       "      <th></th>\n",
       "      <th>business_id</th>\n",
       "      <th>cool</th>\n",
       "      <th>date</th>\n",
       "      <th>funny</th>\n",
       "      <th>stars</th>\n",
       "      <th>useful</th>\n",
       "      <th>review_length</th>\n",
       "      <th>clean_text</th>\n",
       "    </tr>\n",
       "  </thead>\n",
       "  <tbody>\n",
       "    <tr>\n",
       "      <th>0</th>\n",
       "      <td>JlNeaOymdVbE6_bubqjohg</td>\n",
       "      <td>0</td>\n",
       "      <td>2014-08-09</td>\n",
       "      <td>0</td>\n",
       "      <td>1</td>\n",
       "      <td>3</td>\n",
       "      <td>81</td>\n",
       "      <td>chevo chandler delicious ahwatukee different r...</td>\n",
       "    </tr>\n",
       "    <tr>\n",
       "      <th>1</th>\n",
       "      <td>0Rni7ocMC_Lg2UH0lDeKMQ</td>\n",
       "      <td>0</td>\n",
       "      <td>2014-08-09</td>\n",
       "      <td>0</td>\n",
       "      <td>1</td>\n",
       "      <td>6</td>\n",
       "      <td>21</td>\n",
       "      <td>place dirty grimy twice service horrible</td>\n",
       "    </tr>\n",
       "    <tr>\n",
       "      <th>2</th>\n",
       "      <td>S-oLPRdhlyL5HAknBKTUcQ</td>\n",
       "      <td>0</td>\n",
       "      <td>2017-11-30</td>\n",
       "      <td>0</td>\n",
       "      <td>4</td>\n",
       "      <td>0</td>\n",
       "      <td>25</td>\n",
       "      <td>holy portion size lot bang buck service super ...</td>\n",
       "    </tr>\n",
       "    <tr>\n",
       "      <th>3</th>\n",
       "      <td>iIjVO7cLD1UEmIO7G05Ujw</td>\n",
       "      <td>0</td>\n",
       "      <td>2016-06-11</td>\n",
       "      <td>0</td>\n",
       "      <td>4</td>\n",
       "      <td>0</td>\n",
       "      <td>60</td>\n",
       "      <td>flavor actually pretty good eat menudo tortill...</td>\n",
       "    </tr>\n",
       "    <tr>\n",
       "      <th>4</th>\n",
       "      <td>1JF9TbJ2d5hH8xsQvvklHg</td>\n",
       "      <td>0</td>\n",
       "      <td>2016-06-18</td>\n",
       "      <td>0</td>\n",
       "      <td>5</td>\n",
       "      <td>1</td>\n",
       "      <td>94</td>\n",
       "      <td>place great flavor thing ask bring chip salsa ...</td>\n",
       "    </tr>\n",
       "  </tbody>\n",
       "</table>\n",
       "</div>"
      ],
      "text/plain": [
       "              business_id  cool        date  funny  stars  useful  \\\n",
       "0  JlNeaOymdVbE6_bubqjohg     0  2014-08-09      0      1       3   \n",
       "1  0Rni7ocMC_Lg2UH0lDeKMQ     0  2014-08-09      0      1       6   \n",
       "2  S-oLPRdhlyL5HAknBKTUcQ     0  2017-11-30      0      4       0   \n",
       "3  iIjVO7cLD1UEmIO7G05Ujw     0  2016-06-11      0      4       0   \n",
       "4  1JF9TbJ2d5hH8xsQvvklHg     0  2016-06-18      0      5       1   \n",
       "\n",
       "   review_length                                         clean_text  \n",
       "0             81  chevo chandler delicious ahwatukee different r...  \n",
       "1             21           place dirty grimy twice service horrible  \n",
       "2             25  holy portion size lot bang buck service super ...  \n",
       "3             60  flavor actually pretty good eat menudo tortill...  \n",
       "4             94  place great flavor thing ask bring chip salsa ...  "
      ]
     },
     "execution_count": 3,
     "metadata": {},
     "output_type": "execute_result"
    }
   ],
   "source": [
    "# Look at the first few rows of data\n",
    "review.head()"
   ]
  },
  {
   "cell_type": "code",
   "execution_count": 4,
   "metadata": {},
   "outputs": [],
   "source": [
    "# Make a copy of the original data\n",
    "review_df = review.copy()"
   ]
  },
  {
   "cell_type": "markdown",
   "metadata": {},
   "source": [
    "## Create Corpus"
   ]
  },
  {
   "cell_type": "code",
   "execution_count": 5,
   "metadata": {},
   "outputs": [],
   "source": [
    "# Convert string to list\n",
    "corpus = review_df['clean_text'].apply(lambda x: simple_preprocess(str(x)))"
   ]
  },
  {
   "cell_type": "markdown",
   "metadata": {},
   "source": [
    "## Create Bigrams"
   ]
  },
  {
   "cell_type": "code",
   "execution_count": 6,
   "metadata": {},
   "outputs": [],
   "source": [
    "# Creates bigrams\n",
    "phrases = Phrases(corpus, min_count=1, threshold=1)\n",
    "corpus = [doc + [bigram for bigram in phrases[doc] if '_' in bigram] for doc in corpus]"
   ]
  },
  {
   "cell_type": "markdown",
   "metadata": {},
   "source": [
    "## Create Token Dictionary"
   ]
  },
  {
   "cell_type": "code",
   "execution_count": 7,
   "metadata": {},
   "outputs": [],
   "source": [
    "# Create a word dictionary\n",
    "dictionary = Dictionary(corpus)\n",
    "dictionary.filter_extremes()\n",
    "dictionary.compactify()"
   ]
  },
  {
   "cell_type": "markdown",
   "metadata": {},
   "source": [
    "## Create Bag of Word Features"
   ]
  },
  {
   "cell_type": "code",
   "execution_count": 8,
   "metadata": {},
   "outputs": [],
   "source": [
    "# Create bad-of-word corpus\n",
    "bow_corpus = [dictionary.doc2bow(doc) for doc in corpus]"
   ]
  },
  {
   "cell_type": "markdown",
   "metadata": {},
   "source": [
    "## Create TF-IDF Features"
   ]
  },
  {
   "cell_type": "code",
   "execution_count": 9,
   "metadata": {},
   "outputs": [],
   "source": [
    "# Create tf-idf corpus\n",
    "tfidf = TfidfModel(bow_corpus)\n",
    "tfidf_corpus = tfidf[bow_corpus]"
   ]
  },
  {
   "cell_type": "markdown",
   "metadata": {},
   "source": [
    "## Select Number of Topics"
   ]
  },
  {
   "cell_type": "code",
   "execution_count": 10,
   "metadata": {},
   "outputs": [],
   "source": [
    "# Compute coherence scores \n",
    "def get_coherence_score(corpus, dictionary, texts, start=2, end=3, step=1):\n",
    "    num_topic = []\n",
    "    model = []\n",
    "    coherence = []\n",
    "    for i in range(start, end+step, step):\n",
    "        # Create lda models\n",
    "        lda = LdaModel(corpus=corpus, num_topics=i, id2word=dictionary, random_state=314)\n",
    "        \n",
    "        # Create coherence model\n",
    "        cm = CoherenceModel(model=lda, corpus=corpus, texts=texts, dictionary=dictionary, coherence='c_v')\n",
    "        \n",
    "        # Save the models and scores\n",
    "        num_topic.append(i)\n",
    "        model.append(lda)\n",
    "        coherence.append(cm.get_coherence())\n",
    "        \n",
    "    return num_topic, model, coherence"
   ]
  },
  {
   "cell_type": "code",
   "execution_count": 11,
   "metadata": {},
   "outputs": [
    {
     "name": "stdout",
     "output_type": "stream",
     "text": [
      "Wall time: 2h 24min 49s\n"
     ]
    }
   ],
   "source": [
    "%%time\n",
    "# Try different values of k topics\n",
    "num_topic, model, coherence = get_coherence_score(tfidf_corpus, dictionary, corpus, start=2, end=20, step=1)"
   ]
  },
  {
   "cell_type": "code",
   "execution_count": 12,
   "metadata": {},
   "outputs": [
    {
     "data": {
      "image/png": "[encoded data removed]",
      "text/plain": [
       "<Figure size 648x432 with 1 Axes>"
      ]
     },
     "metadata": {
      "needs_background": "light"
     },
     "output_type": "display_data"
    }
   ],
   "source": [
    "# Plot the coherence score for each number of topics\n",
    "plt.figure(figsize=(9,6))\n",
    "plt.plot(num_topic, coherence)\n",
    "plt.xlabel('Number of Topics')\n",
    "plt.ylabel('Score')\n",
    "plt.title('Choosing Optimal Model with Coherence Score');"
   ]
  },
  {
   "cell_type": "code",
   "execution_count": 13,
   "metadata": {},
   "outputs": [
    {
     "name": "stdout",
     "output_type": "stream",
     "text": [
      "Best number of topic: 6\n",
      "Best coherence score: 0.5212264073764619\n"
     ]
    }
   ],
   "source": [
    "# Get the best lda model with the ghiest coherence score\n",
    "best_lda = model[coherence.index(max(coherence))]\n",
    "print('Best number of topic:', best_lda.num_topics)\n",
    "print('Best coherence score:', max(coherence))"
   ]
  },
  {
   "cell_type": "markdown",
   "metadata": {},
   "source": [
    "## Get Topic Keywords"
   ]
  },
  {
   "cell_type": "code",
   "execution_count": 14,
   "metadata": {},
   "outputs": [
    {
     "data": {
      "text/plain": [
       "[(0,\n",
       "  '0.017*\"coffee\" + 0.010*\"cream\" + 0.010*\"donut\" + 0.010*\"gluten\" + 0.010*\"breakfast\" + 0.009*\"ice\" + 0.008*\"pancake\" + 0.008*\"gluten_free\" + 0.008*\"ice_cream\" + 0.008*\"chocolate\" + 0.007*\"free\" + 0.006*\"crepe\" + 0.006*\"cookie\" + 0.005*\"smoothie\" + 0.005*\"toast\" + 0.005*\"vegan\" + 0.004*\"latte\" + 0.004*\"shop\" + 0.004*\"french\" + 0.004*\"pastry\"'),\n",
       " (1,\n",
       "  '0.005*\"great\" + 0.004*\"good\" + 0.004*\"place\" + 0.004*\"pizza\" + 0.004*\"love\" + 0.003*\"beer\" + 0.003*\"food\" + 0.003*\"try\" + 0.003*\"nice\" + 0.003*\"menu\" + 0.003*\"bar\" + 0.003*\"amazing\" + 0.003*\"delicious\" + 0.003*\"salad\" + 0.003*\"service\" + 0.003*\"happy\" + 0.003*\"drink\" + 0.003*\"friendly\" + 0.003*\"atmosphere\" + 0.003*\"come\"'),\n",
       " (2,\n",
       "  '0.010*\"great\" + 0.008*\"love\" + 0.008*\"food\" + 0.008*\"good\" + 0.008*\"place\" + 0.007*\"service\" + 0.007*\"friendly\" + 0.007*\"amazing\" + 0.006*\"delicious\" + 0.006*\"staff\" + 0.006*\"price\" + 0.006*\"recommend\" + 0.005*\"definitely\" + 0.005*\"chicken\" + 0.005*\"fresh\" + 0.005*\"try\" + 0.005*\"lunch\" + 0.005*\"favorite\" + 0.005*\"time\" + 0.005*\"awesome\"'),\n",
       " (3,\n",
       "  '0.006*\"order\" + 0.005*\"time\" + 0.005*\"wait\" + 0.004*\"minute\" + 0.004*\"ask\" + 0.004*\"food\" + 0.004*\"go\" + 0.004*\"come\" + 0.004*\"take\" + 0.004*\"service\" + 0.004*\"bad\" + 0.004*\"get\" + 0.004*\"table\" + 0.003*\"say\" + 0.003*\"tell\" + 0.003*\"customer\" + 0.003*\"place\" + 0.003*\"server\" + 0.003*\"location\" + 0.003*\"want\"'),\n",
       " (4,\n",
       "  '0.030*\"taco\" + 0.021*\"mexican\" + 0.020*\"salsa\" + 0.019*\"burrito\" + 0.013*\"mexican_food\" + 0.012*\"bean\" + 0.011*\"chip\" + 0.009*\"tortilla\" + 0.009*\"asada\" + 0.009*\"carne\" + 0.008*\"enchilada\" + 0.007*\"chip_salsa\" + 0.006*\"carne_asada\" + 0.006*\"guacamole\" + 0.005*\"margarita\" + 0.005*\"fish_taco\" + 0.005*\"green\" + 0.005*\"rice\" + 0.005*\"quesadilla\" + 0.004*\"street\"'),\n",
       " (5,\n",
       "  '0.006*\"fry\" + 0.006*\"chicken\" + 0.006*\"sandwich\" + 0.006*\"sauce\" + 0.006*\"cheese\" + 0.005*\"egg\" + 0.005*\"bbq\" + 0.005*\"potato\" + 0.005*\"meat\" + 0.005*\"bacon\" + 0.004*\"breakfast\" + 0.004*\"bread\" + 0.004*\"pork\" + 0.004*\"bagel\" + 0.004*\"thai\" + 0.004*\"brisket\" + 0.003*\"taste\" + 0.003*\"beef\" + 0.003*\"good\" + 0.003*\"sausage\"')]"
      ]
     },
     "execution_count": 14,
     "metadata": {},
     "output_type": "execute_result"
    }
   ],
   "source": [
    "# Show the components of each topic\n",
    "best_lda.show_topics(num_words=20)"
   ]
  },
  {
   "cell_type": "code",
   "execution_count": 15,
   "metadata": {},
   "outputs": [],
   "source": [
    "# Add topic label manually\n",
    "topic_label = ['Coffee/Dessert', \n",
    "               'Food/Atmosphere', \n",
    "               'Food/Service', \n",
    "               'Wait Time',\n",
    "               'Mexican Food',\n",
    "               'Breakfast']\n",
    "topic_dict = {i:topic_label[i] for i in range(best_lda.num_topics)}"
   ]
  },
  {
   "cell_type": "markdown",
   "metadata": {},
   "source": [
    "## Get Dominant Topic"
   ]
  },
  {
   "cell_type": "code",
   "execution_count": 16,
   "metadata": {},
   "outputs": [],
   "source": [
    "def find_dominant_topic(x):\n",
    "    topic_percent = [j for i, j in x]\n",
    "    return topic_percent.index(max(topic_percent))"
   ]
  },
  {
   "cell_type": "code",
   "execution_count": 17,
   "metadata": {},
   "outputs": [
    {
     "data": {
      "text/html": [
       "<div>\n",
       "<style scoped>\n",
       "    .dataframe tbody tr th:only-of-type {\n",
       "        vertical-align: middle;\n",
       "    }\n",
       "\n",
       "    .dataframe tbody tr th {\n",
       "        vertical-align: top;\n",
       "    }\n",
       "\n",
       "    .dataframe thead th {\n",
       "        text-align: right;\n",
       "    }\n",
       "</style>\n",
       "<table border=\"1\" class=\"dataframe\">\n",
       "  <thead>\n",
       "    <tr style=\"text-align: right;\">\n",
       "      <th></th>\n",
       "      <th>Coffee/Dessert</th>\n",
       "      <th>Food/Atmosphere</th>\n",
       "      <th>Food/Service</th>\n",
       "      <th>Wait Time</th>\n",
       "      <th>Mexican Food</th>\n",
       "      <th>Breakfast</th>\n",
       "    </tr>\n",
       "  </thead>\n",
       "  <tbody>\n",
       "    <tr>\n",
       "      <th>0</th>\n",
       "      <td>0</td>\n",
       "      <td>1</td>\n",
       "      <td>0</td>\n",
       "      <td>0</td>\n",
       "      <td>0</td>\n",
       "      <td>0</td>\n",
       "    </tr>\n",
       "    <tr>\n",
       "      <th>1</th>\n",
       "      <td>0</td>\n",
       "      <td>0</td>\n",
       "      <td>0</td>\n",
       "      <td>1</td>\n",
       "      <td>0</td>\n",
       "      <td>0</td>\n",
       "    </tr>\n",
       "    <tr>\n",
       "      <th>2</th>\n",
       "      <td>0</td>\n",
       "      <td>0</td>\n",
       "      <td>1</td>\n",
       "      <td>0</td>\n",
       "      <td>0</td>\n",
       "      <td>0</td>\n",
       "    </tr>\n",
       "    <tr>\n",
       "      <th>3</th>\n",
       "      <td>0</td>\n",
       "      <td>0</td>\n",
       "      <td>0</td>\n",
       "      <td>1</td>\n",
       "      <td>0</td>\n",
       "      <td>0</td>\n",
       "    </tr>\n",
       "    <tr>\n",
       "      <th>4</th>\n",
       "      <td>0</td>\n",
       "      <td>0</td>\n",
       "      <td>0</td>\n",
       "      <td>1</td>\n",
       "      <td>0</td>\n",
       "      <td>0</td>\n",
       "    </tr>\n",
       "  </tbody>\n",
       "</table>\n",
       "</div>"
      ],
      "text/plain": [
       "   Coffee/Dessert  Food/Atmosphere  Food/Service  Wait Time  Mexican Food  \\\n",
       "0               0                1             0          0             0   \n",
       "1               0                0             0          1             0   \n",
       "2               0                0             1          0             0   \n",
       "3               0                0             0          1             0   \n",
       "4               0                0             0          1             0   \n",
       "\n",
       "   Breakfast  \n",
       "0          0  \n",
       "1          0  \n",
       "2          0  \n",
       "3          0  \n",
       "4          0  "
      ]
     },
     "execution_count": 17,
     "metadata": {},
     "output_type": "execute_result"
    }
   ],
   "source": [
    "# Compute the dominant topic for each review\n",
    "dominant_topic = pd.get_dummies([find_dominant_topic(x) for x in best_lda[tfidf_corpus]]).rename(columns=topic_dict)\n",
    "dominant_topic.head()"
   ]
  },
  {
   "cell_type": "code",
   "execution_count": 18,
   "metadata": {},
   "outputs": [
    {
     "data": {
      "text/plain": [
       "(781473, 14)"
      ]
     },
     "execution_count": 18,
     "metadata": {},
     "output_type": "execute_result"
    }
   ],
   "source": [
    "review_df = review_df.merge(dominant_topic, left_index=True, right_index=True)\n",
    "review_df.shape"
   ]
  },
  {
   "cell_type": "code",
   "execution_count": 19,
   "metadata": {},
   "outputs": [
    {
     "data": {
      "text/html": [
       "<div>\n",
       "<style scoped>\n",
       "    .dataframe tbody tr th:only-of-type {\n",
       "        vertical-align: middle;\n",
       "    }\n",
       "\n",
       "    .dataframe tbody tr th {\n",
       "        vertical-align: top;\n",
       "    }\n",
       "\n",
       "    .dataframe thead th {\n",
       "        text-align: right;\n",
       "    }\n",
       "</style>\n",
       "<table border=\"1\" class=\"dataframe\">\n",
       "  <thead>\n",
       "    <tr style=\"text-align: right;\">\n",
       "      <th></th>\n",
       "      <th>business_id</th>\n",
       "      <th>cool</th>\n",
       "      <th>date</th>\n",
       "      <th>funny</th>\n",
       "      <th>stars</th>\n",
       "      <th>useful</th>\n",
       "      <th>review_length</th>\n",
       "      <th>clean_text</th>\n",
       "      <th>Coffee/Dessert</th>\n",
       "      <th>Food/Atmosphere</th>\n",
       "      <th>Food/Service</th>\n",
       "      <th>Wait Time</th>\n",
       "      <th>Mexican Food</th>\n",
       "      <th>Breakfast</th>\n",
       "    </tr>\n",
       "  </thead>\n",
       "  <tbody>\n",
       "    <tr>\n",
       "      <th>0</th>\n",
       "      <td>JlNeaOymdVbE6_bubqjohg</td>\n",
       "      <td>0</td>\n",
       "      <td>2014-08-09</td>\n",
       "      <td>0</td>\n",
       "      <td>1</td>\n",
       "      <td>3</td>\n",
       "      <td>81</td>\n",
       "      <td>chevo chandler delicious ahwatukee different r...</td>\n",
       "      <td>0</td>\n",
       "      <td>1</td>\n",
       "      <td>0</td>\n",
       "      <td>0</td>\n",
       "      <td>0</td>\n",
       "      <td>0</td>\n",
       "    </tr>\n",
       "    <tr>\n",
       "      <th>1</th>\n",
       "      <td>0Rni7ocMC_Lg2UH0lDeKMQ</td>\n",
       "      <td>0</td>\n",
       "      <td>2014-08-09</td>\n",
       "      <td>0</td>\n",
       "      <td>1</td>\n",
       "      <td>6</td>\n",
       "      <td>21</td>\n",
       "      <td>place dirty grimy twice service horrible</td>\n",
       "      <td>0</td>\n",
       "      <td>0</td>\n",
       "      <td>0</td>\n",
       "      <td>1</td>\n",
       "      <td>0</td>\n",
       "      <td>0</td>\n",
       "    </tr>\n",
       "    <tr>\n",
       "      <th>2</th>\n",
       "      <td>S-oLPRdhlyL5HAknBKTUcQ</td>\n",
       "      <td>0</td>\n",
       "      <td>2017-11-30</td>\n",
       "      <td>0</td>\n",
       "      <td>4</td>\n",
       "      <td>0</td>\n",
       "      <td>25</td>\n",
       "      <td>holy portion size lot bang buck service super ...</td>\n",
       "      <td>0</td>\n",
       "      <td>0</td>\n",
       "      <td>1</td>\n",
       "      <td>0</td>\n",
       "      <td>0</td>\n",
       "      <td>0</td>\n",
       "    </tr>\n",
       "    <tr>\n",
       "      <th>3</th>\n",
       "      <td>iIjVO7cLD1UEmIO7G05Ujw</td>\n",
       "      <td>0</td>\n",
       "      <td>2016-06-11</td>\n",
       "      <td>0</td>\n",
       "      <td>4</td>\n",
       "      <td>0</td>\n",
       "      <td>60</td>\n",
       "      <td>flavor actually pretty good eat menudo tortill...</td>\n",
       "      <td>0</td>\n",
       "      <td>0</td>\n",
       "      <td>0</td>\n",
       "      <td>1</td>\n",
       "      <td>0</td>\n",
       "      <td>0</td>\n",
       "    </tr>\n",
       "    <tr>\n",
       "      <th>4</th>\n",
       "      <td>1JF9TbJ2d5hH8xsQvvklHg</td>\n",
       "      <td>0</td>\n",
       "      <td>2016-06-18</td>\n",
       "      <td>0</td>\n",
       "      <td>5</td>\n",
       "      <td>1</td>\n",
       "      <td>94</td>\n",
       "      <td>place great flavor thing ask bring chip salsa ...</td>\n",
       "      <td>0</td>\n",
       "      <td>0</td>\n",
       "      <td>0</td>\n",
       "      <td>1</td>\n",
       "      <td>0</td>\n",
       "      <td>0</td>\n",
       "    </tr>\n",
       "  </tbody>\n",
       "</table>\n",
       "</div>"
      ],
      "text/plain": [
       "              business_id  cool        date  funny  stars  useful  \\\n",
       "0  JlNeaOymdVbE6_bubqjohg     0  2014-08-09      0      1       3   \n",
       "1  0Rni7ocMC_Lg2UH0lDeKMQ     0  2014-08-09      0      1       6   \n",
       "2  S-oLPRdhlyL5HAknBKTUcQ     0  2017-11-30      0      4       0   \n",
       "3  iIjVO7cLD1UEmIO7G05Ujw     0  2016-06-11      0      4       0   \n",
       "4  1JF9TbJ2d5hH8xsQvvklHg     0  2016-06-18      0      5       1   \n",
       "\n",
       "   review_length                                         clean_text  \\\n",
       "0             81  chevo chandler delicious ahwatukee different r...   \n",
       "1             21           place dirty grimy twice service horrible   \n",
       "2             25  holy portion size lot bang buck service super ...   \n",
       "3             60  flavor actually pretty good eat menudo tortill...   \n",
       "4             94  place great flavor thing ask bring chip salsa ...   \n",
       "\n",
       "   Coffee/Dessert  Food/Atmosphere  Food/Service  Wait Time  Mexican Food  \\\n",
       "0               0                1             0          0             0   \n",
       "1               0                0             0          1             0   \n",
       "2               0                0             1          0             0   \n",
       "3               0                0             0          1             0   \n",
       "4               0                0             0          1             0   \n",
       "\n",
       "   Breakfast  \n",
       "0          0  \n",
       "1          0  \n",
       "2          0  \n",
       "3          0  \n",
       "4          0  "
      ]
     },
     "execution_count": 19,
     "metadata": {},
     "output_type": "execute_result"
    }
   ],
   "source": [
    "review_df.head()"
   ]
  },
  {
   "cell_type": "markdown",
   "metadata": {},
   "source": [
    "## Sentiment Score"
   ]
  },
  {
   "cell_type": "code",
   "execution_count": 20,
   "metadata": {},
   "outputs": [],
   "source": [
    "# Compute sentiment score\n",
    "review_df['polarity'] = review_df['clean_text'].apply(lambda sent: TextBlob(str(sent)).sentiment.polarity)\n",
    "review_df['subjectivity'] = review_df['clean_text'].apply(lambda sent: TextBlob(str(sent)).sentiment.subjectivity)"
   ]
  },
  {
   "cell_type": "markdown",
   "metadata": {},
   "source": [
    "## Review Count"
   ]
  },
  {
   "cell_type": "code",
   "execution_count": 21,
   "metadata": {},
   "outputs": [],
   "source": [
    "# Caclulate the number of reviews in the dataset\n",
    "review_count = review_df.groupby('business_id').count().iloc[:,0].to_dict()"
   ]
  },
  {
   "cell_type": "markdown",
   "metadata": {},
   "source": [
    "## Restaurant Age"
   ]
  },
  {
   "cell_type": "code",
   "execution_count": 22,
   "metadata": {},
   "outputs": [],
   "source": [
    "# Convert string date to datetime format\n",
    "review_df['date'] = review_df['date'].apply(lambda x: pd.to_datetime(x))"
   ]
  },
  {
   "cell_type": "code",
   "execution_count": 23,
   "metadata": {},
   "outputs": [],
   "source": [
    "# Create dictionary of estimated restaurant age\n",
    "restaurant_age = review_df[['business_id', 'date']].groupby('business_id') \\\n",
    "                                                    .agg(lambda x: pd.datetime(2017, 12, 31) - min(x))['date'] \\\n",
    "                                                    .apply(lambda x: x.days / 365) \\\n",
    "                                                    .to_dict()"
   ]
  },
  {
   "cell_type": "markdown",
   "metadata": {},
   "source": [
    "## Combine Review Features"
   ]
  },
  {
   "cell_type": "code",
   "execution_count": 24,
   "metadata": {},
   "outputs": [],
   "source": [
    "# Take the mean of numeric features group by business id\n",
    "review_df = review_df.groupby('business_id').mean().reset_index()"
   ]
  },
  {
   "cell_type": "markdown",
   "metadata": {},
   "source": [
    "## Aggregate Features"
   ]
  },
  {
   "cell_type": "code",
   "execution_count": 25,
   "metadata": {},
   "outputs": [
    {
     "data": {
      "text/plain": [
       "(7183, 16)"
      ]
     },
     "execution_count": 25,
     "metadata": {},
     "output_type": "execute_result"
    }
   ],
   "source": [
    "# Create aggregate variables\n",
    "review_df['restaurant_age'] = review_df['business_id'].apply(lambda row: restaurant_age[row])\n",
    "review_df['review_count'] = review_df['business_id'].apply(lambda row: restaurant_age[row])\n",
    "review_df.shape"
   ]
  },
  {
   "cell_type": "code",
   "execution_count": 26,
   "metadata": {},
   "outputs": [
    {
     "data": {
      "text/html": [
       "<div>\n",
       "<style scoped>\n",
       "    .dataframe tbody tr th:only-of-type {\n",
       "        vertical-align: middle;\n",
       "    }\n",
       "\n",
       "    .dataframe tbody tr th {\n",
       "        vertical-align: top;\n",
       "    }\n",
       "\n",
       "    .dataframe thead th {\n",
       "        text-align: right;\n",
       "    }\n",
       "</style>\n",
       "<table border=\"1\" class=\"dataframe\">\n",
       "  <thead>\n",
       "    <tr style=\"text-align: right;\">\n",
       "      <th></th>\n",
       "      <th>business_id</th>\n",
       "      <th>cool</th>\n",
       "      <th>funny</th>\n",
       "      <th>stars</th>\n",
       "      <th>useful</th>\n",
       "      <th>review_length</th>\n",
       "      <th>Coffee/Dessert</th>\n",
       "      <th>Food/Atmosphere</th>\n",
       "      <th>Food/Service</th>\n",
       "      <th>Wait Time</th>\n",
       "      <th>Mexican Food</th>\n",
       "      <th>Breakfast</th>\n",
       "      <th>polarity</th>\n",
       "      <th>subjectivity</th>\n",
       "      <th>restaurant_age</th>\n",
       "      <th>review_count</th>\n",
       "    </tr>\n",
       "  </thead>\n",
       "  <tbody>\n",
       "    <tr>\n",
       "      <th>0</th>\n",
       "      <td>-01XupAWZEXbdNbxNg5mEg</td>\n",
       "      <td>0.818182</td>\n",
       "      <td>0.714286</td>\n",
       "      <td>2.857143</td>\n",
       "      <td>1.610390</td>\n",
       "      <td>120.259740</td>\n",
       "      <td>0.00000</td>\n",
       "      <td>0.428571</td>\n",
       "      <td>0.064935</td>\n",
       "      <td>0.480519</td>\n",
       "      <td>0.00000</td>\n",
       "      <td>0.025974</td>\n",
       "      <td>0.184144</td>\n",
       "      <td>0.613380</td>\n",
       "      <td>8.257534</td>\n",
       "      <td>8.257534</td>\n",
       "    </tr>\n",
       "    <tr>\n",
       "      <th>1</th>\n",
       "      <td>-092wE7j5HZOogMLAh40zA</td>\n",
       "      <td>0.265060</td>\n",
       "      <td>0.216867</td>\n",
       "      <td>3.349398</td>\n",
       "      <td>1.397590</td>\n",
       "      <td>106.867470</td>\n",
       "      <td>0.00000</td>\n",
       "      <td>0.048193</td>\n",
       "      <td>0.566265</td>\n",
       "      <td>0.337349</td>\n",
       "      <td>0.00000</td>\n",
       "      <td>0.048193</td>\n",
       "      <td>0.149639</td>\n",
       "      <td>0.606846</td>\n",
       "      <td>8.386301</td>\n",
       "      <td>8.386301</td>\n",
       "    </tr>\n",
       "    <tr>\n",
       "      <th>2</th>\n",
       "      <td>-0Sgh0QlUKVsWosCWJzGqQ</td>\n",
       "      <td>0.136364</td>\n",
       "      <td>0.477273</td>\n",
       "      <td>1.977273</td>\n",
       "      <td>0.704545</td>\n",
       "      <td>90.340909</td>\n",
       "      <td>0.00000</td>\n",
       "      <td>0.045455</td>\n",
       "      <td>0.045455</td>\n",
       "      <td>0.909091</td>\n",
       "      <td>0.00000</td>\n",
       "      <td>0.000000</td>\n",
       "      <td>0.009063</td>\n",
       "      <td>0.554916</td>\n",
       "      <td>7.326027</td>\n",
       "      <td>7.326027</td>\n",
       "    </tr>\n",
       "    <tr>\n",
       "      <th>3</th>\n",
       "      <td>-0WegMt6Cy966qlDKhu6jA</td>\n",
       "      <td>0.376623</td>\n",
       "      <td>0.246753</td>\n",
       "      <td>2.142857</td>\n",
       "      <td>0.662338</td>\n",
       "      <td>124.688312</td>\n",
       "      <td>0.00000</td>\n",
       "      <td>0.259740</td>\n",
       "      <td>0.012987</td>\n",
       "      <td>0.727273</td>\n",
       "      <td>0.00000</td>\n",
       "      <td>0.000000</td>\n",
       "      <td>-0.022920</td>\n",
       "      <td>0.545097</td>\n",
       "      <td>4.712329</td>\n",
       "      <td>4.712329</td>\n",
       "    </tr>\n",
       "    <tr>\n",
       "      <th>4</th>\n",
       "      <td>-0aIra_B6iALlfqAriBSYA</td>\n",
       "      <td>0.562500</td>\n",
       "      <td>0.375000</td>\n",
       "      <td>4.625000</td>\n",
       "      <td>0.937500</td>\n",
       "      <td>75.406250</td>\n",
       "      <td>0.03125</td>\n",
       "      <td>0.500000</td>\n",
       "      <td>0.125000</td>\n",
       "      <td>0.281250</td>\n",
       "      <td>0.03125</td>\n",
       "      <td>0.031250</td>\n",
       "      <td>0.324154</td>\n",
       "      <td>0.589466</td>\n",
       "      <td>2.531507</td>\n",
       "      <td>2.531507</td>\n",
       "    </tr>\n",
       "  </tbody>\n",
       "</table>\n",
       "</div>"
      ],
      "text/plain": [
       "              business_id      cool     funny     stars    useful  \\\n",
       "0  -01XupAWZEXbdNbxNg5mEg  0.818182  0.714286  2.857143  1.610390   \n",
       "1  -092wE7j5HZOogMLAh40zA  0.265060  0.216867  3.349398  1.397590   \n",
       "2  -0Sgh0QlUKVsWosCWJzGqQ  0.136364  0.477273  1.977273  0.704545   \n",
       "3  -0WegMt6Cy966qlDKhu6jA  0.376623  0.246753  2.142857  0.662338   \n",
       "4  -0aIra_B6iALlfqAriBSYA  0.562500  0.375000  4.625000  0.937500   \n",
       "\n",
       "   review_length  Coffee/Dessert  Food/Atmosphere  Food/Service  Wait Time  \\\n",
       "0     120.259740         0.00000         0.428571      0.064935   0.480519   \n",
       "1     106.867470         0.00000         0.048193      0.566265   0.337349   \n",
       "2      90.340909         0.00000         0.045455      0.045455   0.909091   \n",
       "3     124.688312         0.00000         0.259740      0.012987   0.727273   \n",
       "4      75.406250         0.03125         0.500000      0.125000   0.281250   \n",
       "\n",
       "   Mexican Food  Breakfast  polarity  subjectivity  restaurant_age  \\\n",
       "0       0.00000   0.025974  0.184144      0.613380        8.257534   \n",
       "1       0.00000   0.048193  0.149639      0.606846        8.386301   \n",
       "2       0.00000   0.000000  0.009063      0.554916        7.326027   \n",
       "3       0.00000   0.000000 -0.022920      0.545097        4.712329   \n",
       "4       0.03125   0.031250  0.324154      0.589466        2.531507   \n",
       "\n",
       "   review_count  \n",
       "0      8.257534  \n",
       "1      8.386301  \n",
       "2      7.326027  \n",
       "3      4.712329  \n",
       "4      2.531507  "
      ]
     },
     "execution_count": 26,
     "metadata": {},
     "output_type": "execute_result"
    }
   ],
   "source": [
    "# View the first few lines of data \n",
    "review_df.head()"
   ]
  },
  {
   "cell_type": "code",
   "execution_count": 27,
   "metadata": {},
   "outputs": [],
   "source": [
    "review_df.to_csv('final_review.csv', index=False)"
   ]
  },
  {
   "cell_type": "code",
   "execution_count": null,
   "metadata": {},
   "outputs": [],
   "source": []
  }
 ],
 "metadata": {
  "kernelspec": {
   "display_name": "Python 3",
   "language": "python",
   "name": "python3"
  },
  "language_info": {
   "codemirror_mode": {
    "name": "ipython",
    "version": 3
   },
   "file_extension": ".py",
   "mimetype": "text/x-python",
   "name": "python",
   "nbconvert_exporter": "python",
   "pygments_lexer": "ipython3",
   "version": "3.7.1"
  }
 },
 "nbformat": 4,
 "nbformat_minor": 2
}
