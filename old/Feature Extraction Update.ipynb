{
 "cells": [
  {
   "cell_type": "code",
   "execution_count": 1,
   "metadata": {},
   "outputs": [],
   "source": [
    "# Import python packages\n",
    "import re\n",
    "import numpy as np\n",
    "import pandas as pd\n",
    "import seaborn as sns\n",
    "import matplotlib.pyplot as plt\n",
    "from uszipcode import SearchEngine\n",
    "from sklearn.cluster import KMeans\n",
    "from sklearn.metrics import silhouette_score"
   ]
  },
  {
   "cell_type": "markdown",
   "metadata": {},
   "source": [
    "## Business Features"
   ]
  },
  {
   "cell_type": "code",
   "execution_count": 2,
   "metadata": {},
   "outputs": [
    {
     "data": {
      "text/plain": [
       "(2493, 13)"
      ]
     },
     "execution_count": 2,
     "metadata": {},
     "output_type": "execute_result"
    }
   ],
   "source": [
    "# Read business data and checkin data\n",
    "business = pd.read_csv('clean_business.csv')\n",
    "business.shape"
   ]
  },
  {
   "cell_type": "code",
   "execution_count": 3,
   "metadata": {},
   "outputs": [
    {
     "data": {
      "text/html": [
       "<div>\n",
       "<style scoped>\n",
       "    .dataframe tbody tr th:only-of-type {\n",
       "        vertical-align: middle;\n",
       "    }\n",
       "\n",
       "    .dataframe tbody tr th {\n",
       "        vertical-align: top;\n",
       "    }\n",
       "\n",
       "    .dataframe thead th {\n",
       "        text-align: right;\n",
       "    }\n",
       "</style>\n",
       "<table border=\"1\" class=\"dataframe\">\n",
       "  <thead>\n",
       "    <tr style=\"text-align: right;\">\n",
       "      <th></th>\n",
       "      <th>attributes</th>\n",
       "      <th>business_id</th>\n",
       "      <th>categories</th>\n",
       "      <th>city</th>\n",
       "      <th>latitude</th>\n",
       "      <th>longitude</th>\n",
       "      <th>name</th>\n",
       "      <th>postal_code</th>\n",
       "      <th>review_count</th>\n",
       "      <th>stars</th>\n",
       "      <th>state</th>\n",
       "      <th>isBankrupt</th>\n",
       "      <th>county</th>\n",
       "    </tr>\n",
       "  </thead>\n",
       "  <tbody>\n",
       "    <tr>\n",
       "      <th>0</th>\n",
       "      <td>{'RestaurantsTableService': False, 'GoodForMea...</td>\n",
       "      <td>rDMptJYWtnMhpQu_rRXHng</td>\n",
       "      <td>['Fast Food', 'Burgers', 'Restaurants']</td>\n",
       "      <td>Phoenix</td>\n",
       "      <td>33.607070</td>\n",
       "      <td>-112.064382</td>\n",
       "      <td>McDonald's</td>\n",
       "      <td>85022</td>\n",
       "      <td>10</td>\n",
       "      <td>1.0</td>\n",
       "      <td>AZ</td>\n",
       "      <td>0</td>\n",
       "      <td>Maricopa County</td>\n",
       "    </tr>\n",
       "    <tr>\n",
       "      <th>1</th>\n",
       "      <td>{'RestaurantsTableService': True, 'GoodForMeal...</td>\n",
       "      <td>1WBkAuQg81kokZIPMpn9Zg</td>\n",
       "      <td>['Burgers', 'Restaurants']</td>\n",
       "      <td>Phoenix</td>\n",
       "      <td>33.607310</td>\n",
       "      <td>-112.063404</td>\n",
       "      <td>Charr An American Burger Bar</td>\n",
       "      <td>85022</td>\n",
       "      <td>232</td>\n",
       "      <td>3.0</td>\n",
       "      <td>AZ</td>\n",
       "      <td>0</td>\n",
       "      <td>Maricopa County</td>\n",
       "    </tr>\n",
       "    <tr>\n",
       "      <th>2</th>\n",
       "      <td>{'RestaurantsTableService': False, 'GoodForMea...</td>\n",
       "      <td>iPa__LOhse-hobC2Xmp-Kw</td>\n",
       "      <td>['Restaurants', 'Burgers', 'Fast Food']</td>\n",
       "      <td>Phoenix</td>\n",
       "      <td>33.508765</td>\n",
       "      <td>-112.046240</td>\n",
       "      <td>McDonald's</td>\n",
       "      <td>85016</td>\n",
       "      <td>34</td>\n",
       "      <td>3.0</td>\n",
       "      <td>AZ</td>\n",
       "      <td>0</td>\n",
       "      <td>Maricopa County</td>\n",
       "    </tr>\n",
       "    <tr>\n",
       "      <th>3</th>\n",
       "      <td>{'BusinessAcceptsCreditCards': True, 'Business...</td>\n",
       "      <td>YhV93k9uiMdr3FlV4FHjwA</td>\n",
       "      <td>['Marketing', \"Men's Clothing\", 'Restaurants',...</td>\n",
       "      <td>Phoenix</td>\n",
       "      <td>33.449967</td>\n",
       "      <td>-112.070222</td>\n",
       "      <td>Caviness Studio</td>\n",
       "      <td>85001</td>\n",
       "      <td>4</td>\n",
       "      <td>5.0</td>\n",
       "      <td>AZ</td>\n",
       "      <td>0</td>\n",
       "      <td>Maricopa County</td>\n",
       "    </tr>\n",
       "    <tr>\n",
       "      <th>4</th>\n",
       "      <td>{'RestaurantsTableService': True, 'GoodForMeal...</td>\n",
       "      <td>QkG3KUXwqZBW18A9k1xqCA</td>\n",
       "      <td>['American (Traditional)', 'Restaurants', 'Sea...</td>\n",
       "      <td>Phoenix</td>\n",
       "      <td>33.478735</td>\n",
       "      <td>-112.221379</td>\n",
       "      <td>Red Lobster</td>\n",
       "      <td>85035</td>\n",
       "      <td>37</td>\n",
       "      <td>2.5</td>\n",
       "      <td>AZ</td>\n",
       "      <td>0</td>\n",
       "      <td>Maricopa County</td>\n",
       "    </tr>\n",
       "  </tbody>\n",
       "</table>\n",
       "</div>"
      ],
      "text/plain": [
       "                                          attributes             business_id  \\\n",
       "0  {'RestaurantsTableService': False, 'GoodForMea...  rDMptJYWtnMhpQu_rRXHng   \n",
       "1  {'RestaurantsTableService': True, 'GoodForMeal...  1WBkAuQg81kokZIPMpn9Zg   \n",
       "2  {'RestaurantsTableService': False, 'GoodForMea...  iPa__LOhse-hobC2Xmp-Kw   \n",
       "3  {'BusinessAcceptsCreditCards': True, 'Business...  YhV93k9uiMdr3FlV4FHjwA   \n",
       "4  {'RestaurantsTableService': True, 'GoodForMeal...  QkG3KUXwqZBW18A9k1xqCA   \n",
       "\n",
       "                                          categories     city   latitude  \\\n",
       "0            ['Fast Food', 'Burgers', 'Restaurants']  Phoenix  33.607070   \n",
       "1                         ['Burgers', 'Restaurants']  Phoenix  33.607310   \n",
       "2            ['Restaurants', 'Burgers', 'Fast Food']  Phoenix  33.508765   \n",
       "3  ['Marketing', \"Men's Clothing\", 'Restaurants',...  Phoenix  33.449967   \n",
       "4  ['American (Traditional)', 'Restaurants', 'Sea...  Phoenix  33.478735   \n",
       "\n",
       "    longitude                          name  postal_code  review_count  stars  \\\n",
       "0 -112.064382                    McDonald's        85022            10    1.0   \n",
       "1 -112.063404  Charr An American Burger Bar        85022           232    3.0   \n",
       "2 -112.046240                    McDonald's        85016            34    3.0   \n",
       "3 -112.070222               Caviness Studio        85001             4    5.0   \n",
       "4 -112.221379                   Red Lobster        85035            37    2.5   \n",
       "\n",
       "  state  isBankrupt           county  \n",
       "0    AZ           0  Maricopa County  \n",
       "1    AZ           0  Maricopa County  \n",
       "2    AZ           0  Maricopa County  \n",
       "3    AZ           0  Maricopa County  \n",
       "4    AZ           0  Maricopa County  "
      ]
     },
     "execution_count": 3,
     "metadata": {},
     "output_type": "execute_result"
    }
   ],
   "source": [
    "# Reveal first few rows \n",
    "business.head()"
   ]
  },
  {
   "cell_type": "code",
   "execution_count": 4,
   "metadata": {},
   "outputs": [],
   "source": [
    "# Make a copy of raw dataset\n",
    "business_df = business.copy()"
   ]
  },
  {
   "cell_type": "markdown",
   "metadata": {},
   "source": [
    "## Create isChain"
   ]
  },
  {
   "cell_type": "code",
   "execution_count": 5,
   "metadata": {},
   "outputs": [],
   "source": [
    "# Create new feature chain\n",
    "chain_dict = business_df['name'].value_counts().to_dict()\n",
    "business_df['isChain'] = business_df['name'].apply(lambda x: int(chain_dict[x] > 1))"
   ]
  },
  {
   "cell_type": "markdown",
   "metadata": {},
   "source": [
    "## Create City Density"
   ]
  },
  {
   "cell_type": "code",
   "execution_count": 6,
   "metadata": {},
   "outputs": [],
   "source": [
    "# Create a dictionary to store restuarant number in each city\n",
    "city_dict = business_df.groupby('city').apply(len).to_dict()\n",
    "\n",
    "# Create new feature neighborhood_city\n",
    "business_df['density'] = business_df['city'].apply(lambda city: city_dict.get(city))"
   ]
  },
  {
   "cell_type": "markdown",
   "metadata": {},
   "source": [
    "## Create Neighborhood Density"
   ]
  },
  {
   "cell_type": "code",
   "execution_count": null,
   "metadata": {},
   "outputs": [],
   "source": [
    "# Use Kmeans Clustering to identify grouping by latitude and longitude\n",
    "def geocluster(data, k_min=2, k_max=2, step=1):\n",
    "    coordinates = data[['latitude', 'longitude']].copy()\n",
    "    \n",
    "    # Compute Silhouette scores for each K\n",
    "    silhouette = []\n",
    "    k_range = list(range(k_min, k_max+step, step))\n",
    "    for i in k_range:\n",
    "        kmeans = KMeans(n_clusters=i, random_state=314).fit(coordinates)\n",
    "        silhouette.append(silhouette_score(coordinates, kmeans.labels_, metric='euclidean'))\n",
    "        \n",
    "    return pd.DataFrame(dict(k=k_range, silhouette_score=silhouette))"
   ]
  },
  {
   "cell_type": "code",
   "execution_count": null,
   "metadata": {},
   "outputs": [],
   "source": [
    "# Compute silhouette score for different K's\n",
    "silhouette_result = geocluster(business_df, 20, 1000, 20)\n",
    "silhouette_result.head();"
   ]
  },
  {
   "cell_type": "code",
   "execution_count": null,
   "metadata": {},
   "outputs": [],
   "source": [
    "# Plot the silhouette for different K's\n",
    "plt.figure(figsize=(8,5))\n",
    "plt.plot(silhouette_result['k'], silhouette_result['silhouette_score'])\n",
    "plt.xlabel('K')\n",
    "plt.ylabel('silhouette_score')\n",
    "plt.title('Scree Plot for KMeans Clustering');"
   ]
  },
  {
   "cell_type": "code",
   "execution_count": null,
   "metadata": {},
   "outputs": [],
   "source": [
    "# Get the best number of cluseter K\n",
    "best_k = silhouette_result['k'][silhouette_result['silhouette_score'].idxmax()]\n",
    "best_k"
   ]
  },
  {
   "cell_type": "code",
   "execution_count": null,
   "metadata": {},
   "outputs": [],
   "source": [
    "# Fit Kmeans Model to the coordinates\n",
    "kmeans = KMeans(n_clusters=best_k, random_state=314).fit(business_df[['latitude', 'longitude']].copy())\n",
    "\n",
    "# Add the cluster labels to data\n",
    "business_df['cluster'] = kmeans.labels_"
   ]
  },
  {
   "cell_type": "code",
   "execution_count": null,
   "metadata": {},
   "outputs": [],
   "source": [
    "# Calculate number of restaurants in each centroid\n",
    "centroids = pd.DataFrame(kmeans.cluster_centers_, columns=['latitude', 'longitude']) \\\n",
    "                .reset_index() \\\n",
    "                .rename(columns={'index':'k'})\n",
    "centroids['size'] = business_df.groupby('cluster').size()\n",
    "centroids.head()"
   ]
  },
  {
   "cell_type": "code",
   "execution_count": null,
   "metadata": {},
   "outputs": [],
   "source": [
    "# Visualize the geometry clustering\n",
    "plt.figure(figsize=(10,8))\n",
    "cmap=sns.husl_palette(n_colors=best_k)\n",
    "sns.scatterplot('longitude', 'latitude', hue='cluster', data=business_df, legend=False, s=10, palette=cmap)\n",
    "sns.scatterplot('longitude', 'latitude', hue='k', data=centroids, legend=False, s=100, alpha=0.2, palette=cmap)\n",
    "plt.title('Clustering by Geometry Coordinates');"
   ]
  },
  {
   "cell_type": "code",
   "execution_count": null,
   "metadata": {},
   "outputs": [],
   "source": [
    "# Compute neighborhood density for each cluster\n",
    "neighborhood = centroids.set_index('k')['size'].to_dict()\n",
    "business_df['neighborhood'] = business_df['cluster'].apply(lambda row: neighborhood[row])"
   ]
  },
  {
   "cell_type": "markdown",
   "metadata": {},
   "source": [
    "## Parse String"
   ]
  },
  {
   "cell_type": "code",
   "execution_count": 7,
   "metadata": {},
   "outputs": [],
   "source": [
    "# Convert types of attributes and categories to dictionary and list\n",
    "business_df['attributes'] = business_df['attributes'].apply(lambda x: eval(x))\n",
    "business_df['categories'] = business_df['categories'].apply(lambda x: eval(x))"
   ]
  },
  {
   "cell_type": "markdown",
   "metadata": {},
   "source": [
    "## Extract Features From Categories"
   ]
  },
  {
   "cell_type": "code",
   "execution_count": 8,
   "metadata": {},
   "outputs": [
    {
     "name": "stdout",
     "output_type": "stream",
     "text": [
      "Number of unique words in feature 'categories': 271\n"
     ]
    }
   ],
   "source": [
    "# Extract all words in categories\n",
    "categories = np.unique([item for row in business_df['categories'] for item in row])\n",
    "print(\"Number of unique words in feature 'categories':\", len(categories))"
   ]
  },
  {
   "cell_type": "markdown",
   "metadata": {},
   "source": [
    "Since the words in `categories` list is not much, we will do manually check and split the words in three sub categories. "
   ]
  },
  {
   "cell_type": "markdown",
   "metadata": {},
   "source": [
    "### Restaurant categories I - Restaurant Ethnicity"
   ]
  },
  {
   "cell_type": "code",
   "execution_count": 42,
   "metadata": {},
   "outputs": [],
   "source": [
    "# Ethnics words filtered by manually check\n",
    "ethnics = ['Afghan', 'African', 'American (New)','American (Traditional)', 'Arabian', 'Argentine',\n",
    "           'Armenian','Asian Fusion', 'British','Cajun/Creole', 'Cambodian','Cantonese', 'Caribbean',\n",
    "           'Chinese', 'Indian','Cuban','Empanadas','Ethiopian','Filipino','French','Greek',\n",
    "           'Hawaiian', 'Irish','Italian', 'Japanese', 'Korean','Kosher','Halal','Latin American',\n",
    "           'Lebanese', 'Mediterranean','Mexican','Middle Eastern', 'Modern European', 'Mongolian',\n",
    "           'Moroccan','Pakistani', 'Persian/Iranian','Peruvian','Puerto Rican','Russian', 'Salvadoran',\n",
    "           'Southern', 'Spanish','Szechuan', 'Thai','Tex-Mex','Vietnamese','Turkish','Ukrainian', 'Uzbek']"
   ]
  },
  {
   "cell_type": "code",
   "execution_count": 43,
   "metadata": {},
   "outputs": [],
   "source": [
    "# Create new feature ethnics\n",
    "business_df['ethnics'] = business_df['categories'].apply(lambda row: [x for x in row if x in ethnics])"
   ]
  },
  {
   "cell_type": "code",
   "execution_count": 44,
   "metadata": {},
   "outputs": [
    {
     "name": "stdout",
     "output_type": "stream",
     "text": [
      "Total Number of Ethnics: 51\n"
     ]
    }
   ],
   "source": [
    "# Create a dictionary to store the appear times of each ethnics\n",
    "ethnics_dict = dict(zip(ethnics, [sum([x in row for row in business_df['ethnics']]) for x in ethnics]))\n",
    "print('Total Number of Ethnics:', len(ethnics_dict))"
   ]
  },
  {
   "cell_type": "code",
   "execution_count": 45,
   "metadata": {},
   "outputs": [
    {
     "data": {
      "text/html": [
       "<div>\n",
       "<style scoped>\n",
       "    .dataframe tbody tr th:only-of-type {\n",
       "        vertical-align: middle;\n",
       "    }\n",
       "\n",
       "    .dataframe tbody tr th {\n",
       "        vertical-align: top;\n",
       "    }\n",
       "\n",
       "    .dataframe thead th {\n",
       "        text-align: right;\n",
       "    }\n",
       "</style>\n",
       "<table border=\"1\" class=\"dataframe\">\n",
       "  <thead>\n",
       "    <tr style=\"text-align: right;\">\n",
       "      <th></th>\n",
       "      <th>Ethnics</th>\n",
       "      <th>Count</th>\n",
       "    </tr>\n",
       "  </thead>\n",
       "  <tbody>\n",
       "    <tr>\n",
       "      <th>0</th>\n",
       "      <td>Mexican</td>\n",
       "      <td>490</td>\n",
       "    </tr>\n",
       "    <tr>\n",
       "      <th>1</th>\n",
       "      <td>American (Traditional)</td>\n",
       "      <td>339</td>\n",
       "    </tr>\n",
       "    <tr>\n",
       "      <th>2</th>\n",
       "      <td>American (New)</td>\n",
       "      <td>246</td>\n",
       "    </tr>\n",
       "    <tr>\n",
       "      <th>3</th>\n",
       "      <td>Italian</td>\n",
       "      <td>190</td>\n",
       "    </tr>\n",
       "    <tr>\n",
       "      <th>4</th>\n",
       "      <td>Chinese</td>\n",
       "      <td>144</td>\n",
       "    </tr>\n",
       "  </tbody>\n",
       "</table>\n",
       "</div>"
      ],
      "text/plain": [
       "                  Ethnics  Count\n",
       "0                 Mexican    490\n",
       "1  American (Traditional)    339\n",
       "2          American (New)    246\n",
       "3                 Italian    190\n",
       "4                 Chinese    144"
      ]
     },
     "execution_count": 45,
     "metadata": {},
     "output_type": "execute_result"
    }
   ],
   "source": [
    "# Convert dictionary to dataframe\n",
    "ethnics_df = pd.DataFrame(list(ethnics_dict.items()), columns=['Ethnics','Count']) \\\n",
    "                .sort_values('Count',ascending = False) \\\n",
    "                .reset_index() \\\n",
    "                .drop('index', axis=1)\n",
    "ethnics_df.head()"
   ]
  },
  {
   "cell_type": "code",
   "execution_count": 46,
   "metadata": {},
   "outputs": [
    {
     "data": {
      "image/png": "[encoded data removed]",
      "text/plain": [
       "<Figure size 720x576 with 1 Axes>"
      ]
     },
     "metadata": {},
     "output_type": "display_data"
    }
   ],
   "source": [
    "# Visualize dataframe ethnics\n",
    "plt.figure(figsize=(10,8))\n",
    "sns.set(style='whitegrid')\n",
    "ethnics_plot = sns.barplot(x='Count', y='Ethnics', data=ethnics_df,palette ='YlOrRd_r')\n",
    "ethnics_plot.set_yticklabels(ethnics_plot.get_yticklabels(), fontdict={'fontsize':10});"
   ]
  },
  {
   "cell_type": "markdown",
   "metadata": {},
   "source": [
    "64 ethnics are too many to us to analyze directly. Therefore, we will combine related ethnics to groups to reduce the number of ethnics."
   ]
  },
  {
   "cell_type": "markdown",
   "metadata": {},
   "source": [
    "Australian\n",
    "Austrian\n",
    "Belgian\n",
    "Brazilian\n",
    "Colombian\n",
    "Czech\n",
    "Dominican\n",
    "German\n",
    "Laotian\n",
    "Malaysian\n",
    "Scandinavian\n",
    "Taiwanese\n",
    "Trinidadian"
   ]
  },
  {
   "cell_type": "code",
   "execution_count": 47,
   "metadata": {},
   "outputs": [],
   "source": [
    "# Combine ethnics into fewer categories\n",
    "ethnic_dict = {\n",
    "'MiddleEast': ['Arabian', 'Armenian', 'Halal','Lebanese','Middle Eastern','Turkish','Mediterranean',\n",
    "              'Afghan','Pakistani','Persian/Iranian'],\n",
    "'African': ['African', 'Ethiopian', 'Moroccan'],\n",
    "'American': ['American (New)', 'American (Traditional)','Hawaiian','Southern'],\n",
    "'European': ['British','French','Greek','Irish',\n",
    "               'Kosher','Modern European','Cajun/Creole','Spanish'],\n",
    "'Chinese': ['Cantonese', 'Chinese','Szechuan'],\n",
    "'LatinAmerica': ['Argentine', 'Caribbean', 'Cuban', 'Empanadas',\n",
    "                     'Latin American', 'Peruvian', 'Puerto Rican', 'Salvadoran'],\n",
    "'SouthEastAisa': ['Cambodian', 'Filipino','Laotian', 'Thai', 'Vietnamese','Indian'],\n",
    "'EastAsia': ['Japanese', 'Korean', 'Asian Fusion'],\n",
    "'Mexican': ['Mexican','Tex-Mex'],\n",
    "'AsiaContinent': ['Mongolian','Russian','Ukrainian','Uzbek']\n",
    "}"
   ]
  },
  {
   "cell_type": "code",
   "execution_count": 48,
   "metadata": {},
   "outputs": [],
   "source": [
    "# Merge ethnics into smaller categories\n",
    "merge_ethnic = lambda row: np.unique([ethnic if x in ethnic_dict[ethnic] else x for x in row])\n",
    "for ethnic in ethnic_dict.keys():\n",
    "    business_df['ethnics'] = business_df['ethnics'].apply(merge_ethnic)"
   ]
  },
  {
   "cell_type": "code",
   "execution_count": 49,
   "metadata": {},
   "outputs": [
    {
     "name": "stdout",
     "output_type": "stream",
     "text": [
      "Total Number of Ethnics: 10\n"
     ]
    },
    {
     "name": "stderr",
     "output_type": "stream",
     "text": [
      "/anaconda3/lib/python3.7/site-packages/ipykernel_launcher.py:3: FutureWarning: elementwise comparison failed; returning scalar instead, but in the future will perform elementwise comparison\n",
      "  This is separate from the ipykernel package so we can avoid doing imports until\n"
     ]
    }
   ],
   "source": [
    "# Update dictionary\n",
    "ethnics = ethnic_dict.keys()\n",
    "ethnics_dict = dict(zip(ethnics, [sum([x in row for row in business_df['ethnics']]) for x in ethnics]))\n",
    "print('Total Number of Ethnics:', len(ethnics_dict))"
   ]
  },
  {
   "cell_type": "code",
   "execution_count": 50,
   "metadata": {},
   "outputs": [
    {
     "data": {
      "text/plain": [
       "{'MiddleEast': 92,\n",
       " 'African': 9,\n",
       " 'American': 542,\n",
       " 'European': 85,\n",
       " 'Chinese': 144,\n",
       " 'LatinAmerica': 37,\n",
       " 'SouthEastAisa': 78,\n",
       " 'EastAsia': 117,\n",
       " 'Mexican': 496,\n",
       " 'AsiaContinent': 5}"
      ]
     },
     "execution_count": 50,
     "metadata": {},
     "output_type": "execute_result"
    }
   ],
   "source": [
    "# Print dictionary\n",
    "ethnics_dict"
   ]
  },
  {
   "cell_type": "markdown",
   "metadata": {},
   "source": [
    "We notice that there are sill three ethnics with frequency less than 50. Therefore, we will combine them in one group `Other`."
   ]
  },
  {
   "cell_type": "code",
   "execution_count": 51,
   "metadata": {},
   "outputs": [],
   "source": [
    "# Group ethnics\n",
    "other = ['African','LatinAmerica','AsiaContinent']"
   ]
  },
  {
   "cell_type": "code",
   "execution_count": 52,
   "metadata": {},
   "outputs": [],
   "source": [
    "# Update feature ethnics\n",
    "business_df['ethnics'] = business_df['ethnics'].apply(lambda row: np.unique(['Other' if x in other\n",
    "                                                                             else x for x in row]))"
   ]
  },
  {
   "cell_type": "code",
   "execution_count": 53,
   "metadata": {},
   "outputs": [
    {
     "name": "stdout",
     "output_type": "stream",
     "text": [
      "Total Number of Ethnics: 8\n"
     ]
    },
    {
     "name": "stderr",
     "output_type": "stream",
     "text": [
      "/anaconda3/lib/python3.7/site-packages/ipykernel_launcher.py:3: FutureWarning: elementwise comparison failed; returning scalar instead, but in the future will perform elementwise comparison\n",
      "  This is separate from the ipykernel package so we can avoid doing imports until\n"
     ]
    }
   ],
   "source": [
    "# Update dictionary\n",
    "ethnics = ['MiddleEast','American','European','Chinese','SouthEastAisa','EastAsia','Mexican','Other']\n",
    "ethnics_dict = dict(zip(ethnics, [sum([x in row for row in business_df['ethnics']]) for x in ethnics]))\n",
    "print('Total Number of Ethnics:', len(ethnics_dict))"
   ]
  },
  {
   "cell_type": "code",
   "execution_count": 54,
   "metadata": {},
   "outputs": [],
   "source": [
    "# Convert dictionary to dataframe\n",
    "ethnics_df = pd.DataFrame(list(ethnics_dict.items()),columns=['Ethnics','Count']).sort_values('Count',ascending = False).reset_index()\n",
    "ethnics_df = ethnics_df.drop('index', axis=1)"
   ]
  },
  {
   "cell_type": "code",
   "execution_count": 55,
   "metadata": {},
   "outputs": [
    {
     "data": {
      "image/png": "[encoded data removed]",
      "text/plain": [
       "<Figure size 720x576 with 1 Axes>"
      ]
     },
     "metadata": {},
     "output_type": "display_data"
    }
   ],
   "source": [
    "# Visualize dataframe ethnics\n",
    "plt.figure(figsize=(10,8))\n",
    "sns.set(style='whitegrid')\n",
    "ethnics_plot = sns.barplot(x='Count', y='Ethnics', data=ethnics_df, palette ='YlOrRd_r')\n",
    "ethnics_plot.set_yticklabels(ethnics_plot.get_yticklabels(), fontdict={'fontsize':10});"
   ]
  },
  {
   "cell_type": "code",
   "execution_count": 56,
   "metadata": {},
   "outputs": [
    {
     "data": {
      "text/plain": [
       "0                        []\n",
       "1                        []\n",
       "2                        []\n",
       "3                        []\n",
       "4                [American]\n",
       "5                        []\n",
       "6                [EastAsia]\n",
       "7           [SouthEastAisa]\n",
       "8                [American]\n",
       "9    [European, MiddleEast]\n",
       "Name: ethnics, dtype: object"
      ]
     },
     "execution_count": 56,
     "metadata": {},
     "output_type": "execute_result"
    }
   ],
   "source": [
    "# Reveal first few rows\n",
    "business_df['ethnics'].head(10)"
   ]
  },
  {
   "cell_type": "markdown",
   "metadata": {},
   "source": [
    "### Restaurant categories II - Food Types"
   ]
  },
  {
   "cell_type": "code",
   "execution_count": 61,
   "metadata": {},
   "outputs": [],
   "source": [
    "# Type words filtered by manually check\n",
    "types = ['Acai Bowls', 'Bagels','Bubble Tea','Burgers', 'Cheesesteaks','Chicken Wings','Creperies','Cupcakes',\n",
    "         'Custom Cakes','Do-It-Yourself Food','Donuts','Falafel','Fish & Chips','Fondue','Fruits & Veggies',\n",
    "         'Gelato','Gluten-Free', 'Hot Dogs', 'Hot Pot', 'Ice Cream & Frozen Yogurt', \n",
    "         'Imported Food','Juice Bars & Smoothies','Local Flavor', 'Macarons','Noodles',\n",
    "         'Pizza','Sandwiches','Pretzels','Ramen','Salad',\n",
    "         'Seafood','Shaved Ice', 'Soup', 'Tacos',\n",
    "         'Waffles', 'Wraps','Bakeries', 'Barbeque', 'Beverage Store', 'Buffets','Cafes',\n",
    "         'Cafeteria', 'Candy Stores','Caterers', 'Cheese Shops','Chicken Shop','Chocolatiers & Shops',\n",
    "         'Coffee & Tea', 'Coffee Roasteries','Desserts',\n",
    "         'Dim Sum','Delis','Fast Food','Food Court','Food Stands','Food Trucks','Hotels',\n",
    "         'Hotels & Travel','Internet Cafes', 'New Mexican Cuisine',\n",
    "         'Organic Stores', 'Pan Asian','Patisserie/Cake Shop', 'Popcorn Shops', 'Seafood Markets',\n",
    "         'Steakhouses','Sushi Bars','Tea Rooms','Vegan', 'Vegetarian',\n",
    "         'Bars','Beer', 'Beer Bar','Beer Gardens', 'Breweries',\n",
    "         'Cocktail Bars','Dive Bars','Gay Bars', 'Gastropubs','Hotel bar','Irish Pub',\n",
    "         'Pubs','Speakeasies','Sports Bars','Tapas Bars','Whiskey Bars','Wine & Spirits','Wine Bars']"
   ]
  },
  {
   "cell_type": "markdown",
   "metadata": {},
   "source": [
    "Kebab\n",
    "Live/Raw Food\n",
    "Pita\n",
    "Poutineries\n",
    "Rotisserie Chicken\n",
    "Shaved Snow\n",
    "Teppanyaki\n",
    "Coffee & Tea Supplies\n",
    "Coffeeshops\n",
    "Pasta Shops\n",
    "Themed Cafes\n",
    "Brasseries\n",
    "Brewpubs\n",
    "Champagne Bars\n",
    "Distilleries\n",
    "Izakaya\n",
    "Piano Bars\n",
    "Wineries"
   ]
  },
  {
   "cell_type": "code",
   "execution_count": 62,
   "metadata": {},
   "outputs": [],
   "source": [
    "# Create new feature types\n",
    "business_df['types'] = business_df['categories'].apply(lambda row: [x for x in row if x in types])"
   ]
  },
  {
   "cell_type": "code",
   "execution_count": 63,
   "metadata": {},
   "outputs": [
    {
     "name": "stdout",
     "output_type": "stream",
     "text": [
      "Total Number of Types: 88\n"
     ]
    }
   ],
   "source": [
    "# Create a dictionary to store the appear times of each types\n",
    "types_dict = dict(zip(types, [sum([x in row for row in business_df['types']]) for x in types]))\n",
    "print('Total Number of Types:', len(types_dict))"
   ]
  },
  {
   "cell_type": "markdown",
   "metadata": {},
   "source": [
    "Same with `ethnics`, we will group words for feature `type`."
   ]
  },
  {
   "cell_type": "code",
   "execution_count": 64,
   "metadata": {},
   "outputs": [],
   "source": [
    "# # Combine types into fewer categories\n",
    "type_dict = {\n",
    "    'Fast Food': ['Burgers','Fish & Chips','Hot Dogs','Sandwiches','Fast Food'],\n",
    "    'Alcohol': ['Bars','Beer', 'Beer Bar','Beer Gardens', 'Breweries',\n",
    "                'Cocktail Bars','Dive Bars','Gay Bars', 'Gastropubs','Hotel bar',\n",
    "                'Irish Pub', 'Pubs','Speakeasies','Sports Bars','Tapas Bars','Whiskey Bars',\n",
    "                'Wine & Spirits','Wine Bars'],\n",
    "    'Beverage': ['Bubble Tea','Juice Bars & Smoothies','Beverage Store'],\n",
    "    'Bakeries & Desserts': ['Bagels','Cupcakes','Custom Cakes','Patisserie/Cake Shop','Shaved Ice',\n",
    "                            'Gelato','Ice Cream & Frozen Yogurt','Macarons','Chocolatiers & Shops','Donuts',\n",
    "                            'Waffles','Bakeries','Desserts','Creperies'],\n",
    "    'Vegetarian': ['Fruits & Veggies','Vegan','Vegetarian','Falafel','Acai Bowls'],\n",
    "    'Coffee & Tea': ['Coffee Roasteries','Tea Rooms','Coffee & Tea','Cafes',\n",
    "                    'Internet Cafes'],\n",
    "    'Noodles': ['Noodles','Ramen'],\n",
    "    'Seafood': ['Seafood Markets','Seafood'],\n",
    "    'Snacks': ['Pretzels','Candy Stores','Popcorn Shops'],\n",
    "    'Chicken': ['Chicken Shop','Chicken Wings'],\n",
    "    'Meat': ['Barbeque','Delis','Steakhouses','Cheesesteaks'],\n",
    "    'Asian Ethnics': ['Hot Pot','Dim Sum','Pan Asian','Sushi Bars'],\n",
    "    'SpecialLocations': ['Food Stands','Food Trucks','Food Court','Hotels','Hotels & Travel']\n",
    "}\n",
    "\n",
    "Other = ['Do-It-Yourself Food','Fondue','Gluten-Free',\n",
    "              'Imported Food','Local Flavor','Pizza','Salad','Soup',\n",
    "              'Tacos', 'Wraps','Buffets','Cafeteria','Caterers','Cheese Shops', 'New Mexican Cuisine',\n",
    "              'Organic Stores']"
   ]
  },
  {
   "cell_type": "raw",
   "metadata": {},
   "source": [
    "Delete List:\n",
    "Kebab\n",
    "Live/Raw Food\n",
    "Pita\n",
    "Poutineries\n",
    "Rotisserie Chicken\n",
    "Shaved Snow\n",
    "Teppanyaki\n",
    "Coffee & Tea Supplies\n",
    "Coffeeshops\n",
    "Pasta Shops\n",
    "Themed Cafes\n",
    "Brasseries\n",
    "Brewpubs\n",
    "Champagne Bars\n",
    "Distilleries\n",
    "Izakaya\n",
    "Piano Bars\n",
    "Wineries"
   ]
  },
  {
   "cell_type": "code",
   "execution_count": 65,
   "metadata": {},
   "outputs": [],
   "source": [
    "# Update feature types\n",
    "for tp in type_dict.keys():\n",
    "    business_df['types'] = business_df['types'].apply(lambda row: np.unique([tp if x in type_dict[tp]\n",
    "                                                                       else x for x in row]))"
   ]
  },
  {
   "cell_type": "code",
   "execution_count": 66,
   "metadata": {},
   "outputs": [
    {
     "name": "stderr",
     "output_type": "stream",
     "text": [
      "/anaconda3/lib/python3.7/site-packages/ipykernel_launcher.py:4: FutureWarning: elementwise comparison failed; returning scalar instead, but in the future will perform elementwise comparison\n",
      "  after removing the cwd from sys.path.\n"
     ]
    },
    {
     "name": "stdout",
     "output_type": "stream",
     "text": [
      "Total Number of Types: 29\n"
     ]
    }
   ],
   "source": [
    "# Update  dictionary\n",
    "types = ['Fast Food','Alcohol','Beverage','Bakeries & Desserts','Vegetarian','Coffee & Tea','Noodles','Seafood',\n",
    "        'Snacks','Chicken','Meat','Asian Ethnics','SpecialLocations'] + Other\n",
    "type_dict = dict(zip(types, [sum([x in row for row in business_df['types']]) for x in types]))\n",
    "print('Total Number of Types:', len(type_dict))"
   ]
  },
  {
   "cell_type": "code",
   "execution_count": 67,
   "metadata": {},
   "outputs": [],
   "source": [
    "# Convert dictionary to dataframe\n",
    "type_df = pd.DataFrame(list(type_dict.items()),columns=['Type','Count']).sort_values('Count',ascending = False).reset_index()\n",
    "type_df = type_df.drop('index', axis=1)"
   ]
  },
  {
   "cell_type": "code",
   "execution_count": 68,
   "metadata": {},
   "outputs": [
    {
     "data": {
      "image/png": "[encoded data removed]",
      "text/plain": [
       "<Figure size 720x576 with 1 Axes>"
      ]
     },
     "metadata": {},
     "output_type": "display_data"
    }
   ],
   "source": [
    "# Visualize dataframe types\n",
    "plt.figure(figsize=(10,8))\n",
    "sns.set(style='whitegrid')\n",
    "types_plot = sns.barplot(x='Count', y='Type', data=type_df, palette ='YlOrRd_r')\n",
    "types_plot.set_yticklabels(types_plot.get_yticklabels(), fontdict={'fontsize':10});"
   ]
  },
  {
   "cell_type": "code",
   "execution_count": 71,
   "metadata": {},
   "outputs": [
    {
     "data": {
      "image/png": "[encoded data removed]",
      "text/plain": [
       "<Figure size 720x576 with 1 Axes>"
      ]
     },
     "metadata": {},
     "output_type": "display_data"
    }
   ],
   "source": [
    "# Visualize dataframe types with more than 200 restaurants\n",
    "plt.figure(figsize=(10,8))\n",
    "sns.set(style='whitegrid')\n",
    "types_plot = sns.barplot(x='Count', y='Type', data=type_df[type_df['Count']>150], palette ='YlOrRd_r')\n",
    "types_plot.set_yticklabels(types_plot.get_yticklabels(), fontdict={'fontsize':10});"
   ]
  },
  {
   "cell_type": "code",
   "execution_count": 70,
   "metadata": {},
   "outputs": [
    {
     "data": {
      "text/plain": [
       "0                     [Fast Food]\n",
       "1                     [Fast Food]\n",
       "2                     [Fast Food]\n",
       "3                         [Pizza]\n",
       "4                       [Seafood]\n",
       "5              [Fast Food, Pizza]\n",
       "6              [Alcohol, Noodles]\n",
       "7                       [Noodles]\n",
       "8    [Caterers, Fast Food, Salad]\n",
       "9         [Fast Food, Vegetarian]\n",
       "Name: types, dtype: object"
      ]
     },
     "execution_count": 70,
     "metadata": {},
     "output_type": "execute_result"
    }
   ],
   "source": [
    "# Reveal first few rows\n",
    "business_df['types'].head(10)"
   ]
  },
  {
   "cell_type": "markdown",
   "metadata": {},
   "source": [
    "### Restaurant categories III - Time of the Day"
   ]
  },
  {
   "cell_type": "code",
   "execution_count": 74,
   "metadata": {},
   "outputs": [],
   "source": [
    "# Time words filtered by manually check\n",
    "time = ['Breakfast & Brunch', 'Dinner Theater', 'Nightlife']"
   ]
  },
  {
   "cell_type": "code",
   "execution_count": 76,
   "metadata": {},
   "outputs": [],
   "source": [
    "# Create new feature time\n",
    "business_df['time_of_day'] = business_df['categories'].apply(lambda row: [x for x in row if x in time])"
   ]
  },
  {
   "cell_type": "code",
   "execution_count": 77,
   "metadata": {},
   "outputs": [],
   "source": [
    "def clean_time(x):\n",
    "    # Check if the list is not empty\n",
    "    if len(x) > 0:\n",
    "        # Replace punctuation and split by space\n",
    "        items =  re.sub(r'\\s?[&,]', '', x[0]).split()\n",
    "        \n",
    "        # Append keywords\n",
    "        if 'Nightlife' in items:\n",
    "            items += ['Dinner', 'Latenight']\n",
    "        \n",
    "        # Filter unwanted words\n",
    "        return [x.lower() for x in items if x not in ['Theater', 'Nightlife']]\n",
    "    else:\n",
    "        return x"
   ]
  },
  {
   "cell_type": "code",
   "execution_count": 78,
   "metadata": {},
   "outputs": [],
   "source": [
    "# Process the strings\n",
    "business_df['time_of_day'] = business_df['time_of_day'].apply(clean_time)"
   ]
  },
  {
   "cell_type": "code",
   "execution_count": 79,
   "metadata": {},
   "outputs": [],
   "source": [
    "# Calculate the frequencies for each time of day\n",
    "time = np.unique([x for row in business_df['time_of_day'] for x in row])\n",
    "time_dist = dict(zip(time, [sum([x in row for row in business_df['time_of_day'] if len(row) > 0]) for x in time]))\n",
    "time_df = pd.DataFrame(list(time_dist.items()), columns=['Time of Day','Count']) \\\n",
    "                .sort_values('Count', ascending = False) \\\n",
    "                .reset_index() \\\n",
    "                .drop('index', axis=1)"
   ]
  },
  {
   "cell_type": "code",
   "execution_count": 80,
   "metadata": {},
   "outputs": [
    {
     "data": {
      "image/png": "[encoded data removed]",
      "text/plain": [
       "<Figure size 720x576 with 1 Axes>"
      ]
     },
     "metadata": {},
     "output_type": "display_data"
    }
   ],
   "source": [
    "# Visualize dataframe types with more than 200 restaurants\n",
    "plt.figure(figsize=(10,8))\n",
    "sns.set(style='whitegrid')\n",
    "time_plot = sns.barplot(x='Count', y='Time of Day', data=time_df, palette='YlOrRd_r')\n",
    "time_plot.set_yticklabels(time_plot.get_yticklabels(), fontdict={'fontsize': 10});"
   ]
  },
  {
   "cell_type": "code",
   "execution_count": 81,
   "metadata": {},
   "outputs": [
    {
     "data": {
      "text/plain": [
       "[]                     1925\n",
       "[dinner, latenight]     299\n",
       "[breakfast, brunch]     268\n",
       "[dinner]                  1\n",
       "Name: time_of_day, dtype: int64"
      ]
     },
     "execution_count": 81,
     "metadata": {},
     "output_type": "execute_result"
    }
   ],
   "source": [
    "business_df['time_of_day'].value_counts()"
   ]
  },
  {
   "cell_type": "markdown",
   "metadata": {},
   "source": [
    "From the value counts, we notice that there are over 5000 missing values in `time_of_day` feature. In other words, `categories` does not give us enough information about the opening time of the day. However, we notice that `attributes` provides us with more information about eh opening time of day. Therefore, we will `attributes` to extract `time_of_day` better."
   ]
  },
  {
   "cell_type": "markdown",
   "metadata": {},
   "source": [
    "## Extract Features From Attributes"
   ]
  },
  {
   "cell_type": "code",
   "execution_count": null,
   "metadata": {},
   "outputs": [],
   "source": [
    "# Convert feature attributes to a dataframe\n",
    "attributes_df = business_df['attributes'].apply(pd.Series)"
   ]
  },
  {
   "cell_type": "code",
   "execution_count": null,
   "metadata": {},
   "outputs": [],
   "source": [
    "# Reveal first few rows\n",
    "attributes_df.head()"
   ]
  },
  {
   "cell_type": "markdown",
   "metadata": {},
   "source": [
    "Since we have too many features in `attibutes` which makes it hard to us to analyze. Threrefore, we will drop some fearures."
   ]
  },
  {
   "cell_type": "code",
   "execution_count": null,
   "metadata": {},
   "outputs": [],
   "source": [
    "# Reveal names of features with missing values less than half of the total observation numbers in attributes\n",
    "attributes_df.isna().sum()[attributes_df.isna().sum() < attributes_df.shape[0]/2].to_dict().keys()"
   ]
  },
  {
   "cell_type": "markdown",
   "metadata": {},
   "source": [
    "Remove List: <br>\n",
    "`Ambience`: `RestaurantsAttire` gives similar but better information <br>\n",
    "`BikeParking`: not that important "
   ]
  },
  {
   "cell_type": "code",
   "execution_count": null,
   "metadata": {},
   "outputs": [],
   "source": [
    "# Reveal names of features with missing values no less than half of the total observation numbers in attributes\n",
    "attributes_df.isna().sum()[attributes_df.isna().sum() >= attributes_df.shape[0]/2].to_dict().keys()"
   ]
  },
  {
   "cell_type": "markdown",
   "metadata": {},
   "source": [
    "Remove List: <br>\n",
    "`BusinessAcceptsBitcoin`: not that important <br>\n",
    "`Open24Hours`: interested but only 2 True values <br>\n",
    "`BYOBCorkage`: not that important <br>\n",
    "`BYOB`: not that important <br>\n",
    "`Corkage`: not that important <br>\n",
    "`DietaryRestrictions`: not that important <br>\n",
    "`GoodForDancing`: too many NA's and not that important <br>\n",
    "`Music`: too many NA's <br>\n",
    "`BestNights`: too many NA's <br>\n",
    "`CoatCheck`: too many NA's and not that important <br>\n",
    "`ByAppointmentOnly`: too many NA's <br>\n",
    "`RestaurantsCounterService`: too many NA's <br>\n",
    "`AgesAllowed`: too many NA's <br>\n",
    "`AcceptsInsurance`: too many NA's and not that important <br>\n",
    "`HairSpecializesIn`: too many NA's and not that important <br>"
   ]
  },
  {
   "cell_type": "code",
   "execution_count": null,
   "metadata": {},
   "outputs": [],
   "source": [
    "# Drop features\n",
    "attributes_df=attributes_df.drop(['Ambience','BikeParking','BusinessAcceptsBitcoin','Open24Hours','BYOBCorkage',\n",
    "                                 'BYOB','Corkage','DietaryRestrictions','GoodForDancing',\n",
    "                                 'Music','BestNights','CoatCheck','ByAppointmentOnly','RestaurantsCounterService',\n",
    "                                 'AgesAllowed','AcceptsInsurance','HairSpecializesIn'], axis=1)"
   ]
  },
  {
   "cell_type": "code",
   "execution_count": null,
   "metadata": {},
   "outputs": [],
   "source": [
    "# Check column names\n",
    "attributes_df.columns"
   ]
  },
  {
   "cell_type": "code",
   "execution_count": null,
   "metadata": {},
   "outputs": [],
   "source": [
    "# Define name change in key-value pairs\n",
    "column_name_change = {\n",
    "    'RestaurantsTableService':'tableService',\n",
    "    'GoodForMeal':'openFor',\n",
    "    'Alcohol':'alcohol',\n",
    "    'Caters':'caters',\n",
    "    'HasTV':'hasTV',\n",
    "    'RestaurantsGoodForGroups':'forGroups',\n",
    "    'NoiseLevel':'noiceLevel',\n",
    "    'WiFi':'hasWiFi',\n",
    "    'RestaurantsAttire':'attire',\n",
    "    'RestaurantsReservations':'reservations',\n",
    "    'OutdoorSeating':'outdoorSeating',\n",
    "    'BusinessAcceptsCreditCards':'acceptCreditCard',\n",
    "    'RestaurantsPriceRange2':'priceRange',\n",
    "    'RestaurantsDelivery':'delivery',\n",
    "    'RestaurantsTakeOut':'takeOut',\n",
    "    'GoodForKids':'goodForKids',\n",
    "    'DriveThru':'driveThru',\n",
    "    'BusinessParking':'businessParking',\n",
    "    'WheelchairAccessible': 'wheelchairAccessible',\n",
    "    'DogsAllowed': 'dogsAllowed',\n",
    "    'HappyHour':'happyHour',\n",
    "    'Smoking':'smoking'}"
   ]
  },
  {
   "cell_type": "code",
   "execution_count": null,
   "metadata": {},
   "outputs": [],
   "source": [
    "# Change names for some variables\n",
    "attributes_df = attributes_df.rename(columns=column_name_change)"
   ]
  },
  {
   "cell_type": "code",
   "execution_count": null,
   "metadata": {},
   "outputs": [],
   "source": [
    "# Reveal first few rows\n",
    "attributes_df.head()"
   ]
  },
  {
   "cell_type": "markdown",
   "metadata": {},
   "source": [
    "### Restaurant categories III - By Time of The Day - Continue\n",
    "We notice that feature `time` have values in dictionary format. we will break the dictionaries and convert them lists. "
   ]
  },
  {
   "cell_type": "code",
   "execution_count": null,
   "metadata": {},
   "outputs": [],
   "source": [
    "# Convert feature time to a dataframe\n",
    "openFor_df = attributes_df['openFor'].apply(pd.Series)"
   ]
  },
  {
   "cell_type": "code",
   "execution_count": null,
   "metadata": {},
   "outputs": [],
   "source": [
    "# Reveal first few rows\n",
    "openFor_df.head()"
   ]
  },
  {
   "cell_type": "code",
   "execution_count": null,
   "metadata": {},
   "outputs": [],
   "source": [
    "# Drop unnecessary variable\n",
    "openFor_df = openFor_df.drop(0,axis=1)"
   ]
  },
  {
   "cell_type": "code",
   "execution_count": null,
   "metadata": {},
   "outputs": [],
   "source": [
    "# Change names of features\n",
    "openFor_df = openFor_df.rename(columns={'dessert':'Dessert',\n",
    "                                        'latenight':'Latenight',\n",
    "                                        'lunch':'Lunch',\n",
    "                                        'dinner':'Dinner',\n",
    "                                        'breakfast':'Breakfast',\n",
    "                                        'brunch':'Brunch'})                               "
   ]
  },
  {
   "cell_type": "code",
   "execution_count": null,
   "metadata": {},
   "outputs": [],
   "source": [
    "# Check NA's\n",
    "openFor_df.isna().sum()"
   ]
  },
  {
   "cell_type": "code",
   "execution_count": null,
   "metadata": {},
   "outputs": [],
   "source": [
    "# Fill NA's\n",
    "openFor_df['Dessert'] = openFor_df['Dessert'].fillna(business_df['types'].apply(lambda row: 'Desserts' in row))\n",
    "openFor_df['Latenight'] = openFor_df['Latenight'].fillna(business_df['time_of_day'].apply(lambda row: 'Latenight' in row))\n",
    "openFor_df['Lunch'] = openFor_df['Lunch'].fillna(business_df['time_of_day'].apply(lambda row: 'Lunch' in row))\n",
    "openFor_df['Dinner'] = openFor_df['Dinner'].fillna(business_df['time_of_day'].apply(lambda row: 'Dinner' in row))\n",
    "openFor_df['Breakfast'] = openFor_df['Breakfast'].fillna(business_df['time_of_day'].apply(lambda row: 'Breakfast' in row))\n",
    "openFor_df['Brunch'] = openFor_df['Brunch'].fillna(business_df['time_of_day'].apply(lambda row: 'Brunch' in row))"
   ]
  },
  {
   "cell_type": "code",
   "execution_count": null,
   "metadata": {},
   "outputs": [],
   "source": [
    "# Create new feature openTime with a series of lists\n",
    "openFor_df['time'] = pd.Series()\n",
    "openFor_df['time'] = openFor_df['time'].apply(lambda x: [])"
   ]
  },
  {
   "cell_type": "code",
   "execution_count": null,
   "metadata": {},
   "outputs": [],
   "source": [
    "# Convert several features into one\n",
    "openFor_ls = ['Latenight','Lunch','Dinner','Breakfast','Brunch']\n",
    "for i in range(len(openFor_df['time'])):\n",
    "    for j in openFor_ls:\n",
    "        if str(openFor_df[j].iloc[i])=='True':\n",
    "            openFor_df['time'].iloc[i].append(j)"
   ]
  },
  {
   "cell_type": "markdown",
   "metadata": {},
   "source": [
    "Now we will visualize feature `time`."
   ]
  },
  {
   "cell_type": "code",
   "execution_count": null,
   "metadata": {},
   "outputs": [],
   "source": [
    "# Convert dictionary to dataframe\n",
    "openFor_dict = dict(zip(openFor_ls, [[x in row for row in openFor_df['time']].count(True) for x in openFor_ls]))\n",
    "openFor_plot_df = pd.DataFrame(list(openFor_dict.items()),columns=['openFor','Count']).sort_values('Count',ascending = False).reset_index()\n",
    "openFor_plot_df = openFor_plot_df.drop('index', axis=1);"
   ]
  },
  {
   "cell_type": "code",
   "execution_count": null,
   "metadata": {},
   "outputs": [],
   "source": [
    "# Visualize dataframe types\n",
    "plt.figure(figsize=(10,8))\n",
    "sns.set(style='whitegrid')\n",
    "openFor_plot = sns.barplot(x='Count', y='openFor', data=openFor_plot_df,palette='YlOrRd_r')\n",
    "openFor_plot.set_yticklabels(openFor_plot.get_yticklabels(), fontdict={'fontsize':10});"
   ]
  },
  {
   "cell_type": "code",
   "execution_count": null,
   "metadata": {},
   "outputs": [],
   "source": [
    "# Reveal first few rows\n",
    "openFor_df['time'].head(10)"
   ]
  },
  {
   "cell_type": "markdown",
   "metadata": {},
   "source": [
    "Now, we will drop our original feature `time` and replace it with new `time` extracted from `attributes`. At the same time, we will also merge feature `dessert` in our business dataset."
   ]
  },
  {
   "cell_type": "code",
   "execution_count": null,
   "metadata": {},
   "outputs": [],
   "source": [
    "# Drop variables\n",
    "business_df = business_df.drop('time_of_day',axis=1)\n",
    "attributes_df = attributes_df.drop('openFor', axis=1)\n",
    "openFor_df = openFor_df.drop(['Latenight','Lunch','Dinner','Breakfast','Brunch'], axis=1)"
   ]
  },
  {
   "cell_type": "code",
   "execution_count": null,
   "metadata": {},
   "outputs": [],
   "source": [
    "# Merge to our data\n",
    "business_df = business_df.merge(openFor_df, left_index=True, right_index=True)"
   ]
  },
  {
   "cell_type": "markdown",
   "metadata": {},
   "source": [
    "### Clean NA's for Alcohol"
   ]
  },
  {
   "cell_type": "code",
   "execution_count": null,
   "metadata": {},
   "outputs": [],
   "source": [
    "# Check number of NA's\n",
    "print('Number of Missing Values in Alcohol:', attributes_df['alcohol'].isna().sum())"
   ]
  },
  {
   "cell_type": "code",
   "execution_count": null,
   "metadata": {},
   "outputs": [],
   "source": [
    "# Fill NA's\n",
    "attributes_df['alcohol'] = attributes_df['alcohol']\\\n",
    "     .fillna(business_df['types'].apply(lambda row: 'True' if 'Alcohol' in row else np.nan))\n",
    "print('Number of Missing Values in Alcohol:', attributes_df['alcohol'].isna().sum())"
   ]
  },
  {
   "cell_type": "code",
   "execution_count": null,
   "metadata": {},
   "outputs": [],
   "source": [
    "# Check value counts\n",
    "attributes_df['alcohol'].value_counts()"
   ]
  },
  {
   "cell_type": "markdown",
   "metadata": {},
   "source": [
    "Now we will do some combinations: <br>\n",
    "`none`, `False` -> `False` <br>\n",
    "`full_bar`, `beer_and_wine`, `True` -> `True`."
   ]
  },
  {
   "cell_type": "code",
   "execution_count": null,
   "metadata": {},
   "outputs": [],
   "source": [
    "# Change value names\n",
    "attributes_df['alcohol'] = attributes_df['alcohol'].str.replace('none', 'False')\n",
    "attributes_df['alcohol'] = attributes_df['alcohol'].str.replace('full_bar', 'True')\n",
    "attributes_df['alcohol'] = attributes_df['alcohol'].str.replace('beer_and_wine', 'True')"
   ]
  },
  {
   "cell_type": "code",
   "execution_count": null,
   "metadata": {},
   "outputs": [],
   "source": [
    "# Convert values to boolean\n",
    "attributes_df['alcohol'] = attributes_df['alcohol'].apply(lambda x: (x=='True') if not pd.isna(x) else x)"
   ]
  },
  {
   "cell_type": "markdown",
   "metadata": {},
   "source": [
    "### Break Dictionaries for BusinessParking"
   ]
  },
  {
   "cell_type": "code",
   "execution_count": null,
   "metadata": {},
   "outputs": [],
   "source": [
    "# Break dictionary businessParking\n",
    "businessParking_df = attributes_df['businessParking'].apply(pd.Series)\n",
    "businessParking_df = businessParking_df.drop(0,axis=1)"
   ]
  },
  {
   "cell_type": "code",
   "execution_count": null,
   "metadata": {},
   "outputs": [],
   "source": [
    "# Merge to attributes_df\n",
    "attributes_df = attributes_df.merge(businessParking_df, left_index=True, right_index=True)"
   ]
  },
  {
   "cell_type": "code",
   "execution_count": null,
   "metadata": {},
   "outputs": [],
   "source": [
    "# Drop variable\n",
    "attributes_df = attributes_df.drop('businessParking', axis=1)"
   ]
  },
  {
   "cell_type": "code",
   "execution_count": null,
   "metadata": {},
   "outputs": [],
   "source": [
    "# Check dimensions\n",
    "attributes_df.shape"
   ]
  },
  {
   "cell_type": "markdown",
   "metadata": {},
   "source": [
    "## Final Merge And Output"
   ]
  },
  {
   "cell_type": "code",
   "execution_count": null,
   "metadata": {},
   "outputs": [],
   "source": [
    "#Merge arrtributes back to business\n",
    "business_df = business_df.merge(attributes_df, left_index=True, right_index=True)"
   ]
  },
  {
   "cell_type": "code",
   "execution_count": null,
   "metadata": {},
   "outputs": [],
   "source": [
    "# Drop orginal arrtributes in business\n",
    "business_df = business_df.drop('attributes', axis=1)"
   ]
  },
  {
   "cell_type": "code",
   "execution_count": null,
   "metadata": {},
   "outputs": [],
   "source": [
    "# Check dimensions\n",
    "business_df.shape"
   ]
  },
  {
   "cell_type": "code",
   "execution_count": null,
   "metadata": {},
   "outputs": [],
   "source": [
    "#Print all column names\n",
    "business_df.columns"
   ]
  },
  {
   "cell_type": "code",
   "execution_count": null,
   "metadata": {},
   "outputs": [],
   "source": [
    "# Output as csv file\n",
    "business_df.to_csv('business_forEDA.csv', index=False)"
   ]
  }
 ],
 "metadata": {
  "kernelspec": {
   "display_name": "Python 3",
   "language": "python",
   "name": "python3"
  },
  "language_info": {
   "codemirror_mode": {
    "name": "ipython",
    "version": 3
   },
   "file_extension": ".py",
   "mimetype": "text/x-python",
   "name": "python",
   "nbconvert_exporter": "python",
   "pygments_lexer": "ipython3",
   "version": "3.7.1"
  }
 },
 "nbformat": 4,
 "nbformat_minor": 2
}
