{
 "cells": [
  {
   "cell_type": "code",
   "execution_count": 44,
   "metadata": {},
   "outputs": [],
   "source": [
    "import pandas as pd\n",
    "from uszipcode import SearchEngine"
   ]
  },
  {
   "cell_type": "code",
   "execution_count": 45,
   "metadata": {},
   "outputs": [],
   "source": [
    "search = SearchEngine()"
   ]
  },
  {
   "cell_type": "code",
   "execution_count": 46,
   "metadata": {},
   "outputs": [
    {
     "data": {
      "text/plain": [
       "(7122, 14)"
      ]
     },
     "execution_count": 46,
     "metadata": {},
     "output_type": "execute_result"
    }
   ],
   "source": [
    "df = pd.read_csv('clean_business.csv')\n",
    "df.shape"
   ]
  },
  {
   "cell_type": "code",
   "execution_count": 47,
   "metadata": {},
   "outputs": [
    {
     "data": {
      "text/html": [
       "<div>\n",
       "<style scoped>\n",
       "    .dataframe tbody tr th:only-of-type {\n",
       "        vertical-align: middle;\n",
       "    }\n",
       "\n",
       "    .dataframe tbody tr th {\n",
       "        vertical-align: top;\n",
       "    }\n",
       "\n",
       "    .dataframe thead th {\n",
       "        text-align: right;\n",
       "    }\n",
       "</style>\n",
       "<table border=\"1\" class=\"dataframe\">\n",
       "  <thead>\n",
       "    <tr style=\"text-align: right;\">\n",
       "      <th></th>\n",
       "      <th>attributes</th>\n",
       "      <th>business_id</th>\n",
       "      <th>categories</th>\n",
       "      <th>city</th>\n",
       "      <th>is_open_2017</th>\n",
       "      <th>latitude</th>\n",
       "      <th>longitude</th>\n",
       "      <th>name</th>\n",
       "      <th>postal_code</th>\n",
       "      <th>review_count</th>\n",
       "      <th>stars</th>\n",
       "      <th>state</th>\n",
       "      <th>is_open_2018</th>\n",
       "      <th>isBankrupt</th>\n",
       "    </tr>\n",
       "  </thead>\n",
       "  <tbody>\n",
       "    <tr>\n",
       "      <th>0</th>\n",
       "      <td>{'RestaurantsTableService': False, 'GoodForMea...</td>\n",
       "      <td>rDMptJYWtnMhpQu_rRXHng</td>\n",
       "      <td>['Fast Food', 'Burgers', 'Restaurants']</td>\n",
       "      <td>Phoenix</td>\n",
       "      <td>1</td>\n",
       "      <td>33.607070</td>\n",
       "      <td>-112.064382</td>\n",
       "      <td>McDonald's</td>\n",
       "      <td>85022.0</td>\n",
       "      <td>10</td>\n",
       "      <td>1.0</td>\n",
       "      <td>AZ</td>\n",
       "      <td>1</td>\n",
       "      <td>0</td>\n",
       "    </tr>\n",
       "    <tr>\n",
       "      <th>1</th>\n",
       "      <td>{'RestaurantsTableService': True, 'GoodForMeal...</td>\n",
       "      <td>1WBkAuQg81kokZIPMpn9Zg</td>\n",
       "      <td>['Burgers', 'Restaurants']</td>\n",
       "      <td>Phoenix</td>\n",
       "      <td>1</td>\n",
       "      <td>33.607310</td>\n",
       "      <td>-112.063404</td>\n",
       "      <td>Charr An American Burger Bar</td>\n",
       "      <td>85022.0</td>\n",
       "      <td>232</td>\n",
       "      <td>3.0</td>\n",
       "      <td>AZ</td>\n",
       "      <td>1</td>\n",
       "      <td>0</td>\n",
       "    </tr>\n",
       "    <tr>\n",
       "      <th>2</th>\n",
       "      <td>{'RestaurantsTableService': False, 'GoodForMea...</td>\n",
       "      <td>iPa__LOhse-hobC2Xmp-Kw</td>\n",
       "      <td>['Restaurants', 'Burgers', 'Fast Food']</td>\n",
       "      <td>Phoenix</td>\n",
       "      <td>1</td>\n",
       "      <td>33.508765</td>\n",
       "      <td>-112.046240</td>\n",
       "      <td>McDonald's</td>\n",
       "      <td>85016.0</td>\n",
       "      <td>34</td>\n",
       "      <td>3.0</td>\n",
       "      <td>AZ</td>\n",
       "      <td>1</td>\n",
       "      <td>0</td>\n",
       "    </tr>\n",
       "    <tr>\n",
       "      <th>3</th>\n",
       "      <td>{'BusinessAcceptsCreditCards': True, 'Business...</td>\n",
       "      <td>YhV93k9uiMdr3FlV4FHjwA</td>\n",
       "      <td>['Marketing', \"Men's Clothing\", 'Restaurants',...</td>\n",
       "      <td>Phoenix</td>\n",
       "      <td>1</td>\n",
       "      <td>33.449967</td>\n",
       "      <td>-112.070222</td>\n",
       "      <td>Caviness Studio</td>\n",
       "      <td>85001.0</td>\n",
       "      <td>4</td>\n",
       "      <td>5.0</td>\n",
       "      <td>AZ</td>\n",
       "      <td>1</td>\n",
       "      <td>0</td>\n",
       "    </tr>\n",
       "    <tr>\n",
       "      <th>4</th>\n",
       "      <td>{'Alcohol': 'full_bar', 'HasTV': True, 'NoiseL...</td>\n",
       "      <td>VdlPZg2NAu8t8GkdbPLecg</td>\n",
       "      <td>['Restaurants', 'Gluten-Free', 'Indian', 'Seaf...</td>\n",
       "      <td>Scottsdale</td>\n",
       "      <td>1</td>\n",
       "      <td>33.555212</td>\n",
       "      <td>-111.900456</td>\n",
       "      <td>Tandoori Times Indian Bistro</td>\n",
       "      <td>85258.0</td>\n",
       "      <td>263</td>\n",
       "      <td>3.5</td>\n",
       "      <td>AZ</td>\n",
       "      <td>1</td>\n",
       "      <td>0</td>\n",
       "    </tr>\n",
       "  </tbody>\n",
       "</table>\n",
       "</div>"
      ],
      "text/plain": [
       "                                          attributes             business_id  \\\n",
       "0  {'RestaurantsTableService': False, 'GoodForMea...  rDMptJYWtnMhpQu_rRXHng   \n",
       "1  {'RestaurantsTableService': True, 'GoodForMeal...  1WBkAuQg81kokZIPMpn9Zg   \n",
       "2  {'RestaurantsTableService': False, 'GoodForMea...  iPa__LOhse-hobC2Xmp-Kw   \n",
       "3  {'BusinessAcceptsCreditCards': True, 'Business...  YhV93k9uiMdr3FlV4FHjwA   \n",
       "4  {'Alcohol': 'full_bar', 'HasTV': True, 'NoiseL...  VdlPZg2NAu8t8GkdbPLecg   \n",
       "\n",
       "                                          categories        city  \\\n",
       "0            ['Fast Food', 'Burgers', 'Restaurants']     Phoenix   \n",
       "1                         ['Burgers', 'Restaurants']     Phoenix   \n",
       "2            ['Restaurants', 'Burgers', 'Fast Food']     Phoenix   \n",
       "3  ['Marketing', \"Men's Clothing\", 'Restaurants',...     Phoenix   \n",
       "4  ['Restaurants', 'Gluten-Free', 'Indian', 'Seaf...  Scottsdale   \n",
       "\n",
       "   is_open_2017   latitude   longitude                          name  \\\n",
       "0             1  33.607070 -112.064382                    McDonald's   \n",
       "1             1  33.607310 -112.063404  Charr An American Burger Bar   \n",
       "2             1  33.508765 -112.046240                    McDonald's   \n",
       "3             1  33.449967 -112.070222               Caviness Studio   \n",
       "4             1  33.555212 -111.900456  Tandoori Times Indian Bistro   \n",
       "\n",
       "   postal_code  review_count  stars state  is_open_2018  isBankrupt  \n",
       "0      85022.0            10    1.0    AZ             1           0  \n",
       "1      85022.0           232    3.0    AZ             1           0  \n",
       "2      85016.0            34    3.0    AZ             1           0  \n",
       "3      85001.0             4    5.0    AZ             1           0  \n",
       "4      85258.0           263    3.5    AZ             1           0  "
      ]
     },
     "execution_count": 47,
     "metadata": {},
     "output_type": "execute_result"
    }
   ],
   "source": [
    "df.head()"
   ]
  },
  {
   "cell_type": "code",
   "execution_count": 48,
   "metadata": {},
   "outputs": [],
   "source": [
    "df['postal_code'] = df['postal_code'].astype(int)"
   ]
  },
  {
   "cell_type": "code",
   "execution_count": 49,
   "metadata": {},
   "outputs": [],
   "source": [
    "df['city_'] = df['postal_code'].apply(lambda x: search.by_zipcode(str(x)).major_city)\n",
    "df['county'] = df['postal_code'].apply(lambda x: search.by_zipcode(str(x)).county)"
   ]
  },
  {
   "cell_type": "code",
   "execution_count": 50,
   "metadata": {},
   "outputs": [
    {
     "data": {
      "text/plain": [
       "4"
      ]
     },
     "execution_count": 50,
     "metadata": {},
     "output_type": "execute_result"
    }
   ],
   "source": [
    "df['city_'].isna().sum()"
   ]
  },
  {
   "cell_type": "code",
   "execution_count": 51,
   "metadata": {},
   "outputs": [
    {
     "data": {
      "text/plain": [
       "4"
      ]
     },
     "execution_count": 51,
     "metadata": {},
     "output_type": "execute_result"
    }
   ],
   "source": [
    "df['county'].isna().sum()"
   ]
  },
  {
   "cell_type": "code",
   "execution_count": 52,
   "metadata": {},
   "outputs": [
    {
     "data": {
      "text/plain": [
       "(7118, 16)"
      ]
     },
     "execution_count": 52,
     "metadata": {},
     "output_type": "execute_result"
    }
   ],
   "source": [
    "df = df.dropna()\n",
    "df.shape"
   ]
  },
  {
   "cell_type": "code",
   "execution_count": 53,
   "metadata": {},
   "outputs": [
    {
     "data": {
      "text/plain": [
       "0"
      ]
     },
     "execution_count": 53,
     "metadata": {},
     "output_type": "execute_result"
    }
   ],
   "source": [
    "df['city_'].isna().sum()"
   ]
  },
  {
   "cell_type": "code",
   "execution_count": 54,
   "metadata": {},
   "outputs": [
    {
     "data": {
      "text/plain": [
       "0"
      ]
     },
     "execution_count": 54,
     "metadata": {},
     "output_type": "execute_result"
    }
   ],
   "source": [
    "df['county'].isna().sum()"
   ]
  },
  {
   "cell_type": "code",
   "execution_count": 56,
   "metadata": {},
   "outputs": [
    {
     "data": {
      "text/plain": [
       "array(['Phoenix', 'Scottsdale', 'Mesa', 'Laveen', 'Chandler', 'Glendale',\n",
       "       'Avondale', 'Sun City', 'Peoria', 'Litchfield Park', 'El Mirage',\n",
       "       'Gilbert', 'Tempe', 'Goodyear', 'Surprise', 'Cave Creek',\n",
       "       'Paradise Valley', 'Higley', 'Sun City West', 'Fountain Hills',\n",
       "       'Tolleson', 'Carefree', 'Youngtown', 'Fort Mcdowell', 'Waddell',\n",
       "       'Tucson'], dtype=object)"
      ]
     },
     "execution_count": 56,
     "metadata": {},
     "output_type": "execute_result"
    }
   ],
   "source": [
    "df['city_'].unique()"
   ]
  },
  {
   "cell_type": "code",
   "execution_count": 59,
   "metadata": {},
   "outputs": [
    {
     "data": {
      "text/plain": [
       "Maricopa County    7117\n",
       "Pima County           1\n",
       "Name: county, dtype: int64"
      ]
     },
     "execution_count": 59,
     "metadata": {},
     "output_type": "execute_result"
    }
   ],
   "source": [
    "df['county'].value_counts()"
   ]
  },
  {
   "cell_type": "code",
   "execution_count": null,
   "metadata": {},
   "outputs": [],
   "source": []
  }
 ],
 "metadata": {
  "kernelspec": {
   "display_name": "Python 3",
   "language": "python",
   "name": "python3"
  },
  "language_info": {
   "codemirror_mode": {
    "name": "ipython",
    "version": 3
   },
   "file_extension": ".py",
   "mimetype": "text/x-python",
   "name": "python",
   "nbconvert_exporter": "python",
   "pygments_lexer": "ipython3",
   "version": "3.7.3"
  }
 },
 "nbformat": 4,
 "nbformat_minor": 2
}
