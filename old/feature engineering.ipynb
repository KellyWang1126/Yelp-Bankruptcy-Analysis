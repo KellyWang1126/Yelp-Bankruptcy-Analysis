{
 "cells": [
  {
   "cell_type": "markdown",
   "metadata": {},
   "source": [
    "# 3. Feature Engineering"
   ]
  },
  {
   "cell_type": "code",
   "execution_count": 1,
   "metadata": {},
   "outputs": [],
   "source": [
    "# Basic python packages\n",
    "import numpy as np\n",
    "import pandas as pd\n",
    "import seaborn as sns\n",
    "import matplotlib.pyplot as plt"
   ]
  },
  {
   "cell_type": "code",
   "execution_count": 2,
   "metadata": {},
   "outputs": [],
   "source": [
    "# Packages used for extracting business features\n",
    "import re\n",
    "from uszipcode import SearchEngine\n",
    "from sklearn.cluster import KMeans\n",
    "from sklearn.metrics import silhouette_score"
   ]
  },
  {
   "cell_type": "code",
   "execution_count": 3,
   "metadata": {},
   "outputs": [],
   "source": [
    "# Packages used for review text features\n",
    "from textblob import TextBlob\n",
    "from gensim.corpora import Dictionary\n",
    "from gensim.utils import simple_preprocess\n",
    "from gensim.models import Phrases, TfidfModel, LdaModel, CoherenceModel"
   ]
  },
  {
   "cell_type": "markdown",
   "metadata": {},
   "source": [
    "## 3.1 Extract Business Features"
   ]
  },
  {
   "cell_type": "code",
   "execution_count": 4,
   "metadata": {},
   "outputs": [
    {
     "data": {
      "text/plain": [
       "(7116, 13)"
      ]
     },
     "execution_count": 4,
     "metadata": {},
     "output_type": "execute_result"
    }
   ],
   "source": [
    "# Read business data and checkin data\n",
    "business = pd.read_csv('clean_business.csv')\n",
    "business.shape"
   ]
  },
  {
   "cell_type": "code",
   "execution_count": 5,
   "metadata": {},
   "outputs": [
    {
     "data": {
      "text/html": [
       "<div>\n",
       "<style scoped>\n",
       "    .dataframe tbody tr th:only-of-type {\n",
       "        vertical-align: middle;\n",
       "    }\n",
       "\n",
       "    .dataframe tbody tr th {\n",
       "        vertical-align: top;\n",
       "    }\n",
       "\n",
       "    .dataframe thead th {\n",
       "        text-align: right;\n",
       "    }\n",
       "</style>\n",
       "<table border=\"1\" class=\"dataframe\">\n",
       "  <thead>\n",
       "    <tr style=\"text-align: right;\">\n",
       "      <th></th>\n",
       "      <th>attributes</th>\n",
       "      <th>business_id</th>\n",
       "      <th>categories</th>\n",
       "      <th>city</th>\n",
       "      <th>latitude</th>\n",
       "      <th>longitude</th>\n",
       "      <th>name</th>\n",
       "      <th>postal_code</th>\n",
       "      <th>review_count</th>\n",
       "      <th>stars</th>\n",
       "      <th>state</th>\n",
       "      <th>isBankrupt</th>\n",
       "      <th>county</th>\n",
       "    </tr>\n",
       "  </thead>\n",
       "  <tbody>\n",
       "    <tr>\n",
       "      <th>0</th>\n",
       "      <td>{'RestaurantsTableService': False, 'GoodForMea...</td>\n",
       "      <td>rDMptJYWtnMhpQu_rRXHng</td>\n",
       "      <td>['Fast Food', 'Burgers', 'Restaurants']</td>\n",
       "      <td>Phoenix</td>\n",
       "      <td>33.607070</td>\n",
       "      <td>-112.064382</td>\n",
       "      <td>McDonald's</td>\n",
       "      <td>85022</td>\n",
       "      <td>10</td>\n",
       "      <td>1.0</td>\n",
       "      <td>AZ</td>\n",
       "      <td>0</td>\n",
       "      <td>Maricopa County</td>\n",
       "    </tr>\n",
       "    <tr>\n",
       "      <th>1</th>\n",
       "      <td>{'RestaurantsTableService': True, 'GoodForMeal...</td>\n",
       "      <td>1WBkAuQg81kokZIPMpn9Zg</td>\n",
       "      <td>['Burgers', 'Restaurants']</td>\n",
       "      <td>Phoenix</td>\n",
       "      <td>33.607310</td>\n",
       "      <td>-112.063404</td>\n",
       "      <td>Charr An American Burger Bar</td>\n",
       "      <td>85022</td>\n",
       "      <td>232</td>\n",
       "      <td>3.0</td>\n",
       "      <td>AZ</td>\n",
       "      <td>0</td>\n",
       "      <td>Maricopa County</td>\n",
       "    </tr>\n",
       "    <tr>\n",
       "      <th>2</th>\n",
       "      <td>{'RestaurantsTableService': False, 'GoodForMea...</td>\n",
       "      <td>iPa__LOhse-hobC2Xmp-Kw</td>\n",
       "      <td>['Restaurants', 'Burgers', 'Fast Food']</td>\n",
       "      <td>Phoenix</td>\n",
       "      <td>33.508765</td>\n",
       "      <td>-112.046240</td>\n",
       "      <td>McDonald's</td>\n",
       "      <td>85016</td>\n",
       "      <td>34</td>\n",
       "      <td>3.0</td>\n",
       "      <td>AZ</td>\n",
       "      <td>0</td>\n",
       "      <td>Maricopa County</td>\n",
       "    </tr>\n",
       "    <tr>\n",
       "      <th>3</th>\n",
       "      <td>{'BusinessAcceptsCreditCards': True, 'Business...</td>\n",
       "      <td>YhV93k9uiMdr3FlV4FHjwA</td>\n",
       "      <td>['Marketing', \"Men's Clothing\", 'Restaurants',...</td>\n",
       "      <td>Phoenix</td>\n",
       "      <td>33.449967</td>\n",
       "      <td>-112.070222</td>\n",
       "      <td>Caviness Studio</td>\n",
       "      <td>85001</td>\n",
       "      <td>4</td>\n",
       "      <td>5.0</td>\n",
       "      <td>AZ</td>\n",
       "      <td>0</td>\n",
       "      <td>Maricopa County</td>\n",
       "    </tr>\n",
       "    <tr>\n",
       "      <th>4</th>\n",
       "      <td>{'Alcohol': 'full_bar', 'HasTV': True, 'NoiseL...</td>\n",
       "      <td>VdlPZg2NAu8t8GkdbPLecg</td>\n",
       "      <td>['Restaurants', 'Gluten-Free', 'Indian', 'Seaf...</td>\n",
       "      <td>Scottsdale</td>\n",
       "      <td>33.555212</td>\n",
       "      <td>-111.900456</td>\n",
       "      <td>Tandoori Times Indian Bistro</td>\n",
       "      <td>85258</td>\n",
       "      <td>263</td>\n",
       "      <td>3.5</td>\n",
       "      <td>AZ</td>\n",
       "      <td>0</td>\n",
       "      <td>Maricopa County</td>\n",
       "    </tr>\n",
       "  </tbody>\n",
       "</table>\n",
       "</div>"
      ],
      "text/plain": [
       "                                          attributes             business_id  \\\n",
       "0  {'RestaurantsTableService': False, 'GoodForMea...  rDMptJYWtnMhpQu_rRXHng   \n",
       "1  {'RestaurantsTableService': True, 'GoodForMeal...  1WBkAuQg81kokZIPMpn9Zg   \n",
       "2  {'RestaurantsTableService': False, 'GoodForMea...  iPa__LOhse-hobC2Xmp-Kw   \n",
       "3  {'BusinessAcceptsCreditCards': True, 'Business...  YhV93k9uiMdr3FlV4FHjwA   \n",
       "4  {'Alcohol': 'full_bar', 'HasTV': True, 'NoiseL...  VdlPZg2NAu8t8GkdbPLecg   \n",
       "\n",
       "                                          categories        city   latitude  \\\n",
       "0            ['Fast Food', 'Burgers', 'Restaurants']     Phoenix  33.607070   \n",
       "1                         ['Burgers', 'Restaurants']     Phoenix  33.607310   \n",
       "2            ['Restaurants', 'Burgers', 'Fast Food']     Phoenix  33.508765   \n",
       "3  ['Marketing', \"Men's Clothing\", 'Restaurants',...     Phoenix  33.449967   \n",
       "4  ['Restaurants', 'Gluten-Free', 'Indian', 'Seaf...  Scottsdale  33.555212   \n",
       "\n",
       "    longitude                          name  postal_code  review_count  stars  \\\n",
       "0 -112.064382                    McDonald's        85022            10    1.0   \n",
       "1 -112.063404  Charr An American Burger Bar        85022           232    3.0   \n",
       "2 -112.046240                    McDonald's        85016            34    3.0   \n",
       "3 -112.070222               Caviness Studio        85001             4    5.0   \n",
       "4 -111.900456  Tandoori Times Indian Bistro        85258           263    3.5   \n",
       "\n",
       "  state  isBankrupt           county  \n",
       "0    AZ           0  Maricopa County  \n",
       "1    AZ           0  Maricopa County  \n",
       "2    AZ           0  Maricopa County  \n",
       "3    AZ           0  Maricopa County  \n",
       "4    AZ           0  Maricopa County  "
      ]
     },
     "execution_count": 5,
     "metadata": {},
     "output_type": "execute_result"
    }
   ],
   "source": [
    "# Reveal first few rows \n",
    "business.head()"
   ]
  },
  {
   "cell_type": "code",
   "execution_count": 6,
   "metadata": {},
   "outputs": [],
   "source": [
    "# Make a copy of raw dataset\n",
    "business_df = business.copy()"
   ]
  },
  {
   "cell_type": "markdown",
   "metadata": {},
   "source": [
    "## 3.1.1 Create isChain\n",
    "\n",
    "We define restaurant as `isChain` by checking whether or not the name is repeated more than once."
   ]
  },
  {
   "cell_type": "code",
   "execution_count": 7,
   "metadata": {},
   "outputs": [],
   "source": [
    "# Create new feature chain\n",
    "chain_dict = business_df['name'].value_counts().to_dict()\n",
    "business_df['isChain'] = business_df['name'].apply(lambda x: int(chain_dict[x] > 1))"
   ]
  },
  {
   "cell_type": "markdown",
   "metadata": {},
   "source": [
    "## Create City Density\n",
    "\n",
    "We calculate the total number of restaurants in the city that each restaurant resides."
   ]
  },
  {
   "cell_type": "code",
   "execution_count": 8,
   "metadata": {},
   "outputs": [],
   "source": [
    "# Create a dictionary to store restuarant number in each city\n",
    "city_dict = business_df.groupby('city').apply(len).to_dict()"
   ]
  },
  {
   "cell_type": "code",
   "execution_count": 9,
   "metadata": {},
   "outputs": [],
   "source": [
    "# Create new feature neighborhood_city\n",
    "business_df['density'] = business_df['city'].apply(lambda city: city_dict.get(city))"
   ]
  },
  {
   "cell_type": "markdown",
   "metadata": {},
   "source": [
    "## Create Neighborhood Size\n",
    "\n",
    "To calculate the total number of restaurants in the neighborhood of each restaurant, we need to calculate the distance matrix that summarizes all pairwise distances between all restaurants and then identify all neighborhoods within 1 mile radius using clustering method like `DBSCAN`. \n",
    "\n",
    "However, this method is computationally time demanding. Our alternative to this problem is to use K-Means clustering, which can serve as a good approximation for `DBSCAN`. We first use Silhouette score to determine the best number of $K$ and then group the data into $K$ clusters. The number restaurants within each cluster will then be the neighborhood size which we define as `neighborhood`."
   ]
  },
  {
   "cell_type": "code",
   "execution_count": 10,
   "metadata": {},
   "outputs": [],
   "source": [
    "# Use Kmeans Clustering to identify grouping by latitude and longitude\n",
    "def geocluster(data, k_min=2, k_max=2, step=1):\n",
    "    coordinates = data[['latitude', 'longitude']].copy()\n",
    "    \n",
    "    # Compute Silhouette scores for each K\n",
    "    silhouette = []\n",
    "    k_range = list(range(k_min, k_max+step, step))\n",
    "    for i in k_range:\n",
    "        kmeans = KMeans(n_clusters=i, random_state=314).fit(coordinates)\n",
    "        \n",
    "        # Calculate silhouette score based on euclidean distance\n",
    "        silhouette.append(silhouette_score(coordinates, kmeans.labels_, metric='euclidean'))\n",
    "        \n",
    "    return pd.DataFrame(dict(k=k_range, silhouette_score=silhouette))"
   ]
  },
  {
   "cell_type": "code",
   "execution_count": 11,
   "metadata": {},
   "outputs": [],
   "source": [
    "# Compute silhouette score for different K's\n",
    "silhouette_result = geocluster(business_df, 20, 1000, 20)\n",
    "silhouette_result.head();"
   ]
  },
  {
   "cell_type": "code",
   "execution_count": 12,
   "metadata": {},
   "outputs": [
    {
     "data": {
      "image/png": "[encoded data removed]",
      "text/plain": [
       "<Figure size 576x360 with 1 Axes>"
      ]
     },
     "metadata": {
      "needs_background": "light"
     },
     "output_type": "display_data"
    }
   ],
   "source": [
    "# Plot the silhouette for different K's\n",
    "plt.figure(figsize=(8,5))\n",
    "plt.plot(silhouette_result['k'], silhouette_result['silhouette_score'])\n",
    "plt.xlabel('K')\n",
    "plt.ylabel('silhouette_score')\n",
    "plt.title('Scree Plot for KMeans Clustering');"
   ]
  },
  {
   "cell_type": "code",
   "execution_count": 13,
   "metadata": {},
   "outputs": [
    {
     "data": {
      "text/plain": [
       "760"
      ]
     },
     "execution_count": 13,
     "metadata": {},
     "output_type": "execute_result"
    }
   ],
   "source": [
    "# Get the best number of cluseter K\n",
    "best_k = silhouette_result['k'][silhouette_result['silhouette_score'].idxmax()]\n",
    "best_k"
   ]
  },
  {
   "cell_type": "code",
   "execution_count": 14,
   "metadata": {},
   "outputs": [],
   "source": [
    "# Fit Kmeans Model to the coordinates\n",
    "kmeans = KMeans(n_clusters=best_k, random_state=314).fit(business_df[['latitude', 'longitude']].copy())\n",
    "\n",
    "# Add the cluster labels to data\n",
    "business_df['cluster'] = kmeans.labels_"
   ]
  },
  {
   "cell_type": "code",
   "execution_count": 15,
   "metadata": {},
   "outputs": [
    {
     "data": {
      "text/html": [
       "<div>\n",
       "<style scoped>\n",
       "    .dataframe tbody tr th:only-of-type {\n",
       "        vertical-align: middle;\n",
       "    }\n",
       "\n",
       "    .dataframe tbody tr th {\n",
       "        vertical-align: top;\n",
       "    }\n",
       "\n",
       "    .dataframe thead th {\n",
       "        text-align: right;\n",
       "    }\n",
       "</style>\n",
       "<table border=\"1\" class=\"dataframe\">\n",
       "  <thead>\n",
       "    <tr style=\"text-align: right;\">\n",
       "      <th></th>\n",
       "      <th>k</th>\n",
       "      <th>latitude</th>\n",
       "      <th>longitude</th>\n",
       "      <th>size</th>\n",
       "    </tr>\n",
       "  </thead>\n",
       "  <tbody>\n",
       "    <tr>\n",
       "      <th>0</th>\n",
       "      <td>0</td>\n",
       "      <td>33.378323</td>\n",
       "      <td>-112.030133</td>\n",
       "      <td>19</td>\n",
       "    </tr>\n",
       "    <tr>\n",
       "      <th>1</th>\n",
       "      <td>1</td>\n",
       "      <td>33.538795</td>\n",
       "      <td>-112.183971</td>\n",
       "      <td>26</td>\n",
       "    </tr>\n",
       "    <tr>\n",
       "      <th>2</th>\n",
       "      <td>2</td>\n",
       "      <td>33.378500</td>\n",
       "      <td>-111.786990</td>\n",
       "      <td>26</td>\n",
       "    </tr>\n",
       "    <tr>\n",
       "      <th>3</th>\n",
       "      <td>3</td>\n",
       "      <td>33.624828</td>\n",
       "      <td>-111.923824</td>\n",
       "      <td>28</td>\n",
       "    </tr>\n",
       "    <tr>\n",
       "      <th>4</th>\n",
       "      <td>4</td>\n",
       "      <td>33.484423</td>\n",
       "      <td>-112.363563</td>\n",
       "      <td>8</td>\n",
       "    </tr>\n",
       "  </tbody>\n",
       "</table>\n",
       "</div>"
      ],
      "text/plain": [
       "   k   latitude   longitude  size\n",
       "0  0  33.378323 -112.030133    19\n",
       "1  1  33.538795 -112.183971    26\n",
       "2  2  33.378500 -111.786990    26\n",
       "3  3  33.624828 -111.923824    28\n",
       "4  4  33.484423 -112.363563     8"
      ]
     },
     "execution_count": 15,
     "metadata": {},
     "output_type": "execute_result"
    }
   ],
   "source": [
    "# Calculate number of restaurants in each centroid\n",
    "centroids = pd.DataFrame(kmeans.cluster_centers_, columns=['latitude', 'longitude']) \\\n",
    "                .reset_index() \\\n",
    "                .rename(columns={'index':'k'})\n",
    "centroids['size'] = business_df.groupby('cluster').size()\n",
    "centroids.head()"
   ]
  },
  {
   "cell_type": "code",
   "execution_count": 16,
   "metadata": {},
   "outputs": [
    {
     "data": {
      "image/png": "[encoded data removed]",
      "text/plain": [
       "<Figure size 720x576 with 1 Axes>"
      ]
     },
     "metadata": {
      "needs_background": "light"
     },
     "output_type": "display_data"
    }
   ],
   "source": [
    "# Visualize the geometry clustering\n",
    "plt.figure(figsize=(10,8))\n",
    "cmap=sns.husl_palette(n_colors=best_k)\n",
    "sns.scatterplot('longitude', 'latitude', hue='cluster', data=business_df, legend=False, s=10, palette=cmap)\n",
    "sns.scatterplot('longitude', 'latitude', hue='k', data=centroids, legend=False, s=100, alpha=0.2, palette=cmap)\n",
    "plt.title('Clustering by Geometry Coordinates');"
   ]
  },
  {
   "cell_type": "code",
   "execution_count": 17,
   "metadata": {},
   "outputs": [],
   "source": [
    "# Compute neighborhood density for each cluster\n",
    "neighborhood = centroids.set_index('k')['size'].to_dict()\n",
    "business_df['neighborhood'] = business_df['cluster'].apply(lambda row: neighborhood[row])"
   ]
  },
  {
   "cell_type": "markdown",
   "metadata": {},
   "source": [
    "## Parse String"
   ]
  },
  {
   "cell_type": "code",
   "execution_count": 18,
   "metadata": {},
   "outputs": [],
   "source": [
    "# Convert types of attributes and categories to dictionary and list\n",
    "business_df['attributes'] = business_df['attributes'].apply(lambda x: eval(x))\n",
    "business_df['categories'] = business_df['categories'].apply(lambda x: eval(x))"
   ]
  },
  {
   "cell_type": "markdown",
   "metadata": {},
   "source": [
    "## Extract Features From Categories"
   ]
  },
  {
   "cell_type": "code",
   "execution_count": 19,
   "metadata": {},
   "outputs": [
    {
     "name": "stdout",
     "output_type": "stream",
     "text": [
      "Number of unique words in feature 'categories': 417\n"
     ]
    }
   ],
   "source": [
    "# Extract all words in categories\n",
    "categories = np.unique([item for row in business_df['categories'] for item in row])\n",
    "print(\"Number of unique words in feature 'categories':\", len(categories))"
   ]
  },
  {
   "cell_type": "markdown",
   "metadata": {},
   "source": [
    "Since the words in `categories` list is not much, we will do manually check and split the words in three sub categories. "
   ]
  },
  {
   "cell_type": "markdown",
   "metadata": {},
   "source": [
    "### Restaurant categories I - Restaurant Ethnicity"
   ]
  },
  {
   "cell_type": "code",
   "execution_count": 20,
   "metadata": {},
   "outputs": [],
   "source": [
    "# Ethnics words filtered by manually check\n",
    "ethnics = ['Afghan', 'African', 'American (New)','American (Traditional)', 'Arabian', 'Argentine',\n",
    "           'Armenian','Asian Fusion','Australian', 'Austrian','Belgian','Brazilian', 'British',\n",
    "           'Cajun/Creole', 'Cambodian','Cantonese', 'Caribbean','Chinese','Colombian', 'Indian',\n",
    "           'Cuban','Czech','Dominican','Empanadas','Ethiopian','Filipino','French','German','Greek',\n",
    "           'Hawaiian', 'Irish','Italian', 'Japanese', 'Korean','Kosher','Halal','Laotian','Latin American',\n",
    "           'Lebanese', 'Malaysian','Mediterranean','Mexican','Middle Eastern', 'Modern European', 'Mongolian',\n",
    "           'Moroccan','Pakistani', 'Persian/Iranian','Peruvian','Puerto Rican','Russian', 'Salvadoran',\n",
    "           'Scandinavian','Southern', 'Spanish','Szechuan', 'Taiwanese','Thai','Tex-Mex', 'Trinidadian',\n",
    "           'Vietnamese','Turkish','Ukrainian', 'Uzbek']"
   ]
  },
  {
   "cell_type": "code",
   "execution_count": 21,
   "metadata": {},
   "outputs": [],
   "source": [
    "# Create new feature ethnics\n",
    "business_df['ethnics'] = business_df['categories'].apply(lambda row: [x for x in row if x in ethnics])"
   ]
  },
  {
   "cell_type": "code",
   "execution_count": 22,
   "metadata": {},
   "outputs": [
    {
     "name": "stdout",
     "output_type": "stream",
     "text": [
      "Total Number of Ethnics: 64\n"
     ]
    }
   ],
   "source": [
    "# Create a dictionary to store the appear times of each ethnics\n",
    "ethnics_dict = dict(zip(ethnics, [sum([x in row for row in business_df['ethnics']]) for x in ethnics]))\n",
    "print('Total Number of Ethnics:', len(ethnics_dict))"
   ]
  },
  {
   "cell_type": "code",
   "execution_count": 23,
   "metadata": {},
   "outputs": [
    {
     "data": {
      "text/html": [
       "<div>\n",
       "<style scoped>\n",
       "    .dataframe tbody tr th:only-of-type {\n",
       "        vertical-align: middle;\n",
       "    }\n",
       "\n",
       "    .dataframe tbody tr th {\n",
       "        vertical-align: top;\n",
       "    }\n",
       "\n",
       "    .dataframe thead th {\n",
       "        text-align: right;\n",
       "    }\n",
       "</style>\n",
       "<table border=\"1\" class=\"dataframe\">\n",
       "  <thead>\n",
       "    <tr style=\"text-align: right;\">\n",
       "      <th></th>\n",
       "      <th>Ethnics</th>\n",
       "      <th>Count</th>\n",
       "    </tr>\n",
       "  </thead>\n",
       "  <tbody>\n",
       "    <tr>\n",
       "      <th>0</th>\n",
       "      <td>Mexican</td>\n",
       "      <td>1152</td>\n",
       "    </tr>\n",
       "    <tr>\n",
       "      <th>1</th>\n",
       "      <td>American (Traditional)</td>\n",
       "      <td>1048</td>\n",
       "    </tr>\n",
       "    <tr>\n",
       "      <th>2</th>\n",
       "      <td>American (New)</td>\n",
       "      <td>727</td>\n",
       "    </tr>\n",
       "    <tr>\n",
       "      <th>3</th>\n",
       "      <td>Italian</td>\n",
       "      <td>555</td>\n",
       "    </tr>\n",
       "    <tr>\n",
       "      <th>4</th>\n",
       "      <td>Chinese</td>\n",
       "      <td>435</td>\n",
       "    </tr>\n",
       "  </tbody>\n",
       "</table>\n",
       "</div>"
      ],
      "text/plain": [
       "                  Ethnics  Count\n",
       "0                 Mexican   1152\n",
       "1  American (Traditional)   1048\n",
       "2          American (New)    727\n",
       "3                 Italian    555\n",
       "4                 Chinese    435"
      ]
     },
     "execution_count": 23,
     "metadata": {},
     "output_type": "execute_result"
    }
   ],
   "source": [
    "# Convert dictionary to dataframe\n",
    "# Convert dictionary to dataframe\n",
    "ethnics_df = pd.DataFrame(list(ethnics_dict.items()), columns=['Ethnics','Count']) \\\n",
    "                .sort_values('Count',ascending = False) \\\n",
    "                .reset_index() \\\n",
    "                .drop('index', axis=1)\n",
    "ethnics_df.head()"
   ]
  },
  {
   "cell_type": "code",
   "execution_count": 24,
   "metadata": {},
   "outputs": [
    {
     "data": {
      "image/png": "[encoded data removed]",
      "text/plain": [
       "<Figure size 720x576 with 1 Axes>"
      ]
     },
     "metadata": {
      "needs_background": "light"
     },
     "output_type": "display_data"
    }
   ],
   "source": [
    "# Visualize dataframe ethnics\n",
    "plt.figure(figsize=(10,8))\n",
    "sns.set(style='whitegrid')\n",
    "ethnics_plot = sns.barplot(x='Count', y='Ethnics', data=ethnics_df,palette ='YlOrRd_r')\n",
    "ethnics_plot.set_yticklabels(ethnics_plot.get_yticklabels(), fontdict={'fontsize':10});"
   ]
  },
  {
   "cell_type": "markdown",
   "metadata": {},
   "source": [
    "64 ethnics are too many to us to analyze directly. Therefore, we will combine related ethnics to groups to reduce the number of ethnics."
   ]
  },
  {
   "cell_type": "code",
   "execution_count": 25,
   "metadata": {},
   "outputs": [],
   "source": [
    "# Combine ethnics into fewer categories\n",
    "ethnic_dict = {\n",
    "'MiddleEast': ['Arabian', 'Armenian', 'Halal','Lebanese','Middle Eastern','Turkish','Mediterranean',\n",
    "              'Afghan','Pakistani','Persian/Iranian'],\n",
    "'African': ['African', 'Ethiopian', 'Moroccan'],\n",
    "'American': ['American (New)', 'American (Traditional)','Hawaiian','Southern'],\n",
    "'European': ['Austrian', 'Belgian', 'British', 'Czech','French','German','Greek','Irish','Italian',\n",
    "               'Kosher','Modern European','Cajun/Creole','Scandinavian','Spanish','Australian'],\n",
    "'Chinese': ['Cantonese', 'Chinese','Szechuan','Taiwanese'],\n",
    "'LatinAmerica': ['Argentine', 'Brazilian', 'Caribbean', 'Colombian', 'Cuban', 'Dominican', 'Empanadas',\n",
    "                     'Latin American', 'Peruvian', 'Puerto Rican', 'Salvadoran', 'Trinidadian'],\n",
    "'SouthEastAisa': ['Cambodian', 'Filipino','Laotian', 'Malaysian', 'Thai', 'Vietnamese','Indian'],\n",
    "'EastAsia': ['Japanese', 'Korean', 'Asian Fusion'],\n",
    "'Mexican': ['Mexican','Tex-Mex'],\n",
    "'AsiaContinent': ['Mongolian','Russian','Ukrainian','Uzbek']\n",
    "}"
   ]
  },
  {
   "cell_type": "code",
   "execution_count": 26,
   "metadata": {},
   "outputs": [],
   "source": [
    "# Merge ethnics into smaller categories\n",
    "merge_ethnic = lambda row: np.unique([ethnic if x in ethnic_dict[ethnic] else x for x in row])\n",
    "for ethnic in ethnic_dict.keys():\n",
    "    business_df['ethnics'] = business_df['ethnics'].apply(merge_ethnic)"
   ]
  },
  {
   "cell_type": "code",
   "execution_count": 27,
   "metadata": {},
   "outputs": [
    {
     "name": "stderr",
     "output_type": "stream",
     "text": [
      "C:\\Users\\Syen Yang\\AppData\\Local\\Continuum\\anaconda3\\lib\\site-packages\\ipykernel_launcher.py:3: FutureWarning: elementwise comparison failed; returning scalar instead, but in the future will perform elementwise comparison\n",
      "  This is separate from the ipykernel package so we can avoid doing imports until\n"
     ]
    },
    {
     "name": "stdout",
     "output_type": "stream",
     "text": [
      "Total Number of Ethnics: 10\n"
     ]
    }
   ],
   "source": [
    "# Update dictionary\n",
    "ethnics = ethnic_dict.keys()\n",
    "ethnics_dict = dict(zip(ethnics, [sum([x in row for row in business_df['ethnics']]) for x in ethnics]))\n",
    "print('Total Number of Ethnics:', len(ethnics_dict))"
   ]
  },
  {
   "cell_type": "code",
   "execution_count": 28,
   "metadata": {},
   "outputs": [
    {
     "data": {
      "text/plain": [
       "{'MiddleEast': 239,\n",
       " 'African': 18,\n",
       " 'American': 1632,\n",
       " 'European': 780,\n",
       " 'Chinese': 439,\n",
       " 'LatinAmerica': 88,\n",
       " 'SouthEastAisa': 277,\n",
       " 'EastAsia': 416,\n",
       " 'Mexican': 1175,\n",
       " 'AsiaContinent': 15}"
      ]
     },
     "execution_count": 28,
     "metadata": {},
     "output_type": "execute_result"
    }
   ],
   "source": [
    "# Print dictionary\n",
    "ethnics_dict"
   ]
  },
  {
   "cell_type": "markdown",
   "metadata": {},
   "source": [
    "We notice that there are sill three ethnics with frequency less than 200. Therefore, we will combine them in one group `Other`."
   ]
  },
  {
   "cell_type": "code",
   "execution_count": 29,
   "metadata": {},
   "outputs": [],
   "source": [
    "# Group ethnics\n",
    "other = ['African','LatinAmerica','AsiaContinent']"
   ]
  },
  {
   "cell_type": "code",
   "execution_count": 30,
   "metadata": {},
   "outputs": [],
   "source": [
    "# Update feature ethnics\n",
    "business_df['ethnics'] = business_df['ethnics'].apply(lambda row: np.unique(['Other' if x in other\n",
    "                                                                             else x for x in row]))"
   ]
  },
  {
   "cell_type": "code",
   "execution_count": 31,
   "metadata": {},
   "outputs": [
    {
     "name": "stderr",
     "output_type": "stream",
     "text": [
      "C:\\Users\\Syen Yang\\AppData\\Local\\Continuum\\anaconda3\\lib\\site-packages\\ipykernel_launcher.py:3: FutureWarning: elementwise comparison failed; returning scalar instead, but in the future will perform elementwise comparison\n",
      "  This is separate from the ipykernel package so we can avoid doing imports until\n"
     ]
    },
    {
     "name": "stdout",
     "output_type": "stream",
     "text": [
      "Total Number of Ethnics: 8\n"
     ]
    }
   ],
   "source": [
    "# Update dictionary\n",
    "ethnics = ['MiddleEast','American','European','Chinese','SouthEastAisa','EastAsia','Mexican','Other']\n",
    "ethnics_dict = dict(zip(ethnics, [sum([x in row for row in business_df['ethnics']]) for x in ethnics]))\n",
    "print('Total Number of Ethnics:', len(ethnics_dict))"
   ]
  },
  {
   "cell_type": "code",
   "execution_count": 32,
   "metadata": {},
   "outputs": [],
   "source": [
    "# Convert dictionary to dataframe\n",
    "ethnics_df = pd.DataFrame(list(ethnics_dict.items()),columns=['Ethnics','Count']).sort_values('Count',ascending = False).reset_index()\n",
    "ethnics_df = ethnics_df.drop('index', axis=1)"
   ]
  },
  {
   "cell_type": "code",
   "execution_count": 33,
   "metadata": {},
   "outputs": [
    {
     "data": {
      "image/png": "[encoded data removed]",
      "text/plain": [
       "<Figure size 720x576 with 1 Axes>"
      ]
     },
     "metadata": {},
     "output_type": "display_data"
    }
   ],
   "source": [
    "# Visualize dataframe ethnics\n",
    "plt.figure(figsize=(10,8))\n",
    "sns.set(style='whitegrid')\n",
    "ethnics_plot = sns.barplot(x='Count', y='Ethnics', data=ethnics_df, palette ='YlOrRd_r')\n",
    "ethnics_plot.set_yticklabels(ethnics_plot.get_yticklabels(), fontdict={'fontsize':10});"
   ]
  },
  {
   "cell_type": "code",
   "execution_count": 34,
   "metadata": {},
   "outputs": [
    {
     "data": {
      "text/plain": [
       "0                 []\n",
       "1                 []\n",
       "2                 []\n",
       "3                 []\n",
       "4    [SouthEastAisa]\n",
       "5         [American]\n",
       "6                 []\n",
       "7                 []\n",
       "8         [EastAsia]\n",
       "9    [SouthEastAisa]\n",
       "Name: ethnics, dtype: object"
      ]
     },
     "execution_count": 34,
     "metadata": {},
     "output_type": "execute_result"
    }
   ],
   "source": [
    "# Reveal first few rows\n",
    "business_df['ethnics'].head(10)"
   ]
  },
  {
   "cell_type": "markdown",
   "metadata": {},
   "source": [
    "### Restaurant categories II - Food Types"
   ]
  },
  {
   "cell_type": "code",
   "execution_count": 35,
   "metadata": {},
   "outputs": [],
   "source": [
    "# Type words filtered by manually check\n",
    "types = ['Acai Bowls', 'Bagels','Bubble Tea','Burgers', 'Cheesesteaks','Chicken Wings','Creperies','Cupcakes',\n",
    "         'Custom Cakes','Do-It-Yourself Food','Donuts','Falafel','Fish & Chips','Fondue','Fruits & Veggies',\n",
    "         'Gelato','Gluten-Free', 'Hot Dogs', 'Hot Pot', 'Ice Cream & Frozen Yogurt', \n",
    "         'Imported Food','Juice Bars & Smoothies', 'Kebab','Live/Raw Food','Local Flavor', 'Macarons','Noodles',\n",
    "         'Pita', 'Pizza', 'Poutineries','Sandwiches','Pretzels','Ramen','Rotisserie Chicken','Salad',\n",
    "         'Seafood','Shaved Ice', 'Shaved Snow', 'Soup', 'Tacos', 'Teppanyaki',\n",
    "         'Waffles', 'Wraps','Bakeries', 'Barbeque', 'Beverage Store', 'Buffets','Cafes',\n",
    "         'Cafeteria', 'Candy Stores','Caterers', 'Cheese Shops','Chicken Shop','Chocolatiers & Shops',\n",
    "         'Coffee & Tea', 'Coffee & Tea Supplies', 'Coffee Roasteries','Coffeeshops','Desserts',\n",
    "         'Dim Sum','Delis','Fast Food','Food Court','Food Stands','Food Trucks','Hotels',\n",
    "         'Hotels & Travel','Internet Cafes', 'New Mexican Cuisine',\n",
    "         'Organic Stores', 'Pan Asian','Pasta Shops','Patisserie/Cake Shop', 'Popcorn Shops', 'Seafood Markets',\n",
    "         'Steakhouses','Sushi Bars','Tea Rooms', 'Themed Cafes','Vegan', 'Vegetarian',\n",
    "         'Bars','Beer', 'Beer Bar','Beer Gardens','Brasseries', 'Breweries', 'Brewpubs','Champagne Bars',\n",
    "         'Cocktail Bars','Distilleries','Dive Bars','Gay Bars', 'Gastropubs','Hotel bar','Izakaya','Irish Pub',\n",
    "         'Piano Bars', 'Pubs','Speakeasies','Sports Bars','Tapas Bars','Whiskey Bars','Wine & Spirits','Wine Bars',\n",
    "         'Wineries']"
   ]
  },
  {
   "cell_type": "code",
   "execution_count": 36,
   "metadata": {},
   "outputs": [],
   "source": [
    "# Create new feature types\n",
    "business_df['types'] = business_df['categories'].apply(lambda row: [x for x in row if x in types])"
   ]
  },
  {
   "cell_type": "code",
   "execution_count": 37,
   "metadata": {},
   "outputs": [
    {
     "name": "stdout",
     "output_type": "stream",
     "text": [
      "Total Number of Types: 106\n"
     ]
    }
   ],
   "source": [
    "# Create a dictionary to store the appear times of each types\n",
    "types_dict = dict(zip(types, [sum([x in row for row in business_df['types']]) for x in types]))\n",
    "print('Total Number of Types:', len(types_dict))"
   ]
  },
  {
   "cell_type": "markdown",
   "metadata": {},
   "source": [
    "Same with `ethnics`, we will group words for feature `type`."
   ]
  },
  {
   "cell_type": "code",
   "execution_count": 38,
   "metadata": {},
   "outputs": [],
   "source": [
    "# # Combine types into fewer categories\n",
    "type_dict = {\n",
    "    'Fast Food': ['Burgers','Fish & Chips','Hot Dogs','Sandwiches','Fast Food'],\n",
    "    'Alcohol': ['Bars','Beer', 'Beer Bar','Beer Gardens','Brasseries', 'Breweries', 'Brewpubs','Champagne Bars',\n",
    "                'Cocktail Bars','Distilleries','Dive Bars','Gay Bars', 'Gastropubs','Hotel bar','Izakaya',\n",
    "                'Irish Pub','Piano Bars', 'Pubs','Speakeasies','Sports Bars','Tapas Bars','Whiskey Bars',\n",
    "                'Wine & Spirits','Wine Bars', 'Wineries'],\n",
    "    'Beverage': ['Bubble Tea','Juice Bars & Smoothies','Beverage Store'],\n",
    "    'Bakeries & Desserts': ['Bagels','Cupcakes','Custom Cakes','Patisserie/Cake Shop','Shaved Ice','Shaved Snow',\n",
    "                            'Gelato','Ice Cream & Frozen Yogurt','Macarons','Chocolatiers & Shops','Donuts',\n",
    "                            'Waffles','Bakeries','Desserts','Creperies'],\n",
    "    'Vegetarian': ['Fruits & Veggies','Vegan','Vegetarian','Falafel','Acai Bowls'],\n",
    "    'Coffee & Tea': ['Coffee Roasteries','Coffeeshops','Tea Rooms','Coffee & Tea','Coffee & Tea Supplies','Cafes',\n",
    "                    'Internet Cafes','Themed Cafes'],\n",
    "    'Noodles': ['Noodles','Ramen','Pasta Shops'],\n",
    "    'Seafood': ['Seafood Markets','Seafood'],\n",
    "    'Snacks': ['Pretzels','Candy Stores','Popcorn Shops'],\n",
    "    'Chicken': ['Rotisserie Chicken','Chicken Shop','Chicken Wings'],\n",
    "    'Meat': ['Barbeque','Delis','Steakhouses','Cheesesteaks'],\n",
    "    'Asian Ethnics': ['Hot Pot','Kebab','Teppanyaki','Dim Sum','Pan Asian','Sushi Bars'],\n",
    "    'SpecialLocations': ['Food Stands','Food Trucks','Food Court','Hotels','Hotels & Travel']\n",
    "}\n",
    "\n",
    "Other = ['Do-It-Yourself Food','Fondue','Gluten-Free',\n",
    "              'Imported Food','Live/Raw Food','Local Flavor','Pita', 'Pizza', 'Poutineries','Salad','Soup',\n",
    "              'Tacos', 'Wraps','Buffets','Cafeteria','Caterers','Cheese Shops', 'New Mexican Cuisine',\n",
    "              'Organic Stores']"
   ]
  },
  {
   "cell_type": "code",
   "execution_count": 39,
   "metadata": {},
   "outputs": [],
   "source": [
    "# Update feature types\n",
    "for tp in type_dict.keys():\n",
    "    business_df['types'] = business_df['types'].apply(lambda row: np.unique([tp if x in type_dict[tp]\n",
    "                                                                       else x for x in row]))"
   ]
  },
  {
   "cell_type": "code",
   "execution_count": 40,
   "metadata": {},
   "outputs": [
    {
     "name": "stderr",
     "output_type": "stream",
     "text": [
      "C:\\Users\\Syen Yang\\AppData\\Local\\Continuum\\anaconda3\\lib\\site-packages\\ipykernel_launcher.py:4: FutureWarning: elementwise comparison failed; returning scalar instead, but in the future will perform elementwise comparison\n",
      "  after removing the cwd from sys.path.\n"
     ]
    },
    {
     "name": "stdout",
     "output_type": "stream",
     "text": [
      "Total Number of Types: 32\n"
     ]
    }
   ],
   "source": [
    "# Update  dictionary\n",
    "types = ['Fast Food','Alcohol','Beverage','Bakeries & Desserts','Vegetarian','Coffee & Tea','Noodles','Seafood',\n",
    "        'Snacks','Chicken','Meat','Asian Ethnics','SpecialLocations'] + Other\n",
    "type_dict = dict(zip(types, [sum([x in row for row in business_df['types']]) for x in types]))\n",
    "print('Total Number of Types:', len(type_dict))"
   ]
  },
  {
   "cell_type": "code",
   "execution_count": 41,
   "metadata": {},
   "outputs": [],
   "source": [
    "# Convert dictionary to dataframe\n",
    "type_df = pd.DataFrame(list(type_dict.items()),columns=['Type','Count']).sort_values('Count',ascending = False).reset_index()\n",
    "type_df = type_df.drop('index', axis=1)"
   ]
  },
  {
   "cell_type": "code",
   "execution_count": 42,
   "metadata": {},
   "outputs": [
    {
     "data": {
      "image/png": "[encoded data removed]",
      "text/plain": [
       "<Figure size 720x576 with 1 Axes>"
      ]
     },
     "metadata": {},
     "output_type": "display_data"
    }
   ],
   "source": [
    "# Visualize dataframe types\n",
    "plt.figure(figsize=(10,8))\n",
    "sns.set(style='whitegrid')\n",
    "types_plot = sns.barplot(x='Count', y='Type', data=type_df, palette ='YlOrRd_r')\n",
    "types_plot.set_yticklabels(types_plot.get_yticklabels(), fontdict={'fontsize':10});"
   ]
  },
  {
   "cell_type": "code",
   "execution_count": 43,
   "metadata": {},
   "outputs": [
    {
     "data": {
      "image/png": "[encoded data removed]",
      "text/plain": [
       "<Figure size 720x576 with 1 Axes>"
      ]
     },
     "metadata": {},
     "output_type": "display_data"
    }
   ],
   "source": [
    "# Visualize dataframe types with more than 200 restaurants\n",
    "plt.figure(figsize=(10,8))\n",
    "sns.set(style='whitegrid')\n",
    "types_plot = sns.barplot(x='Count', y='Type', data=type_df[type_df['Count']>200], palette ='YlOrRd_r')\n",
    "types_plot.set_yticklabels(types_plot.get_yticklabels(), fontdict={'fontsize':10});"
   ]
  },
  {
   "cell_type": "code",
   "execution_count": 44,
   "metadata": {},
   "outputs": [
    {
     "data": {
      "text/plain": [
       "0               [Fast Food]\n",
       "1               [Fast Food]\n",
       "2               [Fast Food]\n",
       "3                   [Pizza]\n",
       "4    [Gluten-Free, Seafood]\n",
       "5                 [Seafood]\n",
       "6         [Fast Food, Meat]\n",
       "7        [Fast Food, Pizza]\n",
       "8        [Alcohol, Noodles]\n",
       "9                 [Noodles]\n",
       "Name: types, dtype: object"
      ]
     },
     "execution_count": 44,
     "metadata": {},
     "output_type": "execute_result"
    }
   ],
   "source": [
    "# Reveal first few rows\n",
    "business_df['types'].head(10)"
   ]
  },
  {
   "cell_type": "markdown",
   "metadata": {},
   "source": [
    "### Restaurant categories III - Time of the Day"
   ]
  },
  {
   "cell_type": "code",
   "execution_count": 45,
   "metadata": {},
   "outputs": [],
   "source": [
    "# Time words filtered by manually check\n",
    "time = ['Bed & Breakfast', 'Breakfast & Brunch', 'Dinner Theater', 'Nightlife']"
   ]
  },
  {
   "cell_type": "code",
   "execution_count": 46,
   "metadata": {},
   "outputs": [],
   "source": [
    "# Create new feature time\n",
    "business_df['time_of_day'] = business_df['categories'].apply(lambda row: [x for x in row if x in time])"
   ]
  },
  {
   "cell_type": "code",
   "execution_count": 47,
   "metadata": {},
   "outputs": [],
   "source": [
    "def clean_time(x):\n",
    "    # Check if the list is not empty\n",
    "    if len(x) > 0:\n",
    "        # Replace punctuation and split by space\n",
    "        items =  re.sub(r'\\s?[&,]', '', x[0]).split()\n",
    "        \n",
    "        # Append keywords\n",
    "        if 'Nightlife' in items:\n",
    "            items += ['Dinner', 'Latenight']\n",
    "        \n",
    "        # Filter unwanted words\n",
    "        return [x.lower() for x in items if x not in ['Bed', 'Theater', 'Nightlife']]\n",
    "    else:\n",
    "        return x"
   ]
  },
  {
   "cell_type": "code",
   "execution_count": 48,
   "metadata": {},
   "outputs": [],
   "source": [
    "# Process the strings\n",
    "business_df['time_of_day'] = business_df['time_of_day'].apply(clean_time)"
   ]
  },
  {
   "cell_type": "code",
   "execution_count": 49,
   "metadata": {},
   "outputs": [],
   "source": [
    "# Calculate the frequencies for each time of day\n",
    "time = np.unique([x for row in business_df['time_of_day'] for x in row])\n",
    "time_dist = dict(zip(time, [sum([x in row for row in business_df['time_of_day'] if len(row) > 0]) for x in time]))\n",
    "time_df = pd.DataFrame(list(time_dist.items()), columns=['Time of Day','Count']) \\\n",
    "                .sort_values('Count', ascending = False) \\\n",
    "                .reset_index() \\\n",
    "                .drop('index', axis=1)"
   ]
  },
  {
   "cell_type": "code",
   "execution_count": 50,
   "metadata": {},
   "outputs": [
    {
     "data": {
      "image/png": "[encoded data removed]",
      "text/plain": [
       "<Figure size 720x576 with 1 Axes>"
      ]
     },
     "metadata": {},
     "output_type": "display_data"
    }
   ],
   "source": [
    "# Visualize dataframe types with more than 200 restaurants\n",
    "plt.figure(figsize=(10,8))\n",
    "sns.set(style='whitegrid')\n",
    "time_plot = sns.barplot(x='Count', y='Time of Day', data=time_df, palette='YlOrRd_r')\n",
    "time_plot.set_yticklabels(time_plot.get_yticklabels(), fontdict={'fontsize': 10});"
   ]
  },
  {
   "cell_type": "code",
   "execution_count": 51,
   "metadata": {},
   "outputs": [
    {
     "data": {
      "text/plain": [
       "[]                     5473\n",
       "[dinner, latenight]     914\n",
       "[breakfast, brunch]     724\n",
       "[dinner]                  4\n",
       "[breakfast]               1\n",
       "Name: time_of_day, dtype: int64"
      ]
     },
     "execution_count": 51,
     "metadata": {},
     "output_type": "execute_result"
    }
   ],
   "source": [
    "business_df['time_of_day'].value_counts()"
   ]
  },
  {
   "cell_type": "markdown",
   "metadata": {},
   "source": [
    "From the value counts, we notice that there are over 5000 missing values in `time_of_day` feature. In other words, `categories` does not give us enough information about the opening time of the day. However, we notice that `attributes` provides us with more information about eh opening time of day. Therefore, we will `attributes` to extract `time_of_day` better."
   ]
  },
  {
   "cell_type": "markdown",
   "metadata": {},
   "source": [
    "## Extract Features From Attributes"
   ]
  },
  {
   "cell_type": "code",
   "execution_count": 52,
   "metadata": {},
   "outputs": [],
   "source": [
    "# Convert feature attributes to a dataframe\n",
    "attributes_df = business_df['attributes'].apply(pd.Series)"
   ]
  },
  {
   "cell_type": "code",
   "execution_count": 53,
   "metadata": {},
   "outputs": [
    {
     "data": {
      "text/html": [
       "<div>\n",
       "<style scoped>\n",
       "    .dataframe tbody tr th:only-of-type {\n",
       "        vertical-align: middle;\n",
       "    }\n",
       "\n",
       "    .dataframe tbody tr th {\n",
       "        vertical-align: top;\n",
       "    }\n",
       "\n",
       "    .dataframe thead th {\n",
       "        text-align: right;\n",
       "    }\n",
       "</style>\n",
       "<table border=\"1\" class=\"dataframe\">\n",
       "  <thead>\n",
       "    <tr style=\"text-align: right;\">\n",
       "      <th></th>\n",
       "      <th>RestaurantsTableService</th>\n",
       "      <th>GoodForMeal</th>\n",
       "      <th>Alcohol</th>\n",
       "      <th>Caters</th>\n",
       "      <th>HasTV</th>\n",
       "      <th>RestaurantsGoodForGroups</th>\n",
       "      <th>NoiseLevel</th>\n",
       "      <th>WiFi</th>\n",
       "      <th>RestaurantsAttire</th>\n",
       "      <th>RestaurantsReservations</th>\n",
       "      <th>...</th>\n",
       "      <th>GoodForDancing</th>\n",
       "      <th>Music</th>\n",
       "      <th>BestNights</th>\n",
       "      <th>CoatCheck</th>\n",
       "      <th>Smoking</th>\n",
       "      <th>ByAppointmentOnly</th>\n",
       "      <th>RestaurantsCounterService</th>\n",
       "      <th>AgesAllowed</th>\n",
       "      <th>AcceptsInsurance</th>\n",
       "      <th>HairSpecializesIn</th>\n",
       "    </tr>\n",
       "  </thead>\n",
       "  <tbody>\n",
       "    <tr>\n",
       "      <th>0</th>\n",
       "      <td>False</td>\n",
       "      <td>{'dessert': False, 'latenight': False, 'lunch'...</td>\n",
       "      <td>none</td>\n",
       "      <td>False</td>\n",
       "      <td>True</td>\n",
       "      <td>True</td>\n",
       "      <td>loud</td>\n",
       "      <td>free</td>\n",
       "      <td>casual</td>\n",
       "      <td>False</td>\n",
       "      <td>...</td>\n",
       "      <td>NaN</td>\n",
       "      <td>NaN</td>\n",
       "      <td>NaN</td>\n",
       "      <td>NaN</td>\n",
       "      <td>NaN</td>\n",
       "      <td>NaN</td>\n",
       "      <td>NaN</td>\n",
       "      <td>NaN</td>\n",
       "      <td>NaN</td>\n",
       "      <td>NaN</td>\n",
       "    </tr>\n",
       "    <tr>\n",
       "      <th>1</th>\n",
       "      <td>True</td>\n",
       "      <td>{'dessert': False, 'latenight': False, 'lunch'...</td>\n",
       "      <td>full_bar</td>\n",
       "      <td>True</td>\n",
       "      <td>True</td>\n",
       "      <td>True</td>\n",
       "      <td>average</td>\n",
       "      <td>free</td>\n",
       "      <td>casual</td>\n",
       "      <td>False</td>\n",
       "      <td>...</td>\n",
       "      <td>NaN</td>\n",
       "      <td>NaN</td>\n",
       "      <td>NaN</td>\n",
       "      <td>NaN</td>\n",
       "      <td>NaN</td>\n",
       "      <td>NaN</td>\n",
       "      <td>NaN</td>\n",
       "      <td>NaN</td>\n",
       "      <td>NaN</td>\n",
       "      <td>NaN</td>\n",
       "    </tr>\n",
       "    <tr>\n",
       "      <th>2</th>\n",
       "      <td>False</td>\n",
       "      <td>{'dessert': False, 'latenight': True, 'lunch':...</td>\n",
       "      <td>none</td>\n",
       "      <td>False</td>\n",
       "      <td>False</td>\n",
       "      <td>True</td>\n",
       "      <td>loud</td>\n",
       "      <td>paid</td>\n",
       "      <td>casual</td>\n",
       "      <td>False</td>\n",
       "      <td>...</td>\n",
       "      <td>NaN</td>\n",
       "      <td>NaN</td>\n",
       "      <td>NaN</td>\n",
       "      <td>NaN</td>\n",
       "      <td>NaN</td>\n",
       "      <td>NaN</td>\n",
       "      <td>NaN</td>\n",
       "      <td>NaN</td>\n",
       "      <td>NaN</td>\n",
       "      <td>NaN</td>\n",
       "    </tr>\n",
       "    <tr>\n",
       "      <th>3</th>\n",
       "      <td>NaN</td>\n",
       "      <td>NaN</td>\n",
       "      <td>NaN</td>\n",
       "      <td>NaN</td>\n",
       "      <td>NaN</td>\n",
       "      <td>NaN</td>\n",
       "      <td>NaN</td>\n",
       "      <td>NaN</td>\n",
       "      <td>NaN</td>\n",
       "      <td>False</td>\n",
       "      <td>...</td>\n",
       "      <td>NaN</td>\n",
       "      <td>NaN</td>\n",
       "      <td>NaN</td>\n",
       "      <td>NaN</td>\n",
       "      <td>NaN</td>\n",
       "      <td>NaN</td>\n",
       "      <td>NaN</td>\n",
       "      <td>NaN</td>\n",
       "      <td>NaN</td>\n",
       "      <td>NaN</td>\n",
       "    </tr>\n",
       "    <tr>\n",
       "      <th>4</th>\n",
       "      <td>True</td>\n",
       "      <td>{'dessert': False, 'latenight': False, 'lunch'...</td>\n",
       "      <td>full_bar</td>\n",
       "      <td>True</td>\n",
       "      <td>True</td>\n",
       "      <td>True</td>\n",
       "      <td>average</td>\n",
       "      <td>free</td>\n",
       "      <td>casual</td>\n",
       "      <td>True</td>\n",
       "      <td>...</td>\n",
       "      <td>NaN</td>\n",
       "      <td>NaN</td>\n",
       "      <td>NaN</td>\n",
       "      <td>NaN</td>\n",
       "      <td>NaN</td>\n",
       "      <td>NaN</td>\n",
       "      <td>NaN</td>\n",
       "      <td>NaN</td>\n",
       "      <td>NaN</td>\n",
       "      <td>NaN</td>\n",
       "    </tr>\n",
       "  </tbody>\n",
       "</table>\n",
       "<p>5 rows × 39 columns</p>\n",
       "</div>"
      ],
      "text/plain": [
       "  RestaurantsTableService                                        GoodForMeal  \\\n",
       "0                   False  {'dessert': False, 'latenight': False, 'lunch'...   \n",
       "1                    True  {'dessert': False, 'latenight': False, 'lunch'...   \n",
       "2                   False  {'dessert': False, 'latenight': True, 'lunch':...   \n",
       "3                     NaN                                                NaN   \n",
       "4                    True  {'dessert': False, 'latenight': False, 'lunch'...   \n",
       "\n",
       "    Alcohol Caters  HasTV RestaurantsGoodForGroups NoiseLevel  WiFi  \\\n",
       "0      none  False   True                     True       loud  free   \n",
       "1  full_bar   True   True                     True    average  free   \n",
       "2      none  False  False                     True       loud  paid   \n",
       "3       NaN    NaN    NaN                      NaN        NaN   NaN   \n",
       "4  full_bar   True   True                     True    average  free   \n",
       "\n",
       "  RestaurantsAttire RestaurantsReservations        ...        GoodForDancing  \\\n",
       "0            casual                   False        ...                   NaN   \n",
       "1            casual                   False        ...                   NaN   \n",
       "2            casual                   False        ...                   NaN   \n",
       "3               NaN                   False        ...                   NaN   \n",
       "4            casual                    True        ...                   NaN   \n",
       "\n",
       "  Music  BestNights CoatCheck Smoking ByAppointmentOnly  \\\n",
       "0   NaN         NaN       NaN     NaN               NaN   \n",
       "1   NaN         NaN       NaN     NaN               NaN   \n",
       "2   NaN         NaN       NaN     NaN               NaN   \n",
       "3   NaN         NaN       NaN     NaN               NaN   \n",
       "4   NaN         NaN       NaN     NaN               NaN   \n",
       "\n",
       "  RestaurantsCounterService AgesAllowed AcceptsInsurance HairSpecializesIn  \n",
       "0                       NaN         NaN              NaN               NaN  \n",
       "1                       NaN         NaN              NaN               NaN  \n",
       "2                       NaN         NaN              NaN               NaN  \n",
       "3                       NaN         NaN              NaN               NaN  \n",
       "4                       NaN         NaN              NaN               NaN  \n",
       "\n",
       "[5 rows x 39 columns]"
      ]
     },
     "execution_count": 53,
     "metadata": {},
     "output_type": "execute_result"
    }
   ],
   "source": [
    "# Reveal first few rows\n",
    "attributes_df.head()"
   ]
  },
  {
   "cell_type": "markdown",
   "metadata": {},
   "source": [
    "Since we have too many features in `attibutes` which makes it hard to us to analyze. Threrefore, we will drop some fearures."
   ]
  },
  {
   "cell_type": "code",
   "execution_count": 55,
   "metadata": {},
   "outputs": [
    {
     "data": {
      "text/plain": [
       "dict_keys(['RestaurantsTableService', 'GoodForMeal', 'Alcohol', 'Caters', 'HasTV', 'RestaurantsGoodForGroups', 'NoiseLevel', 'WiFi', 'RestaurantsAttire', 'RestaurantsReservations', 'OutdoorSeating', 'BusinessAcceptsCreditCards', 'RestaurantsPriceRange2', 'BikeParking', 'RestaurantsDelivery', 'Ambience', 'RestaurantsTakeOut', 'GoodForKids', 'BusinessParking', 'WheelchairAccessible'])"
      ]
     },
     "execution_count": 55,
     "metadata": {},
     "output_type": "execute_result"
    }
   ],
   "source": [
    "# Reveal names of features with missing values less than half of the total observation numbers in attributes\n",
    "attributes_df.isna().sum()[attributes_df.isna().sum() < attributes_df.shape[0]/2].to_dict().keys()"
   ]
  },
  {
   "cell_type": "markdown",
   "metadata": {},
   "source": [
    "Remove List: <br>\n",
    "`Ambience`: `RestaurantsAttire` gives similar but better information <br>\n",
    "`BikeParking`: not that important "
   ]
  },
  {
   "cell_type": "code",
   "execution_count": 58,
   "metadata": {},
   "outputs": [
    {
     "data": {
      "text/plain": [
       "dict_keys(['DriveThru', 'BusinessAcceptsBitcoin', 'Open24Hours', 'BYOBCorkage', 'BYOB', 'Corkage', 'DogsAllowed', 'DietaryRestrictions', 'HappyHour', 'GoodForDancing', 'Music', 'BestNights', 'CoatCheck', 'Smoking', 'ByAppointmentOnly', 'RestaurantsCounterService', 'AgesAllowed', 'AcceptsInsurance', 'HairSpecializesIn'])"
      ]
     },
     "execution_count": 58,
     "metadata": {},
     "output_type": "execute_result"
    }
   ],
   "source": [
    "# Reveal names of features with missing values no less than half of the total observation numbers in attributes\n",
    "attributes_df.isna().sum()[attributes_df.isna().sum() >= attributes_df.shape[0]/2].to_dict().keys()"
   ]
  },
  {
   "cell_type": "markdown",
   "metadata": {},
   "source": [
    "Remove List: <br>\n",
    "`BusinessAcceptsBitcoin`: not that important <br>\n",
    "`Open24Hours`: interested but only 2 True values <br>\n",
    "`BYOBCorkage`: not that important <br>\n",
    "`BYOB`: not that important <br>\n",
    "`Corkage`: not that important <br>\n",
    "`DietaryRestrictions`: not that important <br>\n",
    "`GoodForDancing`: too many NA's and not that important <br>\n",
    "`Music`: too many NA's <br>\n",
    "`BestNights`: too many NA's <br>\n",
    "`CoatCheck`: too many NA's and not that important <br>\n",
    "`ByAppointmentOnly`: too many NA's <br>\n",
    "`RestaurantsCounterService`: too many NA's <br>\n",
    "`AgesAllowed`: too many NA's <br>\n",
    "`AcceptsInsurance`: too many NA's and not that important <br>\n",
    "`HairSpecializesIn`: too many NA's and not that important <br>"
   ]
  },
  {
   "cell_type": "code",
   "execution_count": 62,
   "metadata": {},
   "outputs": [],
   "source": [
    "# Drop features\n",
    "attributes_df=attributes_df.drop(['Ambience','BikeParking','BusinessAcceptsBitcoin','Open24Hours','BYOBCorkage',\n",
    "                                 'BYOB','Corkage','DietaryRestrictions','GoodForDancing',\n",
    "                                 'Music','BestNights','CoatCheck','ByAppointmentOnly','RestaurantsCounterService',\n",
    "                                 'AgesAllowed','AcceptsInsurance','HairSpecializesIn'], axis=1)"
   ]
  },
  {
   "cell_type": "code",
   "execution_count": 63,
   "metadata": {},
   "outputs": [
    {
     "data": {
      "text/plain": [
       "Index(['RestaurantsTableService', 'GoodForMeal', 'Alcohol', 'Caters', 'HasTV',\n",
       "       'RestaurantsGoodForGroups', 'NoiseLevel', 'WiFi', 'RestaurantsAttire',\n",
       "       'RestaurantsReservations', 'OutdoorSeating',\n",
       "       'BusinessAcceptsCreditCards', 'RestaurantsPriceRange2',\n",
       "       'RestaurantsDelivery', 'RestaurantsTakeOut', 'GoodForKids', 'DriveThru',\n",
       "       'BusinessParking', 'WheelchairAccessible', 'DogsAllowed', 'HappyHour',\n",
       "       'Smoking'],\n",
       "      dtype='object')"
      ]
     },
     "execution_count": 63,
     "metadata": {},
     "output_type": "execute_result"
    }
   ],
   "source": [
    "# Check column names\n",
    "attributes_df.columns"
   ]
  },
  {
   "cell_type": "code",
   "execution_count": 64,
   "metadata": {},
   "outputs": [],
   "source": [
    "# Define name change in key-value pairs\n",
    "column_name_change = {\n",
    "    'RestaurantsTableService':'tableService',\n",
    "    'GoodForMeal':'openFor',\n",
    "    'Alcohol':'alcohol',\n",
    "    'Caters':'caters',\n",
    "    'HasTV':'hasTV',\n",
    "    'RestaurantsGoodForGroups':'forGroups',\n",
    "    'NoiseLevel':'noiceLevel',\n",
    "    'WiFi':'hasWiFi',\n",
    "    'RestaurantsAttire':'attire',\n",
    "    'RestaurantsReservations':'reservations',\n",
    "    'OutdoorSeating':'outdoorSeating',\n",
    "    'BusinessAcceptsCreditCards':'acceptCreditCard',\n",
    "    'RestaurantsPriceRange2':'priceRange',\n",
    "    'RestaurantsDelivery':'delivery',\n",
    "    'RestaurantsTakeOut':'takeOut',\n",
    "    'GoodForKids':'goodForKids',\n",
    "    'DriveThru':'driveThru',\n",
    "    'BusinessParking':'businessParking',\n",
    "    'WheelchairAccessible': 'wheelchairAccessible',\n",
    "    'DogsAllowed': 'dogsAllowed',\n",
    "    'HappyHour':'happyHour',\n",
    "    'Smoking':'smoking'}"
   ]
  },
  {
   "cell_type": "code",
   "execution_count": 65,
   "metadata": {},
   "outputs": [],
   "source": [
    "# Change names for some variables\n",
    "attributes_df = attributes_df.rename(columns=column_name_change)"
   ]
  },
  {
   "cell_type": "code",
   "execution_count": 66,
   "metadata": {},
   "outputs": [
    {
     "data": {
      "text/html": [
       "<div>\n",
       "<style scoped>\n",
       "    .dataframe tbody tr th:only-of-type {\n",
       "        vertical-align: middle;\n",
       "    }\n",
       "\n",
       "    .dataframe tbody tr th {\n",
       "        vertical-align: top;\n",
       "    }\n",
       "\n",
       "    .dataframe thead th {\n",
       "        text-align: right;\n",
       "    }\n",
       "</style>\n",
       "<table border=\"1\" class=\"dataframe\">\n",
       "  <thead>\n",
       "    <tr style=\"text-align: right;\">\n",
       "      <th></th>\n",
       "      <th>tableService</th>\n",
       "      <th>openFor</th>\n",
       "      <th>alcohol</th>\n",
       "      <th>caters</th>\n",
       "      <th>hasTV</th>\n",
       "      <th>forGroups</th>\n",
       "      <th>noiceLevel</th>\n",
       "      <th>hasWiFi</th>\n",
       "      <th>attire</th>\n",
       "      <th>reservations</th>\n",
       "      <th>...</th>\n",
       "      <th>priceRange</th>\n",
       "      <th>delivery</th>\n",
       "      <th>takeOut</th>\n",
       "      <th>goodForKids</th>\n",
       "      <th>driveThru</th>\n",
       "      <th>businessParking</th>\n",
       "      <th>wheelchairAccessible</th>\n",
       "      <th>dogsAllowed</th>\n",
       "      <th>happyHour</th>\n",
       "      <th>smoking</th>\n",
       "    </tr>\n",
       "  </thead>\n",
       "  <tbody>\n",
       "    <tr>\n",
       "      <th>0</th>\n",
       "      <td>False</td>\n",
       "      <td>{'dessert': False, 'latenight': False, 'lunch'...</td>\n",
       "      <td>none</td>\n",
       "      <td>False</td>\n",
       "      <td>True</td>\n",
       "      <td>True</td>\n",
       "      <td>loud</td>\n",
       "      <td>free</td>\n",
       "      <td>casual</td>\n",
       "      <td>False</td>\n",
       "      <td>...</td>\n",
       "      <td>1.0</td>\n",
       "      <td>False</td>\n",
       "      <td>True</td>\n",
       "      <td>True</td>\n",
       "      <td>True</td>\n",
       "      <td>{'garage': False, 'street': False, 'validated'...</td>\n",
       "      <td>NaN</td>\n",
       "      <td>NaN</td>\n",
       "      <td>NaN</td>\n",
       "      <td>NaN</td>\n",
       "    </tr>\n",
       "    <tr>\n",
       "      <th>1</th>\n",
       "      <td>True</td>\n",
       "      <td>{'dessert': False, 'latenight': False, 'lunch'...</td>\n",
       "      <td>full_bar</td>\n",
       "      <td>True</td>\n",
       "      <td>True</td>\n",
       "      <td>True</td>\n",
       "      <td>average</td>\n",
       "      <td>free</td>\n",
       "      <td>casual</td>\n",
       "      <td>False</td>\n",
       "      <td>...</td>\n",
       "      <td>2.0</td>\n",
       "      <td>True</td>\n",
       "      <td>True</td>\n",
       "      <td>True</td>\n",
       "      <td>False</td>\n",
       "      <td>{'garage': False, 'street': False, 'validated'...</td>\n",
       "      <td>NaN</td>\n",
       "      <td>NaN</td>\n",
       "      <td>NaN</td>\n",
       "      <td>NaN</td>\n",
       "    </tr>\n",
       "    <tr>\n",
       "      <th>2</th>\n",
       "      <td>False</td>\n",
       "      <td>{'dessert': False, 'latenight': True, 'lunch':...</td>\n",
       "      <td>none</td>\n",
       "      <td>False</td>\n",
       "      <td>False</td>\n",
       "      <td>True</td>\n",
       "      <td>loud</td>\n",
       "      <td>paid</td>\n",
       "      <td>casual</td>\n",
       "      <td>False</td>\n",
       "      <td>...</td>\n",
       "      <td>1.0</td>\n",
       "      <td>False</td>\n",
       "      <td>True</td>\n",
       "      <td>True</td>\n",
       "      <td>True</td>\n",
       "      <td>{'garage': False, 'street': False, 'validated'...</td>\n",
       "      <td>True</td>\n",
       "      <td>NaN</td>\n",
       "      <td>NaN</td>\n",
       "      <td>NaN</td>\n",
       "    </tr>\n",
       "    <tr>\n",
       "      <th>3</th>\n",
       "      <td>NaN</td>\n",
       "      <td>NaN</td>\n",
       "      <td>NaN</td>\n",
       "      <td>NaN</td>\n",
       "      <td>NaN</td>\n",
       "      <td>NaN</td>\n",
       "      <td>NaN</td>\n",
       "      <td>NaN</td>\n",
       "      <td>NaN</td>\n",
       "      <td>False</td>\n",
       "      <td>...</td>\n",
       "      <td>NaN</td>\n",
       "      <td>False</td>\n",
       "      <td>NaN</td>\n",
       "      <td>NaN</td>\n",
       "      <td>NaN</td>\n",
       "      <td>NaN</td>\n",
       "      <td>NaN</td>\n",
       "      <td>NaN</td>\n",
       "      <td>NaN</td>\n",
       "      <td>NaN</td>\n",
       "    </tr>\n",
       "    <tr>\n",
       "      <th>4</th>\n",
       "      <td>True</td>\n",
       "      <td>{'dessert': False, 'latenight': False, 'lunch'...</td>\n",
       "      <td>full_bar</td>\n",
       "      <td>True</td>\n",
       "      <td>True</td>\n",
       "      <td>True</td>\n",
       "      <td>average</td>\n",
       "      <td>free</td>\n",
       "      <td>casual</td>\n",
       "      <td>True</td>\n",
       "      <td>...</td>\n",
       "      <td>2.0</td>\n",
       "      <td>True</td>\n",
       "      <td>True</td>\n",
       "      <td>True</td>\n",
       "      <td>NaN</td>\n",
       "      <td>{'garage': False, 'street': False, 'validated'...</td>\n",
       "      <td>True</td>\n",
       "      <td>True</td>\n",
       "      <td>NaN</td>\n",
       "      <td>NaN</td>\n",
       "    </tr>\n",
       "  </tbody>\n",
       "</table>\n",
       "<p>5 rows × 22 columns</p>\n",
       "</div>"
      ],
      "text/plain": [
       "  tableService                                            openFor   alcohol  \\\n",
       "0        False  {'dessert': False, 'latenight': False, 'lunch'...      none   \n",
       "1         True  {'dessert': False, 'latenight': False, 'lunch'...  full_bar   \n",
       "2        False  {'dessert': False, 'latenight': True, 'lunch':...      none   \n",
       "3          NaN                                                NaN       NaN   \n",
       "4         True  {'dessert': False, 'latenight': False, 'lunch'...  full_bar   \n",
       "\n",
       "  caters  hasTV forGroups noiceLevel hasWiFi  attire reservations   ...    \\\n",
       "0  False   True      True       loud    free  casual        False   ...     \n",
       "1   True   True      True    average    free  casual        False   ...     \n",
       "2  False  False      True       loud    paid  casual        False   ...     \n",
       "3    NaN    NaN       NaN        NaN     NaN     NaN        False   ...     \n",
       "4   True   True      True    average    free  casual         True   ...     \n",
       "\n",
       "  priceRange delivery  takeOut goodForKids driveThru  \\\n",
       "0        1.0    False     True        True      True   \n",
       "1        2.0     True     True        True     False   \n",
       "2        1.0    False     True        True      True   \n",
       "3        NaN    False      NaN         NaN       NaN   \n",
       "4        2.0     True     True        True       NaN   \n",
       "\n",
       "                                     businessParking wheelchairAccessible  \\\n",
       "0  {'garage': False, 'street': False, 'validated'...                  NaN   \n",
       "1  {'garage': False, 'street': False, 'validated'...                  NaN   \n",
       "2  {'garage': False, 'street': False, 'validated'...                 True   \n",
       "3                                                NaN                  NaN   \n",
       "4  {'garage': False, 'street': False, 'validated'...                 True   \n",
       "\n",
       "  dogsAllowed happyHour smoking  \n",
       "0         NaN       NaN     NaN  \n",
       "1         NaN       NaN     NaN  \n",
       "2         NaN       NaN     NaN  \n",
       "3         NaN       NaN     NaN  \n",
       "4        True       NaN     NaN  \n",
       "\n",
       "[5 rows x 22 columns]"
      ]
     },
     "execution_count": 66,
     "metadata": {},
     "output_type": "execute_result"
    }
   ],
   "source": [
    "# Reveal first few rows\n",
    "attributes_df.head()"
   ]
  },
  {
   "cell_type": "markdown",
   "metadata": {},
   "source": [
    "### Restaurant categories III - By Time of The Day - Continue\n",
    "We notice that feature `time` have values in dictionary format. we will break the dictionaries and convert them lists. "
   ]
  },
  {
   "cell_type": "code",
   "execution_count": 67,
   "metadata": {},
   "outputs": [
    {
     "name": "stderr",
     "output_type": "stream",
     "text": [
      "C:\\Users\\Syen Yang\\AppData\\Local\\Continuum\\anaconda3\\lib\\site-packages\\pandas\\core\\indexes\\api.py:107: RuntimeWarning: '<' not supported between instances of 'str' and 'int', sort order is undefined for incomparable objects\n",
      "  result = result.union(other)\n",
      "C:\\Users\\Syen Yang\\AppData\\Local\\Continuum\\anaconda3\\lib\\site-packages\\pandas\\core\\indexes\\api.py:69: RuntimeWarning: '<' not supported between instances of 'int' and 'str', sort order is undefined for incomparable objects\n",
      "  index = _union_indexes(indexes, sort=sort)\n",
      "C:\\Users\\Syen Yang\\AppData\\Local\\Continuum\\anaconda3\\lib\\site-packages\\pandas\\core\\indexes\\api.py:107: RuntimeWarning: '<' not supported between instances of 'int' and 'str', sort order is undefined for incomparable objects\n",
      "  result = result.union(other)\n"
     ]
    }
   ],
   "source": [
    "# Convert feature time to a dataframe\n",
    "openFor_df = attributes_df['openFor'].apply(pd.Series)"
   ]
  },
  {
   "cell_type": "code",
   "execution_count": 68,
   "metadata": {},
   "outputs": [
    {
     "data": {
      "text/html": [
       "<div>\n",
       "<style scoped>\n",
       "    .dataframe tbody tr th:only-of-type {\n",
       "        vertical-align: middle;\n",
       "    }\n",
       "\n",
       "    .dataframe tbody tr th {\n",
       "        vertical-align: top;\n",
       "    }\n",
       "\n",
       "    .dataframe thead th {\n",
       "        text-align: right;\n",
       "    }\n",
       "</style>\n",
       "<table border=\"1\" class=\"dataframe\">\n",
       "  <thead>\n",
       "    <tr style=\"text-align: right;\">\n",
       "      <th></th>\n",
       "      <th>dessert</th>\n",
       "      <th>latenight</th>\n",
       "      <th>lunch</th>\n",
       "      <th>dinner</th>\n",
       "      <th>breakfast</th>\n",
       "      <th>brunch</th>\n",
       "      <th>0</th>\n",
       "    </tr>\n",
       "  </thead>\n",
       "  <tbody>\n",
       "    <tr>\n",
       "      <th>0</th>\n",
       "      <td>False</td>\n",
       "      <td>False</td>\n",
       "      <td>True</td>\n",
       "      <td>False</td>\n",
       "      <td>True</td>\n",
       "      <td>False</td>\n",
       "      <td>NaN</td>\n",
       "    </tr>\n",
       "    <tr>\n",
       "      <th>1</th>\n",
       "      <td>False</td>\n",
       "      <td>False</td>\n",
       "      <td>False</td>\n",
       "      <td>True</td>\n",
       "      <td>False</td>\n",
       "      <td>False</td>\n",
       "      <td>NaN</td>\n",
       "    </tr>\n",
       "    <tr>\n",
       "      <th>2</th>\n",
       "      <td>False</td>\n",
       "      <td>True</td>\n",
       "      <td>True</td>\n",
       "      <td>True</td>\n",
       "      <td>True</td>\n",
       "      <td>False</td>\n",
       "      <td>NaN</td>\n",
       "    </tr>\n",
       "    <tr>\n",
       "      <th>3</th>\n",
       "      <td>NaN</td>\n",
       "      <td>NaN</td>\n",
       "      <td>NaN</td>\n",
       "      <td>NaN</td>\n",
       "      <td>NaN</td>\n",
       "      <td>NaN</td>\n",
       "      <td>NaN</td>\n",
       "    </tr>\n",
       "    <tr>\n",
       "      <th>4</th>\n",
       "      <td>False</td>\n",
       "      <td>False</td>\n",
       "      <td>False</td>\n",
       "      <td>True</td>\n",
       "      <td>False</td>\n",
       "      <td>False</td>\n",
       "      <td>NaN</td>\n",
       "    </tr>\n",
       "  </tbody>\n",
       "</table>\n",
       "</div>"
      ],
      "text/plain": [
       "  dessert latenight  lunch dinner breakfast brunch   0\n",
       "0   False     False   True  False      True  False NaN\n",
       "1   False     False  False   True     False  False NaN\n",
       "2   False      True   True   True      True  False NaN\n",
       "3     NaN       NaN    NaN    NaN       NaN    NaN NaN\n",
       "4   False     False  False   True     False  False NaN"
      ]
     },
     "execution_count": 68,
     "metadata": {},
     "output_type": "execute_result"
    }
   ],
   "source": [
    "# Reveal first few rows\n",
    "openFor_df.head()"
   ]
  },
  {
   "cell_type": "code",
   "execution_count": 69,
   "metadata": {},
   "outputs": [],
   "source": [
    "# Drop unnecessary variable\n",
    "openFor_df = openFor_df.drop(0,axis=1)"
   ]
  },
  {
   "cell_type": "code",
   "execution_count": 70,
   "metadata": {},
   "outputs": [],
   "source": [
    "# Change names of features\n",
    "openFor_df = openFor_df.rename(columns={'dessert':'Dessert',\n",
    "                                        'latenight':'Latenight',\n",
    "                                        'lunch':'Lunch',\n",
    "                                        'dinner':'Dinner',\n",
    "                                        'breakfast':'Breakfast',\n",
    "                                        'brunch':'Brunch'})                               "
   ]
  },
  {
   "cell_type": "code",
   "execution_count": 71,
   "metadata": {},
   "outputs": [
    {
     "data": {
      "text/plain": [
       "Dessert      641\n",
       "Latenight    641\n",
       "Lunch        641\n",
       "Dinner       641\n",
       "Breakfast    641\n",
       "Brunch       641\n",
       "dtype: int64"
      ]
     },
     "execution_count": 71,
     "metadata": {},
     "output_type": "execute_result"
    }
   ],
   "source": [
    "# Check NA's\n",
    "openFor_df.isna().sum()"
   ]
  },
  {
   "cell_type": "code",
   "execution_count": 72,
   "metadata": {},
   "outputs": [
    {
     "name": "stderr",
     "output_type": "stream",
     "text": [
      "C:\\Users\\Syen Yang\\AppData\\Local\\Continuum\\anaconda3\\lib\\site-packages\\ipykernel_launcher.py:2: FutureWarning: elementwise comparison failed; returning scalar instead, but in the future will perform elementwise comparison\n",
      "  \n"
     ]
    }
   ],
   "source": [
    "# Fill NA's\n",
    "openFor_df['Dessert'] = openFor_df['Dessert'].fillna(business_df['types'].apply(lambda row: 'Desserts' in row))\n",
    "openFor_df['Latenight'] = openFor_df['Latenight'].fillna(business_df['time_of_day'].apply(lambda row: 'Latenight' in row))\n",
    "openFor_df['Lunch'] = openFor_df['Lunch'].fillna(business_df['time_of_day'].apply(lambda row: 'Lunch' in row))\n",
    "openFor_df['Dinner'] = openFor_df['Dinner'].fillna(business_df['time_of_day'].apply(lambda row: 'Dinner' in row))\n",
    "openFor_df['Breakfast'] = openFor_df['Breakfast'].fillna(business_df['time_of_day'].apply(lambda row: 'Breakfast' in row))\n",
    "openFor_df['Brunch'] = openFor_df['Brunch'].fillna(business_df['time_of_day'].apply(lambda row: 'Brunch' in row))"
   ]
  },
  {
   "cell_type": "code",
   "execution_count": 73,
   "metadata": {},
   "outputs": [],
   "source": [
    "# Create new feature openTime with a series of lists\n",
    "openFor_df['time'] = pd.Series()\n",
    "openFor_df['time'] = openFor_df['time'].apply(lambda x: [])"
   ]
  },
  {
   "cell_type": "code",
   "execution_count": 74,
   "metadata": {},
   "outputs": [],
   "source": [
    "# Convert several features into one\n",
    "openFor_ls = ['Latenight','Lunch','Dinner','Breakfast','Brunch']\n",
    "for i in range(len(openFor_df['time'])):\n",
    "    for j in openFor_ls:\n",
    "        if str(openFor_df[j].iloc[i])=='True':\n",
    "            openFor_df['time'].iloc[i].append(j)"
   ]
  },
  {
   "cell_type": "code",
   "execution_count": 75,
   "metadata": {},
   "outputs": [],
   "source": [
    "# Convert dictionary to dataframe\n",
    "openFor_dict = dict(zip(openFor_ls, [[x in row for row in openFor_df['time']].count(True) for x in openFor_ls]))\n",
    "openFor_plot_df = pd.DataFrame(list(openFor_dict.items()),columns=['openFor','Count']).sort_values('Count',ascending = False).reset_index()\n",
    "openFor_plot_df = openFor_plot_df.drop('index', axis=1);"
   ]
  },
  {
   "cell_type": "code",
   "execution_count": 76,
   "metadata": {},
   "outputs": [
    {
     "data": {
      "image/png": "[encoded data removed]",
      "text/plain": [
       "<Figure size 720x576 with 1 Axes>"
      ]
     },
     "metadata": {},
     "output_type": "display_data"
    }
   ],
   "source": [
    "# Visualize dataframe types\n",
    "plt.figure(figsize=(10,8))\n",
    "sns.set(style='whitegrid')\n",
    "openFor_plot = sns.barplot(x='Count', y='openFor', data=openFor_plot_df,palette='YlOrRd_r')\n",
    "openFor_plot.set_yticklabels(openFor_plot.get_yticklabels(), fontdict={'fontsize':10});"
   ]
  },
  {
   "cell_type": "code",
   "execution_count": 77,
   "metadata": {},
   "outputs": [
    {
     "data": {
      "text/plain": [
       "0                       [Lunch, Breakfast]\n",
       "1                                 [Dinner]\n",
       "2    [Latenight, Lunch, Dinner, Breakfast]\n",
       "3                                       []\n",
       "4                                 [Dinner]\n",
       "5                                 [Dinner]\n",
       "6                          [Lunch, Dinner]\n",
       "7                                       []\n",
       "8                          [Lunch, Dinner]\n",
       "9                          [Lunch, Dinner]\n",
       "Name: time, dtype: object"
      ]
     },
     "execution_count": 77,
     "metadata": {},
     "output_type": "execute_result"
    }
   ],
   "source": [
    "# Reveal first few rows\n",
    "openFor_df['time'].head(10)"
   ]
  },
  {
   "cell_type": "markdown",
   "metadata": {},
   "source": [
    "Now, we will drop our original feature `time` and replace it with new `time` extracted from `attributes`. At the same time, we will also merge feature `dessert` in our business dataset."
   ]
  },
  {
   "cell_type": "code",
   "execution_count": 78,
   "metadata": {},
   "outputs": [],
   "source": [
    "# Drop variables\n",
    "business_df = business_df.drop('time_of_day',axis=1)\n",
    "attributes_df = attributes_df.drop('openFor', axis=1)\n",
    "openFor_df = openFor_df.drop(['Latenight','Lunch','Dinner','Breakfast','Brunch'], axis=1)"
   ]
  },
  {
   "cell_type": "code",
   "execution_count": 79,
   "metadata": {},
   "outputs": [],
   "source": [
    "# Merge to our data\n",
    "business_df = business_df.merge(openFor_df, left_index=True, right_index=True)"
   ]
  },
  {
   "cell_type": "markdown",
   "metadata": {},
   "source": [
    "### Clean NA's for Alcohol"
   ]
  },
  {
   "cell_type": "code",
   "execution_count": 80,
   "metadata": {},
   "outputs": [
    {
     "name": "stdout",
     "output_type": "stream",
     "text": [
      "Number of Missing Values in Alcohol: 948\n"
     ]
    }
   ],
   "source": [
    "# Check number of NA's\n",
    "print('Number of Missing Values in Alcohol:', attributes_df['alcohol'].isna().sum())"
   ]
  },
  {
   "cell_type": "code",
   "execution_count": 81,
   "metadata": {},
   "outputs": [
    {
     "name": "stdout",
     "output_type": "stream",
     "text": [
      "Number of Missing Values in Alcohol: 903\n"
     ]
    },
    {
     "name": "stderr",
     "output_type": "stream",
     "text": [
      "C:\\Users\\Syen Yang\\AppData\\Local\\Continuum\\anaconda3\\lib\\site-packages\\ipykernel_launcher.py:3: FutureWarning: elementwise comparison failed; returning scalar instead, but in the future will perform elementwise comparison\n",
      "  This is separate from the ipykernel package so we can avoid doing imports until\n"
     ]
    }
   ],
   "source": [
    "# Fill NA's\n",
    "attributes_df['alcohol'] = attributes_df['alcohol']\\\n",
    "     .fillna(business_df['types'].apply(lambda row: 'True' if 'Alcohol' in row else np.nan))\n",
    "print('Number of Missing Values in Alcohol:', attributes_df['alcohol'].isna().sum())"
   ]
  },
  {
   "cell_type": "code",
   "execution_count": 82,
   "metadata": {},
   "outputs": [
    {
     "data": {
      "text/plain": [
       "none             3405\n",
       "full_bar         1896\n",
       "beer_and_wine     867\n",
       "True               45\n",
       "Name: alcohol, dtype: int64"
      ]
     },
     "execution_count": 82,
     "metadata": {},
     "output_type": "execute_result"
    }
   ],
   "source": [
    "# Check value counts\n",
    "attributes_df['alcohol'].value_counts()"
   ]
  },
  {
   "cell_type": "markdown",
   "metadata": {},
   "source": [
    "Now we will do some combinations: <br>\n",
    "`none`, `False` -> `False` <br>\n",
    "`full_bar`, `beer_and_wine`, `True` -> `True`."
   ]
  },
  {
   "cell_type": "code",
   "execution_count": 83,
   "metadata": {},
   "outputs": [],
   "source": [
    "# Change value names\n",
    "attributes_df['alcohol'] = attributes_df['alcohol'].str.replace('none', 'False')\n",
    "attributes_df['alcohol'] = attributes_df['alcohol'].str.replace('full_bar', 'True')\n",
    "attributes_df['alcohol'] = attributes_df['alcohol'].str.replace('beer_and_wine', 'True')"
   ]
  },
  {
   "cell_type": "code",
   "execution_count": 84,
   "metadata": {},
   "outputs": [],
   "source": [
    "# Convert values to boolean\n",
    "attributes_df['alcohol'] = attributes_df['alcohol'].apply(lambda x: (x=='True') if not pd.isna(x) else x)"
   ]
  },
  {
   "cell_type": "markdown",
   "metadata": {},
   "source": [
    "### Break Dictionaries for BusinessParking"
   ]
  },
  {
   "cell_type": "code",
   "execution_count": 85,
   "metadata": {},
   "outputs": [],
   "source": [
    "# Break dictionary businessParking\n",
    "businessParking_df = attributes_df['businessParking'].apply(pd.Series)\n",
    "businessParking_df = businessParking_df.drop(0,axis=1)"
   ]
  },
  {
   "cell_type": "code",
   "execution_count": 86,
   "metadata": {},
   "outputs": [],
   "source": [
    "# Merge to attributes_df\n",
    "attributes_df = attributes_df.merge(businessParking_df, left_index=True, right_index=True)"
   ]
  },
  {
   "cell_type": "code",
   "execution_count": 87,
   "metadata": {},
   "outputs": [],
   "source": [
    "# Drop variable\n",
    "attributes_df = attributes_df.drop('businessParking', axis=1)"
   ]
  },
  {
   "cell_type": "code",
   "execution_count": 88,
   "metadata": {},
   "outputs": [
    {
     "data": {
      "text/plain": [
       "(7116, 25)"
      ]
     },
     "execution_count": 88,
     "metadata": {},
     "output_type": "execute_result"
    }
   ],
   "source": [
    "# Check dimensions\n",
    "attributes_df.shape"
   ]
  },
  {
   "cell_type": "markdown",
   "metadata": {},
   "source": [
    "## Final Merge And Output"
   ]
  },
  {
   "cell_type": "code",
   "execution_count": 89,
   "metadata": {},
   "outputs": [],
   "source": [
    "#Merge arrtributes back to business\n",
    "business_df = business_df.merge(attributes_df, left_index=True, right_index=True)"
   ]
  },
  {
   "cell_type": "code",
   "execution_count": 90,
   "metadata": {},
   "outputs": [],
   "source": [
    "# Drop orginal arrtributes in business\n",
    "business_df = business_df.drop('attributes', axis=1)"
   ]
  },
  {
   "cell_type": "code",
   "execution_count": 91,
   "metadata": {},
   "outputs": [
    {
     "data": {
      "text/plain": [
       "(7116, 45)"
      ]
     },
     "execution_count": 91,
     "metadata": {},
     "output_type": "execute_result"
    }
   ],
   "source": [
    "# Check dimensions\n",
    "business_df.shape"
   ]
  },
  {
   "cell_type": "code",
   "execution_count": 92,
   "metadata": {},
   "outputs": [
    {
     "data": {
      "text/plain": [
       "Index(['business_id', 'categories', 'city', 'latitude', 'longitude', 'name',\n",
       "       'postal_code', 'review_count', 'stars', 'state', 'isBankrupt', 'county',\n",
       "       'isChain', 'density', 'cluster', 'neighborhood', 'ethnics', 'types',\n",
       "       'Dessert', 'time', 'tableService', 'alcohol', 'caters', 'hasTV',\n",
       "       'forGroups', 'noiceLevel', 'hasWiFi', 'attire', 'reservations',\n",
       "       'outdoorSeating', 'acceptCreditCard', 'priceRange', 'delivery',\n",
       "       'takeOut', 'goodForKids', 'driveThru', 'wheelchairAccessible',\n",
       "       'dogsAllowed', 'happyHour', 'smoking', 'garage', 'street', 'validated',\n",
       "       'lot', 'valet'],\n",
       "      dtype='object')"
      ]
     },
     "execution_count": 92,
     "metadata": {},
     "output_type": "execute_result"
    }
   ],
   "source": [
    "#Print all column names\n",
    "business_df.columns"
   ]
  },
  {
   "cell_type": "markdown",
   "metadata": {},
   "source": [
    "## 3.2 Extract Review Features"
   ]
  },
  {
   "cell_type": "code",
   "execution_count": 94,
   "metadata": {},
   "outputs": [
    {
     "data": {
      "text/plain": [
       "(781473, 8)"
      ]
     },
     "execution_count": 94,
     "metadata": {},
     "output_type": "execute_result"
    }
   ],
   "source": [
    "# Load review data\n",
    "review = pd.read_csv('clean_review.csv')\n",
    "review.shape"
   ]
  },
  {
   "cell_type": "code",
   "execution_count": 95,
   "metadata": {},
   "outputs": [
    {
     "data": {
      "text/html": [
       "<div>\n",
       "<style scoped>\n",
       "    .dataframe tbody tr th:only-of-type {\n",
       "        vertical-align: middle;\n",
       "    }\n",
       "\n",
       "    .dataframe tbody tr th {\n",
       "        vertical-align: top;\n",
       "    }\n",
       "\n",
       "    .dataframe thead th {\n",
       "        text-align: right;\n",
       "    }\n",
       "</style>\n",
       "<table border=\"1\" class=\"dataframe\">\n",
       "  <thead>\n",
       "    <tr style=\"text-align: right;\">\n",
       "      <th></th>\n",
       "      <th>business_id</th>\n",
       "      <th>cool</th>\n",
       "      <th>date</th>\n",
       "      <th>funny</th>\n",
       "      <th>stars</th>\n",
       "      <th>useful</th>\n",
       "      <th>review_length</th>\n",
       "      <th>clean_text</th>\n",
       "    </tr>\n",
       "  </thead>\n",
       "  <tbody>\n",
       "    <tr>\n",
       "      <th>0</th>\n",
       "      <td>JlNeaOymdVbE6_bubqjohg</td>\n",
       "      <td>0</td>\n",
       "      <td>2014-08-09</td>\n",
       "      <td>0</td>\n",
       "      <td>1</td>\n",
       "      <td>3</td>\n",
       "      <td>81</td>\n",
       "      <td>chevo chandler delicious ahwatukee different r...</td>\n",
       "    </tr>\n",
       "    <tr>\n",
       "      <th>1</th>\n",
       "      <td>0Rni7ocMC_Lg2UH0lDeKMQ</td>\n",
       "      <td>0</td>\n",
       "      <td>2014-08-09</td>\n",
       "      <td>0</td>\n",
       "      <td>1</td>\n",
       "      <td>6</td>\n",
       "      <td>21</td>\n",
       "      <td>place dirty grimy twice service horrible</td>\n",
       "    </tr>\n",
       "    <tr>\n",
       "      <th>2</th>\n",
       "      <td>S-oLPRdhlyL5HAknBKTUcQ</td>\n",
       "      <td>0</td>\n",
       "      <td>2017-11-30</td>\n",
       "      <td>0</td>\n",
       "      <td>4</td>\n",
       "      <td>0</td>\n",
       "      <td>25</td>\n",
       "      <td>holy portion size lot bang buck service super ...</td>\n",
       "    </tr>\n",
       "    <tr>\n",
       "      <th>3</th>\n",
       "      <td>iIjVO7cLD1UEmIO7G05Ujw</td>\n",
       "      <td>0</td>\n",
       "      <td>2016-06-11</td>\n",
       "      <td>0</td>\n",
       "      <td>4</td>\n",
       "      <td>0</td>\n",
       "      <td>60</td>\n",
       "      <td>flavor actually pretty good eat menudo tortill...</td>\n",
       "    </tr>\n",
       "    <tr>\n",
       "      <th>4</th>\n",
       "      <td>1JF9TbJ2d5hH8xsQvvklHg</td>\n",
       "      <td>0</td>\n",
       "      <td>2016-06-18</td>\n",
       "      <td>0</td>\n",
       "      <td>5</td>\n",
       "      <td>1</td>\n",
       "      <td>94</td>\n",
       "      <td>place great flavor thing ask bring chip salsa ...</td>\n",
       "    </tr>\n",
       "  </tbody>\n",
       "</table>\n",
       "</div>"
      ],
      "text/plain": [
       "              business_id  cool        date  funny  stars  useful  \\\n",
       "0  JlNeaOymdVbE6_bubqjohg     0  2014-08-09      0      1       3   \n",
       "1  0Rni7ocMC_Lg2UH0lDeKMQ     0  2014-08-09      0      1       6   \n",
       "2  S-oLPRdhlyL5HAknBKTUcQ     0  2017-11-30      0      4       0   \n",
       "3  iIjVO7cLD1UEmIO7G05Ujw     0  2016-06-11      0      4       0   \n",
       "4  1JF9TbJ2d5hH8xsQvvklHg     0  2016-06-18      0      5       1   \n",
       "\n",
       "   review_length                                         clean_text  \n",
       "0             81  chevo chandler delicious ahwatukee different r...  \n",
       "1             21           place dirty grimy twice service horrible  \n",
       "2             25  holy portion size lot bang buck service super ...  \n",
       "3             60  flavor actually pretty good eat menudo tortill...  \n",
       "4             94  place great flavor thing ask bring chip salsa ...  "
      ]
     },
     "execution_count": 95,
     "metadata": {},
     "output_type": "execute_result"
    }
   ],
   "source": [
    "# Look at the first few rows of data\n",
    "review.head()"
   ]
  },
  {
   "cell_type": "code",
   "execution_count": 96,
   "metadata": {},
   "outputs": [],
   "source": [
    "# Make a copy of the original data\n",
    "review_df = review.copy()"
   ]
  },
  {
   "cell_type": "markdown",
   "metadata": {},
   "source": [
    "## 3.2.1 Create Bag-of-Words Model\n",
    "\n",
    "We utilize `gensim` library to create bag-of-word models.\n",
    "\n",
    "The processing steps are shown below:\n",
    "\n",
    "1. Create corpus from review data.\n",
    "\n",
    "2. Generate bigrams\n",
    "\n",
    "3. Create corpus dictionary \n",
    "\n",
    "4. Create term-document matrix\n",
    "\n",
    "5. Compute TF-IDF scores"
   ]
  },
  {
   "cell_type": "code",
   "execution_count": 97,
   "metadata": {},
   "outputs": [],
   "source": [
    "# Convert string to list\n",
    "corpus = review_df['clean_text'].apply(lambda x: simple_preprocess(str(x)))"
   ]
  },
  {
   "cell_type": "code",
   "execution_count": 98,
   "metadata": {},
   "outputs": [],
   "source": [
    "# Creates bigrams\n",
    "phrases = Phrases(corpus, min_count=1, threshold=1)\n",
    "corpus = [doc + [bigram for bigram in phrases[doc] if '_' in bigram] for doc in corpus]"
   ]
  },
  {
   "cell_type": "code",
   "execution_count": 99,
   "metadata": {},
   "outputs": [],
   "source": [
    "# Create a word dictionary\n",
    "dictionary = Dictionary(corpus)\n",
    "dictionary.filter_extremes()\n",
    "dictionary.compactify()"
   ]
  },
  {
   "cell_type": "code",
   "execution_count": 100,
   "metadata": {},
   "outputs": [],
   "source": [
    "# Create bad-of-word corpus\n",
    "bow_corpus = [dictionary.doc2bow(doc) for doc in corpus]"
   ]
  },
  {
   "cell_type": "code",
   "execution_count": 101,
   "metadata": {},
   "outputs": [],
   "source": [
    "# Compute tf-idf\n",
    "tfidf = TfidfModel(bow_corpus)\n",
    "tfidf_corpus = tfidf[bow_corpus]"
   ]
  },
  {
   "cell_type": "markdown",
   "metadata": {},
   "source": [
    "## 3.2.2 Topic Modeling"
   ]
  },
  {
   "cell_type": "code",
   "execution_count": 102,
   "metadata": {},
   "outputs": [],
   "source": [
    "# Compute coherence scores \n",
    "def get_coherence_score(corpus, dictionary, texts, start=2, end=3, step=1):\n",
    "    num_topic = []\n",
    "    model = []\n",
    "    coherence = []\n",
    "    for i in range(start, end+step, step):\n",
    "        # Create lda models\n",
    "        lda = LdaModel(corpus=corpus, num_topics=i, id2word=dictionary, random_state=314)\n",
    "        \n",
    "        # Create coherence model\n",
    "        cm = CoherenceModel(model=lda, corpus=corpus, texts=texts, dictionary=dictionary, coherence='c_v')\n",
    "        \n",
    "        # Save the models and scores\n",
    "        num_topic.append(i)\n",
    "        model.append(lda)\n",
    "        coherence.append(cm.get_coherence())\n",
    "        \n",
    "    return num_topic, model, coherence"
   ]
  },
  {
   "cell_type": "code",
   "execution_count": 103,
   "metadata": {},
   "outputs": [
    {
     "name": "stdout",
     "output_type": "stream",
     "text": [
      "Wall time: 2h 55min 46s\n"
     ]
    }
   ],
   "source": [
    "%%time\n",
    "# Try different values of k topics\n",
    "## \n",
    "num_topic, model, coherence = get_coherence_score(tfidf_corpus, dictionary, corpus, start=2, end=20, step=1)"
   ]
  },
  {
   "cell_type": "code",
   "execution_count": 104,
   "metadata": {},
   "outputs": [
    {
     "data": {
      "image/png": "[encoded data removed]",
      "text/plain": [
       "<Figure size 648x432 with 1 Axes>"
      ]
     },
     "metadata": {},
     "output_type": "display_data"
    }
   ],
   "source": [
    "# Plot the coherence score for each number of topics\n",
    "plt.figure(figsize=(9,6))\n",
    "plt.plot(num_topic, coherence)\n",
    "plt.xlabel('Number of Topics')\n",
    "plt.ylabel('Score')\n",
    "plt.title('Choosing Optimal Model with Coherence Score');"
   ]
  },
  {
   "cell_type": "code",
   "execution_count": 105,
   "metadata": {},
   "outputs": [
    {
     "name": "stdout",
     "output_type": "stream",
     "text": [
      "Best number of topic: 6\n",
      "Best coherence score: 0.5212264073764619\n"
     ]
    }
   ],
   "source": [
    "# Get the best lda model with the ghiest coherence score\n",
    "best_lda = model[coherence.index(max(coherence))]\n",
    "print('Best number of topic:', best_lda.num_topics)\n",
    "print('Best coherence score:', max(coherence))"
   ]
  },
  {
   "cell_type": "code",
   "execution_count": 106,
   "metadata": {},
   "outputs": [
    {
     "data": {
      "text/plain": [
       "[(0,\n",
       "  '0.017*\"coffee\" + 0.010*\"cream\" + 0.010*\"donut\" + 0.010*\"gluten\" + 0.010*\"breakfast\" + 0.009*\"ice\" + 0.008*\"pancake\" + 0.008*\"gluten_free\" + 0.008*\"ice_cream\" + 0.008*\"chocolate\" + 0.007*\"free\" + 0.006*\"crepe\" + 0.006*\"cookie\" + 0.005*\"smoothie\" + 0.005*\"toast\" + 0.005*\"vegan\" + 0.004*\"latte\" + 0.004*\"shop\" + 0.004*\"french\" + 0.004*\"pastry\"'),\n",
       " (1,\n",
       "  '0.005*\"great\" + 0.004*\"good\" + 0.004*\"place\" + 0.004*\"pizza\" + 0.004*\"love\" + 0.003*\"beer\" + 0.003*\"food\" + 0.003*\"try\" + 0.003*\"nice\" + 0.003*\"menu\" + 0.003*\"bar\" + 0.003*\"amazing\" + 0.003*\"delicious\" + 0.003*\"salad\" + 0.003*\"service\" + 0.003*\"happy\" + 0.003*\"drink\" + 0.003*\"friendly\" + 0.003*\"atmosphere\" + 0.003*\"come\"'),\n",
       " (2,\n",
       "  '0.010*\"great\" + 0.008*\"love\" + 0.008*\"food\" + 0.008*\"good\" + 0.008*\"place\" + 0.007*\"service\" + 0.007*\"friendly\" + 0.007*\"amazing\" + 0.006*\"delicious\" + 0.006*\"staff\" + 0.006*\"price\" + 0.006*\"recommend\" + 0.005*\"definitely\" + 0.005*\"chicken\" + 0.005*\"fresh\" + 0.005*\"try\" + 0.005*\"lunch\" + 0.005*\"favorite\" + 0.005*\"time\" + 0.005*\"awesome\"'),\n",
       " (3,\n",
       "  '0.006*\"order\" + 0.005*\"time\" + 0.005*\"wait\" + 0.004*\"minute\" + 0.004*\"ask\" + 0.004*\"food\" + 0.004*\"go\" + 0.004*\"come\" + 0.004*\"take\" + 0.004*\"service\" + 0.004*\"bad\" + 0.004*\"get\" + 0.004*\"table\" + 0.003*\"say\" + 0.003*\"tell\" + 0.003*\"customer\" + 0.003*\"place\" + 0.003*\"server\" + 0.003*\"location\" + 0.003*\"want\"'),\n",
       " (4,\n",
       "  '0.030*\"taco\" + 0.021*\"mexican\" + 0.020*\"salsa\" + 0.019*\"burrito\" + 0.013*\"mexican_food\" + 0.012*\"bean\" + 0.011*\"chip\" + 0.009*\"tortilla\" + 0.009*\"asada\" + 0.009*\"carne\" + 0.008*\"enchilada\" + 0.007*\"chip_salsa\" + 0.006*\"carne_asada\" + 0.006*\"guacamole\" + 0.005*\"margarita\" + 0.005*\"fish_taco\" + 0.005*\"green\" + 0.005*\"rice\" + 0.005*\"quesadilla\" + 0.004*\"street\"'),\n",
       " (5,\n",
       "  '0.006*\"fry\" + 0.006*\"chicken\" + 0.006*\"sandwich\" + 0.006*\"sauce\" + 0.006*\"cheese\" + 0.005*\"egg\" + 0.005*\"bbq\" + 0.005*\"potato\" + 0.005*\"meat\" + 0.005*\"bacon\" + 0.004*\"breakfast\" + 0.004*\"bread\" + 0.004*\"pork\" + 0.004*\"bagel\" + 0.004*\"thai\" + 0.004*\"brisket\" + 0.003*\"taste\" + 0.003*\"beef\" + 0.003*\"good\" + 0.003*\"sausage\"')]"
      ]
     },
     "execution_count": 106,
     "metadata": {},
     "output_type": "execute_result"
    }
   ],
   "source": [
    "# Show the components of each topic\n",
    "best_lda.show_topics(num_words=20)"
   ]
  },
  {
   "cell_type": "code",
   "execution_count": 107,
   "metadata": {},
   "outputs": [],
   "source": [
    "# Add topic label manually\n",
    "topic_label = ['Coffee/Dessert', \n",
    "               'Food/Atmosphere', \n",
    "               'Food/Service', \n",
    "               'Wait Time',\n",
    "               'Mexican Food',\n",
    "               'Breakfast']\n",
    "topic_dict = {i:topic_label[i] for i in range(best_lda.num_topics)}"
   ]
  },
  {
   "cell_type": "code",
   "execution_count": 108,
   "metadata": {},
   "outputs": [],
   "source": [
    "def find_dominant_topic(x):\n",
    "    topic_percent = [j for i, j in x]\n",
    "    return topic_percent.index(max(topic_percent))"
   ]
  },
  {
   "cell_type": "code",
   "execution_count": 109,
   "metadata": {},
   "outputs": [
    {
     "data": {
      "text/html": [
       "<div>\n",
       "<style scoped>\n",
       "    .dataframe tbody tr th:only-of-type {\n",
       "        vertical-align: middle;\n",
       "    }\n",
       "\n",
       "    .dataframe tbody tr th {\n",
       "        vertical-align: top;\n",
       "    }\n",
       "\n",
       "    .dataframe thead th {\n",
       "        text-align: right;\n",
       "    }\n",
       "</style>\n",
       "<table border=\"1\" class=\"dataframe\">\n",
       "  <thead>\n",
       "    <tr style=\"text-align: right;\">\n",
       "      <th></th>\n",
       "      <th>Coffee/Dessert</th>\n",
       "      <th>Food/Atmosphere</th>\n",
       "      <th>Food/Service</th>\n",
       "      <th>Wait Time</th>\n",
       "      <th>Mexican Food</th>\n",
       "      <th>Breakfast</th>\n",
       "    </tr>\n",
       "  </thead>\n",
       "  <tbody>\n",
       "    <tr>\n",
       "      <th>0</th>\n",
       "      <td>0</td>\n",
       "      <td>1</td>\n",
       "      <td>0</td>\n",
       "      <td>0</td>\n",
       "      <td>0</td>\n",
       "      <td>0</td>\n",
       "    </tr>\n",
       "    <tr>\n",
       "      <th>1</th>\n",
       "      <td>0</td>\n",
       "      <td>0</td>\n",
       "      <td>0</td>\n",
       "      <td>1</td>\n",
       "      <td>0</td>\n",
       "      <td>0</td>\n",
       "    </tr>\n",
       "    <tr>\n",
       "      <th>2</th>\n",
       "      <td>0</td>\n",
       "      <td>0</td>\n",
       "      <td>1</td>\n",
       "      <td>0</td>\n",
       "      <td>0</td>\n",
       "      <td>0</td>\n",
       "    </tr>\n",
       "    <tr>\n",
       "      <th>3</th>\n",
       "      <td>0</td>\n",
       "      <td>0</td>\n",
       "      <td>0</td>\n",
       "      <td>1</td>\n",
       "      <td>0</td>\n",
       "      <td>0</td>\n",
       "    </tr>\n",
       "    <tr>\n",
       "      <th>4</th>\n",
       "      <td>0</td>\n",
       "      <td>0</td>\n",
       "      <td>0</td>\n",
       "      <td>1</td>\n",
       "      <td>0</td>\n",
       "      <td>0</td>\n",
       "    </tr>\n",
       "  </tbody>\n",
       "</table>\n",
       "</div>"
      ],
      "text/plain": [
       "   Coffee/Dessert  Food/Atmosphere  Food/Service  Wait Time  Mexican Food  \\\n",
       "0               0                1             0          0             0   \n",
       "1               0                0             0          1             0   \n",
       "2               0                0             1          0             0   \n",
       "3               0                0             0          1             0   \n",
       "4               0                0             0          1             0   \n",
       "\n",
       "   Breakfast  \n",
       "0          0  \n",
       "1          0  \n",
       "2          0  \n",
       "3          0  \n",
       "4          0  "
      ]
     },
     "execution_count": 109,
     "metadata": {},
     "output_type": "execute_result"
    }
   ],
   "source": [
    "# Compute the dominant topic for each review\n",
    "dominant_topic = pd.get_dummies([find_dominant_topic(x) for x in best_lda[tfidf_corpus]]).rename(columns=topic_dict)\n",
    "dominant_topic.head()"
   ]
  },
  {
   "cell_type": "code",
   "execution_count": 110,
   "metadata": {},
   "outputs": [
    {
     "data": {
      "text/plain": [
       "(781473, 14)"
      ]
     },
     "execution_count": 110,
     "metadata": {},
     "output_type": "execute_result"
    }
   ],
   "source": [
    "review_df = review_df.merge(dominant_topic, left_index=True, right_index=True)\n",
    "review_df.shape"
   ]
  },
  {
   "cell_type": "code",
   "execution_count": 111,
   "metadata": {},
   "outputs": [
    {
     "data": {
      "text/html": [
       "<div>\n",
       "<style scoped>\n",
       "    .dataframe tbody tr th:only-of-type {\n",
       "        vertical-align: middle;\n",
       "    }\n",
       "\n",
       "    .dataframe tbody tr th {\n",
       "        vertical-align: top;\n",
       "    }\n",
       "\n",
       "    .dataframe thead th {\n",
       "        text-align: right;\n",
       "    }\n",
       "</style>\n",
       "<table border=\"1\" class=\"dataframe\">\n",
       "  <thead>\n",
       "    <tr style=\"text-align: right;\">\n",
       "      <th></th>\n",
       "      <th>business_id</th>\n",
       "      <th>cool</th>\n",
       "      <th>date</th>\n",
       "      <th>funny</th>\n",
       "      <th>stars</th>\n",
       "      <th>useful</th>\n",
       "      <th>review_length</th>\n",
       "      <th>clean_text</th>\n",
       "      <th>Coffee/Dessert</th>\n",
       "      <th>Food/Atmosphere</th>\n",
       "      <th>Food/Service</th>\n",
       "      <th>Wait Time</th>\n",
       "      <th>Mexican Food</th>\n",
       "      <th>Breakfast</th>\n",
       "    </tr>\n",
       "  </thead>\n",
       "  <tbody>\n",
       "    <tr>\n",
       "      <th>0</th>\n",
       "      <td>JlNeaOymdVbE6_bubqjohg</td>\n",
       "      <td>0</td>\n",
       "      <td>2014-08-09</td>\n",
       "      <td>0</td>\n",
       "      <td>1</td>\n",
       "      <td>3</td>\n",
       "      <td>81</td>\n",
       "      <td>chevo chandler delicious ahwatukee different r...</td>\n",
       "      <td>0</td>\n",
       "      <td>1</td>\n",
       "      <td>0</td>\n",
       "      <td>0</td>\n",
       "      <td>0</td>\n",
       "      <td>0</td>\n",
       "    </tr>\n",
       "    <tr>\n",
       "      <th>1</th>\n",
       "      <td>0Rni7ocMC_Lg2UH0lDeKMQ</td>\n",
       "      <td>0</td>\n",
       "      <td>2014-08-09</td>\n",
       "      <td>0</td>\n",
       "      <td>1</td>\n",
       "      <td>6</td>\n",
       "      <td>21</td>\n",
       "      <td>place dirty grimy twice service horrible</td>\n",
       "      <td>0</td>\n",
       "      <td>0</td>\n",
       "      <td>0</td>\n",
       "      <td>1</td>\n",
       "      <td>0</td>\n",
       "      <td>0</td>\n",
       "    </tr>\n",
       "    <tr>\n",
       "      <th>2</th>\n",
       "      <td>S-oLPRdhlyL5HAknBKTUcQ</td>\n",
       "      <td>0</td>\n",
       "      <td>2017-11-30</td>\n",
       "      <td>0</td>\n",
       "      <td>4</td>\n",
       "      <td>0</td>\n",
       "      <td>25</td>\n",
       "      <td>holy portion size lot bang buck service super ...</td>\n",
       "      <td>0</td>\n",
       "      <td>0</td>\n",
       "      <td>1</td>\n",
       "      <td>0</td>\n",
       "      <td>0</td>\n",
       "      <td>0</td>\n",
       "    </tr>\n",
       "    <tr>\n",
       "      <th>3</th>\n",
       "      <td>iIjVO7cLD1UEmIO7G05Ujw</td>\n",
       "      <td>0</td>\n",
       "      <td>2016-06-11</td>\n",
       "      <td>0</td>\n",
       "      <td>4</td>\n",
       "      <td>0</td>\n",
       "      <td>60</td>\n",
       "      <td>flavor actually pretty good eat menudo tortill...</td>\n",
       "      <td>0</td>\n",
       "      <td>0</td>\n",
       "      <td>0</td>\n",
       "      <td>1</td>\n",
       "      <td>0</td>\n",
       "      <td>0</td>\n",
       "    </tr>\n",
       "    <tr>\n",
       "      <th>4</th>\n",
       "      <td>1JF9TbJ2d5hH8xsQvvklHg</td>\n",
       "      <td>0</td>\n",
       "      <td>2016-06-18</td>\n",
       "      <td>0</td>\n",
       "      <td>5</td>\n",
       "      <td>1</td>\n",
       "      <td>94</td>\n",
       "      <td>place great flavor thing ask bring chip salsa ...</td>\n",
       "      <td>0</td>\n",
       "      <td>0</td>\n",
       "      <td>0</td>\n",
       "      <td>1</td>\n",
       "      <td>0</td>\n",
       "      <td>0</td>\n",
       "    </tr>\n",
       "  </tbody>\n",
       "</table>\n",
       "</div>"
      ],
      "text/plain": [
       "              business_id  cool        date  funny  stars  useful  \\\n",
       "0  JlNeaOymdVbE6_bubqjohg     0  2014-08-09      0      1       3   \n",
       "1  0Rni7ocMC_Lg2UH0lDeKMQ     0  2014-08-09      0      1       6   \n",
       "2  S-oLPRdhlyL5HAknBKTUcQ     0  2017-11-30      0      4       0   \n",
       "3  iIjVO7cLD1UEmIO7G05Ujw     0  2016-06-11      0      4       0   \n",
       "4  1JF9TbJ2d5hH8xsQvvklHg     0  2016-06-18      0      5       1   \n",
       "\n",
       "   review_length                                         clean_text  \\\n",
       "0             81  chevo chandler delicious ahwatukee different r...   \n",
       "1             21           place dirty grimy twice service horrible   \n",
       "2             25  holy portion size lot bang buck service super ...   \n",
       "3             60  flavor actually pretty good eat menudo tortill...   \n",
       "4             94  place great flavor thing ask bring chip salsa ...   \n",
       "\n",
       "   Coffee/Dessert  Food/Atmosphere  Food/Service  Wait Time  Mexican Food  \\\n",
       "0               0                1             0          0             0   \n",
       "1               0                0             0          1             0   \n",
       "2               0                0             1          0             0   \n",
       "3               0                0             0          1             0   \n",
       "4               0                0             0          1             0   \n",
       "\n",
       "   Breakfast  \n",
       "0          0  \n",
       "1          0  \n",
       "2          0  \n",
       "3          0  \n",
       "4          0  "
      ]
     },
     "execution_count": 111,
     "metadata": {},
     "output_type": "execute_result"
    }
   ],
   "source": [
    "review_df.head()"
   ]
  },
  {
   "cell_type": "markdown",
   "metadata": {},
   "source": [
    "## 3.2.3 Sentiment Score"
   ]
  },
  {
   "cell_type": "code",
   "execution_count": 112,
   "metadata": {},
   "outputs": [],
   "source": [
    "# Compute sentiment score\n",
    "review_df['polarity'] = review_df['clean_text'].apply(lambda sent: TextBlob(str(sent)).sentiment.polarity)\n",
    "review_df['subjectivity'] = review_df['clean_text'].apply(lambda sent: TextBlob(str(sent)).sentiment.subjectivity)"
   ]
  },
  {
   "cell_type": "markdown",
   "metadata": {},
   "source": [
    "## 3.2.4 Review Count"
   ]
  },
  {
   "cell_type": "code",
   "execution_count": 113,
   "metadata": {},
   "outputs": [],
   "source": [
    "# Caclulate the number of reviews in the dataset\n",
    "review_count = review_df.groupby('business_id').count().iloc[:,0].to_dict()"
   ]
  },
  {
   "cell_type": "markdown",
   "metadata": {},
   "source": [
    "## 3.2.5 Restaurant Age"
   ]
  },
  {
   "cell_type": "code",
   "execution_count": 114,
   "metadata": {},
   "outputs": [],
   "source": [
    "# Convert string date to datetime format\n",
    "review_df['date'] = review_df['date'].apply(lambda x: pd.to_datetime(x))"
   ]
  },
  {
   "cell_type": "code",
   "execution_count": 115,
   "metadata": {},
   "outputs": [],
   "source": [
    "# Create dictionary of estimated restaurant age\n",
    "restaurant_age = review_df[['business_id', 'date']].groupby('business_id') \\\n",
    "                                                    .agg(lambda x: pd.datetime(2017, 12, 31) - min(x))['date'] \\\n",
    "                                                    .apply(lambda x: x.days / 365) \\\n",
    "                                                    .to_dict()"
   ]
  },
  {
   "cell_type": "markdown",
   "metadata": {},
   "source": [
    "## 3.2.6 Combine Review Features"
   ]
  },
  {
   "cell_type": "code",
   "execution_count": 116,
   "metadata": {},
   "outputs": [],
   "source": [
    "# Take the mean of numeric features group by business id\n",
    "review_df = review_df.groupby('business_id').mean().reset_index()"
   ]
  },
  {
   "cell_type": "code",
   "execution_count": 117,
   "metadata": {},
   "outputs": [
    {
     "data": {
      "text/plain": [
       "(7183, 16)"
      ]
     },
     "execution_count": 117,
     "metadata": {},
     "output_type": "execute_result"
    }
   ],
   "source": [
    "# Create aggregate variables\n",
    "review_df['restaurant_age'] = review_df['business_id'].apply(lambda row: restaurant_age[row])\n",
    "review_df['review_count'] = review_df['business_id'].apply(lambda row: restaurant_age[row])\n",
    "review_df.shape"
   ]
  },
  {
   "cell_type": "code",
   "execution_count": 118,
   "metadata": {},
   "outputs": [
    {
     "data": {
      "text/html": [
       "<div>\n",
       "<style scoped>\n",
       "    .dataframe tbody tr th:only-of-type {\n",
       "        vertical-align: middle;\n",
       "    }\n",
       "\n",
       "    .dataframe tbody tr th {\n",
       "        vertical-align: top;\n",
       "    }\n",
       "\n",
       "    .dataframe thead th {\n",
       "        text-align: right;\n",
       "    }\n",
       "</style>\n",
       "<table border=\"1\" class=\"dataframe\">\n",
       "  <thead>\n",
       "    <tr style=\"text-align: right;\">\n",
       "      <th></th>\n",
       "      <th>business_id</th>\n",
       "      <th>cool</th>\n",
       "      <th>funny</th>\n",
       "      <th>stars</th>\n",
       "      <th>useful</th>\n",
       "      <th>review_length</th>\n",
       "      <th>Coffee/Dessert</th>\n",
       "      <th>Food/Atmosphere</th>\n",
       "      <th>Food/Service</th>\n",
       "      <th>Wait Time</th>\n",
       "      <th>Mexican Food</th>\n",
       "      <th>Breakfast</th>\n",
       "      <th>polarity</th>\n",
       "      <th>subjectivity</th>\n",
       "      <th>restaurant_age</th>\n",
       "      <th>review_count</th>\n",
       "    </tr>\n",
       "  </thead>\n",
       "  <tbody>\n",
       "    <tr>\n",
       "      <th>0</th>\n",
       "      <td>-01XupAWZEXbdNbxNg5mEg</td>\n",
       "      <td>0.818182</td>\n",
       "      <td>0.714286</td>\n",
       "      <td>2.857143</td>\n",
       "      <td>1.610390</td>\n",
       "      <td>120.259740</td>\n",
       "      <td>0.00000</td>\n",
       "      <td>0.428571</td>\n",
       "      <td>0.064935</td>\n",
       "      <td>0.480519</td>\n",
       "      <td>0.00000</td>\n",
       "      <td>0.025974</td>\n",
       "      <td>0.184144</td>\n",
       "      <td>0.613380</td>\n",
       "      <td>8.257534</td>\n",
       "      <td>8.257534</td>\n",
       "    </tr>\n",
       "    <tr>\n",
       "      <th>1</th>\n",
       "      <td>-092wE7j5HZOogMLAh40zA</td>\n",
       "      <td>0.265060</td>\n",
       "      <td>0.216867</td>\n",
       "      <td>3.349398</td>\n",
       "      <td>1.397590</td>\n",
       "      <td>106.867470</td>\n",
       "      <td>0.00000</td>\n",
       "      <td>0.048193</td>\n",
       "      <td>0.566265</td>\n",
       "      <td>0.337349</td>\n",
       "      <td>0.00000</td>\n",
       "      <td>0.048193</td>\n",
       "      <td>0.149639</td>\n",
       "      <td>0.606846</td>\n",
       "      <td>8.386301</td>\n",
       "      <td>8.386301</td>\n",
       "    </tr>\n",
       "    <tr>\n",
       "      <th>2</th>\n",
       "      <td>-0Sgh0QlUKVsWosCWJzGqQ</td>\n",
       "      <td>0.136364</td>\n",
       "      <td>0.477273</td>\n",
       "      <td>1.977273</td>\n",
       "      <td>0.704545</td>\n",
       "      <td>90.340909</td>\n",
       "      <td>0.00000</td>\n",
       "      <td>0.045455</td>\n",
       "      <td>0.045455</td>\n",
       "      <td>0.909091</td>\n",
       "      <td>0.00000</td>\n",
       "      <td>0.000000</td>\n",
       "      <td>0.009063</td>\n",
       "      <td>0.554916</td>\n",
       "      <td>7.326027</td>\n",
       "      <td>7.326027</td>\n",
       "    </tr>\n",
       "    <tr>\n",
       "      <th>3</th>\n",
       "      <td>-0WegMt6Cy966qlDKhu6jA</td>\n",
       "      <td>0.376623</td>\n",
       "      <td>0.246753</td>\n",
       "      <td>2.142857</td>\n",
       "      <td>0.662338</td>\n",
       "      <td>124.688312</td>\n",
       "      <td>0.00000</td>\n",
       "      <td>0.259740</td>\n",
       "      <td>0.012987</td>\n",
       "      <td>0.727273</td>\n",
       "      <td>0.00000</td>\n",
       "      <td>0.000000</td>\n",
       "      <td>-0.022920</td>\n",
       "      <td>0.545097</td>\n",
       "      <td>4.712329</td>\n",
       "      <td>4.712329</td>\n",
       "    </tr>\n",
       "    <tr>\n",
       "      <th>4</th>\n",
       "      <td>-0aIra_B6iALlfqAriBSYA</td>\n",
       "      <td>0.562500</td>\n",
       "      <td>0.375000</td>\n",
       "      <td>4.625000</td>\n",
       "      <td>0.937500</td>\n",
       "      <td>75.406250</td>\n",
       "      <td>0.03125</td>\n",
       "      <td>0.500000</td>\n",
       "      <td>0.125000</td>\n",
       "      <td>0.281250</td>\n",
       "      <td>0.03125</td>\n",
       "      <td>0.031250</td>\n",
       "      <td>0.324154</td>\n",
       "      <td>0.589466</td>\n",
       "      <td>2.531507</td>\n",
       "      <td>2.531507</td>\n",
       "    </tr>\n",
       "  </tbody>\n",
       "</table>\n",
       "</div>"
      ],
      "text/plain": [
       "              business_id      cool     funny     stars    useful  \\\n",
       "0  -01XupAWZEXbdNbxNg5mEg  0.818182  0.714286  2.857143  1.610390   \n",
       "1  -092wE7j5HZOogMLAh40zA  0.265060  0.216867  3.349398  1.397590   \n",
       "2  -0Sgh0QlUKVsWosCWJzGqQ  0.136364  0.477273  1.977273  0.704545   \n",
       "3  -0WegMt6Cy966qlDKhu6jA  0.376623  0.246753  2.142857  0.662338   \n",
       "4  -0aIra_B6iALlfqAriBSYA  0.562500  0.375000  4.625000  0.937500   \n",
       "\n",
       "   review_length  Coffee/Dessert  Food/Atmosphere  Food/Service  Wait Time  \\\n",
       "0     120.259740         0.00000         0.428571      0.064935   0.480519   \n",
       "1     106.867470         0.00000         0.048193      0.566265   0.337349   \n",
       "2      90.340909         0.00000         0.045455      0.045455   0.909091   \n",
       "3     124.688312         0.00000         0.259740      0.012987   0.727273   \n",
       "4      75.406250         0.03125         0.500000      0.125000   0.281250   \n",
       "\n",
       "   Mexican Food  Breakfast  polarity  subjectivity  restaurant_age  \\\n",
       "0       0.00000   0.025974  0.184144      0.613380        8.257534   \n",
       "1       0.00000   0.048193  0.149639      0.606846        8.386301   \n",
       "2       0.00000   0.000000  0.009063      0.554916        7.326027   \n",
       "3       0.00000   0.000000 -0.022920      0.545097        4.712329   \n",
       "4       0.03125   0.031250  0.324154      0.589466        2.531507   \n",
       "\n",
       "   review_count  \n",
       "0      8.257534  \n",
       "1      8.386301  \n",
       "2      7.326027  \n",
       "3      4.712329  \n",
       "4      2.531507  "
      ]
     },
     "execution_count": 118,
     "metadata": {},
     "output_type": "execute_result"
    }
   ],
   "source": [
    "# View the first few lines of data \n",
    "review_df.head()"
   ]
  },
  {
   "cell_type": "markdown",
   "metadata": {},
   "source": [
    "## 3.3 Export Finalized Dataset"
   ]
  },
  {
   "cell_type": "code",
   "execution_count": 119,
   "metadata": {},
   "outputs": [],
   "source": [
    "# Add clean text to dataset"
   ]
  },
  {
   "cell_type": "code",
   "execution_count": 120,
   "metadata": {},
   "outputs": [],
   "source": [
    "# Combined both dataset and combine the next cell into one dataset"
   ]
  },
  {
   "cell_type": "code",
   "execution_count": 121,
   "metadata": {},
   "outputs": [],
   "source": [
    "# Export datasets\n",
    "business_df.to_csv('final_business.csv', index=False)\n",
    "review_df.to_csv('final_review.csv', index=False)"
   ]
  },
  {
   "cell_type": "code",
   "execution_count": null,
   "metadata": {},
   "outputs": [],
   "source": []
  }
 ],
 "metadata": {
  "kernelspec": {
   "display_name": "Python 3",
   "language": "python",
   "name": "python3"
  },
  "language_info": {
   "codemirror_mode": {
    "name": "ipython",
    "version": 3
   },
   "file_extension": ".py",
   "mimetype": "text/x-python",
   "name": "python",
   "nbconvert_exporter": "python",
   "pygments_lexer": "ipython3",
   "version": "3.7.1"
  }
 },
 "nbformat": 4,
 "nbformat_minor": 2
}
