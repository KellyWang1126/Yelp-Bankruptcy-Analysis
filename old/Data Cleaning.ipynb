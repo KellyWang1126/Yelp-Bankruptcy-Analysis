{
 "cells": [
  {
   "cell_type": "code",
   "execution_count": 1,
   "metadata": {},
   "outputs": [],
   "source": [
    "# Import python packages\n",
    "import spacy\n",
    "import numpy as np\n",
    "import pandas as pd"
   ]
  },
  {
   "cell_type": "markdown",
   "metadata": {},
   "source": [
    "# Clean Business Data"
   ]
  },
  {
   "cell_type": "code",
   "execution_count": 2,
   "metadata": {},
   "outputs": [
    {
     "data": {
      "text/plain": [
       "(7183, 17)"
      ]
     },
     "execution_count": 2,
     "metadata": {},
     "output_type": "execute_result"
    }
   ],
   "source": [
    "# Read business data\n",
    "business = pd.read_csv('yelp_business.csv')\n",
    "business.shape"
   ]
  },
  {
   "cell_type": "code",
   "execution_count": 3,
   "metadata": {},
   "outputs": [
    {
     "data": {
      "text/html": [
       "<div>\n",
       "<style scoped>\n",
       "    .dataframe tbody tr th:only-of-type {\n",
       "        vertical-align: middle;\n",
       "    }\n",
       "\n",
       "    .dataframe tbody tr th {\n",
       "        vertical-align: top;\n",
       "    }\n",
       "\n",
       "    .dataframe thead th {\n",
       "        text-align: right;\n",
       "    }\n",
       "</style>\n",
       "<table border=\"1\" class=\"dataframe\">\n",
       "  <thead>\n",
       "    <tr style=\"text-align: right;\">\n",
       "      <th></th>\n",
       "      <th>address</th>\n",
       "      <th>attributes</th>\n",
       "      <th>business_id</th>\n",
       "      <th>categories</th>\n",
       "      <th>city</th>\n",
       "      <th>hours</th>\n",
       "      <th>is_open_2017</th>\n",
       "      <th>latitude</th>\n",
       "      <th>longitude</th>\n",
       "      <th>name</th>\n",
       "      <th>neighborhood</th>\n",
       "      <th>postal_code</th>\n",
       "      <th>review_count</th>\n",
       "      <th>stars</th>\n",
       "      <th>state</th>\n",
       "      <th>is_open_2018</th>\n",
       "      <th>isBankrupt</th>\n",
       "    </tr>\n",
       "  </thead>\n",
       "  <tbody>\n",
       "    <tr>\n",
       "      <th>0</th>\n",
       "      <td>719 E Thunderbird Rd</td>\n",
       "      <td>{'RestaurantsTableService': False, 'GoodForMea...</td>\n",
       "      <td>rDMptJYWtnMhpQu_rRXHng</td>\n",
       "      <td>['Fast Food', 'Burgers', 'Restaurants']</td>\n",
       "      <td>Phoenix</td>\n",
       "      <td>{}</td>\n",
       "      <td>1</td>\n",
       "      <td>33.607070</td>\n",
       "      <td>-112.064382</td>\n",
       "      <td>McDonald's</td>\n",
       "      <td>NaN</td>\n",
       "      <td>85022.0</td>\n",
       "      <td>10</td>\n",
       "      <td>1.0</td>\n",
       "      <td>AZ</td>\n",
       "      <td>1</td>\n",
       "      <td>0</td>\n",
       "    </tr>\n",
       "    <tr>\n",
       "      <th>1</th>\n",
       "      <td>777 E Thunderbird Rd, Ste 107</td>\n",
       "      <td>{'RestaurantsTableService': True, 'GoodForMeal...</td>\n",
       "      <td>1WBkAuQg81kokZIPMpn9Zg</td>\n",
       "      <td>['Burgers', 'Restaurants']</td>\n",
       "      <td>Phoenix</td>\n",
       "      <td>{'Monday': '11:00-22:00', 'Tuesday': '11:00-22...</td>\n",
       "      <td>1</td>\n",
       "      <td>33.607310</td>\n",
       "      <td>-112.063404</td>\n",
       "      <td>Charr An American Burger Bar</td>\n",
       "      <td>NaN</td>\n",
       "      <td>85022.0</td>\n",
       "      <td>232</td>\n",
       "      <td>3.0</td>\n",
       "      <td>AZ</td>\n",
       "      <td>1</td>\n",
       "      <td>0</td>\n",
       "    </tr>\n",
       "    <tr>\n",
       "      <th>2</th>\n",
       "      <td>1635 E Camelback Rd</td>\n",
       "      <td>{'RestaurantsTableService': False, 'GoodForMea...</td>\n",
       "      <td>iPa__LOhse-hobC2Xmp-Kw</td>\n",
       "      <td>['Restaurants', 'Burgers', 'Fast Food']</td>\n",
       "      <td>Phoenix</td>\n",
       "      <td>{'Monday': '5:00-23:00', 'Tuesday': '5:00-23:0...</td>\n",
       "      <td>1</td>\n",
       "      <td>33.508765</td>\n",
       "      <td>-112.046240</td>\n",
       "      <td>McDonald's</td>\n",
       "      <td>NaN</td>\n",
       "      <td>85016.0</td>\n",
       "      <td>34</td>\n",
       "      <td>3.0</td>\n",
       "      <td>AZ</td>\n",
       "      <td>1</td>\n",
       "      <td>0</td>\n",
       "    </tr>\n",
       "    <tr>\n",
       "      <th>3</th>\n",
       "      <td>NaN</td>\n",
       "      <td>{'BusinessAcceptsCreditCards': True, 'Business...</td>\n",
       "      <td>YhV93k9uiMdr3FlV4FHjwA</td>\n",
       "      <td>['Marketing', \"Men's Clothing\", 'Restaurants',...</td>\n",
       "      <td>Phoenix</td>\n",
       "      <td>{'Monday': '8:00-17:00', 'Tuesday': '8:00-17:0...</td>\n",
       "      <td>1</td>\n",
       "      <td>33.449967</td>\n",
       "      <td>-112.070223</td>\n",
       "      <td>Caviness Studio</td>\n",
       "      <td>NaN</td>\n",
       "      <td>85001.0</td>\n",
       "      <td>4</td>\n",
       "      <td>5.0</td>\n",
       "      <td>AZ</td>\n",
       "      <td>1</td>\n",
       "      <td>0</td>\n",
       "    </tr>\n",
       "    <tr>\n",
       "      <th>4</th>\n",
       "      <td>8140 N Hayden Rd, Ste H115</td>\n",
       "      <td>{'Alcohol': 'full_bar', 'HasTV': True, 'NoiseL...</td>\n",
       "      <td>VdlPZg2NAu8t8GkdbPLecg</td>\n",
       "      <td>['Restaurants', 'Gluten-Free', 'Indian', 'Seaf...</td>\n",
       "      <td>Scottsdale</td>\n",
       "      <td>{'Tuesday': '17:00-22:00', 'Friday': '17:00-22...</td>\n",
       "      <td>1</td>\n",
       "      <td>33.555212</td>\n",
       "      <td>-111.900456</td>\n",
       "      <td>Tandoori Times Indian Bistro</td>\n",
       "      <td>NaN</td>\n",
       "      <td>85258.0</td>\n",
       "      <td>263</td>\n",
       "      <td>3.5</td>\n",
       "      <td>AZ</td>\n",
       "      <td>1</td>\n",
       "      <td>0</td>\n",
       "    </tr>\n",
       "  </tbody>\n",
       "</table>\n",
       "</div>"
      ],
      "text/plain": [
       "                         address  \\\n",
       "0           719 E Thunderbird Rd   \n",
       "1  777 E Thunderbird Rd, Ste 107   \n",
       "2            1635 E Camelback Rd   \n",
       "3                            NaN   \n",
       "4     8140 N Hayden Rd, Ste H115   \n",
       "\n",
       "                                          attributes             business_id  \\\n",
       "0  {'RestaurantsTableService': False, 'GoodForMea...  rDMptJYWtnMhpQu_rRXHng   \n",
       "1  {'RestaurantsTableService': True, 'GoodForMeal...  1WBkAuQg81kokZIPMpn9Zg   \n",
       "2  {'RestaurantsTableService': False, 'GoodForMea...  iPa__LOhse-hobC2Xmp-Kw   \n",
       "3  {'BusinessAcceptsCreditCards': True, 'Business...  YhV93k9uiMdr3FlV4FHjwA   \n",
       "4  {'Alcohol': 'full_bar', 'HasTV': True, 'NoiseL...  VdlPZg2NAu8t8GkdbPLecg   \n",
       "\n",
       "                                          categories        city  \\\n",
       "0            ['Fast Food', 'Burgers', 'Restaurants']     Phoenix   \n",
       "1                         ['Burgers', 'Restaurants']     Phoenix   \n",
       "2            ['Restaurants', 'Burgers', 'Fast Food']     Phoenix   \n",
       "3  ['Marketing', \"Men's Clothing\", 'Restaurants',...     Phoenix   \n",
       "4  ['Restaurants', 'Gluten-Free', 'Indian', 'Seaf...  Scottsdale   \n",
       "\n",
       "                                               hours  is_open_2017   latitude  \\\n",
       "0                                                 {}             1  33.607070   \n",
       "1  {'Monday': '11:00-22:00', 'Tuesday': '11:00-22...             1  33.607310   \n",
       "2  {'Monday': '5:00-23:00', 'Tuesday': '5:00-23:0...             1  33.508765   \n",
       "3  {'Monday': '8:00-17:00', 'Tuesday': '8:00-17:0...             1  33.449967   \n",
       "4  {'Tuesday': '17:00-22:00', 'Friday': '17:00-22...             1  33.555212   \n",
       "\n",
       "    longitude                          name  neighborhood  postal_code  \\\n",
       "0 -112.064382                    McDonald's           NaN      85022.0   \n",
       "1 -112.063404  Charr An American Burger Bar           NaN      85022.0   \n",
       "2 -112.046240                    McDonald's           NaN      85016.0   \n",
       "3 -112.070223               Caviness Studio           NaN      85001.0   \n",
       "4 -111.900456  Tandoori Times Indian Bistro           NaN      85258.0   \n",
       "\n",
       "   review_count  stars state  is_open_2018  isBankrupt  \n",
       "0            10    1.0    AZ             1           0  \n",
       "1           232    3.0    AZ             1           0  \n",
       "2            34    3.0    AZ             1           0  \n",
       "3             4    5.0    AZ             1           0  \n",
       "4           263    3.5    AZ             1           0  "
      ]
     },
     "execution_count": 3,
     "metadata": {},
     "output_type": "execute_result"
    }
   ],
   "source": [
    "# Look at first few rows of data\n",
    "business.head()"
   ]
  },
  {
   "cell_type": "code",
   "execution_count": 4,
   "metadata": {},
   "outputs": [],
   "source": [
    "# Make a copy of raw dataset\n",
    "business_df = business.copy()"
   ]
  },
  {
   "cell_type": "markdown",
   "metadata": {},
   "source": [
    "## Check Duplicates"
   ]
  },
  {
   "cell_type": "code",
   "execution_count": 5,
   "metadata": {},
   "outputs": [
    {
     "name": "stdout",
     "output_type": "stream",
     "text": [
      "(7183, 17)\n",
      "(7183, 17)\n"
     ]
    }
   ],
   "source": [
    "# Check row duplicates\n",
    "print(business_df.shape)\n",
    "print(business_df.drop_duplicates().shape)"
   ]
  },
  {
   "cell_type": "code",
   "execution_count": 6,
   "metadata": {},
   "outputs": [
    {
     "name": "stdout",
     "output_type": "stream",
     "text": [
      "7183\n",
      "7183\n"
     ]
    }
   ],
   "source": [
    "# Check business_id duplicates\n",
    "print(len(business_df['business_id']))\n",
    "print(len(business_df['business_id'].unique()))"
   ]
  },
  {
   "cell_type": "markdown",
   "metadata": {},
   "source": [
    "## Check Missing Values"
   ]
  },
  {
   "cell_type": "code",
   "execution_count": 7,
   "metadata": {},
   "outputs": [],
   "source": [
    "# Mark invisible missing values\n",
    "business_df = business_df.replace(['{}','[]'], np.nan)"
   ]
  },
  {
   "cell_type": "code",
   "execution_count": 8,
   "metadata": {
    "scrolled": true
   },
   "outputs": [
    {
     "data": {
      "text/plain": [
       "neighborhood    7183\n",
       "hours           1397\n",
       "address           75\n",
       "attributes        56\n",
       "postal_code        8\n",
       "is_open_2017       0\n",
       "business_id        0\n",
       "categories         0\n",
       "city               0\n",
       "isBankrupt         0\n",
       "latitude           0\n",
       "is_open_2018       0\n",
       "name               0\n",
       "review_count       0\n",
       "stars              0\n",
       "state              0\n",
       "longitude          0\n",
       "dtype: int64"
      ]
     },
     "execution_count": 8,
     "metadata": {},
     "output_type": "execute_result"
    }
   ],
   "source": [
    "# Check NA's before cleaning\n",
    "business_df.isna().sum().sort_values(ascending=False)"
   ]
  },
  {
   "cell_type": "code",
   "execution_count": 9,
   "metadata": {},
   "outputs": [
    {
     "data": {
      "text/plain": [
       "(7183, 14)"
      ]
     },
     "execution_count": 9,
     "metadata": {},
     "output_type": "execute_result"
    }
   ],
   "source": [
    "# Drop variables\n",
    "business_df = business_df.drop(['neighborhood', 'hours', 'address'], axis=1)\n",
    "business_df.shape"
   ]
  },
  {
   "cell_type": "code",
   "execution_count": 10,
   "metadata": {},
   "outputs": [
    {
     "data": {
      "text/plain": [
       "(7122, 14)"
      ]
     },
     "execution_count": 10,
     "metadata": {},
     "output_type": "execute_result"
    }
   ],
   "source": [
    "# Drop observations\n",
    "business_df = business_df.dropna(axis=0, how='any')\n",
    "business_df.shape"
   ]
  },
  {
   "cell_type": "code",
   "execution_count": 11,
   "metadata": {},
   "outputs": [
    {
     "data": {
      "text/plain": [
       "attributes      0\n",
       "business_id     0\n",
       "categories      0\n",
       "city            0\n",
       "is_open_2017    0\n",
       "latitude        0\n",
       "longitude       0\n",
       "name            0\n",
       "postal_code     0\n",
       "review_count    0\n",
       "stars           0\n",
       "state           0\n",
       "is_open_2018    0\n",
       "isBankrupt      0\n",
       "dtype: int64"
      ]
     },
     "execution_count": 11,
     "metadata": {},
     "output_type": "execute_result"
    }
   ],
   "source": [
    "# Check NA's after cleaning\n",
    "business_df.isna().sum()"
   ]
  },
  {
   "cell_type": "markdown",
   "metadata": {},
   "source": [
    "# Clean Review Data"
   ]
  },
  {
   "cell_type": "code",
   "execution_count": 12,
   "metadata": {},
   "outputs": [
    {
     "data": {
      "text/plain": [
       "(781473, 9)"
      ]
     },
     "execution_count": 12,
     "metadata": {},
     "output_type": "execute_result"
    }
   ],
   "source": [
    "# Read review data\n",
    "review = pd.read_csv('yelp_review.csv')\n",
    "review.shape"
   ]
  },
  {
   "cell_type": "code",
   "execution_count": 13,
   "metadata": {},
   "outputs": [
    {
     "data": {
      "text/html": [
       "<div>\n",
       "<style scoped>\n",
       "    .dataframe tbody tr th:only-of-type {\n",
       "        vertical-align: middle;\n",
       "    }\n",
       "\n",
       "    .dataframe tbody tr th {\n",
       "        vertical-align: top;\n",
       "    }\n",
       "\n",
       "    .dataframe thead th {\n",
       "        text-align: right;\n",
       "    }\n",
       "</style>\n",
       "<table border=\"1\" class=\"dataframe\">\n",
       "  <thead>\n",
       "    <tr style=\"text-align: right;\">\n",
       "      <th></th>\n",
       "      <th>business_id</th>\n",
       "      <th>cool</th>\n",
       "      <th>date</th>\n",
       "      <th>funny</th>\n",
       "      <th>review_id</th>\n",
       "      <th>stars</th>\n",
       "      <th>text</th>\n",
       "      <th>useful</th>\n",
       "      <th>user_id</th>\n",
       "    </tr>\n",
       "  </thead>\n",
       "  <tbody>\n",
       "    <tr>\n",
       "      <th>0</th>\n",
       "      <td>JlNeaOymdVbE6_bubqjohg</td>\n",
       "      <td>0</td>\n",
       "      <td>2014-08-09</td>\n",
       "      <td>0</td>\n",
       "      <td>BF0ANB54sc_f-3_howQBCg</td>\n",
       "      <td>1</td>\n",
       "      <td>We always go to the chevo's in chandler which ...</td>\n",
       "      <td>3</td>\n",
       "      <td>ssuXFjkH4neiBgwv-oN4IA</td>\n",
       "    </tr>\n",
       "    <tr>\n",
       "      <th>1</th>\n",
       "      <td>0Rni7ocMC_Lg2UH0lDeKMQ</td>\n",
       "      <td>0</td>\n",
       "      <td>2014-08-09</td>\n",
       "      <td>0</td>\n",
       "      <td>DbLUpPT61ykLTakknCF9CQ</td>\n",
       "      <td>1</td>\n",
       "      <td>This place is always so dirty and grimy, been ...</td>\n",
       "      <td>6</td>\n",
       "      <td>ssuXFjkH4neiBgwv-oN4IA</td>\n",
       "    </tr>\n",
       "    <tr>\n",
       "      <th>2</th>\n",
       "      <td>S-oLPRdhlyL5HAknBKTUcQ</td>\n",
       "      <td>0</td>\n",
       "      <td>2017-11-30</td>\n",
       "      <td>0</td>\n",
       "      <td>z_mVLygzPn8uHp63SSCErw</td>\n",
       "      <td>4</td>\n",
       "      <td>Holy portion sizes! You get a lot of bang for ...</td>\n",
       "      <td>0</td>\n",
       "      <td>MzEnYCyZlRYQRISNMXTWIg</td>\n",
       "    </tr>\n",
       "    <tr>\n",
       "      <th>3</th>\n",
       "      <td>iIjVO7cLD1UEmIO7G05Ujw</td>\n",
       "      <td>0</td>\n",
       "      <td>2016-06-11</td>\n",
       "      <td>0</td>\n",
       "      <td>xatycgntu_F_Ioyny3iflw</td>\n",
       "      <td>4</td>\n",
       "      <td>Flavor was actually pretty good. Not used to e...</td>\n",
       "      <td>0</td>\n",
       "      <td>vaXJ7-xLrnD6FAEhUqYKwQ</td>\n",
       "    </tr>\n",
       "    <tr>\n",
       "      <th>4</th>\n",
       "      <td>1JF9TbJ2d5hH8xsQvvklHg</td>\n",
       "      <td>0</td>\n",
       "      <td>2016-06-18</td>\n",
       "      <td>0</td>\n",
       "      <td>Z7U7MMef6Tbj_ZbSFzLRUw</td>\n",
       "      <td>5</td>\n",
       "      <td>This is place very great flavor. Server was on...</td>\n",
       "      <td>1</td>\n",
       "      <td>vaXJ7-xLrnD6FAEhUqYKwQ</td>\n",
       "    </tr>\n",
       "  </tbody>\n",
       "</table>\n",
       "</div>"
      ],
      "text/plain": [
       "              business_id  cool        date  funny               review_id  \\\n",
       "0  JlNeaOymdVbE6_bubqjohg     0  2014-08-09      0  BF0ANB54sc_f-3_howQBCg   \n",
       "1  0Rni7ocMC_Lg2UH0lDeKMQ     0  2014-08-09      0  DbLUpPT61ykLTakknCF9CQ   \n",
       "2  S-oLPRdhlyL5HAknBKTUcQ     0  2017-11-30      0  z_mVLygzPn8uHp63SSCErw   \n",
       "3  iIjVO7cLD1UEmIO7G05Ujw     0  2016-06-11      0  xatycgntu_F_Ioyny3iflw   \n",
       "4  1JF9TbJ2d5hH8xsQvvklHg     0  2016-06-18      0  Z7U7MMef6Tbj_ZbSFzLRUw   \n",
       "\n",
       "   stars                                               text  useful  \\\n",
       "0      1  We always go to the chevo's in chandler which ...       3   \n",
       "1      1  This place is always so dirty and grimy, been ...       6   \n",
       "2      4  Holy portion sizes! You get a lot of bang for ...       0   \n",
       "3      4  Flavor was actually pretty good. Not used to e...       0   \n",
       "4      5  This is place very great flavor. Server was on...       1   \n",
       "\n",
       "                  user_id  \n",
       "0  ssuXFjkH4neiBgwv-oN4IA  \n",
       "1  ssuXFjkH4neiBgwv-oN4IA  \n",
       "2  MzEnYCyZlRYQRISNMXTWIg  \n",
       "3  vaXJ7-xLrnD6FAEhUqYKwQ  \n",
       "4  vaXJ7-xLrnD6FAEhUqYKwQ  "
      ]
     },
     "execution_count": 13,
     "metadata": {},
     "output_type": "execute_result"
    }
   ],
   "source": [
    "# Look at first few rows of data\n",
    "review.head()"
   ]
  },
  {
   "cell_type": "code",
   "execution_count": 14,
   "metadata": {},
   "outputs": [],
   "source": [
    "# Make a copy of raw dataset\n",
    "review_df = review.copy()"
   ]
  },
  {
   "cell_type": "markdown",
   "metadata": {},
   "source": [
    "## Check Duplicates"
   ]
  },
  {
   "cell_type": "code",
   "execution_count": 15,
   "metadata": {},
   "outputs": [
    {
     "name": "stdout",
     "output_type": "stream",
     "text": [
      "(781473, 9)\n",
      "(781473, 9)\n"
     ]
    }
   ],
   "source": [
    "# Check row duplicates\n",
    "print(review_df.shape)\n",
    "print(review_df.drop_duplicates().shape)"
   ]
  },
  {
   "cell_type": "markdown",
   "metadata": {},
   "source": [
    "## Check Missing Values"
   ]
  },
  {
   "cell_type": "code",
   "execution_count": 16,
   "metadata": {},
   "outputs": [
    {
     "data": {
      "text/plain": [
       "business_id    0\n",
       "cool           0\n",
       "date           0\n",
       "funny          0\n",
       "review_id      0\n",
       "stars          0\n",
       "text           0\n",
       "useful         0\n",
       "user_id        0\n",
       "dtype: int64"
      ]
     },
     "execution_count": 16,
     "metadata": {},
     "output_type": "execute_result"
    }
   ],
   "source": [
    "# Check NA's\n",
    "review_df.isna().sum()"
   ]
  },
  {
   "cell_type": "markdown",
   "metadata": {},
   "source": [
    "## Clean Text "
   ]
  },
  {
   "cell_type": "code",
   "execution_count": 17,
   "metadata": {},
   "outputs": [],
   "source": [
    "def keep_token(x):\n",
    "    # Drop word that do not belong to the required part of speech\n",
    "    pos_to_keep = ['ADJ', 'ADV', 'NOUN', 'VERB']\n",
    "    if x.pos_ not in pos_to_keep:\n",
    "        return False\n",
    "    \n",
    "    # Keep only alphabetical words\n",
    "    if x.is_alpha == False:\n",
    "        return False\n",
    "    \n",
    "    # Remove stopwords\n",
    "    if x.is_stop == True:\n",
    "        return False\n",
    "    \n",
    "    # Keep the token if it does not get filtered out\n",
    "    return True"
   ]
  },
  {
   "cell_type": "code",
   "execution_count": 18,
   "metadata": {},
   "outputs": [],
   "source": [
    "# Load spacy nlp model\n",
    "nlp = spacy.load('en_core_web_sm')\n",
    "\n",
    "# Define function that lemmatize and remove\n",
    "clean_text = lambda x: ' '.join([word.lemma_ for word in nlp(u'{}'.format(x)) if keep_token(word)])"
   ]
  },
  {
   "cell_type": "code",
   "execution_count": 19,
   "metadata": {},
   "outputs": [
    {
     "name": "stdout",
     "output_type": "stream",
     "text": [
      "Wall time: 5h 39min 5s\n"
     ]
    }
   ],
   "source": [
    "%%time\n",
    "# Clean text\n",
    "review_df['clean_text'] = review_df['text'].apply(clean_text)"
   ]
  },
  {
   "cell_type": "code",
   "execution_count": 20,
   "metadata": {},
   "outputs": [],
   "source": [
    "# Drop unwanted columns\n",
    "col_to_drop = ['review_id', 'text', 'user_id']\n",
    "review_df = review_df.drop(columns = col_to_drop)"
   ]
  },
  {
   "cell_type": "code",
   "execution_count": 21,
   "metadata": {},
   "outputs": [
    {
     "data": {
      "text/html": [
       "<div>\n",
       "<style scoped>\n",
       "    .dataframe tbody tr th:only-of-type {\n",
       "        vertical-align: middle;\n",
       "    }\n",
       "\n",
       "    .dataframe tbody tr th {\n",
       "        vertical-align: top;\n",
       "    }\n",
       "\n",
       "    .dataframe thead th {\n",
       "        text-align: right;\n",
       "    }\n",
       "</style>\n",
       "<table border=\"1\" class=\"dataframe\">\n",
       "  <thead>\n",
       "    <tr style=\"text-align: right;\">\n",
       "      <th></th>\n",
       "      <th>business_id</th>\n",
       "      <th>cool</th>\n",
       "      <th>date</th>\n",
       "      <th>funny</th>\n",
       "      <th>stars</th>\n",
       "      <th>useful</th>\n",
       "      <th>clean_text</th>\n",
       "    </tr>\n",
       "  </thead>\n",
       "  <tbody>\n",
       "    <tr>\n",
       "      <th>0</th>\n",
       "      <td>JlNeaOymdVbE6_bubqjohg</td>\n",
       "      <td>0</td>\n",
       "      <td>2014-08-09</td>\n",
       "      <td>0</td>\n",
       "      <td>1</td>\n",
       "      <td>3</td>\n",
       "      <td>chevo chandler delicious ahwatukee different r...</td>\n",
       "    </tr>\n",
       "    <tr>\n",
       "      <th>1</th>\n",
       "      <td>0Rni7ocMC_Lg2UH0lDeKMQ</td>\n",
       "      <td>0</td>\n",
       "      <td>2014-08-09</td>\n",
       "      <td>0</td>\n",
       "      <td>1</td>\n",
       "      <td>6</td>\n",
       "      <td>place dirty grimy twice service horrible</td>\n",
       "    </tr>\n",
       "    <tr>\n",
       "      <th>2</th>\n",
       "      <td>S-oLPRdhlyL5HAknBKTUcQ</td>\n",
       "      <td>0</td>\n",
       "      <td>2017-11-30</td>\n",
       "      <td>0</td>\n",
       "      <td>4</td>\n",
       "      <td>0</td>\n",
       "      <td>holy portion size lot bang buck service super ...</td>\n",
       "    </tr>\n",
       "    <tr>\n",
       "      <th>3</th>\n",
       "      <td>iIjVO7cLD1UEmIO7G05Ujw</td>\n",
       "      <td>0</td>\n",
       "      <td>2016-06-11</td>\n",
       "      <td>0</td>\n",
       "      <td>4</td>\n",
       "      <td>0</td>\n",
       "      <td>flavor actually pretty good eat menudo tortill...</td>\n",
       "    </tr>\n",
       "    <tr>\n",
       "      <th>4</th>\n",
       "      <td>1JF9TbJ2d5hH8xsQvvklHg</td>\n",
       "      <td>0</td>\n",
       "      <td>2016-06-18</td>\n",
       "      <td>0</td>\n",
       "      <td>5</td>\n",
       "      <td>1</td>\n",
       "      <td>place great flavor thing ask bring chip salsa ...</td>\n",
       "    </tr>\n",
       "  </tbody>\n",
       "</table>\n",
       "</div>"
      ],
      "text/plain": [
       "              business_id  cool        date  funny  stars  useful  \\\n",
       "0  JlNeaOymdVbE6_bubqjohg     0  2014-08-09      0      1       3   \n",
       "1  0Rni7ocMC_Lg2UH0lDeKMQ     0  2014-08-09      0      1       6   \n",
       "2  S-oLPRdhlyL5HAknBKTUcQ     0  2017-11-30      0      4       0   \n",
       "3  iIjVO7cLD1UEmIO7G05Ujw     0  2016-06-11      0      4       0   \n",
       "4  1JF9TbJ2d5hH8xsQvvklHg     0  2016-06-18      0      5       1   \n",
       "\n",
       "                                          clean_text  \n",
       "0  chevo chandler delicious ahwatukee different r...  \n",
       "1           place dirty grimy twice service horrible  \n",
       "2  holy portion size lot bang buck service super ...  \n",
       "3  flavor actually pretty good eat menudo tortill...  \n",
       "4  place great flavor thing ask bring chip salsa ...  "
      ]
     },
     "execution_count": 21,
     "metadata": {},
     "output_type": "execute_result"
    }
   ],
   "source": [
    "# Look at first few rows of finalized review data\n",
    "review_df.head()"
   ]
  },
  {
   "cell_type": "code",
   "execution_count": 22,
   "metadata": {},
   "outputs": [],
   "source": [
    "# Export datasets\n",
    "business_df.to_csv('clean_business.csv', index=False)\n",
    "review_df.to_csv('clean_review.csv', index=False)"
   ]
  },
  {
   "cell_type": "code",
   "execution_count": null,
   "metadata": {},
   "outputs": [],
   "source": []
  }
 ],
 "metadata": {
  "kernelspec": {
   "display_name": "Python 3",
   "language": "python",
   "name": "python3"
  },
  "language_info": {
   "codemirror_mode": {
    "name": "ipython",
    "version": 3
   },
   "file_extension": ".py",
   "mimetype": "text/x-python",
   "name": "python",
   "nbconvert_exporter": "python",
   "pygments_lexer": "ipython3",
   "version": "3.7.1"
  }
 },
 "nbformat": 4,
 "nbformat_minor": 2
}
