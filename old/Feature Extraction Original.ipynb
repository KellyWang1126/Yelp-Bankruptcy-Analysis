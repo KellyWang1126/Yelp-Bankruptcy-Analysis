{
 "cells": [
  {
   "cell_type": "markdown",
   "metadata": {},
   "source": [
    "## Load Data"
   ]
  },
  {
   "cell_type": "code",
   "execution_count": 1,
   "metadata": {},
   "outputs": [],
   "source": [
    "# Import python packages\n",
    "import re\n",
    "import os\n",
    "import warnings\n",
    "import numpy as np\n",
    "import pandas as pd\n",
    "import seaborn as sns\n",
    "import geopandas as gpd\n",
    "import matplotlib.pyplot as plt"
   ]
  },
  {
   "cell_type": "markdown",
   "metadata": {},
   "source": [
    "There are several warning in the code. I will hide them for now and deal with them later."
   ]
  },
  {
   "cell_type": "code",
   "execution_count": 2,
   "metadata": {},
   "outputs": [],
   "source": [
    "# Hide warning\n",
    "warnings.simplefilter(action='ignore', category=FutureWarning)"
   ]
  },
  {
   "cell_type": "code",
   "execution_count": 3,
   "metadata": {},
   "outputs": [],
   "source": [
    "# Read business data and checkin data\n",
    "clean_business = pd.read_csv('clean_business.csv')"
   ]
  },
  {
   "cell_type": "code",
   "execution_count": 4,
   "metadata": {},
   "outputs": [],
   "source": [
    "# Make a copy of raw dataset\n",
    "df_business = clean_business.copy()"
   ]
  },
  {
   "cell_type": "code",
   "execution_count": 5,
   "metadata": {},
   "outputs": [
    {
     "data": {
      "text/html": [
       "<div>\n",
       "<style scoped>\n",
       "    .dataframe tbody tr th:only-of-type {\n",
       "        vertical-align: middle;\n",
       "    }\n",
       "\n",
       "    .dataframe tbody tr th {\n",
       "        vertical-align: top;\n",
       "    }\n",
       "\n",
       "    .dataframe thead th {\n",
       "        text-align: right;\n",
       "    }\n",
       "</style>\n",
       "<table border=\"1\" class=\"dataframe\">\n",
       "  <thead>\n",
       "    <tr style=\"text-align: right;\">\n",
       "      <th></th>\n",
       "      <th>attributes</th>\n",
       "      <th>business_id</th>\n",
       "      <th>categories</th>\n",
       "      <th>city</th>\n",
       "      <th>latitude</th>\n",
       "      <th>longitude</th>\n",
       "      <th>name</th>\n",
       "      <th>postal_code</th>\n",
       "      <th>review_count</th>\n",
       "      <th>stars</th>\n",
       "      <th>state</th>\n",
       "      <th>isBankrupt</th>\n",
       "      <th>county</th>\n",
       "    </tr>\n",
       "  </thead>\n",
       "  <tbody>\n",
       "    <tr>\n",
       "      <th>0</th>\n",
       "      <td>{'RestaurantsTableService': False, 'GoodForMea...</td>\n",
       "      <td>rDMptJYWtnMhpQu_rRXHng</td>\n",
       "      <td>['Fast Food', 'Burgers', 'Restaurants']</td>\n",
       "      <td>Phoenix</td>\n",
       "      <td>33.607070</td>\n",
       "      <td>-112.064382</td>\n",
       "      <td>McDonald's</td>\n",
       "      <td>85022</td>\n",
       "      <td>10</td>\n",
       "      <td>1.0</td>\n",
       "      <td>AZ</td>\n",
       "      <td>0</td>\n",
       "      <td>Maricopa County</td>\n",
       "    </tr>\n",
       "    <tr>\n",
       "      <th>1</th>\n",
       "      <td>{'RestaurantsTableService': True, 'GoodForMeal...</td>\n",
       "      <td>1WBkAuQg81kokZIPMpn9Zg</td>\n",
       "      <td>['Burgers', 'Restaurants']</td>\n",
       "      <td>Phoenix</td>\n",
       "      <td>33.607310</td>\n",
       "      <td>-112.063404</td>\n",
       "      <td>Charr An American Burger Bar</td>\n",
       "      <td>85022</td>\n",
       "      <td>232</td>\n",
       "      <td>3.0</td>\n",
       "      <td>AZ</td>\n",
       "      <td>0</td>\n",
       "      <td>Maricopa County</td>\n",
       "    </tr>\n",
       "    <tr>\n",
       "      <th>2</th>\n",
       "      <td>{'RestaurantsTableService': False, 'GoodForMea...</td>\n",
       "      <td>iPa__LOhse-hobC2Xmp-Kw</td>\n",
       "      <td>['Restaurants', 'Burgers', 'Fast Food']</td>\n",
       "      <td>Phoenix</td>\n",
       "      <td>33.508765</td>\n",
       "      <td>-112.046240</td>\n",
       "      <td>McDonald's</td>\n",
       "      <td>85016</td>\n",
       "      <td>34</td>\n",
       "      <td>3.0</td>\n",
       "      <td>AZ</td>\n",
       "      <td>0</td>\n",
       "      <td>Maricopa County</td>\n",
       "    </tr>\n",
       "    <tr>\n",
       "      <th>3</th>\n",
       "      <td>{'BusinessAcceptsCreditCards': True, 'Business...</td>\n",
       "      <td>YhV93k9uiMdr3FlV4FHjwA</td>\n",
       "      <td>['Marketing', \"Men's Clothing\", 'Restaurants',...</td>\n",
       "      <td>Phoenix</td>\n",
       "      <td>33.449967</td>\n",
       "      <td>-112.070222</td>\n",
       "      <td>Caviness Studio</td>\n",
       "      <td>85001</td>\n",
       "      <td>4</td>\n",
       "      <td>5.0</td>\n",
       "      <td>AZ</td>\n",
       "      <td>0</td>\n",
       "      <td>Maricopa County</td>\n",
       "    </tr>\n",
       "    <tr>\n",
       "      <th>4</th>\n",
       "      <td>{'Alcohol': 'full_bar', 'HasTV': True, 'NoiseL...</td>\n",
       "      <td>VdlPZg2NAu8t8GkdbPLecg</td>\n",
       "      <td>['Restaurants', 'Gluten-Free', 'Indian', 'Seaf...</td>\n",
       "      <td>Scottsdale</td>\n",
       "      <td>33.555212</td>\n",
       "      <td>-111.900456</td>\n",
       "      <td>Tandoori Times Indian Bistro</td>\n",
       "      <td>85258</td>\n",
       "      <td>263</td>\n",
       "      <td>3.5</td>\n",
       "      <td>AZ</td>\n",
       "      <td>0</td>\n",
       "      <td>Maricopa County</td>\n",
       "    </tr>\n",
       "  </tbody>\n",
       "</table>\n",
       "</div>"
      ],
      "text/plain": [
       "                                          attributes             business_id  \\\n",
       "0  {'RestaurantsTableService': False, 'GoodForMea...  rDMptJYWtnMhpQu_rRXHng   \n",
       "1  {'RestaurantsTableService': True, 'GoodForMeal...  1WBkAuQg81kokZIPMpn9Zg   \n",
       "2  {'RestaurantsTableService': False, 'GoodForMea...  iPa__LOhse-hobC2Xmp-Kw   \n",
       "3  {'BusinessAcceptsCreditCards': True, 'Business...  YhV93k9uiMdr3FlV4FHjwA   \n",
       "4  {'Alcohol': 'full_bar', 'HasTV': True, 'NoiseL...  VdlPZg2NAu8t8GkdbPLecg   \n",
       "\n",
       "                                          categories        city   latitude  \\\n",
       "0            ['Fast Food', 'Burgers', 'Restaurants']     Phoenix  33.607070   \n",
       "1                         ['Burgers', 'Restaurants']     Phoenix  33.607310   \n",
       "2            ['Restaurants', 'Burgers', 'Fast Food']     Phoenix  33.508765   \n",
       "3  ['Marketing', \"Men's Clothing\", 'Restaurants',...     Phoenix  33.449967   \n",
       "4  ['Restaurants', 'Gluten-Free', 'Indian', 'Seaf...  Scottsdale  33.555212   \n",
       "\n",
       "    longitude                          name  postal_code  review_count  stars  \\\n",
       "0 -112.064382                    McDonald's        85022            10    1.0   \n",
       "1 -112.063404  Charr An American Burger Bar        85022           232    3.0   \n",
       "2 -112.046240                    McDonald's        85016            34    3.0   \n",
       "3 -112.070222               Caviness Studio        85001             4    5.0   \n",
       "4 -111.900456  Tandoori Times Indian Bistro        85258           263    3.5   \n",
       "\n",
       "  state  isBankrupt           county  \n",
       "0    AZ           0  Maricopa County  \n",
       "1    AZ           0  Maricopa County  \n",
       "2    AZ           0  Maricopa County  \n",
       "3    AZ           0  Maricopa County  \n",
       "4    AZ           0  Maricopa County  "
      ]
     },
     "execution_count": 5,
     "metadata": {},
     "output_type": "execute_result"
    }
   ],
   "source": [
    "# Reveal first few rows \n",
    "df_business.head()"
   ]
  },
  {
   "cell_type": "code",
   "execution_count": 6,
   "metadata": {},
   "outputs": [
    {
     "data": {
      "text/plain": [
       "(7116, 13)"
      ]
     },
     "execution_count": 6,
     "metadata": {},
     "output_type": "execute_result"
    }
   ],
   "source": [
    "df_business.shape"
   ]
  },
  {
   "cell_type": "markdown",
   "metadata": {},
   "source": [
    "## Feature Extraction Preprocess"
   ]
  },
  {
   "cell_type": "code",
   "execution_count": 7,
   "metadata": {},
   "outputs": [],
   "source": [
    "# Convert types of attributes and categories to dictionary and list\n",
    "df_business['attributes'] = df_business['attributes'].apply(lambda x: eval(x))\n",
    "df_business['categories'] = df_business['categories'].apply(lambda x: eval(x))"
   ]
  },
  {
   "cell_type": "markdown",
   "metadata": {},
   "source": [
    "## Extract Features: isChain"
   ]
  },
  {
   "cell_type": "code",
   "execution_count": 8,
   "metadata": {},
   "outputs": [],
   "source": [
    "# Create new feature chain\n",
    "dict_chain = df_business['name'].value_counts().to_dict()\n",
    "df_business['isChain'] = df_business['name'].apply(lambda x: int(dict_chain[x] > 1))"
   ]
  },
  {
   "cell_type": "markdown",
   "metadata": {},
   "source": [
    "## Extract Features: Density"
   ]
  },
  {
   "cell_type": "markdown",
   "metadata": {},
   "source": [
    "### Use City As Cut-Off Line"
   ]
  },
  {
   "cell_type": "code",
   "execution_count": 9,
   "metadata": {},
   "outputs": [],
   "source": [
    "# Create a dictionary to store restuarant number in each city\n",
    "city_dict = df_business.groupby('city').apply(len).to_dict()"
   ]
  },
  {
   "cell_type": "code",
   "execution_count": 10,
   "metadata": {},
   "outputs": [],
   "source": [
    "# Create new feature neighborhood_city\n",
    "df_business['density'] = df_business['city'].apply(lambda city: city_dict.get(city))"
   ]
  },
  {
   "cell_type": "markdown",
   "metadata": {},
   "source": [
    "### Use Distance As Cut-off Line"
   ]
  },
  {
   "cell_type": "markdown",
   "metadata": {},
   "source": [
    "To create the neighborhood feature by distance, we need first `calculate the distance between one restaurant and all other restaurant`. And for restaurants which have the distance less than certain mile, we `mark` them as the neighborhood as each other. For each restaurant, we will calculate the `total number of neighborhood` it has."
   ]
  },
  {
   "cell_type": "code",
   "execution_count": 11,
   "metadata": {},
   "outputs": [],
   "source": [
    "# Define a function to calculate the distance\n",
    "from geopy.distance import geodesic\n",
    "\n",
    "def distance(lat1, lon1, lat2, lon2):\n",
    "    return geodesic((lat1, lon1), (lat2, lon2)).miles"
   ]
  },
  {
   "cell_type": "raw",
   "metadata": {},
   "source": [
    "# Do not run!!\n",
    "# Take four hours!!\n",
    "# Create new feature neighborhood_dist \n",
    "df_business['neighborhood_dist'] = pd.Series()\n",
    "for i in range(df_business.shape[0]):\n",
    "    count = 0\n",
    "    for j in range(df_business.shape[0]):\n",
    "        if i == j:\n",
    "            continue\n",
    "        elif distance(df_business['latitude'].iloc[i],df_business['longitude'].iloc[i],\\\n",
    "                      df_business['latitude'].iloc[j],df_business['longitude'].iloc[j]) < 5:\n",
    "            count = count + 1 \n",
    "    df_business['neighborhood_dist'].iloc[i] = count"
   ]
  },
  {
   "cell_type": "markdown",
   "metadata": {},
   "source": [
    "## Extract Features From Category"
   ]
  },
  {
   "cell_type": "code",
   "execution_count": 12,
   "metadata": {},
   "outputs": [
    {
     "name": "stdout",
     "output_type": "stream",
     "text": [
      "Number of unique words in feature 'categories': 417\n"
     ]
    }
   ],
   "source": [
    "# Extract all words in categories\n",
    "categories = np.unique([item for row in df_business['categories'] for item in row])\n",
    "print(\"Number of unique words in feature 'categories':\", len(categories))"
   ]
  },
  {
   "cell_type": "markdown",
   "metadata": {},
   "source": [
    "Since the words in `categories` list is not much, we will do manually check and split the words in three sub categories. "
   ]
  },
  {
   "cell_type": "markdown",
   "metadata": {},
   "source": [
    "### Manually Split"
   ]
  },
  {
   "cell_type": "markdown",
   "metadata": {},
   "source": [
    "Ethnics: <br>\n",
    "'Afghan', 'African', 'American (New)','American (Traditional)', 'Arabian', 'Argentine','Armenian','Asian Fusion','Australian', <br> \n",
    "'Austrian','Belgian','Brazilian', 'British','Cajun/Creole', 'Cambodian','Cantonese', 'Caribbean','Chinese','Colombian',<br>'Indian','Cuban','Czech','Dominican','Empanadas','Ethiopian','Filipino','French','German','Greek','Hawaiian', 'Irish',<br>'Italian','Japanese', 'Korean','Kosher','Halal','Laotian','Latin American','Lebanese', 'Malaysian','Mediterranean','Mexican',<br>'Middle Eastern', 'Modern European', 'Mongolian','Moroccan','Pakistani', 'Persian/Iranian','Peruvian','Puerto Rican',<br>'Russian',\n",
    "'Salvadoran','Scandinavian','Southern', 'Spanish','Szechuan', 'Taiwanese','Thai','Tex-Mex',\n",
    "'Trinidadian',<br>'Vietnamese','Turkish','Ukrainian','Uzbek'"
   ]
  },
  {
   "cell_type": "markdown",
   "metadata": {},
   "source": [
    "Types:<br>\n",
    "'Acai Bowls', 'Bagels','Bubble Tea','Burgers', 'Cheesesteaks','Chicken Wings','Creperies','Cupcakes',\n",
    "         'Custom Cakes',<br>'Do-It-Yourself Food','Donuts','Falafel','Fish & Chips','Fondue',\n",
    "         'Fruits & Veggies','Gelato','Gluten-Free', 'Hot Dogs', <br>'Hot Pot', 'Ice Cream & Frozen Yogurt', \n",
    "         'Imported Food','Juice Bars & Smoothies', 'Kebab','Live/Raw Food','Local Flavor',<br> 'Macarons','Noodles',\n",
    "         'Pita', 'Pizza', 'Poutineries','Sandwiches','Pretzels','Ramen','Rotisserie Chicken','Salad',\n",
    "         'Seafood',<br>'Shaved Ice', 'Shaved Snow', 'Soup', 'Tacos', 'Teppanyaki',\n",
    "         'Waffles', 'Wraps','Bakeries', 'Barbeque', 'Beverage Store',<br>'Buffets','Cafes',\n",
    "         'Cafeteria', 'Candy Stores','Caterers', 'Cheese Shops','Chicken Shop','Chocolatiers & Shops',<br>\n",
    "         'Coffee & Tea', 'Coffee & Tea Supplies', 'Coffee Roasteries','Coffeeshops','Desserts',\n",
    "         'Dim Sum','Delis','Fast Food',<br>'Food Court','Food Stands','Food Trucks','Hotels',\n",
    "         'Hotels & Travel','Internet Cafes', 'New Mexican Cuisine',<br>\n",
    "         'Organic Stores', 'Pan Asian','Pasta Shops','Patisserie/Cake Shop', 'Popcorn Shops', 'Seafood Markets',\n",
    "         'Steakhouses',<br>'Tea Rooms', 'Themed Cafes','Vegan', 'Vegetarian'"
   ]
  },
  {
   "cell_type": "markdown",
   "metadata": {},
   "source": [
    "Alchohol related types: <br>\n",
    "'Bars','Beer', 'Beer Bar','Beer Gardens', 'Brasseries', 'Breweries', 'Brewpubs','Champagne Bars','Cocktail Bars',<br>'Distilleries','Dive Bars','Gay Bars', 'Gastropubs','Hotel bar','Izakaya', 'Irish Pub','Piano Bars', 'Pubs','Speakeasies',<br>'Sports Bars', 'Sushi Bars','Tapas Bars','Whiskey Bars','Wine & Spirits','Wine Bars', 'Wineries'"
   ]
  },
  {
   "cell_type": "markdown",
   "metadata": {},
   "source": [
    "Time:\n",
    "'Bed & Breakfast', 'Breakfast & Brunch', 'Diners', 'Dinner Theater', 'Nightlife'"
   ]
  },
  {
   "cell_type": "markdown",
   "metadata": {},
   "source": [
    "Attention: 'cinema', 'Food Delivery Services','Gas Stations''Kids Activities', Alchohol related types"
   ]
  },
  {
   "cell_type": "markdown",
   "metadata": {},
   "source": [
    "### Restaurant categories I - By Counties or Areas"
   ]
  },
  {
   "cell_type": "code",
   "execution_count": 13,
   "metadata": {},
   "outputs": [],
   "source": [
    "ethnics = ['Afghan', 'African', 'American (New)','American (Traditional)', 'Arabian', 'Argentine',\n",
    "           'Armenian','Asian Fusion','Australian', 'Austrian','Belgian','Brazilian', 'British',\n",
    "           'Cajun/Creole', 'Cambodian','Cantonese', 'Caribbean','Chinese','Colombian', 'Indian',\n",
    "           'Cuban','Czech','Dominican','Empanadas','Ethiopian','Filipino','French','German','Greek',\n",
    "           'Hawaiian', 'Irish','Italian', 'Japanese', 'Korean','Kosher','Halal','Laotian','Latin American',\n",
    "           'Lebanese', 'Malaysian','Mediterranean','Mexican','Middle Eastern', 'Modern European', 'Mongolian',\n",
    "           'Moroccan','Pakistani', 'Persian/Iranian','Peruvian','Puerto Rican','Russian', 'Salvadoran',\n",
    "           'Scandinavian','Southern', 'Spanish','Szechuan', 'Taiwanese','Thai','Tex-Mex', 'Trinidadian',\n",
    "           'Vietnamese','Turkish','Ukrainian', 'Uzbek']"
   ]
  },
  {
   "cell_type": "code",
   "execution_count": 14,
   "metadata": {},
   "outputs": [],
   "source": [
    "# Create new feature ethnics\n",
    "df_business['ethnics'] = df_business['categories'].apply(lambda row: [x for x in row if x in ethnics])\n",
    "df_business['ethnics'].value_counts();# Reveal if necessary"
   ]
  },
  {
   "cell_type": "code",
   "execution_count": 15,
   "metadata": {},
   "outputs": [
    {
     "name": "stdout",
     "output_type": "stream",
     "text": [
      "Total Number of Ethnics: 64\n"
     ]
    }
   ],
   "source": [
    "# Create a dictionary to store the appear times of each ethnics\n",
    "ethnics_dict = dict(zip(ethnics, [sum([x in row for row in df_business['ethnics']]) for x in ethnics]))\n",
    "print('Total Number of Ethnics:', len(ethnics_dict))"
   ]
  },
  {
   "cell_type": "code",
   "execution_count": 16,
   "metadata": {},
   "outputs": [],
   "source": [
    "# Convert dictionary to dataframe\n",
    "ethnics_df = pd.DataFrame(list(ethnics_dict.items()),columns=['Ethnics','Count']).sort_values('Count',ascending = False).reset_index()\n",
    "ethnics_df = ethnics_df.drop('index', axis=1)"
   ]
  },
  {
   "cell_type": "code",
   "execution_count": 17,
   "metadata": {},
   "outputs": [
    {
     "data": {
      "image/png": "[encoded data removed]",
      "text/plain": [
       "<Figure size 1080x720 with 1 Axes>"
      ]
     },
     "metadata": {
      "needs_background": "light"
     },
     "output_type": "display_data"
    }
   ],
   "source": [
    "# Visualize dataframe ethnics\n",
    "plt.figure(figsize=(15,10))\n",
    "sns.set(style='whitegrid')\n",
    "ethnics_plot = sns.barplot(x='Count', y='Ethnics', data=ethnics_df,palette ='rainbow')\n",
    "ethnics_plot.set_yticklabels(ethnics_plot.get_yticklabels(), fontdict={'fontsize':10});"
   ]
  },
  {
   "cell_type": "markdown",
   "metadata": {},
   "source": [
    "64 ethnics are too many to us to analyze directly. Therefore, we will combine related ethnics to groups to reduce the number of ethnics."
   ]
  },
  {
   "cell_type": "code",
   "execution_count": 18,
   "metadata": {},
   "outputs": [],
   "source": [
    "ethnic_dict = {\n",
    "'MiddleEast': ['Arabian', 'Armenian', 'Halal','Lebanese','Middle Eastern','Turkish','Mediterranean',\n",
    "              'Afghan','Pakistani','Persian/Iranian'],\n",
    "'African': ['African', 'Ethiopian', 'Moroccan'],\n",
    "'American': ['American (New)', 'American (Traditional)','Hawaiian','Southern'],\n",
    "'European': ['Austrian', 'Belgian', 'British', 'Czech','French','German','Greek','Irish','Italian',\n",
    "               'Kosher','Modern European','Cajun/Creole','Scandinavian','Spanish','Australian'],\n",
    "'Chinese': ['Cantonese', 'Chinese','Szechuan','Taiwanese'],\n",
    "'LatinAmerica': ['Argentine', 'Brazilian', 'Caribbean', 'Colombian', 'Cuban', 'Dominican', 'Empanadas',\n",
    "                     'Latin American', 'Peruvian', 'Puerto Rican', 'Salvadoran', 'Trinidadian'],\n",
    "'SouthEastAisa': ['Cambodian', 'Filipino','Laotian', 'Malaysian', 'Thai', 'Vietnamese','Indian'],\n",
    "'EastAsia': ['Japanese', 'Korean', 'Asian Fusion'],\n",
    "'Mexican': ['Mexican','Tex-Mex'],\n",
    "'AsiaContinent': ['Mongolian','Russian','Ukrainian','Uzbek']\n",
    "}"
   ]
  },
  {
   "cell_type": "code",
   "execution_count": 19,
   "metadata": {},
   "outputs": [],
   "source": [
    "for ethnic in ethnic_dict.keys():\n",
    "    df_business['ethnics'] = df_business['ethnics'].apply(lambda row: np.unique([ethnic if x in ethnic_dict[ethnic]\n",
    "                                                                       else x for x in row]))"
   ]
  },
  {
   "cell_type": "code",
   "execution_count": 20,
   "metadata": {},
   "outputs": [
    {
     "name": "stdout",
     "output_type": "stream",
     "text": [
      "Total Number of Ethnics: 10\n"
     ]
    }
   ],
   "source": [
    "# update the dictionary\n",
    "ethnics = ['MiddleEast','African','American','European','Chinese','LatinAmerica','SouthEastAisa',\n",
    "           'EastAsia','Mexican','AsiaContinent']\n",
    "ethnics_dict = dict(zip(ethnics, [sum([x in row for row in df_business['ethnics']]) for x in ethnics]))\n",
    "print('Total Number of Ethnics:', len(ethnics_dict))"
   ]
  },
  {
   "cell_type": "code",
   "execution_count": 21,
   "metadata": {},
   "outputs": [],
   "source": [
    "# Convert dictionary to dataframe\n",
    "ethnics_df = pd.DataFrame(list(ethnics_dict.items()),columns=['Ethnics','Count']).sort_values('Count',ascending = False).reset_index()\n",
    "ethnics_df = ethnics_df.drop('index', axis=1)"
   ]
  },
  {
   "cell_type": "code",
   "execution_count": 22,
   "metadata": {},
   "outputs": [
    {
     "data": {
      "image/png": "[encoded data removed]",
      "text/plain": [
       "<Figure size 1080x720 with 1 Axes>"
      ]
     },
     "metadata": {},
     "output_type": "display_data"
    }
   ],
   "source": [
    "# Visualize dataframe ethnics\n",
    "plt.figure(figsize=(15,10))\n",
    "sns.set(style='whitegrid')\n",
    "ethnics_plot = sns.barplot(x='Count', y='Ethnics', data=ethnics_df, palette ='rainbow')\n",
    "ethnics_plot.set_yticklabels(ethnics_plot.get_yticklabels(), fontdict={'fontsize':10});"
   ]
  },
  {
   "cell_type": "code",
   "execution_count": 23,
   "metadata": {},
   "outputs": [
    {
     "data": {
      "text/plain": [
       "0                 []\n",
       "1                 []\n",
       "2                 []\n",
       "3                 []\n",
       "4    [SouthEastAisa]\n",
       "5         [American]\n",
       "6                 []\n",
       "7                 []\n",
       "8         [EastAsia]\n",
       "9    [SouthEastAisa]\n",
       "Name: ethnics, dtype: object"
      ]
     },
     "execution_count": 23,
     "metadata": {},
     "output_type": "execute_result"
    }
   ],
   "source": [
    "df_business['ethnics'].head(10)"
   ]
  },
  {
   "cell_type": "markdown",
   "metadata": {},
   "source": [
    "### Restaurant categories II - By Various Types"
   ]
  },
  {
   "cell_type": "markdown",
   "metadata": {},
   "source": [
    "We use the types from `Machine Learning and Visualization with Yelp Dataset` directly."
   ]
  },
  {
   "cell_type": "code",
   "execution_count": 24,
   "metadata": {},
   "outputs": [],
   "source": [
    "types = ['Acai Bowls', 'Bagels','Bubble Tea','Burgers', 'Cheesesteaks','Chicken Wings','Creperies','Cupcakes',\n",
    "         'Custom Cakes','Do-It-Yourself Food','Donuts','Falafel','Fish & Chips','Fondue','Fruits & Veggies',\n",
    "         'Gelato','Gluten-Free', 'Hot Dogs', 'Hot Pot', 'Ice Cream & Frozen Yogurt', \n",
    "         'Imported Food','Juice Bars & Smoothies', 'Kebab','Live/Raw Food','Local Flavor', 'Macarons','Noodles',\n",
    "         'Pita', 'Pizza', 'Poutineries','Sandwiches','Pretzels','Ramen','Rotisserie Chicken','Salad',\n",
    "         'Seafood','Shaved Ice', 'Shaved Snow', 'Soup', 'Tacos', 'Teppanyaki',\n",
    "         'Waffles', 'Wraps','Bakeries', 'Barbeque', 'Beverage Store', 'Buffets','Cafes',\n",
    "         'Cafeteria', 'Candy Stores','Caterers', 'Cheese Shops','Chicken Shop','Chocolatiers & Shops',\n",
    "         'Coffee & Tea', 'Coffee & Tea Supplies', 'Coffee Roasteries','Coffeeshops','Desserts',\n",
    "         'Dim Sum','Delis','Fast Food','Food Court','Food Stands','Food Trucks','Hotels',\n",
    "         'Hotels & Travel','Internet Cafes', 'New Mexican Cuisine',\n",
    "         'Organic Stores', 'Pan Asian','Pasta Shops','Patisserie/Cake Shop', 'Popcorn Shops', 'Seafood Markets',\n",
    "         'Steakhouses','Sushi Bars','Tea Rooms', 'Themed Cafes','Vegan', 'Vegetarian',\n",
    "         'Bars','Beer', 'Beer Bar','Beer Gardens','Brasseries', 'Breweries', 'Brewpubs','Champagne Bars',\n",
    "         'Cocktail Bars','Distilleries','Dive Bars','Gay Bars', 'Gastropubs','Hotel bar','Izakaya','Irish Pub',\n",
    "         'Piano Bars', 'Pubs','Speakeasies','Sports Bars','Tapas Bars','Whiskey Bars','Wine & Spirits','Wine Bars',\n",
    "         'Wineries']"
   ]
  },
  {
   "cell_type": "code",
   "execution_count": 25,
   "metadata": {},
   "outputs": [],
   "source": [
    "# Create new feature types\n",
    "df_business['types'] = df_business['categories'].apply(lambda row: [x for x in row if x in types])"
   ]
  },
  {
   "cell_type": "code",
   "execution_count": 26,
   "metadata": {},
   "outputs": [
    {
     "name": "stdout",
     "output_type": "stream",
     "text": [
      "Total Number of Types: 106\n"
     ]
    }
   ],
   "source": [
    "# Create a dictionary to store the appear times of each types\n",
    "types_dict = dict(zip(types, [sum([x in row for row in df_business['types']]) for x in types]))\n",
    "print('Total Number of Types:', len(types_dict))"
   ]
  },
  {
   "cell_type": "markdown",
   "metadata": {},
   "source": [
    "Same with `ethnics`, we will group words for feature `type`."
   ]
  },
  {
   "cell_type": "code",
   "execution_count": 27,
   "metadata": {},
   "outputs": [],
   "source": [
    "type_dict = {\n",
    "    'Fast Food': ['Burgers','Fish & Chips','Hot Dogs','Sandwiches','Fast Food'],\n",
    "    'Alcohol': ['Bars','Beer', 'Beer Bar','Beer Gardens','Brasseries', 'Breweries', 'Brewpubs','Champagne Bars',\n",
    "                'Cocktail Bars','Distilleries','Dive Bars','Gay Bars', 'Gastropubs','Hotel bar','Izakaya',\n",
    "                'Irish Pub','Piano Bars', 'Pubs','Speakeasies','Sports Bars','Tapas Bars','Whiskey Bars',\n",
    "                'Wine & Spirits','Wine Bars', 'Wineries'],\n",
    "    'Beverage': ['Bubble Tea','Juice Bars & Smoothies','Beverage Store'],\n",
    "    'Bakeries & Desserts': ['Bagels','Cupcakes','Custom Cakes','Patisserie/Cake Shop','Shaved Ice','Shaved Snow',\n",
    "                            'Gelato','Ice Cream & Frozen Yogurt','Macarons','Chocolatiers & Shops','Donuts',\n",
    "                            'Waffles','Bakeries','Desserts','Creperies'],\n",
    "    'Vegetarian': ['Fruits & Veggies','Vegan','Vegetarian','Falafel','Acai Bowls'],\n",
    "    'Coffee & Tea': ['Coffee Roasteries','Coffeeshops','Tea Rooms','Coffee & Tea','Coffee & Tea Supplies','Cafes',\n",
    "                    'Internet Cafes','Themed Cafes'],\n",
    "    'Noodles': ['Noodles','Ramen','Pasta Shops'],\n",
    "    'Seafood': ['Seafood Markets','Seafood'],\n",
    "    'Snacks': ['Pretzels','Candy Stores','Popcorn Shops'],\n",
    "    'Chicken': ['Rotisserie Chicken','Chicken Shop','Chicken Wings'],\n",
    "    'Meat': ['Barbeque','Delis','Steakhouses','Cheesesteaks'],\n",
    "    'Asian Ethnics': ['Hot Pot','Kebab','Teppanyaki','Dim Sum','Pan Asian','Sushi Bars'],\n",
    "    'SpecialLocations': ['Food Stands','Food Trucks','Food Court','Hotels','Hotels & Travel']\n",
    "}"
   ]
  },
  {
   "cell_type": "code",
   "execution_count": 28,
   "metadata": {},
   "outputs": [],
   "source": [
    "Other = ['Do-It-Yourself Food','Fondue','Gluten-Free',\n",
    "              'Imported Food','Live/Raw Food','Local Flavor','Pita', 'Pizza', 'Poutineries','Salad','Soup',\n",
    "              'Tacos', 'Wraps','Buffets','Cafeteria','Caterers','Cheese Shops', 'New Mexican Cuisine',\n",
    "              'Organic Stores']"
   ]
  },
  {
   "cell_type": "code",
   "execution_count": 29,
   "metadata": {},
   "outputs": [],
   "source": [
    "for tp in type_dict.keys():\n",
    "    df_business['types'] = df_business['types'].apply(lambda row: np.unique([tp if x in type_dict[tp]\n",
    "                                                                       else x for x in row]))"
   ]
  },
  {
   "cell_type": "code",
   "execution_count": 30,
   "metadata": {},
   "outputs": [
    {
     "name": "stdout",
     "output_type": "stream",
     "text": [
      "Total Number of Types: 32\n"
     ]
    }
   ],
   "source": [
    "# update the dictionary\n",
    "types = ['Fast Food','Alcohol','Beverage','Bakeries & Desserts','Vegetarian','Coffee & Tea','Noodles','Seafood',\n",
    "        'Snacks','Chicken','Meat','Asian Ethnics','SpecialLocations'] + Other\n",
    "type_dict = dict(zip(types, [sum([x in row for row in df_business['types']]) for x in types]))\n",
    "print('Total Number of Types:', len(type_dict))"
   ]
  },
  {
   "cell_type": "code",
   "execution_count": 31,
   "metadata": {},
   "outputs": [],
   "source": [
    "# Convert dictionary to dataframe\n",
    "type_df = pd.DataFrame(list(type_dict.items()),columns=['Type','Count']).sort_values('Count',ascending = False).reset_index()\n",
    "type_df = type_df.drop('index', axis=1)"
   ]
  },
  {
   "cell_type": "code",
   "execution_count": 32,
   "metadata": {},
   "outputs": [
    {
     "data": {
      "image/png": "[encoded data removed]",
      "text/plain": [
       "<Figure size 1080x720 with 1 Axes>"
      ]
     },
     "metadata": {},
     "output_type": "display_data"
    }
   ],
   "source": [
    "# Visualize dataframe types\n",
    "plt.figure(figsize=(15,10))\n",
    "sns.set(style='whitegrid')\n",
    "types_plot = sns.barplot(x='Count', y='Type', data=type_df, palette ='rainbow')\n",
    "types_plot.set_yticklabels(types_plot.get_yticklabels(), fontdict={'fontsize':10});"
   ]
  },
  {
   "cell_type": "code",
   "execution_count": 33,
   "metadata": {},
   "outputs": [
    {
     "data": {
      "image/png": "[encoded data removed]",
      "text/plain": [
       "<Figure size 1080x720 with 1 Axes>"
      ]
     },
     "metadata": {},
     "output_type": "display_data"
    }
   ],
   "source": [
    "# Visualize dataframe types with more than 200 restaurants\n",
    "plt.figure(figsize=(15,10))\n",
    "sns.set(style='whitegrid')\n",
    "types_plot = sns.barplot(x='Count', y='Type', data=type_df[type_df['Count']>200], palette ='rainbow')\n",
    "types_plot.set_yticklabels(types_plot.get_yticklabels(), fontdict={'fontsize':10});"
   ]
  },
  {
   "cell_type": "code",
   "execution_count": 34,
   "metadata": {},
   "outputs": [
    {
     "data": {
      "text/plain": [
       "0               [Fast Food]\n",
       "1               [Fast Food]\n",
       "2               [Fast Food]\n",
       "3                   [Pizza]\n",
       "4    [Gluten-Free, Seafood]\n",
       "5                 [Seafood]\n",
       "6         [Fast Food, Meat]\n",
       "7        [Fast Food, Pizza]\n",
       "8        [Alcohol, Noodles]\n",
       "9                 [Noodles]\n",
       "Name: types, dtype: object"
      ]
     },
     "execution_count": 34,
     "metadata": {},
     "output_type": "execute_result"
    }
   ],
   "source": [
    "# Reveal first few rows\n",
    "df_business['types'].head(10)"
   ]
  },
  {
   "cell_type": "markdown",
   "metadata": {},
   "source": [
    "### Restaurant categories III - By Time of The Day "
   ]
  },
  {
   "cell_type": "code",
   "execution_count": 35,
   "metadata": {},
   "outputs": [],
   "source": [
    "time = ['Bed & Breakfast', 'Breakfast & Brunch', 'Dinner Theater', 'Nightlife']"
   ]
  },
  {
   "cell_type": "code",
   "execution_count": 36,
   "metadata": {},
   "outputs": [],
   "source": [
    "df_business['time'] = df_business['categories'].apply(lambda row: [x for x in row if x in time])"
   ]
  },
  {
   "cell_type": "code",
   "execution_count": 37,
   "metadata": {},
   "outputs": [
    {
     "data": {
      "text/plain": [
       "[]                                 5473\n",
       "[Nightlife]                         859\n",
       "[Breakfast & Brunch]                666\n",
       "[Breakfast & Brunch, Nightlife]      58\n",
       "[Nightlife, Breakfast & Brunch]      54\n",
       "[Dinner Theater, Nightlife]           4\n",
       "[Nightlife, Bed & Breakfast]          1\n",
       "[Bed & Breakfast]                     1\n",
       "Name: time, dtype: int64"
      ]
     },
     "execution_count": 37,
     "metadata": {},
     "output_type": "execute_result"
    }
   ],
   "source": [
    "df_business['time'].value_counts()"
   ]
  },
  {
   "cell_type": "code",
   "execution_count": 38,
   "metadata": {},
   "outputs": [],
   "source": [
    "for row in df_business['time']:\n",
    "    for n,i in enumerate(row):\n",
    "        if i=='Bed & Breakfast':\n",
    "            row[n]='Breakfast'  \n",
    "\n",
    "for row in df_business['time']:\n",
    "    for n,i in enumerate(row):\n",
    "        if i=='Breakfast & Brunch':\n",
    "            row[n]='Breakfast'\n",
    "            row.append('Brunch')\n",
    "\n",
    "for row in df_business['time']:\n",
    "    for n,i in enumerate(row):\n",
    "        if i=='Dinner Theater':\n",
    "            row[n]='Dinner'\n",
    "\n",
    "for row in df_business['time']:\n",
    "    for n,i in enumerate(row):\n",
    "        if i=='Nightlife':\n",
    "            row[n]='Dinner'\n",
    "            row.append('Latenight')"
   ]
  },
  {
   "cell_type": "code",
   "execution_count": 39,
   "metadata": {},
   "outputs": [],
   "source": [
    "# Take time to run!!\n",
    "# Delete duplicates in feature time\n",
    "df_business['time'] = df_business['time'].apply(lambda row: np.unique(row))"
   ]
  },
  {
   "cell_type": "code",
   "execution_count": 40,
   "metadata": {},
   "outputs": [
    {
     "data": {
      "text/plain": [
       "0                     []\n",
       "1                     []\n",
       "2                     []\n",
       "3                     []\n",
       "4                     []\n",
       "5                     []\n",
       "6                     []\n",
       "7                     []\n",
       "8    [Dinner, Latenight]\n",
       "9                     []\n",
       "Name: time, dtype: object"
      ]
     },
     "execution_count": 40,
     "metadata": {},
     "output_type": "execute_result"
    }
   ],
   "source": [
    "df_business['time'].head(10)"
   ]
  },
  {
   "cell_type": "markdown",
   "metadata": {},
   "source": [
    "## Extract Features From Attributes"
   ]
  },
  {
   "cell_type": "markdown",
   "metadata": {},
   "source": [
    "### Processing For Attributes"
   ]
  },
  {
   "cell_type": "code",
   "execution_count": 41,
   "metadata": {},
   "outputs": [],
   "source": [
    "# Convert feature attributes to a dataframe\n",
    "attributes_df = df_business['attributes'].apply(pd.Series)"
   ]
  },
  {
   "cell_type": "code",
   "execution_count": 42,
   "metadata": {},
   "outputs": [
    {
     "data": {
      "text/html": [
       "<div>\n",
       "<style scoped>\n",
       "    .dataframe tbody tr th:only-of-type {\n",
       "        vertical-align: middle;\n",
       "    }\n",
       "\n",
       "    .dataframe tbody tr th {\n",
       "        vertical-align: top;\n",
       "    }\n",
       "\n",
       "    .dataframe thead th {\n",
       "        text-align: right;\n",
       "    }\n",
       "</style>\n",
       "<table border=\"1\" class=\"dataframe\">\n",
       "  <thead>\n",
       "    <tr style=\"text-align: right;\">\n",
       "      <th></th>\n",
       "      <th>RestaurantsTableService</th>\n",
       "      <th>GoodForMeal</th>\n",
       "      <th>Alcohol</th>\n",
       "      <th>Caters</th>\n",
       "      <th>HasTV</th>\n",
       "      <th>RestaurantsGoodForGroups</th>\n",
       "      <th>NoiseLevel</th>\n",
       "      <th>WiFi</th>\n",
       "      <th>RestaurantsAttire</th>\n",
       "      <th>RestaurantsReservations</th>\n",
       "      <th>...</th>\n",
       "      <th>GoodForDancing</th>\n",
       "      <th>Music</th>\n",
       "      <th>BestNights</th>\n",
       "      <th>CoatCheck</th>\n",
       "      <th>Smoking</th>\n",
       "      <th>ByAppointmentOnly</th>\n",
       "      <th>RestaurantsCounterService</th>\n",
       "      <th>AgesAllowed</th>\n",
       "      <th>AcceptsInsurance</th>\n",
       "      <th>HairSpecializesIn</th>\n",
       "    </tr>\n",
       "  </thead>\n",
       "  <tbody>\n",
       "    <tr>\n",
       "      <th>0</th>\n",
       "      <td>False</td>\n",
       "      <td>{'dessert': False, 'latenight': False, 'lunch'...</td>\n",
       "      <td>none</td>\n",
       "      <td>False</td>\n",
       "      <td>True</td>\n",
       "      <td>True</td>\n",
       "      <td>loud</td>\n",
       "      <td>free</td>\n",
       "      <td>casual</td>\n",
       "      <td>False</td>\n",
       "      <td>...</td>\n",
       "      <td>NaN</td>\n",
       "      <td>NaN</td>\n",
       "      <td>NaN</td>\n",
       "      <td>NaN</td>\n",
       "      <td>NaN</td>\n",
       "      <td>NaN</td>\n",
       "      <td>NaN</td>\n",
       "      <td>NaN</td>\n",
       "      <td>NaN</td>\n",
       "      <td>NaN</td>\n",
       "    </tr>\n",
       "    <tr>\n",
       "      <th>1</th>\n",
       "      <td>True</td>\n",
       "      <td>{'dessert': False, 'latenight': False, 'lunch'...</td>\n",
       "      <td>full_bar</td>\n",
       "      <td>True</td>\n",
       "      <td>True</td>\n",
       "      <td>True</td>\n",
       "      <td>average</td>\n",
       "      <td>free</td>\n",
       "      <td>casual</td>\n",
       "      <td>False</td>\n",
       "      <td>...</td>\n",
       "      <td>NaN</td>\n",
       "      <td>NaN</td>\n",
       "      <td>NaN</td>\n",
       "      <td>NaN</td>\n",
       "      <td>NaN</td>\n",
       "      <td>NaN</td>\n",
       "      <td>NaN</td>\n",
       "      <td>NaN</td>\n",
       "      <td>NaN</td>\n",
       "      <td>NaN</td>\n",
       "    </tr>\n",
       "    <tr>\n",
       "      <th>2</th>\n",
       "      <td>False</td>\n",
       "      <td>{'dessert': False, 'latenight': True, 'lunch':...</td>\n",
       "      <td>none</td>\n",
       "      <td>False</td>\n",
       "      <td>False</td>\n",
       "      <td>True</td>\n",
       "      <td>loud</td>\n",
       "      <td>paid</td>\n",
       "      <td>casual</td>\n",
       "      <td>False</td>\n",
       "      <td>...</td>\n",
       "      <td>NaN</td>\n",
       "      <td>NaN</td>\n",
       "      <td>NaN</td>\n",
       "      <td>NaN</td>\n",
       "      <td>NaN</td>\n",
       "      <td>NaN</td>\n",
       "      <td>NaN</td>\n",
       "      <td>NaN</td>\n",
       "      <td>NaN</td>\n",
       "      <td>NaN</td>\n",
       "    </tr>\n",
       "    <tr>\n",
       "      <th>3</th>\n",
       "      <td>NaN</td>\n",
       "      <td>NaN</td>\n",
       "      <td>NaN</td>\n",
       "      <td>NaN</td>\n",
       "      <td>NaN</td>\n",
       "      <td>NaN</td>\n",
       "      <td>NaN</td>\n",
       "      <td>NaN</td>\n",
       "      <td>NaN</td>\n",
       "      <td>False</td>\n",
       "      <td>...</td>\n",
       "      <td>NaN</td>\n",
       "      <td>NaN</td>\n",
       "      <td>NaN</td>\n",
       "      <td>NaN</td>\n",
       "      <td>NaN</td>\n",
       "      <td>NaN</td>\n",
       "      <td>NaN</td>\n",
       "      <td>NaN</td>\n",
       "      <td>NaN</td>\n",
       "      <td>NaN</td>\n",
       "    </tr>\n",
       "    <tr>\n",
       "      <th>4</th>\n",
       "      <td>True</td>\n",
       "      <td>{'dessert': False, 'latenight': False, 'lunch'...</td>\n",
       "      <td>full_bar</td>\n",
       "      <td>True</td>\n",
       "      <td>True</td>\n",
       "      <td>True</td>\n",
       "      <td>average</td>\n",
       "      <td>free</td>\n",
       "      <td>casual</td>\n",
       "      <td>True</td>\n",
       "      <td>...</td>\n",
       "      <td>NaN</td>\n",
       "      <td>NaN</td>\n",
       "      <td>NaN</td>\n",
       "      <td>NaN</td>\n",
       "      <td>NaN</td>\n",
       "      <td>NaN</td>\n",
       "      <td>NaN</td>\n",
       "      <td>NaN</td>\n",
       "      <td>NaN</td>\n",
       "      <td>NaN</td>\n",
       "    </tr>\n",
       "  </tbody>\n",
       "</table>\n",
       "<p>5 rows × 39 columns</p>\n",
       "</div>"
      ],
      "text/plain": [
       "  RestaurantsTableService                                        GoodForMeal  \\\n",
       "0                   False  {'dessert': False, 'latenight': False, 'lunch'...   \n",
       "1                    True  {'dessert': False, 'latenight': False, 'lunch'...   \n",
       "2                   False  {'dessert': False, 'latenight': True, 'lunch':...   \n",
       "3                     NaN                                                NaN   \n",
       "4                    True  {'dessert': False, 'latenight': False, 'lunch'...   \n",
       "\n",
       "    Alcohol Caters  HasTV RestaurantsGoodForGroups NoiseLevel  WiFi  \\\n",
       "0      none  False   True                     True       loud  free   \n",
       "1  full_bar   True   True                     True    average  free   \n",
       "2      none  False  False                     True       loud  paid   \n",
       "3       NaN    NaN    NaN                      NaN        NaN   NaN   \n",
       "4  full_bar   True   True                     True    average  free   \n",
       "\n",
       "  RestaurantsAttire RestaurantsReservations        ...        GoodForDancing  \\\n",
       "0            casual                   False        ...                   NaN   \n",
       "1            casual                   False        ...                   NaN   \n",
       "2            casual                   False        ...                   NaN   \n",
       "3               NaN                   False        ...                   NaN   \n",
       "4            casual                    True        ...                   NaN   \n",
       "\n",
       "  Music  BestNights CoatCheck Smoking ByAppointmentOnly  \\\n",
       "0   NaN         NaN       NaN     NaN               NaN   \n",
       "1   NaN         NaN       NaN     NaN               NaN   \n",
       "2   NaN         NaN       NaN     NaN               NaN   \n",
       "3   NaN         NaN       NaN     NaN               NaN   \n",
       "4   NaN         NaN       NaN     NaN               NaN   \n",
       "\n",
       "  RestaurantsCounterService AgesAllowed AcceptsInsurance HairSpecializesIn  \n",
       "0                       NaN         NaN              NaN               NaN  \n",
       "1                       NaN         NaN              NaN               NaN  \n",
       "2                       NaN         NaN              NaN               NaN  \n",
       "3                       NaN         NaN              NaN               NaN  \n",
       "4                       NaN         NaN              NaN               NaN  \n",
       "\n",
       "[5 rows x 39 columns]"
      ]
     },
     "execution_count": 42,
     "metadata": {},
     "output_type": "execute_result"
    }
   ],
   "source": [
    "attributes_df.head()"
   ]
  },
  {
   "cell_type": "code",
   "execution_count": 43,
   "metadata": {},
   "outputs": [
    {
     "data": {
      "text/plain": [
       "RestaurantsTableService       1106\n",
       "GoodForMeal                    641\n",
       "Alcohol                        948\n",
       "Caters                        1517\n",
       "HasTV                          695\n",
       "RestaurantsGoodForGroups       404\n",
       "NoiseLevel                    1220\n",
       "WiFi                          1108\n",
       "RestaurantsAttire              546\n",
       "RestaurantsReservations        390\n",
       "OutdoorSeating                 588\n",
       "BusinessAcceptsCreditCards     113\n",
       "RestaurantsPriceRange2         298\n",
       "BikeParking                    780\n",
       "RestaurantsDelivery            395\n",
       "Ambience                       754\n",
       "RestaurantsTakeOut             277\n",
       "GoodForKids                    401\n",
       "BusinessParking                810\n",
       "WheelchairAccessible          3356\n",
       "dtype: int64"
      ]
     },
     "execution_count": 43,
     "metadata": {},
     "output_type": "execute_result"
    }
   ],
   "source": [
    "attributes_df.isna().sum()[attributes_df.isna().sum() < attributes_df.shape[0]/2]"
   ]
  },
  {
   "cell_type": "code",
   "execution_count": 44,
   "metadata": {},
   "outputs": [
    {
     "data": {
      "text/plain": [
       "DriveThru                    5554\n",
       "BusinessAcceptsBitcoin       6384\n",
       "Open24Hours                  7033\n",
       "BYOBCorkage                  6712\n",
       "BYOB                         6872\n",
       "Corkage                      6934\n",
       "DogsAllowed                  5991\n",
       "DietaryRestrictions          7085\n",
       "HappyHour                    6249\n",
       "GoodForDancing               6260\n",
       "Music                        6296\n",
       "BestNights                   6402\n",
       "CoatCheck                    6314\n",
       "Smoking                      6356\n",
       "ByAppointmentOnly            6980\n",
       "RestaurantsCounterService    6994\n",
       "AgesAllowed                  7103\n",
       "AcceptsInsurance             7111\n",
       "HairSpecializesIn            7114\n",
       "dtype: int64"
      ]
     },
     "execution_count": 44,
     "metadata": {},
     "output_type": "execute_result"
    }
   ],
   "source": [
    "attributes_df.isna().sum()[attributes_df.isna().sum() >= attributes_df.shape[0]/2]"
   ]
  },
  {
   "cell_type": "markdown",
   "metadata": {},
   "source": [
    "We will keep all the features with total number of missing values less than half of the total number of observations except `WheelchairAccessible`. For rest features, we will only keep several useful features based on human judgement, which are `DriveThru`, `HappyHour` and `Smoking`."
   ]
  },
  {
   "cell_type": "code",
   "execution_count": 45,
   "metadata": {},
   "outputs": [],
   "source": [
    "# Drop unnecessary variables\n",
    "attributes_df=attributes_df.drop(['WheelchairAccessible','BusinessAcceptsBitcoin','Open24Hours','BYOBCorkage',\n",
    "                                 'BYOB','Corkage','DogsAllowed','DietaryRestrictions','GoodForDancing',\n",
    "                                 'Music','BestNights','CoatCheck','ByAppointmentOnly','RestaurantsCounterService',\n",
    "                                 'AgesAllowed','AcceptsInsurance','HairSpecializesIn'], axis=1)"
   ]
  },
  {
   "cell_type": "code",
   "execution_count": 46,
   "metadata": {},
   "outputs": [
    {
     "data": {
      "text/html": [
       "<div>\n",
       "<style scoped>\n",
       "    .dataframe tbody tr th:only-of-type {\n",
       "        vertical-align: middle;\n",
       "    }\n",
       "\n",
       "    .dataframe tbody tr th {\n",
       "        vertical-align: top;\n",
       "    }\n",
       "\n",
       "    .dataframe thead th {\n",
       "        text-align: right;\n",
       "    }\n",
       "</style>\n",
       "<table border=\"1\" class=\"dataframe\">\n",
       "  <thead>\n",
       "    <tr style=\"text-align: right;\">\n",
       "      <th></th>\n",
       "      <th>RestaurantsTableService</th>\n",
       "      <th>GoodForMeal</th>\n",
       "      <th>Alcohol</th>\n",
       "      <th>Caters</th>\n",
       "      <th>HasTV</th>\n",
       "      <th>RestaurantsGoodForGroups</th>\n",
       "      <th>NoiseLevel</th>\n",
       "      <th>WiFi</th>\n",
       "      <th>RestaurantsAttire</th>\n",
       "      <th>RestaurantsReservations</th>\n",
       "      <th>...</th>\n",
       "      <th>RestaurantsPriceRange2</th>\n",
       "      <th>BikeParking</th>\n",
       "      <th>RestaurantsDelivery</th>\n",
       "      <th>Ambience</th>\n",
       "      <th>RestaurantsTakeOut</th>\n",
       "      <th>GoodForKids</th>\n",
       "      <th>DriveThru</th>\n",
       "      <th>BusinessParking</th>\n",
       "      <th>HappyHour</th>\n",
       "      <th>Smoking</th>\n",
       "    </tr>\n",
       "  </thead>\n",
       "  <tbody>\n",
       "    <tr>\n",
       "      <th>0</th>\n",
       "      <td>False</td>\n",
       "      <td>{'dessert': False, 'latenight': False, 'lunch'...</td>\n",
       "      <td>none</td>\n",
       "      <td>False</td>\n",
       "      <td>True</td>\n",
       "      <td>True</td>\n",
       "      <td>loud</td>\n",
       "      <td>free</td>\n",
       "      <td>casual</td>\n",
       "      <td>False</td>\n",
       "      <td>...</td>\n",
       "      <td>1.0</td>\n",
       "      <td>True</td>\n",
       "      <td>False</td>\n",
       "      <td>{'romantic': False, 'intimate': False, 'classy...</td>\n",
       "      <td>True</td>\n",
       "      <td>True</td>\n",
       "      <td>True</td>\n",
       "      <td>{'garage': False, 'street': False, 'validated'...</td>\n",
       "      <td>NaN</td>\n",
       "      <td>NaN</td>\n",
       "    </tr>\n",
       "    <tr>\n",
       "      <th>1</th>\n",
       "      <td>True</td>\n",
       "      <td>{'dessert': False, 'latenight': False, 'lunch'...</td>\n",
       "      <td>full_bar</td>\n",
       "      <td>True</td>\n",
       "      <td>True</td>\n",
       "      <td>True</td>\n",
       "      <td>average</td>\n",
       "      <td>free</td>\n",
       "      <td>casual</td>\n",
       "      <td>False</td>\n",
       "      <td>...</td>\n",
       "      <td>2.0</td>\n",
       "      <td>True</td>\n",
       "      <td>True</td>\n",
       "      <td>{'romantic': False, 'intimate': False, 'classy...</td>\n",
       "      <td>True</td>\n",
       "      <td>True</td>\n",
       "      <td>False</td>\n",
       "      <td>{'garage': False, 'street': False, 'validated'...</td>\n",
       "      <td>NaN</td>\n",
       "      <td>NaN</td>\n",
       "    </tr>\n",
       "    <tr>\n",
       "      <th>2</th>\n",
       "      <td>False</td>\n",
       "      <td>{'dessert': False, 'latenight': True, 'lunch':...</td>\n",
       "      <td>none</td>\n",
       "      <td>False</td>\n",
       "      <td>False</td>\n",
       "      <td>True</td>\n",
       "      <td>loud</td>\n",
       "      <td>paid</td>\n",
       "      <td>casual</td>\n",
       "      <td>False</td>\n",
       "      <td>...</td>\n",
       "      <td>1.0</td>\n",
       "      <td>False</td>\n",
       "      <td>False</td>\n",
       "      <td>{'romantic': False, 'intimate': False, 'classy...</td>\n",
       "      <td>True</td>\n",
       "      <td>True</td>\n",
       "      <td>True</td>\n",
       "      <td>{'garage': False, 'street': False, 'validated'...</td>\n",
       "      <td>NaN</td>\n",
       "      <td>NaN</td>\n",
       "    </tr>\n",
       "    <tr>\n",
       "      <th>3</th>\n",
       "      <td>NaN</td>\n",
       "      <td>NaN</td>\n",
       "      <td>NaN</td>\n",
       "      <td>NaN</td>\n",
       "      <td>NaN</td>\n",
       "      <td>NaN</td>\n",
       "      <td>NaN</td>\n",
       "      <td>NaN</td>\n",
       "      <td>NaN</td>\n",
       "      <td>False</td>\n",
       "      <td>...</td>\n",
       "      <td>NaN</td>\n",
       "      <td>NaN</td>\n",
       "      <td>False</td>\n",
       "      <td>NaN</td>\n",
       "      <td>NaN</td>\n",
       "      <td>NaN</td>\n",
       "      <td>NaN</td>\n",
       "      <td>NaN</td>\n",
       "      <td>NaN</td>\n",
       "      <td>NaN</td>\n",
       "    </tr>\n",
       "    <tr>\n",
       "      <th>4</th>\n",
       "      <td>True</td>\n",
       "      <td>{'dessert': False, 'latenight': False, 'lunch'...</td>\n",
       "      <td>full_bar</td>\n",
       "      <td>True</td>\n",
       "      <td>True</td>\n",
       "      <td>True</td>\n",
       "      <td>average</td>\n",
       "      <td>free</td>\n",
       "      <td>casual</td>\n",
       "      <td>True</td>\n",
       "      <td>...</td>\n",
       "      <td>2.0</td>\n",
       "      <td>True</td>\n",
       "      <td>True</td>\n",
       "      <td>{'romantic': False, 'intimate': False, 'classy...</td>\n",
       "      <td>True</td>\n",
       "      <td>True</td>\n",
       "      <td>NaN</td>\n",
       "      <td>{'garage': False, 'street': False, 'validated'...</td>\n",
       "      <td>NaN</td>\n",
       "      <td>NaN</td>\n",
       "    </tr>\n",
       "  </tbody>\n",
       "</table>\n",
       "<p>5 rows × 22 columns</p>\n",
       "</div>"
      ],
      "text/plain": [
       "  RestaurantsTableService                                        GoodForMeal  \\\n",
       "0                   False  {'dessert': False, 'latenight': False, 'lunch'...   \n",
       "1                    True  {'dessert': False, 'latenight': False, 'lunch'...   \n",
       "2                   False  {'dessert': False, 'latenight': True, 'lunch':...   \n",
       "3                     NaN                                                NaN   \n",
       "4                    True  {'dessert': False, 'latenight': False, 'lunch'...   \n",
       "\n",
       "    Alcohol Caters  HasTV RestaurantsGoodForGroups NoiseLevel  WiFi  \\\n",
       "0      none  False   True                     True       loud  free   \n",
       "1  full_bar   True   True                     True    average  free   \n",
       "2      none  False  False                     True       loud  paid   \n",
       "3       NaN    NaN    NaN                      NaN        NaN   NaN   \n",
       "4  full_bar   True   True                     True    average  free   \n",
       "\n",
       "  RestaurantsAttire RestaurantsReservations   ...   RestaurantsPriceRange2  \\\n",
       "0            casual                   False   ...                      1.0   \n",
       "1            casual                   False   ...                      2.0   \n",
       "2            casual                   False   ...                      1.0   \n",
       "3               NaN                   False   ...                      NaN   \n",
       "4            casual                    True   ...                      2.0   \n",
       "\n",
       "  BikeParking  RestaurantsDelivery  \\\n",
       "0        True                False   \n",
       "1        True                 True   \n",
       "2       False                False   \n",
       "3         NaN                False   \n",
       "4        True                 True   \n",
       "\n",
       "                                            Ambience RestaurantsTakeOut  \\\n",
       "0  {'romantic': False, 'intimate': False, 'classy...               True   \n",
       "1  {'romantic': False, 'intimate': False, 'classy...               True   \n",
       "2  {'romantic': False, 'intimate': False, 'classy...               True   \n",
       "3                                                NaN                NaN   \n",
       "4  {'romantic': False, 'intimate': False, 'classy...               True   \n",
       "\n",
       "  GoodForKids DriveThru                                    BusinessParking  \\\n",
       "0        True      True  {'garage': False, 'street': False, 'validated'...   \n",
       "1        True     False  {'garage': False, 'street': False, 'validated'...   \n",
       "2        True      True  {'garage': False, 'street': False, 'validated'...   \n",
       "3         NaN       NaN                                                NaN   \n",
       "4        True       NaN  {'garage': False, 'street': False, 'validated'...   \n",
       "\n",
       "  HappyHour Smoking  \n",
       "0       NaN     NaN  \n",
       "1       NaN     NaN  \n",
       "2       NaN     NaN  \n",
       "3       NaN     NaN  \n",
       "4       NaN     NaN  \n",
       "\n",
       "[5 rows x 22 columns]"
      ]
     },
     "execution_count": 46,
     "metadata": {},
     "output_type": "execute_result"
    }
   ],
   "source": [
    "attributes_df.head()"
   ]
  },
  {
   "cell_type": "code",
   "execution_count": 47,
   "metadata": {},
   "outputs": [
    {
     "data": {
      "text/plain": [
       "Index(['RestaurantsTableService', 'GoodForMeal', 'Alcohol', 'Caters', 'HasTV',\n",
       "       'RestaurantsGoodForGroups', 'NoiseLevel', 'WiFi', 'RestaurantsAttire',\n",
       "       'RestaurantsReservations', 'OutdoorSeating',\n",
       "       'BusinessAcceptsCreditCards', 'RestaurantsPriceRange2', 'BikeParking',\n",
       "       'RestaurantsDelivery', 'Ambience', 'RestaurantsTakeOut', 'GoodForKids',\n",
       "       'DriveThru', 'BusinessParking', 'HappyHour', 'Smoking'],\n",
       "      dtype='object')"
      ]
     },
     "execution_count": 47,
     "metadata": {},
     "output_type": "execute_result"
    }
   ],
   "source": [
    "attributes_df.columns"
   ]
  },
  {
   "cell_type": "code",
   "execution_count": 48,
   "metadata": {},
   "outputs": [],
   "source": [
    "# Change names for some variables\n",
    "attributes_df = attributes_df.rename(columns={'RestaurantsTableService':'tableService','GoodForMeal':'openFor',\n",
    "                                             'Alcohol':'alcohol','Caters':'caters','HasTV':'hasTV',\n",
    "                                             'RestaurantsGoodForGroups':'forGroups','NoiseLevel':'noiceLevel',\n",
    "                                             'WiFi':'hasWiFi','RestaurantsAttire':'attire',\n",
    "                                              'RestaurantsReservations':'reservations','OutdoorSeating':\n",
    "                                              'outdoorSeating','BusinessAcceptsCreditCards':'acceptCreditCard',\n",
    "                                             'RestaurantsPriceRange2':'priceRange','BikeParking':'bikeParking',\n",
    "                                             'RestaurantsDelivery':'delivery','Ambience':'ambience',\n",
    "                                             'RestaurantsTakeOut':'hasTakeOut','GoodForKids':'goodForKids',\n",
    "                                             'DriveThru':'driveThru','BusinessParking':'businessParking',\n",
    "                                             'HappyHour':'happyHour','Smoking':'smoking'})"
   ]
  },
  {
   "cell_type": "code",
   "execution_count": 49,
   "metadata": {},
   "outputs": [
    {
     "data": {
      "text/html": [
       "<div>\n",
       "<style scoped>\n",
       "    .dataframe tbody tr th:only-of-type {\n",
       "        vertical-align: middle;\n",
       "    }\n",
       "\n",
       "    .dataframe tbody tr th {\n",
       "        vertical-align: top;\n",
       "    }\n",
       "\n",
       "    .dataframe thead th {\n",
       "        text-align: right;\n",
       "    }\n",
       "</style>\n",
       "<table border=\"1\" class=\"dataframe\">\n",
       "  <thead>\n",
       "    <tr style=\"text-align: right;\">\n",
       "      <th></th>\n",
       "      <th>tableService</th>\n",
       "      <th>openFor</th>\n",
       "      <th>alcohol</th>\n",
       "      <th>caters</th>\n",
       "      <th>hasTV</th>\n",
       "      <th>forGroups</th>\n",
       "      <th>noiceLevel</th>\n",
       "      <th>hasWiFi</th>\n",
       "      <th>attire</th>\n",
       "      <th>reservations</th>\n",
       "      <th>...</th>\n",
       "      <th>priceRange</th>\n",
       "      <th>bikeParking</th>\n",
       "      <th>delivery</th>\n",
       "      <th>ambience</th>\n",
       "      <th>hasTakeOut</th>\n",
       "      <th>goodForKids</th>\n",
       "      <th>driveThru</th>\n",
       "      <th>businessParking</th>\n",
       "      <th>happyHour</th>\n",
       "      <th>smoking</th>\n",
       "    </tr>\n",
       "  </thead>\n",
       "  <tbody>\n",
       "    <tr>\n",
       "      <th>0</th>\n",
       "      <td>False</td>\n",
       "      <td>{'dessert': False, 'latenight': False, 'lunch'...</td>\n",
       "      <td>none</td>\n",
       "      <td>False</td>\n",
       "      <td>True</td>\n",
       "      <td>True</td>\n",
       "      <td>loud</td>\n",
       "      <td>free</td>\n",
       "      <td>casual</td>\n",
       "      <td>False</td>\n",
       "      <td>...</td>\n",
       "      <td>1.0</td>\n",
       "      <td>True</td>\n",
       "      <td>False</td>\n",
       "      <td>{'romantic': False, 'intimate': False, 'classy...</td>\n",
       "      <td>True</td>\n",
       "      <td>True</td>\n",
       "      <td>True</td>\n",
       "      <td>{'garage': False, 'street': False, 'validated'...</td>\n",
       "      <td>NaN</td>\n",
       "      <td>NaN</td>\n",
       "    </tr>\n",
       "    <tr>\n",
       "      <th>1</th>\n",
       "      <td>True</td>\n",
       "      <td>{'dessert': False, 'latenight': False, 'lunch'...</td>\n",
       "      <td>full_bar</td>\n",
       "      <td>True</td>\n",
       "      <td>True</td>\n",
       "      <td>True</td>\n",
       "      <td>average</td>\n",
       "      <td>free</td>\n",
       "      <td>casual</td>\n",
       "      <td>False</td>\n",
       "      <td>...</td>\n",
       "      <td>2.0</td>\n",
       "      <td>True</td>\n",
       "      <td>True</td>\n",
       "      <td>{'romantic': False, 'intimate': False, 'classy...</td>\n",
       "      <td>True</td>\n",
       "      <td>True</td>\n",
       "      <td>False</td>\n",
       "      <td>{'garage': False, 'street': False, 'validated'...</td>\n",
       "      <td>NaN</td>\n",
       "      <td>NaN</td>\n",
       "    </tr>\n",
       "    <tr>\n",
       "      <th>2</th>\n",
       "      <td>False</td>\n",
       "      <td>{'dessert': False, 'latenight': True, 'lunch':...</td>\n",
       "      <td>none</td>\n",
       "      <td>False</td>\n",
       "      <td>False</td>\n",
       "      <td>True</td>\n",
       "      <td>loud</td>\n",
       "      <td>paid</td>\n",
       "      <td>casual</td>\n",
       "      <td>False</td>\n",
       "      <td>...</td>\n",
       "      <td>1.0</td>\n",
       "      <td>False</td>\n",
       "      <td>False</td>\n",
       "      <td>{'romantic': False, 'intimate': False, 'classy...</td>\n",
       "      <td>True</td>\n",
       "      <td>True</td>\n",
       "      <td>True</td>\n",
       "      <td>{'garage': False, 'street': False, 'validated'...</td>\n",
       "      <td>NaN</td>\n",
       "      <td>NaN</td>\n",
       "    </tr>\n",
       "    <tr>\n",
       "      <th>3</th>\n",
       "      <td>NaN</td>\n",
       "      <td>NaN</td>\n",
       "      <td>NaN</td>\n",
       "      <td>NaN</td>\n",
       "      <td>NaN</td>\n",
       "      <td>NaN</td>\n",
       "      <td>NaN</td>\n",
       "      <td>NaN</td>\n",
       "      <td>NaN</td>\n",
       "      <td>False</td>\n",
       "      <td>...</td>\n",
       "      <td>NaN</td>\n",
       "      <td>NaN</td>\n",
       "      <td>False</td>\n",
       "      <td>NaN</td>\n",
       "      <td>NaN</td>\n",
       "      <td>NaN</td>\n",
       "      <td>NaN</td>\n",
       "      <td>NaN</td>\n",
       "      <td>NaN</td>\n",
       "      <td>NaN</td>\n",
       "    </tr>\n",
       "    <tr>\n",
       "      <th>4</th>\n",
       "      <td>True</td>\n",
       "      <td>{'dessert': False, 'latenight': False, 'lunch'...</td>\n",
       "      <td>full_bar</td>\n",
       "      <td>True</td>\n",
       "      <td>True</td>\n",
       "      <td>True</td>\n",
       "      <td>average</td>\n",
       "      <td>free</td>\n",
       "      <td>casual</td>\n",
       "      <td>True</td>\n",
       "      <td>...</td>\n",
       "      <td>2.0</td>\n",
       "      <td>True</td>\n",
       "      <td>True</td>\n",
       "      <td>{'romantic': False, 'intimate': False, 'classy...</td>\n",
       "      <td>True</td>\n",
       "      <td>True</td>\n",
       "      <td>NaN</td>\n",
       "      <td>{'garage': False, 'street': False, 'validated'...</td>\n",
       "      <td>NaN</td>\n",
       "      <td>NaN</td>\n",
       "    </tr>\n",
       "  </tbody>\n",
       "</table>\n",
       "<p>5 rows × 22 columns</p>\n",
       "</div>"
      ],
      "text/plain": [
       "  tableService                                            openFor   alcohol  \\\n",
       "0        False  {'dessert': False, 'latenight': False, 'lunch'...      none   \n",
       "1         True  {'dessert': False, 'latenight': False, 'lunch'...  full_bar   \n",
       "2        False  {'dessert': False, 'latenight': True, 'lunch':...      none   \n",
       "3          NaN                                                NaN       NaN   \n",
       "4         True  {'dessert': False, 'latenight': False, 'lunch'...  full_bar   \n",
       "\n",
       "  caters  hasTV forGroups noiceLevel hasWiFi  attire reservations   ...    \\\n",
       "0  False   True      True       loud    free  casual        False   ...     \n",
       "1   True   True      True    average    free  casual        False   ...     \n",
       "2  False  False      True       loud    paid  casual        False   ...     \n",
       "3    NaN    NaN       NaN        NaN     NaN     NaN        False   ...     \n",
       "4   True   True      True    average    free  casual         True   ...     \n",
       "\n",
       "  priceRange bikeParking  delivery  \\\n",
       "0        1.0        True     False   \n",
       "1        2.0        True      True   \n",
       "2        1.0       False     False   \n",
       "3        NaN         NaN     False   \n",
       "4        2.0        True      True   \n",
       "\n",
       "                                            ambience hasTakeOut goodForKids  \\\n",
       "0  {'romantic': False, 'intimate': False, 'classy...       True        True   \n",
       "1  {'romantic': False, 'intimate': False, 'classy...       True        True   \n",
       "2  {'romantic': False, 'intimate': False, 'classy...       True        True   \n",
       "3                                                NaN        NaN         NaN   \n",
       "4  {'romantic': False, 'intimate': False, 'classy...       True        True   \n",
       "\n",
       "  driveThru                                    businessParking happyHour  \\\n",
       "0      True  {'garage': False, 'street': False, 'validated'...       NaN   \n",
       "1     False  {'garage': False, 'street': False, 'validated'...       NaN   \n",
       "2      True  {'garage': False, 'street': False, 'validated'...       NaN   \n",
       "3       NaN                                                NaN       NaN   \n",
       "4       NaN  {'garage': False, 'street': False, 'validated'...       NaN   \n",
       "\n",
       "  smoking  \n",
       "0     NaN  \n",
       "1     NaN  \n",
       "2     NaN  \n",
       "3     NaN  \n",
       "4     NaN  \n",
       "\n",
       "[5 rows x 22 columns]"
      ]
     },
     "execution_count": 49,
     "metadata": {},
     "output_type": "execute_result"
    }
   ],
   "source": [
    "# Reveal first few rows\n",
    "attributes_df.head()"
   ]
  },
  {
   "cell_type": "markdown",
   "metadata": {},
   "source": [
    "### Restaurant categories III - By Time of The Day - Continue\n",
    "We notice that feature `time` have values in dictionary format. we will break the dictionaries and convert them lists. "
   ]
  },
  {
   "cell_type": "code",
   "execution_count": 50,
   "metadata": {},
   "outputs": [
    {
     "name": "stderr",
     "output_type": "stream",
     "text": [
      "/anaconda3/lib/python3.7/site-packages/pandas/core/indexes/api.py:107: RuntimeWarning: '<' not supported between instances of 'str' and 'int', sort order is undefined for incomparable objects\n",
      "  result = result.union(other)\n",
      "/anaconda3/lib/python3.7/site-packages/pandas/core/indexes/api.py:69: RuntimeWarning: '<' not supported between instances of 'int' and 'str', sort order is undefined for incomparable objects\n",
      "  index = _union_indexes(indexes, sort=sort)\n",
      "/anaconda3/lib/python3.7/site-packages/pandas/core/indexes/api.py:107: RuntimeWarning: '<' not supported between instances of 'int' and 'str', sort order is undefined for incomparable objects\n",
      "  result = result.union(other)\n"
     ]
    }
   ],
   "source": [
    "# Convert feature time to a dataframe\n",
    "openFor_df = attributes_df['openFor'].apply(pd.Series)"
   ]
  },
  {
   "cell_type": "code",
   "execution_count": 51,
   "metadata": {},
   "outputs": [
    {
     "data": {
      "text/html": [
       "<div>\n",
       "<style scoped>\n",
       "    .dataframe tbody tr th:only-of-type {\n",
       "        vertical-align: middle;\n",
       "    }\n",
       "\n",
       "    .dataframe tbody tr th {\n",
       "        vertical-align: top;\n",
       "    }\n",
       "\n",
       "    .dataframe thead th {\n",
       "        text-align: right;\n",
       "    }\n",
       "</style>\n",
       "<table border=\"1\" class=\"dataframe\">\n",
       "  <thead>\n",
       "    <tr style=\"text-align: right;\">\n",
       "      <th></th>\n",
       "      <th>dessert</th>\n",
       "      <th>latenight</th>\n",
       "      <th>lunch</th>\n",
       "      <th>dinner</th>\n",
       "      <th>breakfast</th>\n",
       "      <th>brunch</th>\n",
       "      <th>0</th>\n",
       "    </tr>\n",
       "  </thead>\n",
       "  <tbody>\n",
       "    <tr>\n",
       "      <th>0</th>\n",
       "      <td>False</td>\n",
       "      <td>False</td>\n",
       "      <td>True</td>\n",
       "      <td>False</td>\n",
       "      <td>True</td>\n",
       "      <td>False</td>\n",
       "      <td>NaN</td>\n",
       "    </tr>\n",
       "    <tr>\n",
       "      <th>1</th>\n",
       "      <td>False</td>\n",
       "      <td>False</td>\n",
       "      <td>False</td>\n",
       "      <td>True</td>\n",
       "      <td>False</td>\n",
       "      <td>False</td>\n",
       "      <td>NaN</td>\n",
       "    </tr>\n",
       "    <tr>\n",
       "      <th>2</th>\n",
       "      <td>False</td>\n",
       "      <td>True</td>\n",
       "      <td>True</td>\n",
       "      <td>True</td>\n",
       "      <td>True</td>\n",
       "      <td>False</td>\n",
       "      <td>NaN</td>\n",
       "    </tr>\n",
       "    <tr>\n",
       "      <th>3</th>\n",
       "      <td>NaN</td>\n",
       "      <td>NaN</td>\n",
       "      <td>NaN</td>\n",
       "      <td>NaN</td>\n",
       "      <td>NaN</td>\n",
       "      <td>NaN</td>\n",
       "      <td>NaN</td>\n",
       "    </tr>\n",
       "    <tr>\n",
       "      <th>4</th>\n",
       "      <td>False</td>\n",
       "      <td>False</td>\n",
       "      <td>False</td>\n",
       "      <td>True</td>\n",
       "      <td>False</td>\n",
       "      <td>False</td>\n",
       "      <td>NaN</td>\n",
       "    </tr>\n",
       "  </tbody>\n",
       "</table>\n",
       "</div>"
      ],
      "text/plain": [
       "  dessert latenight  lunch dinner breakfast brunch   0\n",
       "0   False     False   True  False      True  False NaN\n",
       "1   False     False  False   True     False  False NaN\n",
       "2   False      True   True   True      True  False NaN\n",
       "3     NaN       NaN    NaN    NaN       NaN    NaN NaN\n",
       "4   False     False  False   True     False  False NaN"
      ]
     },
     "execution_count": 51,
     "metadata": {},
     "output_type": "execute_result"
    }
   ],
   "source": [
    "# Reveal first few rows\n",
    "openFor_df.head()"
   ]
  },
  {
   "cell_type": "code",
   "execution_count": 52,
   "metadata": {},
   "outputs": [],
   "source": [
    "# Drop unnecessary variable\n",
    "openFor_df = openFor_df.drop(0,axis=1)"
   ]
  },
  {
   "cell_type": "code",
   "execution_count": 53,
   "metadata": {},
   "outputs": [
    {
     "data": {
      "text/plain": [
       "dessert      641\n",
       "latenight    641\n",
       "lunch        641\n",
       "dinner       641\n",
       "breakfast    641\n",
       "brunch       641\n",
       "dtype: int64"
      ]
     },
     "execution_count": 53,
     "metadata": {},
     "output_type": "execute_result"
    }
   ],
   "source": [
    "# Check NA's\n",
    "openFor_df.isna().sum()"
   ]
  },
  {
   "cell_type": "code",
   "execution_count": 54,
   "metadata": {},
   "outputs": [],
   "source": [
    "# Fill NA's\n",
    "openFor_df['dessert'] = openFor_df['dessert'].fillna(df_business['types'].apply(lambda row: 'Desserts' in row))\n",
    "openFor_df['latenight'] = openFor_df['latenight'].fillna(df_business['time'].apply(lambda row: 'Latenight' in row))\n",
    "openFor_df['lunch'] = openFor_df['lunch'].fillna(df_business['time'].apply(lambda row: 'Lunch' in row))\n",
    "openFor_df['dinner'] = openFor_df['dinner'].fillna(df_business['time'].apply(lambda row: 'Dinner' in row))\n",
    "openFor_df['breakfast'] = openFor_df['breakfast'].fillna(df_business['time'].apply(lambda row: 'Breakfast' in row))\n",
    "openFor_df['brunch'] = openFor_df['brunch'].fillna(df_business['time'].apply(lambda row: 'Brunch' in row))"
   ]
  },
  {
   "cell_type": "code",
   "execution_count": 55,
   "metadata": {},
   "outputs": [],
   "source": [
    "# Create new feature openTime with a series of lists\n",
    "openFor_df['time'] = pd.Series()\n",
    "openFor_df['time'] = openFor_df['time'].apply(lambda x: [])"
   ]
  },
  {
   "cell_type": "code",
   "execution_count": 56,
   "metadata": {},
   "outputs": [],
   "source": [
    "# Convert several features into one\n",
    "openFor_ls = ['latenight','lunch','dinner','breakfast','brunch']\n",
    "for i in range(len(openFor_df['time'])):\n",
    "    for j in openFor_ls:\n",
    "        if str(openFor_df[j].iloc[i])=='True':\n",
    "            openFor_df['time'].iloc[i].append(j)"
   ]
  },
  {
   "cell_type": "markdown",
   "metadata": {},
   "source": [
    "Now we will visualize feature `time`."
   ]
  },
  {
   "cell_type": "code",
   "execution_count": 57,
   "metadata": {},
   "outputs": [],
   "source": [
    "# Convert dictionary to dataframe\n",
    "openFor_dict = dict(zip(openFor_ls, [[x in row for row in openFor_df['time']].count(True) for x in openFor_ls]))\n",
    "openFor_plot_df = pd.DataFrame(list(openFor_dict.items()),columns=['openFor','Count']).sort_values('Count',ascending = False).reset_index()\n",
    "openFor_plot_df = openFor_plot_df.drop('index', axis=1);"
   ]
  },
  {
   "cell_type": "code",
   "execution_count": 58,
   "metadata": {},
   "outputs": [
    {
     "data": {
      "image/png": "[encoded data removed]",
      "text/plain": [
       "<Figure size 1080x720 with 1 Axes>"
      ]
     },
     "metadata": {},
     "output_type": "display_data"
    }
   ],
   "source": [
    "# Visualize dataframe types\n",
    "plt.figure(figsize=(15,10))\n",
    "sns.set(style='whitegrid')\n",
    "openFor_plot = sns.barplot(x='Count', y='openFor', data=openFor_plot_df,palette='YlGn_r')\n",
    "openFor_plot.set_yticklabels(openFor_plot.get_yticklabels(), fontdict={'fontsize':10});"
   ]
  },
  {
   "cell_type": "code",
   "execution_count": 59,
   "metadata": {},
   "outputs": [
    {
     "data": {
      "text/plain": [
       "0                       [lunch, breakfast]\n",
       "1                                 [dinner]\n",
       "2    [latenight, lunch, dinner, breakfast]\n",
       "3                                       []\n",
       "4                                 [dinner]\n",
       "Name: time, dtype: object"
      ]
     },
     "execution_count": 59,
     "metadata": {},
     "output_type": "execute_result"
    }
   ],
   "source": [
    "openFor_df['time'].head()"
   ]
  },
  {
   "cell_type": "markdown",
   "metadata": {},
   "source": [
    "Now, we will drop our original feature `time` and replace it with new `time` extracted from `attributes`. At the same time, we will also merge feature `dessert` in our business dataset."
   ]
  },
  {
   "cell_type": "code",
   "execution_count": 60,
   "metadata": {},
   "outputs": [],
   "source": [
    "# Drop variables\n",
    "df_business = df_business.drop('time',axis=1)\n",
    "attributes_df = attributes_df.drop('openFor', axis=1)\n",
    "openFor_df = openFor_df.drop(['latenight','lunch','dinner','breakfast','brunch'], axis=1)"
   ]
  },
  {
   "cell_type": "code",
   "execution_count": 61,
   "metadata": {},
   "outputs": [],
   "source": [
    "# Merge to our data\n",
    "df_business = df_business.merge(openFor_df, left_index=True, right_index=True)"
   ]
  },
  {
   "cell_type": "code",
   "execution_count": 62,
   "metadata": {},
   "outputs": [
    {
     "data": {
      "text/html": [
       "<div>\n",
       "<style scoped>\n",
       "    .dataframe tbody tr th:only-of-type {\n",
       "        vertical-align: middle;\n",
       "    }\n",
       "\n",
       "    .dataframe tbody tr th {\n",
       "        vertical-align: top;\n",
       "    }\n",
       "\n",
       "    .dataframe thead th {\n",
       "        text-align: right;\n",
       "    }\n",
       "</style>\n",
       "<table border=\"1\" class=\"dataframe\">\n",
       "  <thead>\n",
       "    <tr style=\"text-align: right;\">\n",
       "      <th></th>\n",
       "      <th>isBankrupt</th>\n",
       "      <th>county</th>\n",
       "      <th>isChain</th>\n",
       "      <th>density</th>\n",
       "      <th>ethnics</th>\n",
       "      <th>types</th>\n",
       "      <th>dessert</th>\n",
       "      <th>time</th>\n",
       "    </tr>\n",
       "  </thead>\n",
       "  <tbody>\n",
       "    <tr>\n",
       "      <th>0</th>\n",
       "      <td>0</td>\n",
       "      <td>Maricopa County</td>\n",
       "      <td>1</td>\n",
       "      <td>2493</td>\n",
       "      <td>[]</td>\n",
       "      <td>[Fast Food]</td>\n",
       "      <td>False</td>\n",
       "      <td>[lunch, breakfast]</td>\n",
       "    </tr>\n",
       "    <tr>\n",
       "      <th>1</th>\n",
       "      <td>0</td>\n",
       "      <td>Maricopa County</td>\n",
       "      <td>0</td>\n",
       "      <td>2493</td>\n",
       "      <td>[]</td>\n",
       "      <td>[Fast Food]</td>\n",
       "      <td>False</td>\n",
       "      <td>[dinner]</td>\n",
       "    </tr>\n",
       "    <tr>\n",
       "      <th>2</th>\n",
       "      <td>0</td>\n",
       "      <td>Maricopa County</td>\n",
       "      <td>1</td>\n",
       "      <td>2493</td>\n",
       "      <td>[]</td>\n",
       "      <td>[Fast Food]</td>\n",
       "      <td>False</td>\n",
       "      <td>[latenight, lunch, dinner, breakfast]</td>\n",
       "    </tr>\n",
       "    <tr>\n",
       "      <th>3</th>\n",
       "      <td>0</td>\n",
       "      <td>Maricopa County</td>\n",
       "      <td>0</td>\n",
       "      <td>2493</td>\n",
       "      <td>[]</td>\n",
       "      <td>[Pizza]</td>\n",
       "      <td>False</td>\n",
       "      <td>[]</td>\n",
       "    </tr>\n",
       "    <tr>\n",
       "      <th>4</th>\n",
       "      <td>0</td>\n",
       "      <td>Maricopa County</td>\n",
       "      <td>0</td>\n",
       "      <td>844</td>\n",
       "      <td>[SouthEastAisa]</td>\n",
       "      <td>[Gluten-Free, Seafood]</td>\n",
       "      <td>False</td>\n",
       "      <td>[dinner]</td>\n",
       "    </tr>\n",
       "  </tbody>\n",
       "</table>\n",
       "</div>"
      ],
      "text/plain": [
       "   isBankrupt           county  isChain  density          ethnics  \\\n",
       "0           0  Maricopa County        1     2493               []   \n",
       "1           0  Maricopa County        0     2493               []   \n",
       "2           0  Maricopa County        1     2493               []   \n",
       "3           0  Maricopa County        0     2493               []   \n",
       "4           0  Maricopa County        0      844  [SouthEastAisa]   \n",
       "\n",
       "                    types  dessert                                   time  \n",
       "0             [Fast Food]    False                     [lunch, breakfast]  \n",
       "1             [Fast Food]    False                               [dinner]  \n",
       "2             [Fast Food]    False  [latenight, lunch, dinner, breakfast]  \n",
       "3                 [Pizza]    False                                     []  \n",
       "4  [Gluten-Free, Seafood]    False                               [dinner]  "
      ]
     },
     "execution_count": 62,
     "metadata": {},
     "output_type": "execute_result"
    }
   ],
   "source": [
    "df_business.head().iloc[:,11:20]"
   ]
  },
  {
   "cell_type": "markdown",
   "metadata": {},
   "source": [
    "### Clean NA's For Alcohol"
   ]
  },
  {
   "cell_type": "code",
   "execution_count": 63,
   "metadata": {},
   "outputs": [
    {
     "data": {
      "text/plain": [
       "948"
      ]
     },
     "execution_count": 63,
     "metadata": {},
     "output_type": "execute_result"
    }
   ],
   "source": [
    "# Check number of NA's\n",
    "attributes_df['alcohol'].isna().sum()"
   ]
  },
  {
   "cell_type": "code",
   "execution_count": 64,
   "metadata": {},
   "outputs": [],
   "source": [
    "# Fill NA's\n",
    "attributes_df['alcohol'] = attributes_df['alcohol'].fillna(df_business['types'].apply(lambda row: str('Alcohol' in row)))"
   ]
  },
  {
   "cell_type": "code",
   "execution_count": 65,
   "metadata": {},
   "outputs": [
    {
     "data": {
      "text/plain": [
       "none             3405\n",
       "full_bar         1896\n",
       "False             903\n",
       "beer_and_wine     867\n",
       "True               45\n",
       "Name: alcohol, dtype: int64"
      ]
     },
     "execution_count": 65,
     "metadata": {},
     "output_type": "execute_result"
    }
   ],
   "source": [
    "# Check value counts\n",
    "attributes_df['alcohol'].value_counts()"
   ]
  },
  {
   "cell_type": "markdown",
   "metadata": {},
   "source": [
    "Now we will do some combinations: <br>\n",
    "`none`, `False` -> `False` <br>\n",
    "`full_bar`, `beer_and_wine`, `True` -> `True`."
   ]
  },
  {
   "cell_type": "code",
   "execution_count": 66,
   "metadata": {},
   "outputs": [],
   "source": [
    "# Combinations\n",
    "attributes_df['alcohol'] = attributes_df['alcohol'].str.replace('none', 'False')\n",
    "attributes_df['alcohol'] = attributes_df['alcohol'].str.replace('full_bar', 'True')\n",
    "attributes_df['alcohol'] = attributes_df['alcohol'].str.replace('beer_and_wine', 'True')"
   ]
  },
  {
   "cell_type": "code",
   "execution_count": 67,
   "metadata": {},
   "outputs": [],
   "source": [
    "# Convert values to boolean\n",
    "attributes_df['alcohol'] = attributes_df['alcohol'].apply(lambda x: (x=='True'))"
   ]
  },
  {
   "cell_type": "code",
   "execution_count": 68,
   "metadata": {},
   "outputs": [
    {
     "data": {
      "text/plain": [
       "False    4308\n",
       "True     2808\n",
       "Name: alcohol, dtype: int64"
      ]
     },
     "execution_count": 68,
     "metadata": {},
     "output_type": "execute_result"
    }
   ],
   "source": [
    "# Check value counts again\n",
    "attributes_df['alcohol'].value_counts()"
   ]
  },
  {
   "cell_type": "markdown",
   "metadata": {},
   "source": [
    "### Break Dictionaries For Ambience and BusinessParking"
   ]
  },
  {
   "cell_type": "code",
   "execution_count": 69,
   "metadata": {},
   "outputs": [],
   "source": [
    "# Break dictionary ambience\n",
    "ambience_df = attributes_df['ambience'].apply(pd.Series)\n",
    "ambience_df = ambience_df.drop(0,axis=1)"
   ]
  },
  {
   "cell_type": "code",
   "execution_count": 70,
   "metadata": {},
   "outputs": [],
   "source": [
    "# Break dictionary businessParking\n",
    "businessParking_df = attributes_df['businessParking'].apply(pd.Series)\n",
    "businessParking_df = businessParking_df.drop(0,axis=1)"
   ]
  },
  {
   "cell_type": "code",
   "execution_count": 71,
   "metadata": {},
   "outputs": [],
   "source": [
    "# Merge to attributes_df\n",
    "attributes_df = attributes_df.merge(ambience_df, left_index=True, right_index=True)\n",
    "ambience_df = ambience_df.merge(businessParking_df, left_index=True, right_index=True)"
   ]
  },
  {
   "cell_type": "code",
   "execution_count": 72,
   "metadata": {},
   "outputs": [],
   "source": [
    "attributes_df = attributes_df.drop(['ambience','businessParking'], axis=1)"
   ]
  },
  {
   "cell_type": "code",
   "execution_count": 73,
   "metadata": {},
   "outputs": [
    {
     "data": {
      "text/plain": [
       "(7116, 28)"
      ]
     },
     "execution_count": 73,
     "metadata": {},
     "output_type": "execute_result"
    }
   ],
   "source": [
    "attributes_df.shape"
   ]
  },
  {
   "cell_type": "markdown",
   "metadata": {},
   "source": [
    "## Final Merge And Output"
   ]
  },
  {
   "cell_type": "code",
   "execution_count": 74,
   "metadata": {},
   "outputs": [
    {
     "data": {
      "text/plain": [
       "(7116, 19)"
      ]
     },
     "execution_count": 74,
     "metadata": {},
     "output_type": "execute_result"
    }
   ],
   "source": [
    "df_business.shape"
   ]
  },
  {
   "cell_type": "code",
   "execution_count": 75,
   "metadata": {},
   "outputs": [],
   "source": [
    "df_business = df_business.merge(attributes_df, left_index=True, right_index=True)"
   ]
  },
  {
   "cell_type": "code",
   "execution_count": 76,
   "metadata": {},
   "outputs": [
    {
     "data": {
      "text/plain": [
       "(7116, 47)"
      ]
     },
     "execution_count": 76,
     "metadata": {},
     "output_type": "execute_result"
    }
   ],
   "source": [
    "df_business.shape"
   ]
  },
  {
   "cell_type": "code",
   "execution_count": 77,
   "metadata": {},
   "outputs": [
    {
     "data": {
      "text/plain": [
       "Index(['attributes', 'business_id', 'categories', 'city', 'latitude',\n",
       "       'longitude', 'name', 'postal_code', 'review_count', 'stars', 'state',\n",
       "       'isBankrupt', 'county', 'isChain', 'density', 'ethnics', 'types',\n",
       "       'dessert', 'time', 'tableService', 'alcohol', 'caters', 'hasTV',\n",
       "       'forGroups', 'noiceLevel', 'hasWiFi', 'attire', 'reservations',\n",
       "       'outdoorSeating', 'acceptCreditCard', 'priceRange', 'bikeParking',\n",
       "       'delivery', 'hasTakeOut', 'goodForKids', 'driveThru', 'happyHour',\n",
       "       'smoking', 'romantic', 'intimate', 'classy', 'hipster', 'divey',\n",
       "       'touristy', 'trendy', 'upscale', 'casual'],\n",
       "      dtype='object')"
      ]
     },
     "execution_count": 77,
     "metadata": {},
     "output_type": "execute_result"
    }
   ],
   "source": [
    "df_business.columns"
   ]
  },
  {
   "cell_type": "code",
   "execution_count": 78,
   "metadata": {},
   "outputs": [],
   "source": [
    "df_business.to_csv('business_forEDA.csv', index=False)"
   ]
  },
  {
   "cell_type": "code",
   "execution_count": null,
   "metadata": {},
   "outputs": [],
   "source": []
  }
 ],
 "metadata": {
  "kernelspec": {
   "display_name": "Python 3",
   "language": "python",
   "name": "python3"
  },
  "language_info": {
   "codemirror_mode": {
    "name": "ipython",
    "version": 3
   },
   "file_extension": ".py",
   "mimetype": "text/x-python",
   "name": "python",
   "nbconvert_exporter": "python",
   "pygments_lexer": "ipython3",
   "version": "3.7.1"
  }
 },
 "nbformat": 4,
 "nbformat_minor": 2
}
