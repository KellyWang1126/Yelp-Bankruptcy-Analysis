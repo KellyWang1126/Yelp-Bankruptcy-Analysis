{
 "cells": [
  {
   "cell_type": "markdown",
   "metadata": {},
   "source": [
    "# 3. Feature Engineering"
   ]
  },
  {
   "cell_type": "code",
   "execution_count": 1,
   "metadata": {},
   "outputs": [],
   "source": [
    "# Import python packages\n",
    "import numpy as np\n",
    "import pandas as pd"
   ]
  },
  {
   "cell_type": "markdown",
   "metadata": {},
   "source": [
    "## 3.1 Business Features"
   ]
  },
  {
   "cell_type": "code",
   "execution_count": 2,
   "metadata": {},
   "outputs": [
    {
     "data": {
      "text/plain": [
       "(2493, 13)"
      ]
     },
     "execution_count": 2,
     "metadata": {},
     "output_type": "execute_result"
    }
   ],
   "source": [
    "# Read business data and checkin data\n",
    "business = pd.read_csv('clean_business.csv')\n",
    "business.shape"
   ]
  },
  {
   "cell_type": "code",
   "execution_count": 3,
   "metadata": {},
   "outputs": [
    {
     "data": {
      "text/html": [
       "<div>\n",
       "<style scoped>\n",
       "    .dataframe tbody tr th:only-of-type {\n",
       "        vertical-align: middle;\n",
       "    }\n",
       "\n",
       "    .dataframe tbody tr th {\n",
       "        vertical-align: top;\n",
       "    }\n",
       "\n",
       "    .dataframe thead th {\n",
       "        text-align: right;\n",
       "    }\n",
       "</style>\n",
       "<table border=\"1\" class=\"dataframe\">\n",
       "  <thead>\n",
       "    <tr style=\"text-align: right;\">\n",
       "      <th></th>\n",
       "      <th>attributes</th>\n",
       "      <th>business_id</th>\n",
       "      <th>categories</th>\n",
       "      <th>city</th>\n",
       "      <th>latitude</th>\n",
       "      <th>longitude</th>\n",
       "      <th>name</th>\n",
       "      <th>postal_code</th>\n",
       "      <th>review_count</th>\n",
       "      <th>stars</th>\n",
       "      <th>state</th>\n",
       "      <th>isBankrupt</th>\n",
       "      <th>county</th>\n",
       "    </tr>\n",
       "  </thead>\n",
       "  <tbody>\n",
       "    <tr>\n",
       "      <th>0</th>\n",
       "      <td>{'RestaurantsTableService': False, 'GoodForMea...</td>\n",
       "      <td>rDMptJYWtnMhpQu_rRXHng</td>\n",
       "      <td>['Fast Food', 'Burgers', 'Restaurants']</td>\n",
       "      <td>Phoenix</td>\n",
       "      <td>33.607070</td>\n",
       "      <td>-112.064382</td>\n",
       "      <td>McDonald's</td>\n",
       "      <td>85022</td>\n",
       "      <td>10</td>\n",
       "      <td>1.0</td>\n",
       "      <td>AZ</td>\n",
       "      <td>0</td>\n",
       "      <td>Maricopa County</td>\n",
       "    </tr>\n",
       "    <tr>\n",
       "      <th>1</th>\n",
       "      <td>{'RestaurantsTableService': True, 'GoodForMeal...</td>\n",
       "      <td>1WBkAuQg81kokZIPMpn9Zg</td>\n",
       "      <td>['Burgers', 'Restaurants']</td>\n",
       "      <td>Phoenix</td>\n",
       "      <td>33.607310</td>\n",
       "      <td>-112.063404</td>\n",
       "      <td>Charr An American Burger Bar</td>\n",
       "      <td>85022</td>\n",
       "      <td>232</td>\n",
       "      <td>3.0</td>\n",
       "      <td>AZ</td>\n",
       "      <td>0</td>\n",
       "      <td>Maricopa County</td>\n",
       "    </tr>\n",
       "    <tr>\n",
       "      <th>2</th>\n",
       "      <td>{'RestaurantsTableService': False, 'GoodForMea...</td>\n",
       "      <td>iPa__LOhse-hobC2Xmp-Kw</td>\n",
       "      <td>['Restaurants', 'Burgers', 'Fast Food']</td>\n",
       "      <td>Phoenix</td>\n",
       "      <td>33.508765</td>\n",
       "      <td>-112.046240</td>\n",
       "      <td>McDonald's</td>\n",
       "      <td>85016</td>\n",
       "      <td>34</td>\n",
       "      <td>3.0</td>\n",
       "      <td>AZ</td>\n",
       "      <td>0</td>\n",
       "      <td>Maricopa County</td>\n",
       "    </tr>\n",
       "    <tr>\n",
       "      <th>3</th>\n",
       "      <td>{'BusinessAcceptsCreditCards': True, 'Business...</td>\n",
       "      <td>YhV93k9uiMdr3FlV4FHjwA</td>\n",
       "      <td>['Marketing', \"Men's Clothing\", 'Restaurants',...</td>\n",
       "      <td>Phoenix</td>\n",
       "      <td>33.449967</td>\n",
       "      <td>-112.070222</td>\n",
       "      <td>Caviness Studio</td>\n",
       "      <td>85001</td>\n",
       "      <td>4</td>\n",
       "      <td>5.0</td>\n",
       "      <td>AZ</td>\n",
       "      <td>0</td>\n",
       "      <td>Maricopa County</td>\n",
       "    </tr>\n",
       "    <tr>\n",
       "      <th>4</th>\n",
       "      <td>{'RestaurantsTableService': True, 'GoodForMeal...</td>\n",
       "      <td>QkG3KUXwqZBW18A9k1xqCA</td>\n",
       "      <td>['American (Traditional)', 'Restaurants', 'Sea...</td>\n",
       "      <td>Phoenix</td>\n",
       "      <td>33.478735</td>\n",
       "      <td>-112.221379</td>\n",
       "      <td>Red Lobster</td>\n",
       "      <td>85035</td>\n",
       "      <td>37</td>\n",
       "      <td>2.5</td>\n",
       "      <td>AZ</td>\n",
       "      <td>0</td>\n",
       "      <td>Maricopa County</td>\n",
       "    </tr>\n",
       "  </tbody>\n",
       "</table>\n",
       "</div>"
      ],
      "text/plain": [
       "                                          attributes             business_id  \\\n",
       "0  {'RestaurantsTableService': False, 'GoodForMea...  rDMptJYWtnMhpQu_rRXHng   \n",
       "1  {'RestaurantsTableService': True, 'GoodForMeal...  1WBkAuQg81kokZIPMpn9Zg   \n",
       "2  {'RestaurantsTableService': False, 'GoodForMea...  iPa__LOhse-hobC2Xmp-Kw   \n",
       "3  {'BusinessAcceptsCreditCards': True, 'Business...  YhV93k9uiMdr3FlV4FHjwA   \n",
       "4  {'RestaurantsTableService': True, 'GoodForMeal...  QkG3KUXwqZBW18A9k1xqCA   \n",
       "\n",
       "                                          categories     city   latitude  \\\n",
       "0            ['Fast Food', 'Burgers', 'Restaurants']  Phoenix  33.607070   \n",
       "1                         ['Burgers', 'Restaurants']  Phoenix  33.607310   \n",
       "2            ['Restaurants', 'Burgers', 'Fast Food']  Phoenix  33.508765   \n",
       "3  ['Marketing', \"Men's Clothing\", 'Restaurants',...  Phoenix  33.449967   \n",
       "4  ['American (Traditional)', 'Restaurants', 'Sea...  Phoenix  33.478735   \n",
       "\n",
       "    longitude                          name  postal_code  review_count  stars  \\\n",
       "0 -112.064382                    McDonald's        85022            10    1.0   \n",
       "1 -112.063404  Charr An American Burger Bar        85022           232    3.0   \n",
       "2 -112.046240                    McDonald's        85016            34    3.0   \n",
       "3 -112.070222               Caviness Studio        85001             4    5.0   \n",
       "4 -112.221379                   Red Lobster        85035            37    2.5   \n",
       "\n",
       "  state  isBankrupt           county  \n",
       "0    AZ           0  Maricopa County  \n",
       "1    AZ           0  Maricopa County  \n",
       "2    AZ           0  Maricopa County  \n",
       "3    AZ           0  Maricopa County  \n",
       "4    AZ           0  Maricopa County  "
      ]
     },
     "execution_count": 3,
     "metadata": {},
     "output_type": "execute_result"
    }
   ],
   "source": [
    "# Reveal first few rows \n",
    "business.head()"
   ]
  },
  {
   "cell_type": "code",
   "execution_count": 4,
   "metadata": {},
   "outputs": [],
   "source": [
    "# Make a copy of raw dataset\n",
    "business_df = business.copy()"
   ]
  },
  {
   "cell_type": "markdown",
   "metadata": {},
   "source": [
    "## 3.1.1 Create isChain\n",
    "\n",
    "We define `isChain` variable by checking whether the name of the restaurant has appeared more than once. "
   ]
  },
  {
   "cell_type": "code",
   "execution_count": 5,
   "metadata": {},
   "outputs": [],
   "source": [
    "# Create new feature chain\n",
    "chain_dict = business_df['name'].value_counts().to_dict()\n",
    "business_df['isChain'] = business_df['name'].apply(lambda x: int(chain_dict[x] > 1))"
   ]
  },
  {
   "cell_type": "markdown",
   "metadata": {},
   "source": [
    "## 3.1.2 Create Neighborhood Density (Do this later)"
   ]
  },
  {
   "cell_type": "code",
   "execution_count": null,
   "metadata": {},
   "outputs": [],
   "source": []
  },
  {
   "cell_type": "markdown",
   "metadata": {},
   "source": [
    "## 3.1.3 Extract Business Categories"
   ]
  },
  {
   "cell_type": "code",
   "execution_count": 6,
   "metadata": {},
   "outputs": [
    {
     "data": {
      "text/plain": [
       "str"
      ]
     },
     "execution_count": 6,
     "metadata": {},
     "output_type": "execute_result"
    }
   ],
   "source": [
    "# Check categories type\n",
    "type(business_df['categories'][0])"
   ]
  },
  {
   "cell_type": "code",
   "execution_count": 7,
   "metadata": {},
   "outputs": [],
   "source": [
    "# Convert categories string into list\n",
    "business_df['categories'] = business_df['categories'].apply(lambda x: eval(x))"
   ]
  },
  {
   "cell_type": "code",
   "execution_count": 8,
   "metadata": {},
   "outputs": [
    {
     "name": "stdout",
     "output_type": "stream",
     "text": [
      "Number of unique categories: 271\n"
     ]
    }
   ],
   "source": [
    "# Extract all unique categories\n",
    "categories = np.unique([item for row in business_df['categories'] for item in row])\n",
    "print(\"Number of unique categories:\", len(categories))"
   ]
  },
  {
   "cell_type": "markdown",
   "metadata": {},
   "source": [
    "## Restaurant categories I - Ethnicity\n",
    "\n",
    "### a) Extract all ethnics"
   ]
  },
  {
   "cell_type": "code",
   "execution_count": 9,
   "metadata": {},
   "outputs": [],
   "source": [
    "# All ethnics found in the dataset\n",
    "all_ethnics = ['Afghan', 'African', 'American (New)', 'American (Traditional)', \n",
    "               'Arabian', 'Argentine','Armenian', 'Asian Fusion', 'British', \n",
    "               'Cajun/Creole', 'Cambodian', 'Cantonese', 'Caribbean', 'Chinese', \n",
    "               'Indian', 'Cuban', 'Empanadas', 'Ethiopian', 'Filipino', 'French', \n",
    "               'Greek', 'Hawaiian', 'Irish', 'Italian', 'Japanese', 'Korean', \n",
    "               'Kosher', 'Halal', 'Latin American', 'Lebanese', 'Mediterranean', \n",
    "               'Mexican', 'Middle Eastern', 'Modern European', 'Mongolian',\n",
    "               'Moroccan', 'Pakistani', 'Persian/Iranian', 'Peruvian', 'Puerto Rican', \n",
    "               'Russian', 'Salvadoran', 'Southern', 'Spanish', 'Szechuan', \n",
    "               'Thai', 'Tex-Mex', 'Vietnamese', 'Turkish', 'Ukrainian', 'Uzbek']"
   ]
  },
  {
   "cell_type": "code",
   "execution_count": 10,
   "metadata": {},
   "outputs": [],
   "source": [
    "# Extract all ethnics from categories\n",
    "business_df['ethnics'] = business_df['categories'].apply(lambda row: [x for x in row if x in all_ethnics])"
   ]
  },
  {
   "cell_type": "code",
   "execution_count": 11,
   "metadata": {},
   "outputs": [
    {
     "name": "stdout",
     "output_type": "stream",
     "text": [
      "Total Number of Ethnics: 51\n"
     ]
    }
   ],
   "source": [
    "# Create a dictionary to count the occurence of each ethnic\n",
    "ethnics_dict = dict(zip(all_ethnics, [sum([x in row for row in business_df['ethnics']]) for x in all_ethnics]))\n",
    "print('Total Number of Ethnics:', len(ethnics_dict))"
   ]
  },
  {
   "cell_type": "code",
   "execution_count": 12,
   "metadata": {},
   "outputs": [
    {
     "data": {
      "text/html": [
       "<div>\n",
       "<style scoped>\n",
       "    .dataframe tbody tr th:only-of-type {\n",
       "        vertical-align: middle;\n",
       "    }\n",
       "\n",
       "    .dataframe tbody tr th {\n",
       "        vertical-align: top;\n",
       "    }\n",
       "\n",
       "    .dataframe thead th {\n",
       "        text-align: right;\n",
       "    }\n",
       "</style>\n",
       "<table border=\"1\" class=\"dataframe\">\n",
       "  <thead>\n",
       "    <tr style=\"text-align: right;\">\n",
       "      <th></th>\n",
       "      <th>Ethnics</th>\n",
       "      <th>Count</th>\n",
       "    </tr>\n",
       "  </thead>\n",
       "  <tbody>\n",
       "    <tr>\n",
       "      <th>0</th>\n",
       "      <td>Mexican</td>\n",
       "      <td>490</td>\n",
       "    </tr>\n",
       "    <tr>\n",
       "      <th>1</th>\n",
       "      <td>American (Traditional)</td>\n",
       "      <td>339</td>\n",
       "    </tr>\n",
       "    <tr>\n",
       "      <th>2</th>\n",
       "      <td>American (New)</td>\n",
       "      <td>246</td>\n",
       "    </tr>\n",
       "    <tr>\n",
       "      <th>3</th>\n",
       "      <td>Italian</td>\n",
       "      <td>190</td>\n",
       "    </tr>\n",
       "    <tr>\n",
       "      <th>4</th>\n",
       "      <td>Chinese</td>\n",
       "      <td>144</td>\n",
       "    </tr>\n",
       "  </tbody>\n",
       "</table>\n",
       "</div>"
      ],
      "text/plain": [
       "                  Ethnics  Count\n",
       "0                 Mexican    490\n",
       "1  American (Traditional)    339\n",
       "2          American (New)    246\n",
       "3                 Italian    190\n",
       "4                 Chinese    144"
      ]
     },
     "execution_count": 12,
     "metadata": {},
     "output_type": "execute_result"
    }
   ],
   "source": [
    "# Convert dictionary to dataframe\n",
    "ethnics_df = pd.DataFrame(list(ethnics_dict.items()), columns=['Ethnics','Count']) \\\n",
    "                .sort_values('Count', ascending = False) \\\n",
    "                .reset_index() \\\n",
    "                .drop('index', axis=1)\n",
    "ethnics_df.head()"
   ]
  },
  {
   "cell_type": "markdown",
   "metadata": {},
   "source": [
    "### b) Combine ethnicity into smaller groups\n",
    "\n",
    "Since there are too many ethnics categories in the dataset, we combine these categories into smaller groups."
   ]
  },
  {
   "cell_type": "code",
   "execution_count": 13,
   "metadata": {},
   "outputs": [],
   "source": [
    "# Combine ethnics into fewer categories\n",
    "ethnic_dict = {\n",
    "    'African': ['African', 'Ethiopian', 'Moroccan'],\n",
    "    'American': ['American (New)', 'American (Traditional)', 'Hawaiian', 'Southern'],\n",
    "    'AsiaContinent': ['Mongolian', 'Russian', 'Ukrainian', 'Uzbek'],\n",
    "    'Chinese': ['Cantonese', 'Chinese', 'Szechuan'],\n",
    "    'EastAsia': ['Japanese', 'Korean', 'Asian Fusion'],\n",
    "    'European': ['British', 'French', 'Greek', 'Irish', 'Kosher', 'Modern European', 'Cajun/Creole', 'Spanish'],\n",
    "    'LatinAmerica': ['Argentine', 'Caribbean', 'Cuban', 'Empanadas', \n",
    "                     'Latin American', 'Peruvian', 'Puerto Rican', 'Salvadoran'],\n",
    "    'Mexican': ['Mexican','Tex-Mex'],\n",
    "    'MiddleEast': ['Arabian', 'Armenian', 'Halal', 'Lebanese', 'Middle Eastern', \n",
    "                   'Turkish','Mediterranean', 'Afghan', 'Pakistani', 'Persian/Iranian'],\n",
    "    'SouthEastAsia': ['Cambodian', 'Filipino', 'Laotian', 'Thai', 'Vietnamese','Indian']\n",
    "}"
   ]
  },
  {
   "cell_type": "code",
   "execution_count": 14,
   "metadata": {},
   "outputs": [],
   "source": [
    "# Merge ethnics into smaller categories\n",
    "merge_ethnic = lambda row: np.unique([ethnic if x in ethnic_dict[ethnic] else x for x in row])\n",
    "for ethnic in ethnic_dict.keys():\n",
    "    business_df['ethnics'] = business_df['ethnics'].apply(merge_ethnic)"
   ]
  },
  {
   "cell_type": "code",
   "execution_count": 15,
   "metadata": {},
   "outputs": [
    {
     "name": "stdout",
     "output_type": "stream",
     "text": [
      "Total Number of Ethnics: 10\n"
     ]
    }
   ],
   "source": [
    "# Update dictionary\n",
    "ethnics = ethnic_dict.keys()\n",
    "ethnics_dict = dict(zip(ethnics, [sum([x in row for row in business_df['ethnics'] if len(row) > 0]) for x in ethnics]))\n",
    "print('Total Number of Ethnics:', len(ethnics_dict))"
   ]
  },
  {
   "cell_type": "code",
   "execution_count": 16,
   "metadata": {},
   "outputs": [
    {
     "data": {
      "text/plain": [
       "{'African': 9,\n",
       " 'American': 542,\n",
       " 'AsiaContinent': 5,\n",
       " 'Chinese': 144,\n",
       " 'EastAsia': 117,\n",
       " 'European': 85,\n",
       " 'LatinAmerica': 37,\n",
       " 'Mexican': 496,\n",
       " 'MiddleEast': 92,\n",
       " 'SouthEastAsia': 78}"
      ]
     },
     "execution_count": 16,
     "metadata": {},
     "output_type": "execute_result"
    }
   ],
   "source": [
    "# Print dictionary\n",
    "ethnics_dict"
   ]
  },
  {
   "cell_type": "markdown",
   "metadata": {},
   "source": [
    "### c) Combine less frequent ethnic group\n",
    "\n",
    "We will group ethnics that have very less than 50 occurence into `Other_Ethnic`"
   ]
  },
  {
   "cell_type": "code",
   "execution_count": 17,
   "metadata": {},
   "outputs": [
    {
     "data": {
      "text/plain": [
       "['African', 'AsiaContinent', 'LatinAmerica']"
      ]
     },
     "execution_count": 17,
     "metadata": {},
     "output_type": "execute_result"
    }
   ],
   "source": [
    "other_ethnic = [x for x in ethnics_dict.keys() if ethnics_dict[x] < 50]\n",
    "other_ethnic"
   ]
  },
  {
   "cell_type": "code",
   "execution_count": 18,
   "metadata": {},
   "outputs": [],
   "source": [
    "# Update feature ethnics\n",
    "convert_to_other = lambda row: np.unique(['Other_Ethnic' if x in other_ethnic else x for x in row])\n",
    "business_df['ethnics'] = business_df['ethnics'].apply(convert_to_other)"
   ]
  },
  {
   "cell_type": "code",
   "execution_count": 19,
   "metadata": {},
   "outputs": [
    {
     "name": "stdout",
     "output_type": "stream",
     "text": [
      "Total Number of Ethnics: 8\n"
     ]
    }
   ],
   "source": [
    "# Update dictionary\n",
    "ethnics = [x for x in ethnics_dict.keys() if x not in other_ethnic] + ['Other_Ethnic']\n",
    "ethnics_dict = dict(zip(ethnics, [sum([x in row for row in business_df['ethnics'] if len(row) > 0]) for x in ethnics]))\n",
    "print('Total Number of Ethnics:', len(ethnics_dict))"
   ]
  },
  {
   "cell_type": "code",
   "execution_count": 20,
   "metadata": {},
   "outputs": [
    {
     "data": {
      "text/html": [
       "<div>\n",
       "<style scoped>\n",
       "    .dataframe tbody tr th:only-of-type {\n",
       "        vertical-align: middle;\n",
       "    }\n",
       "\n",
       "    .dataframe tbody tr th {\n",
       "        vertical-align: top;\n",
       "    }\n",
       "\n",
       "    .dataframe thead th {\n",
       "        text-align: right;\n",
       "    }\n",
       "</style>\n",
       "<table border=\"1\" class=\"dataframe\">\n",
       "  <thead>\n",
       "    <tr style=\"text-align: right;\">\n",
       "      <th></th>\n",
       "      <th>Ethnics</th>\n",
       "      <th>Count</th>\n",
       "    </tr>\n",
       "  </thead>\n",
       "  <tbody>\n",
       "    <tr>\n",
       "      <th>0</th>\n",
       "      <td>American</td>\n",
       "      <td>542</td>\n",
       "    </tr>\n",
       "    <tr>\n",
       "      <th>1</th>\n",
       "      <td>Mexican</td>\n",
       "      <td>496</td>\n",
       "    </tr>\n",
       "    <tr>\n",
       "      <th>2</th>\n",
       "      <td>Chinese</td>\n",
       "      <td>144</td>\n",
       "    </tr>\n",
       "    <tr>\n",
       "      <th>3</th>\n",
       "      <td>EastAsia</td>\n",
       "      <td>117</td>\n",
       "    </tr>\n",
       "    <tr>\n",
       "      <th>4</th>\n",
       "      <td>MiddleEast</td>\n",
       "      <td>92</td>\n",
       "    </tr>\n",
       "    <tr>\n",
       "      <th>5</th>\n",
       "      <td>European</td>\n",
       "      <td>85</td>\n",
       "    </tr>\n",
       "    <tr>\n",
       "      <th>6</th>\n",
       "      <td>SouthEastAsia</td>\n",
       "      <td>78</td>\n",
       "    </tr>\n",
       "    <tr>\n",
       "      <th>7</th>\n",
       "      <td>Other_Ethnic</td>\n",
       "      <td>51</td>\n",
       "    </tr>\n",
       "  </tbody>\n",
       "</table>\n",
       "</div>"
      ],
      "text/plain": [
       "         Ethnics  Count\n",
       "0       American    542\n",
       "1        Mexican    496\n",
       "2        Chinese    144\n",
       "3       EastAsia    117\n",
       "4     MiddleEast     92\n",
       "5       European     85\n",
       "6  SouthEastAsia     78\n",
       "7   Other_Ethnic     51"
      ]
     },
     "execution_count": 20,
     "metadata": {},
     "output_type": "execute_result"
    }
   ],
   "source": [
    "# Convert dictionary to dataframe\n",
    "ethnics_df = pd.DataFrame(list(ethnics_dict.items()), columns=['Ethnics','Count']) \\\n",
    "                .sort_values('Count',ascending = False) \\\n",
    "                .reset_index() \\\n",
    "                .drop('index', axis=1)\n",
    "ethnics_df"
   ]
  },
  {
   "cell_type": "markdown",
   "metadata": {},
   "source": [
    "## Restaurant categories II - Food Types\n",
    "\n",
    "### a) Extract all food types"
   ]
  },
  {
   "cell_type": "code",
   "execution_count": 21,
   "metadata": {},
   "outputs": [],
   "source": [
    "# Type words filtered by manually check\n",
    "all_types = ['Acai Bowls', 'Bagels', 'Bubble Tea', 'Burgers', 'Cheesesteaks', 'Chicken Wings', \n",
    "             'Creperies', 'Cupcakes', 'Custom Cakes', 'Donuts', 'Falafel','Fish & Chips', \n",
    "             'Fruits & Veggies', 'Gelato', 'Gluten-Free', 'Hot Dogs', 'Ice Cream & Frozen Yogurt', \n",
    "             'Imported Food', 'Juice Bars & Smoothies','Local Flavor', 'Macarons','Noodles', \n",
    "             'Pizza','Sandwiches','Pretzels','Ramen','Salad','Seafood','Shaved Ice', 'Soup', \n",
    "             'Tacos', 'Waffles', 'Wraps', 'Bakeries', 'Barbeque','Beverage Store', 'Buffets','Cafes',\n",
    "             'Candy Stores','Cheese Shops','Chicken Shop','Chocolatiers & Shops', 'Coffee & Tea', \n",
    "             'Coffee Roasteries','Desserts', 'Delis', 'Fast Food','Internet Cafes','Organic Stores', \n",
    "             'Patisserie/Cake Shop','Popcorn Shops', 'Seafood Markets','Steakhouses','Tea Rooms', 'Vegan', \n",
    "             'Vegetarian','Bars', 'Beer', 'Beer Bar','Beer Gardens', 'Breweries', 'Cocktail Bars', 'Dive Bars',\n",
    "             'Gay Bars', 'Gastropubs','Hotel bar','Irish Pub', 'Pubs', 'Speakeasies', 'Sports Bars',\n",
    "             'Tapas Bars','Whiskey Bars','Wine & Spirits','Wine Bars']"
   ]
  },
  {
   "cell_type": "code",
   "execution_count": 22,
   "metadata": {},
   "outputs": [],
   "source": [
    "# Create new feature types\n",
    "business_df['types'] = business_df['categories'].apply(lambda row: [x for x in row if x in all_types])"
   ]
  },
  {
   "cell_type": "code",
   "execution_count": 23,
   "metadata": {},
   "outputs": [
    {
     "name": "stdout",
     "output_type": "stream",
     "text": [
      "Total Number of Types: 74\n"
     ]
    }
   ],
   "source": [
    "# Create a dictionary to store the appear times of each types\n",
    "types_dict = dict(zip(all_types, [sum([x in row for row in business_df['types']]) for x in all_types]))\n",
    "print('Total Number of Types:', len(types_dict))"
   ]
  },
  {
   "cell_type": "markdown",
   "metadata": {},
   "source": [
    "### b) Combine types into smaller groups\n",
    "\n",
    "Similar with ethnics, we will apply the same process for types."
   ]
  },
  {
   "cell_type": "code",
   "execution_count": 24,
   "metadata": {},
   "outputs": [],
   "source": [
    "# Combine types into fewer categories\n",
    "type_dict = {\n",
    "    'Fast_Food': ['Burgers','Fish & Chips','Hot Dogs','Sandwiches','Fast Food','Pizza'],\n",
    "    'Alcohol': ['Bars','Beer', 'Beer Bar','Beer Gardens', 'Breweries',\n",
    "                'Cocktail Bars','Dive Bars','Gay Bars', 'Gastropubs','Hotel bar',\n",
    "                'Irish Pub', 'Pubs','Speakeasies','Sports Bars','Tapas Bars','Whiskey Bars',\n",
    "                'Wine & Spirits','Wine Bars'],\n",
    "    'Beverage': ['Bubble Tea','Juice Bars & Smoothies','Beverage Store'],\n",
    "    'Bakeries_Desserts': ['Bagels','Cupcakes','Custom Cakes','Patisserie/Cake Shop','Shaved Ice',\n",
    "                            'Gelato','Ice Cream & Frozen Yogurt','Macarons','Chocolatiers & Shops','Donuts',\n",
    "                            'Waffles','Bakeries','Desserts','Creperies'],\n",
    "    'Vegetarian': ['Fruits & Veggies','Vegan','Vegetarian','Falafel','Acai Bowls','Salad'],\n",
    "    'Coffee_Tea': ['Coffee Roasteries','Tea Rooms','Coffee & Tea','Cafes',\n",
    "                    'Internet Cafes'],\n",
    "    'Noodles': ['Noodles','Ramen'],\n",
    "    'Seafood': ['Seafood Markets','Seafood'],\n",
    "    'Snacks': ['Pretzels','Candy Stores','Popcorn Shops'],\n",
    "    'Chicken': ['Chicken Shop','Chicken Wings'],\n",
    "    'Meat': ['Barbeque','Delis','Steakhouses','Cheesesteaks'],\n",
    "}"
   ]
  },
  {
   "cell_type": "code",
   "execution_count": 25,
   "metadata": {},
   "outputs": [],
   "source": [
    "# Food types that do not belong any of above small groups\n",
    "other_type = ['Gluten-Free', 'Imported Food', 'Local Flavor','Soup', 'Tacos', 'Wraps', 'Buffets']"
   ]
  },
  {
   "cell_type": "code",
   "execution_count": 26,
   "metadata": {},
   "outputs": [],
   "source": [
    "# Update feature types\n",
    "merge_type = lambda row: np.unique([tp if x in type_dict[tp] else x for x in row])\n",
    "for tp in type_dict.keys():\n",
    "    business_df['types'] = business_df['types'].apply(merge_type)"
   ]
  },
  {
   "cell_type": "code",
   "execution_count": 27,
   "metadata": {},
   "outputs": [
    {
     "name": "stdout",
     "output_type": "stream",
     "text": [
      "Total Number of Types: 18\n"
     ]
    }
   ],
   "source": [
    "# Update dictionary\n",
    "types = list(type_dict.keys()) + other_type\n",
    "type_dict = dict(zip(types, [sum([x in row for row in business_df['types'] if len(row) > 0]) for x in types]))\n",
    "print('Total Number of Types:', len(type_dict))"
   ]
  },
  {
   "cell_type": "code",
   "execution_count": 28,
   "metadata": {},
   "outputs": [
    {
     "data": {
      "text/html": [
       "<div>\n",
       "<style scoped>\n",
       "    .dataframe tbody tr th:only-of-type {\n",
       "        vertical-align: middle;\n",
       "    }\n",
       "\n",
       "    .dataframe tbody tr th {\n",
       "        vertical-align: top;\n",
       "    }\n",
       "\n",
       "    .dataframe thead th {\n",
       "        text-align: right;\n",
       "    }\n",
       "</style>\n",
       "<table border=\"1\" class=\"dataframe\">\n",
       "  <thead>\n",
       "    <tr style=\"text-align: right;\">\n",
       "      <th></th>\n",
       "      <th>Type</th>\n",
       "      <th>Count</th>\n",
       "    </tr>\n",
       "  </thead>\n",
       "  <tbody>\n",
       "    <tr>\n",
       "      <th>0</th>\n",
       "      <td>Fast_Food</td>\n",
       "      <td>1175</td>\n",
       "    </tr>\n",
       "    <tr>\n",
       "      <th>1</th>\n",
       "      <td>Alcohol</td>\n",
       "      <td>339</td>\n",
       "    </tr>\n",
       "    <tr>\n",
       "      <th>2</th>\n",
       "      <td>Vegetarian</td>\n",
       "      <td>231</td>\n",
       "    </tr>\n",
       "    <tr>\n",
       "      <th>3</th>\n",
       "      <td>Meat</td>\n",
       "      <td>220</td>\n",
       "    </tr>\n",
       "    <tr>\n",
       "      <th>4</th>\n",
       "      <td>Bakeries_Desserts</td>\n",
       "      <td>192</td>\n",
       "    </tr>\n",
       "    <tr>\n",
       "      <th>5</th>\n",
       "      <td>Coffee_Tea</td>\n",
       "      <td>183</td>\n",
       "    </tr>\n",
       "    <tr>\n",
       "      <th>6</th>\n",
       "      <td>Chicken</td>\n",
       "      <td>150</td>\n",
       "    </tr>\n",
       "    <tr>\n",
       "      <th>7</th>\n",
       "      <td>Seafood</td>\n",
       "      <td>119</td>\n",
       "    </tr>\n",
       "    <tr>\n",
       "      <th>8</th>\n",
       "      <td>Buffets</td>\n",
       "      <td>56</td>\n",
       "    </tr>\n",
       "    <tr>\n",
       "      <th>9</th>\n",
       "      <td>Beverage</td>\n",
       "      <td>47</td>\n",
       "    </tr>\n",
       "    <tr>\n",
       "      <th>10</th>\n",
       "      <td>Gluten-Free</td>\n",
       "      <td>47</td>\n",
       "    </tr>\n",
       "    <tr>\n",
       "      <th>11</th>\n",
       "      <td>Soup</td>\n",
       "      <td>41</td>\n",
       "    </tr>\n",
       "    <tr>\n",
       "      <th>12</th>\n",
       "      <td>Tacos</td>\n",
       "      <td>28</td>\n",
       "    </tr>\n",
       "    <tr>\n",
       "      <th>13</th>\n",
       "      <td>Noodles</td>\n",
       "      <td>18</td>\n",
       "    </tr>\n",
       "    <tr>\n",
       "      <th>14</th>\n",
       "      <td>Imported Food</td>\n",
       "      <td>12</td>\n",
       "    </tr>\n",
       "    <tr>\n",
       "      <th>15</th>\n",
       "      <td>Local Flavor</td>\n",
       "      <td>8</td>\n",
       "    </tr>\n",
       "    <tr>\n",
       "      <th>16</th>\n",
       "      <td>Snacks</td>\n",
       "      <td>5</td>\n",
       "    </tr>\n",
       "    <tr>\n",
       "      <th>17</th>\n",
       "      <td>Wraps</td>\n",
       "      <td>5</td>\n",
       "    </tr>\n",
       "  </tbody>\n",
       "</table>\n",
       "</div>"
      ],
      "text/plain": [
       "                 Type  Count\n",
       "0           Fast_Food   1175\n",
       "1             Alcohol    339\n",
       "2          Vegetarian    231\n",
       "3                Meat    220\n",
       "4   Bakeries_Desserts    192\n",
       "5          Coffee_Tea    183\n",
       "6             Chicken    150\n",
       "7             Seafood    119\n",
       "8             Buffets     56\n",
       "9            Beverage     47\n",
       "10        Gluten-Free     47\n",
       "11               Soup     41\n",
       "12              Tacos     28\n",
       "13            Noodles     18\n",
       "14      Imported Food     12\n",
       "15       Local Flavor      8\n",
       "16             Snacks      5\n",
       "17              Wraps      5"
      ]
     },
     "execution_count": 28,
     "metadata": {},
     "output_type": "execute_result"
    }
   ],
   "source": [
    "# Convert dictionary to dataframe\n",
    "type_df = pd.DataFrame(list(type_dict.items()), columns=['Type','Count']) \\\n",
    "                .sort_values('Count', ascending = False) \\\n",
    "                .reset_index() \\\n",
    "                .drop('index', axis=1)\n",
    "type_df"
   ]
  },
  {
   "cell_type": "markdown",
   "metadata": {},
   "source": [
    "## 3.1.4 Extract Business Attributes"
   ]
  },
  {
   "cell_type": "code",
   "execution_count": 29,
   "metadata": {},
   "outputs": [
    {
     "data": {
      "text/plain": [
       "str"
      ]
     },
     "execution_count": 29,
     "metadata": {},
     "output_type": "execute_result"
    }
   ],
   "source": [
    "# Check attributes type\n",
    "type(business_df['attributes'][0])"
   ]
  },
  {
   "cell_type": "code",
   "execution_count": 30,
   "metadata": {},
   "outputs": [],
   "source": [
    "# Convert attributes into dictionary\n",
    "business_df['attributes'] = business_df['attributes'].apply(lambda x: eval(x))"
   ]
  },
  {
   "cell_type": "code",
   "execution_count": 31,
   "metadata": {},
   "outputs": [],
   "source": [
    "# Convert feature attributes to a dataframe\n",
    "attributes_df = business_df['attributes'].apply(pd.Series)"
   ]
  },
  {
   "cell_type": "code",
   "execution_count": 32,
   "metadata": {},
   "outputs": [
    {
     "data": {
      "text/html": [
       "<div>\n",
       "<style scoped>\n",
       "    .dataframe tbody tr th:only-of-type {\n",
       "        vertical-align: middle;\n",
       "    }\n",
       "\n",
       "    .dataframe tbody tr th {\n",
       "        vertical-align: top;\n",
       "    }\n",
       "\n",
       "    .dataframe thead th {\n",
       "        text-align: right;\n",
       "    }\n",
       "</style>\n",
       "<table border=\"1\" class=\"dataframe\">\n",
       "  <thead>\n",
       "    <tr style=\"text-align: right;\">\n",
       "      <th></th>\n",
       "      <th>RestaurantsTableService</th>\n",
       "      <th>GoodForMeal</th>\n",
       "      <th>Alcohol</th>\n",
       "      <th>Caters</th>\n",
       "      <th>HasTV</th>\n",
       "      <th>RestaurantsGoodForGroups</th>\n",
       "      <th>NoiseLevel</th>\n",
       "      <th>WiFi</th>\n",
       "      <th>RestaurantsAttire</th>\n",
       "      <th>RestaurantsReservations</th>\n",
       "      <th>...</th>\n",
       "      <th>Smoking</th>\n",
       "      <th>BYOBCorkage</th>\n",
       "      <th>RestaurantsCounterService</th>\n",
       "      <th>BYOB</th>\n",
       "      <th>Open24Hours</th>\n",
       "      <th>DietaryRestrictions</th>\n",
       "      <th>Corkage</th>\n",
       "      <th>AgesAllowed</th>\n",
       "      <th>ByAppointmentOnly</th>\n",
       "      <th>AcceptsInsurance</th>\n",
       "    </tr>\n",
       "  </thead>\n",
       "  <tbody>\n",
       "    <tr>\n",
       "      <th>0</th>\n",
       "      <td>False</td>\n",
       "      <td>{'dessert': False, 'latenight': False, 'lunch'...</td>\n",
       "      <td>none</td>\n",
       "      <td>False</td>\n",
       "      <td>True</td>\n",
       "      <td>True</td>\n",
       "      <td>loud</td>\n",
       "      <td>free</td>\n",
       "      <td>casual</td>\n",
       "      <td>False</td>\n",
       "      <td>...</td>\n",
       "      <td>NaN</td>\n",
       "      <td>NaN</td>\n",
       "      <td>NaN</td>\n",
       "      <td>NaN</td>\n",
       "      <td>NaN</td>\n",
       "      <td>NaN</td>\n",
       "      <td>NaN</td>\n",
       "      <td>NaN</td>\n",
       "      <td>NaN</td>\n",
       "      <td>NaN</td>\n",
       "    </tr>\n",
       "    <tr>\n",
       "      <th>1</th>\n",
       "      <td>True</td>\n",
       "      <td>{'dessert': False, 'latenight': False, 'lunch'...</td>\n",
       "      <td>full_bar</td>\n",
       "      <td>True</td>\n",
       "      <td>True</td>\n",
       "      <td>True</td>\n",
       "      <td>average</td>\n",
       "      <td>free</td>\n",
       "      <td>casual</td>\n",
       "      <td>False</td>\n",
       "      <td>...</td>\n",
       "      <td>NaN</td>\n",
       "      <td>NaN</td>\n",
       "      <td>NaN</td>\n",
       "      <td>NaN</td>\n",
       "      <td>NaN</td>\n",
       "      <td>NaN</td>\n",
       "      <td>NaN</td>\n",
       "      <td>NaN</td>\n",
       "      <td>NaN</td>\n",
       "      <td>NaN</td>\n",
       "    </tr>\n",
       "    <tr>\n",
       "      <th>2</th>\n",
       "      <td>False</td>\n",
       "      <td>{'dessert': False, 'latenight': True, 'lunch':...</td>\n",
       "      <td>none</td>\n",
       "      <td>False</td>\n",
       "      <td>False</td>\n",
       "      <td>True</td>\n",
       "      <td>loud</td>\n",
       "      <td>paid</td>\n",
       "      <td>casual</td>\n",
       "      <td>False</td>\n",
       "      <td>...</td>\n",
       "      <td>NaN</td>\n",
       "      <td>NaN</td>\n",
       "      <td>NaN</td>\n",
       "      <td>NaN</td>\n",
       "      <td>NaN</td>\n",
       "      <td>NaN</td>\n",
       "      <td>NaN</td>\n",
       "      <td>NaN</td>\n",
       "      <td>NaN</td>\n",
       "      <td>NaN</td>\n",
       "    </tr>\n",
       "    <tr>\n",
       "      <th>3</th>\n",
       "      <td>NaN</td>\n",
       "      <td>NaN</td>\n",
       "      <td>NaN</td>\n",
       "      <td>NaN</td>\n",
       "      <td>NaN</td>\n",
       "      <td>NaN</td>\n",
       "      <td>NaN</td>\n",
       "      <td>NaN</td>\n",
       "      <td>NaN</td>\n",
       "      <td>False</td>\n",
       "      <td>...</td>\n",
       "      <td>NaN</td>\n",
       "      <td>NaN</td>\n",
       "      <td>NaN</td>\n",
       "      <td>NaN</td>\n",
       "      <td>NaN</td>\n",
       "      <td>NaN</td>\n",
       "      <td>NaN</td>\n",
       "      <td>NaN</td>\n",
       "      <td>NaN</td>\n",
       "      <td>NaN</td>\n",
       "    </tr>\n",
       "    <tr>\n",
       "      <th>4</th>\n",
       "      <td>True</td>\n",
       "      <td>{'dessert': False, 'latenight': False, 'lunch'...</td>\n",
       "      <td>full_bar</td>\n",
       "      <td>False</td>\n",
       "      <td>True</td>\n",
       "      <td>True</td>\n",
       "      <td>quiet</td>\n",
       "      <td>no</td>\n",
       "      <td>casual</td>\n",
       "      <td>True</td>\n",
       "      <td>...</td>\n",
       "      <td>NaN</td>\n",
       "      <td>NaN</td>\n",
       "      <td>NaN</td>\n",
       "      <td>NaN</td>\n",
       "      <td>NaN</td>\n",
       "      <td>NaN</td>\n",
       "      <td>NaN</td>\n",
       "      <td>NaN</td>\n",
       "      <td>NaN</td>\n",
       "      <td>NaN</td>\n",
       "    </tr>\n",
       "  </tbody>\n",
       "</table>\n",
       "<p>5 rows × 38 columns</p>\n",
       "</div>"
      ],
      "text/plain": [
       "  RestaurantsTableService                                        GoodForMeal  \\\n",
       "0                   False  {'dessert': False, 'latenight': False, 'lunch'...   \n",
       "1                    True  {'dessert': False, 'latenight': False, 'lunch'...   \n",
       "2                   False  {'dessert': False, 'latenight': True, 'lunch':...   \n",
       "3                     NaN                                                NaN   \n",
       "4                    True  {'dessert': False, 'latenight': False, 'lunch'...   \n",
       "\n",
       "    Alcohol Caters  HasTV RestaurantsGoodForGroups NoiseLevel  WiFi  \\\n",
       "0      none  False   True                     True       loud  free   \n",
       "1  full_bar   True   True                     True    average  free   \n",
       "2      none  False  False                     True       loud  paid   \n",
       "3       NaN    NaN    NaN                      NaN        NaN   NaN   \n",
       "4  full_bar  False   True                     True      quiet    no   \n",
       "\n",
       "  RestaurantsAttire RestaurantsReservations       ...        Smoking  \\\n",
       "0            casual                   False       ...            NaN   \n",
       "1            casual                   False       ...            NaN   \n",
       "2            casual                   False       ...            NaN   \n",
       "3               NaN                   False       ...            NaN   \n",
       "4            casual                    True       ...            NaN   \n",
       "\n",
       "  BYOBCorkage  RestaurantsCounterService BYOB Open24Hours DietaryRestrictions  \\\n",
       "0         NaN                        NaN  NaN         NaN                 NaN   \n",
       "1         NaN                        NaN  NaN         NaN                 NaN   \n",
       "2         NaN                        NaN  NaN         NaN                 NaN   \n",
       "3         NaN                        NaN  NaN         NaN                 NaN   \n",
       "4         NaN                        NaN  NaN         NaN                 NaN   \n",
       "\n",
       "  Corkage AgesAllowed ByAppointmentOnly AcceptsInsurance  \n",
       "0     NaN         NaN               NaN              NaN  \n",
       "1     NaN         NaN               NaN              NaN  \n",
       "2     NaN         NaN               NaN              NaN  \n",
       "3     NaN         NaN               NaN              NaN  \n",
       "4     NaN         NaN               NaN              NaN  \n",
       "\n",
       "[5 rows x 38 columns]"
      ]
     },
     "execution_count": 32,
     "metadata": {},
     "output_type": "execute_result"
    }
   ],
   "source": [
    "# Reveal first few rows\n",
    "attributes_df.head()"
   ]
  },
  {
   "cell_type": "code",
   "execution_count": 33,
   "metadata": {},
   "outputs": [],
   "source": [
    "# Drop features\n",
    "attributes_df=attributes_df.drop(['Ambience','BikeParking','BusinessAcceptsBitcoin','Open24Hours','BYOBCorkage',\n",
    "                                 'BYOB','Corkage','DietaryRestrictions','GoodForDancing',\n",
    "                                 'Music','BestNights','CoatCheck','ByAppointmentOnly','RestaurantsCounterService',\n",
    "                                 'AgesAllowed','AcceptsInsurance','RestaurantsTableService',\n",
    "                                 'Caters','HasTV','RestaurantsTakeOut','WheelchairAccessible','DogsAllowed',\n",
    "                                 'Smoking'], axis=1)"
   ]
  },
  {
   "cell_type": "code",
   "execution_count": 34,
   "metadata": {},
   "outputs": [],
   "source": [
    "# Define name change in key-value pairs\n",
    "column_name_change = {\n",
    "    'GoodForMeal':'openFor',\n",
    "    'Alcohol':'alcohol',\n",
    "    'RestaurantsGoodForGroups':'forGroups',\n",
    "    'NoiseLevel':'noiceLevel',\n",
    "    'WiFi':'hasWiFi',\n",
    "    'RestaurantsAttire':'attire',\n",
    "    'RestaurantsReservations':'reservations',\n",
    "    'OutdoorSeating':'outdoorSeating',\n",
    "    'BusinessAcceptsCreditCards':'acceptCreditCard',\n",
    "    'RestaurantsPriceRange2':'priceRange',\n",
    "    'RestaurantsDelivery':'delivery',\n",
    "    'GoodForKids':'goodForKids',\n",
    "    'DriveThru':'driveThru',\n",
    "    'BusinessParking':'businessParking',\n",
    "    'HappyHour':'happyHour'}"
   ]
  },
  {
   "cell_type": "code",
   "execution_count": 35,
   "metadata": {},
   "outputs": [],
   "source": [
    "# Change names for some variables\n",
    "attributes_df = attributes_df.rename(columns=column_name_change)"
   ]
  },
  {
   "cell_type": "code",
   "execution_count": 36,
   "metadata": {},
   "outputs": [
    {
     "data": {
      "text/html": [
       "<div>\n",
       "<style scoped>\n",
       "    .dataframe tbody tr th:only-of-type {\n",
       "        vertical-align: middle;\n",
       "    }\n",
       "\n",
       "    .dataframe tbody tr th {\n",
       "        vertical-align: top;\n",
       "    }\n",
       "\n",
       "    .dataframe thead th {\n",
       "        text-align: right;\n",
       "    }\n",
       "</style>\n",
       "<table border=\"1\" class=\"dataframe\">\n",
       "  <thead>\n",
       "    <tr style=\"text-align: right;\">\n",
       "      <th></th>\n",
       "      <th>openFor</th>\n",
       "      <th>alcohol</th>\n",
       "      <th>forGroups</th>\n",
       "      <th>noiceLevel</th>\n",
       "      <th>hasWiFi</th>\n",
       "      <th>attire</th>\n",
       "      <th>reservations</th>\n",
       "      <th>outdoorSeating</th>\n",
       "      <th>acceptCreditCard</th>\n",
       "      <th>priceRange</th>\n",
       "      <th>delivery</th>\n",
       "      <th>goodForKids</th>\n",
       "      <th>driveThru</th>\n",
       "      <th>businessParking</th>\n",
       "      <th>happyHour</th>\n",
       "    </tr>\n",
       "  </thead>\n",
       "  <tbody>\n",
       "    <tr>\n",
       "      <th>0</th>\n",
       "      <td>{'dessert': False, 'latenight': False, 'lunch'...</td>\n",
       "      <td>none</td>\n",
       "      <td>True</td>\n",
       "      <td>loud</td>\n",
       "      <td>free</td>\n",
       "      <td>casual</td>\n",
       "      <td>False</td>\n",
       "      <td>False</td>\n",
       "      <td>True</td>\n",
       "      <td>1.0</td>\n",
       "      <td>False</td>\n",
       "      <td>True</td>\n",
       "      <td>True</td>\n",
       "      <td>{'garage': False, 'street': False, 'validated'...</td>\n",
       "      <td>NaN</td>\n",
       "    </tr>\n",
       "    <tr>\n",
       "      <th>1</th>\n",
       "      <td>{'dessert': False, 'latenight': False, 'lunch'...</td>\n",
       "      <td>full_bar</td>\n",
       "      <td>True</td>\n",
       "      <td>average</td>\n",
       "      <td>free</td>\n",
       "      <td>casual</td>\n",
       "      <td>False</td>\n",
       "      <td>True</td>\n",
       "      <td>True</td>\n",
       "      <td>2.0</td>\n",
       "      <td>True</td>\n",
       "      <td>True</td>\n",
       "      <td>False</td>\n",
       "      <td>{'garage': False, 'street': False, 'validated'...</td>\n",
       "      <td>NaN</td>\n",
       "    </tr>\n",
       "    <tr>\n",
       "      <th>2</th>\n",
       "      <td>{'dessert': False, 'latenight': True, 'lunch':...</td>\n",
       "      <td>none</td>\n",
       "      <td>True</td>\n",
       "      <td>loud</td>\n",
       "      <td>paid</td>\n",
       "      <td>casual</td>\n",
       "      <td>False</td>\n",
       "      <td>False</td>\n",
       "      <td>True</td>\n",
       "      <td>1.0</td>\n",
       "      <td>False</td>\n",
       "      <td>True</td>\n",
       "      <td>True</td>\n",
       "      <td>{'garage': False, 'street': False, 'validated'...</td>\n",
       "      <td>NaN</td>\n",
       "    </tr>\n",
       "    <tr>\n",
       "      <th>3</th>\n",
       "      <td>NaN</td>\n",
       "      <td>NaN</td>\n",
       "      <td>NaN</td>\n",
       "      <td>NaN</td>\n",
       "      <td>NaN</td>\n",
       "      <td>NaN</td>\n",
       "      <td>False</td>\n",
       "      <td>NaN</td>\n",
       "      <td>True</td>\n",
       "      <td>NaN</td>\n",
       "      <td>False</td>\n",
       "      <td>NaN</td>\n",
       "      <td>NaN</td>\n",
       "      <td>NaN</td>\n",
       "      <td>NaN</td>\n",
       "    </tr>\n",
       "    <tr>\n",
       "      <th>4</th>\n",
       "      <td>{'dessert': False, 'latenight': False, 'lunch'...</td>\n",
       "      <td>full_bar</td>\n",
       "      <td>True</td>\n",
       "      <td>quiet</td>\n",
       "      <td>no</td>\n",
       "      <td>casual</td>\n",
       "      <td>True</td>\n",
       "      <td>False</td>\n",
       "      <td>True</td>\n",
       "      <td>2.0</td>\n",
       "      <td>False</td>\n",
       "      <td>True</td>\n",
       "      <td>NaN</td>\n",
       "      <td>{'garage': False, 'street': False, 'validated'...</td>\n",
       "      <td>NaN</td>\n",
       "    </tr>\n",
       "  </tbody>\n",
       "</table>\n",
       "</div>"
      ],
      "text/plain": [
       "                                             openFor   alcohol forGroups  \\\n",
       "0  {'dessert': False, 'latenight': False, 'lunch'...      none      True   \n",
       "1  {'dessert': False, 'latenight': False, 'lunch'...  full_bar      True   \n",
       "2  {'dessert': False, 'latenight': True, 'lunch':...      none      True   \n",
       "3                                                NaN       NaN       NaN   \n",
       "4  {'dessert': False, 'latenight': False, 'lunch'...  full_bar      True   \n",
       "\n",
       "  noiceLevel hasWiFi  attire reservations outdoorSeating acceptCreditCard  \\\n",
       "0       loud    free  casual        False          False             True   \n",
       "1    average    free  casual        False           True             True   \n",
       "2       loud    paid  casual        False          False             True   \n",
       "3        NaN     NaN     NaN        False            NaN             True   \n",
       "4      quiet      no  casual         True          False             True   \n",
       "\n",
       "   priceRange delivery goodForKids driveThru  \\\n",
       "0         1.0    False        True      True   \n",
       "1         2.0     True        True     False   \n",
       "2         1.0    False        True      True   \n",
       "3         NaN    False         NaN       NaN   \n",
       "4         2.0    False        True       NaN   \n",
       "\n",
       "                                     businessParking happyHour  \n",
       "0  {'garage': False, 'street': False, 'validated'...       NaN  \n",
       "1  {'garage': False, 'street': False, 'validated'...       NaN  \n",
       "2  {'garage': False, 'street': False, 'validated'...       NaN  \n",
       "3                                                NaN       NaN  \n",
       "4  {'garage': False, 'street': False, 'validated'...       NaN  "
      ]
     },
     "execution_count": 36,
     "metadata": {},
     "output_type": "execute_result"
    }
   ],
   "source": [
    "# Reveal first few rows\n",
    "attributes_df.head()"
   ]
  },
  {
   "cell_type": "markdown",
   "metadata": {},
   "source": [
    "## Restaurant categories III - Time of The Day"
   ]
  },
  {
   "cell_type": "markdown",
   "metadata": {},
   "source": [
    "We will use `openFor` in `attribute` feature to build our third restaurant categories."
   ]
  },
  {
   "cell_type": "markdown",
   "metadata": {},
   "source": [
    "### a) Preprocess"
   ]
  },
  {
   "cell_type": "code",
   "execution_count": 37,
   "metadata": {},
   "outputs": [
    {
     "name": "stderr",
     "output_type": "stream",
     "text": [
      "/anaconda3/lib/python3.7/site-packages/pandas/core/indexes/api.py:107: RuntimeWarning: '<' not supported between instances of 'str' and 'int', sort order is undefined for incomparable objects\n",
      "  result = result.union(other)\n",
      "/anaconda3/lib/python3.7/site-packages/pandas/core/indexes/api.py:69: RuntimeWarning: '<' not supported between instances of 'int' and 'str', sort order is undefined for incomparable objects\n",
      "  index = _union_indexes(indexes, sort=sort)\n",
      "/anaconda3/lib/python3.7/site-packages/pandas/core/indexes/api.py:107: RuntimeWarning: '<' not supported between instances of 'int' and 'str', sort order is undefined for incomparable objects\n",
      "  result = result.union(other)\n"
     ]
    }
   ],
   "source": [
    "# Convert feature time to a dataframe\n",
    "openFor_df = attributes_df['openFor'].apply(pd.Series)"
   ]
  },
  {
   "cell_type": "code",
   "execution_count": 38,
   "metadata": {},
   "outputs": [],
   "source": [
    "# Drop unnecessary variable\n",
    "openFor_df = openFor_df.drop([0,'dessert'],axis=1)"
   ]
  },
  {
   "cell_type": "markdown",
   "metadata": {},
   "source": [
    "### b) Create new feature time_of_day"
   ]
  },
  {
   "cell_type": "code",
   "execution_count": 39,
   "metadata": {},
   "outputs": [
    {
     "data": {
      "text/html": [
       "<div>\n",
       "<style scoped>\n",
       "    .dataframe tbody tr th:only-of-type {\n",
       "        vertical-align: middle;\n",
       "    }\n",
       "\n",
       "    .dataframe tbody tr th {\n",
       "        vertical-align: top;\n",
       "    }\n",
       "\n",
       "    .dataframe thead th {\n",
       "        text-align: right;\n",
       "    }\n",
       "</style>\n",
       "<table border=\"1\" class=\"dataframe\">\n",
       "  <thead>\n",
       "    <tr style=\"text-align: right;\">\n",
       "      <th></th>\n",
       "      <th>latenight</th>\n",
       "      <th>lunch</th>\n",
       "      <th>dinner</th>\n",
       "      <th>breakfast</th>\n",
       "      <th>brunch</th>\n",
       "    </tr>\n",
       "  </thead>\n",
       "  <tbody>\n",
       "    <tr>\n",
       "      <th>0</th>\n",
       "      <td>False</td>\n",
       "      <td>True</td>\n",
       "      <td>False</td>\n",
       "      <td>True</td>\n",
       "      <td>False</td>\n",
       "    </tr>\n",
       "    <tr>\n",
       "      <th>1</th>\n",
       "      <td>False</td>\n",
       "      <td>False</td>\n",
       "      <td>True</td>\n",
       "      <td>False</td>\n",
       "      <td>False</td>\n",
       "    </tr>\n",
       "    <tr>\n",
       "      <th>2</th>\n",
       "      <td>True</td>\n",
       "      <td>True</td>\n",
       "      <td>True</td>\n",
       "      <td>True</td>\n",
       "      <td>False</td>\n",
       "    </tr>\n",
       "    <tr>\n",
       "      <th>3</th>\n",
       "      <td>NaN</td>\n",
       "      <td>NaN</td>\n",
       "      <td>NaN</td>\n",
       "      <td>NaN</td>\n",
       "      <td>NaN</td>\n",
       "    </tr>\n",
       "    <tr>\n",
       "      <th>4</th>\n",
       "      <td>False</td>\n",
       "      <td>False</td>\n",
       "      <td>True</td>\n",
       "      <td>False</td>\n",
       "      <td>False</td>\n",
       "    </tr>\n",
       "  </tbody>\n",
       "</table>\n",
       "</div>"
      ],
      "text/plain": [
       "  latenight  lunch dinner breakfast brunch\n",
       "0     False   True  False      True  False\n",
       "1     False  False   True     False  False\n",
       "2      True   True   True      True  False\n",
       "3       NaN    NaN    NaN       NaN    NaN\n",
       "4     False  False   True     False  False"
      ]
     },
     "execution_count": 39,
     "metadata": {},
     "output_type": "execute_result"
    }
   ],
   "source": [
    "# Reveal first few rows\n",
    "openFor_df.head()"
   ]
  },
  {
   "cell_type": "code",
   "execution_count": 40,
   "metadata": {},
   "outputs": [],
   "source": [
    "# Create new feature time\n",
    "openFor_df['time_of_day'] = pd.Series()\n",
    "openFor_df['time_of_day'] = openFor_df['time_of_day'].apply(lambda x: [])"
   ]
  },
  {
   "cell_type": "code",
   "execution_count": 41,
   "metadata": {},
   "outputs": [],
   "source": [
    "# Convert several features into one\n",
    "openFor_ls = ['latenight','lunch','dinner','breakfast','brunch']\n",
    "for i in range(len(openFor_df['time_of_day'])):\n",
    "    for j in openFor_ls:\n",
    "        if str(openFor_df[j].iloc[i])=='True':\n",
    "            openFor_df['time_of_day'].iloc[i].append(j)"
   ]
  },
  {
   "cell_type": "markdown",
   "metadata": {},
   "source": [
    "### c) Merge back to attributes"
   ]
  },
  {
   "cell_type": "code",
   "execution_count": 42,
   "metadata": {},
   "outputs": [],
   "source": [
    "# Drop feature in attributes_df\n",
    "attributes_df = attributes_df.drop('openFor', axis=1)"
   ]
  },
  {
   "cell_type": "code",
   "execution_count": 43,
   "metadata": {},
   "outputs": [],
   "source": [
    "# Drop feature in openFor_df\n",
    "openFor_df = openFor_df.drop(openFor_ls, axis=1)"
   ]
  },
  {
   "cell_type": "code",
   "execution_count": 44,
   "metadata": {},
   "outputs": [],
   "source": [
    "# Merge feature to attributes_df\n",
    "attributes_df = attributes_df.merge(openFor_df, left_index=True, right_index=True)"
   ]
  },
  {
   "cell_type": "markdown",
   "metadata": {},
   "source": [
    "## Clean Feature Alcohol"
   ]
  },
  {
   "cell_type": "markdown",
   "metadata": {},
   "source": [
    "### a) Fill NA's using keyword alcohol in restaurant categories II "
   ]
  },
  {
   "cell_type": "code",
   "execution_count": 45,
   "metadata": {},
   "outputs": [
    {
     "name": "stderr",
     "output_type": "stream",
     "text": [
      "/anaconda3/lib/python3.7/site-packages/ipykernel_launcher.py:3: FutureWarning: elementwise comparison failed; returning scalar instead, but in the future will perform elementwise comparison\n",
      "  This is separate from the ipykernel package so we can avoid doing imports until\n"
     ]
    }
   ],
   "source": [
    "# Fill NA's\n",
    "attributes_df['alcohol'] = attributes_df['alcohol']\\\n",
    "     .fillna(business_df['types'].apply(lambda row: 'True' if 'Alcohol' in row else np.nan))"
   ]
  },
  {
   "cell_type": "markdown",
   "metadata": {},
   "source": [
    "### b) Simplify values"
   ]
  },
  {
   "cell_type": "code",
   "execution_count": 46,
   "metadata": {},
   "outputs": [
    {
     "data": {
      "text/plain": [
       "none             1261\n",
       "full_bar          593\n",
       "beer_and_wine     290\n",
       "True               15\n",
       "Name: alcohol, dtype: int64"
      ]
     },
     "execution_count": 46,
     "metadata": {},
     "output_type": "execute_result"
    }
   ],
   "source": [
    "# Check value counts\n",
    "attributes_df['alcohol'].value_counts()"
   ]
  },
  {
   "cell_type": "markdown",
   "metadata": {},
   "source": [
    "Now we will do some combinations: <br>\n",
    "`none` -> `False` <br>\n",
    "`full_bar`, `beer_and_wine`, `True` -> `True`."
   ]
  },
  {
   "cell_type": "code",
   "execution_count": 47,
   "metadata": {},
   "outputs": [],
   "source": [
    "# Change value names\n",
    "attributes_df['alcohol'] = attributes_df['alcohol'].str.replace('none', 'False')\n",
    "attributes_df['alcohol'] = attributes_df['alcohol'].str.replace('full_bar', 'True')\n",
    "attributes_df['alcohol'] = attributes_df['alcohol'].str.replace('beer_and_wine', 'True')"
   ]
  },
  {
   "cell_type": "code",
   "execution_count": 48,
   "metadata": {},
   "outputs": [],
   "source": [
    "# Convert values to boolean\n",
    "attributes_df['alcohol'] = attributes_df['alcohol'].apply(lambda x: (x=='True') if not pd.isna(x) else x)"
   ]
  },
  {
   "cell_type": "markdown",
   "metadata": {},
   "source": [
    "## Clean Feature businessParking"
   ]
  },
  {
   "cell_type": "markdown",
   "metadata": {},
   "source": [
    "Since feature `businessParking` also has values in dictionary format, we will apply similar process for `openFor` to it."
   ]
  },
  {
   "cell_type": "markdown",
   "metadata": {},
   "source": [
    "### a) Preprocess"
   ]
  },
  {
   "cell_type": "code",
   "execution_count": 49,
   "metadata": {},
   "outputs": [],
   "source": [
    "# Convert feature businessParking to a dataframe\n",
    "parking_df = attributes_df['businessParking'].apply(pd.Series)"
   ]
  },
  {
   "cell_type": "code",
   "execution_count": 50,
   "metadata": {},
   "outputs": [],
   "source": [
    "# Drop unnecessary variable\n",
    "parking_df = parking_df.drop(0,axis=1)"
   ]
  },
  {
   "cell_type": "markdown",
   "metadata": {},
   "source": [
    "### b) Create new feature parking"
   ]
  },
  {
   "cell_type": "code",
   "execution_count": 51,
   "metadata": {},
   "outputs": [
    {
     "data": {
      "text/html": [
       "<div>\n",
       "<style scoped>\n",
       "    .dataframe tbody tr th:only-of-type {\n",
       "        vertical-align: middle;\n",
       "    }\n",
       "\n",
       "    .dataframe tbody tr th {\n",
       "        vertical-align: top;\n",
       "    }\n",
       "\n",
       "    .dataframe thead th {\n",
       "        text-align: right;\n",
       "    }\n",
       "</style>\n",
       "<table border=\"1\" class=\"dataframe\">\n",
       "  <thead>\n",
       "    <tr style=\"text-align: right;\">\n",
       "      <th></th>\n",
       "      <th>garage</th>\n",
       "      <th>street</th>\n",
       "      <th>validated</th>\n",
       "      <th>lot</th>\n",
       "      <th>valet</th>\n",
       "    </tr>\n",
       "  </thead>\n",
       "  <tbody>\n",
       "    <tr>\n",
       "      <th>0</th>\n",
       "      <td>False</td>\n",
       "      <td>False</td>\n",
       "      <td>False</td>\n",
       "      <td>True</td>\n",
       "      <td>False</td>\n",
       "    </tr>\n",
       "    <tr>\n",
       "      <th>1</th>\n",
       "      <td>False</td>\n",
       "      <td>False</td>\n",
       "      <td>False</td>\n",
       "      <td>True</td>\n",
       "      <td>False</td>\n",
       "    </tr>\n",
       "    <tr>\n",
       "      <th>2</th>\n",
       "      <td>False</td>\n",
       "      <td>False</td>\n",
       "      <td>False</td>\n",
       "      <td>True</td>\n",
       "      <td>False</td>\n",
       "    </tr>\n",
       "    <tr>\n",
       "      <th>3</th>\n",
       "      <td>NaN</td>\n",
       "      <td>NaN</td>\n",
       "      <td>NaN</td>\n",
       "      <td>NaN</td>\n",
       "      <td>NaN</td>\n",
       "    </tr>\n",
       "    <tr>\n",
       "      <th>4</th>\n",
       "      <td>False</td>\n",
       "      <td>False</td>\n",
       "      <td>False</td>\n",
       "      <td>False</td>\n",
       "      <td>False</td>\n",
       "    </tr>\n",
       "  </tbody>\n",
       "</table>\n",
       "</div>"
      ],
      "text/plain": [
       "  garage street validated    lot  valet\n",
       "0  False  False     False   True  False\n",
       "1  False  False     False   True  False\n",
       "2  False  False     False   True  False\n",
       "3    NaN    NaN       NaN    NaN    NaN\n",
       "4  False  False     False  False  False"
      ]
     },
     "execution_count": 51,
     "metadata": {},
     "output_type": "execute_result"
    }
   ],
   "source": [
    "# Reveal first few rows\n",
    "parking_df.head()"
   ]
  },
  {
   "cell_type": "code",
   "execution_count": 52,
   "metadata": {},
   "outputs": [],
   "source": [
    "# Create new feature parking\n",
    "parking_df['parking'] = pd.Series()\n",
    "parking_df['parking'] = parking_df['parking'].apply(lambda x: [])"
   ]
  },
  {
   "cell_type": "code",
   "execution_count": 53,
   "metadata": {},
   "outputs": [],
   "source": [
    "# Convert several features into one\n",
    "parking_ls = ['garage','street','validated','lot','valet']\n",
    "for i in range(len(parking_df['parking'])):\n",
    "    for j in parking_ls:\n",
    "        if str(parking_df[j].iloc[i])=='True':\n",
    "            parking_df['parking'].iloc[i].append(j)"
   ]
  },
  {
   "cell_type": "markdown",
   "metadata": {},
   "source": [
    "### c) Merge back to attributes"
   ]
  },
  {
   "cell_type": "code",
   "execution_count": 54,
   "metadata": {},
   "outputs": [],
   "source": [
    "# Drop feature in attributes_df\n",
    "attributes_df = attributes_df.drop('businessParking', axis=1)"
   ]
  },
  {
   "cell_type": "code",
   "execution_count": 55,
   "metadata": {},
   "outputs": [],
   "source": [
    "# Drop feature in openFor_df\n",
    "parking_df = parking_df.drop(parking_ls,axis=1)"
   ]
  },
  {
   "cell_type": "code",
   "execution_count": 56,
   "metadata": {},
   "outputs": [],
   "source": [
    "# Merge feature to attributes_df\n",
    "attributes_df = attributes_df.merge(parking_df, left_index=True, right_index=True)"
   ]
  },
  {
   "cell_type": "markdown",
   "metadata": {},
   "source": [
    "## 3.1.5 Final Merge"
   ]
  },
  {
   "cell_type": "code",
   "execution_count": 57,
   "metadata": {},
   "outputs": [],
   "source": [
    "#Merge arrtributes back to business\n",
    "business_df = business_df.merge(attributes_df, left_index=True, right_index=True)"
   ]
  },
  {
   "cell_type": "code",
   "execution_count": 58,
   "metadata": {},
   "outputs": [],
   "source": [
    "# Drop orginal arrtributes in business\n",
    "business_df = business_df.drop('attributes', axis=1)"
   ]
  },
  {
   "cell_type": "code",
   "execution_count": 59,
   "metadata": {},
   "outputs": [
    {
     "data": {
      "text/plain": [
       "(2493, 30)"
      ]
     },
     "execution_count": 59,
     "metadata": {},
     "output_type": "execute_result"
    }
   ],
   "source": [
    "# Check dimensions\n",
    "business_df.shape"
   ]
  }
 ],
 "metadata": {
  "kernelspec": {
   "display_name": "Python 3",
   "language": "python",
   "name": "python3"
  },
  "language_info": {
   "codemirror_mode": {
    "name": "ipython",
    "version": 3
   },
   "file_extension": ".py",
   "mimetype": "text/x-python",
   "name": "python",
   "nbconvert_exporter": "python",
   "pygments_lexer": "ipython3",
   "version": "3.7.1"
  }
 },
 "nbformat": 4,
 "nbformat_minor": 2
}
