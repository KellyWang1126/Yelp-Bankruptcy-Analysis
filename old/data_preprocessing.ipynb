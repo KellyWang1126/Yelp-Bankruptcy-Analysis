{
 "cells": [
  {
   "cell_type": "markdown",
   "metadata": {},
   "source": [
    "# Data Source\n",
    "\n",
    "The dataset is collected from [Yelp Open Dataset](https://www.yelp.com/dataset) twice in year 2017 and 2018 respectively. The [Dataset Documentation](https://www.yelp.com/dataset/documentation/main) contains information on the structure of the dataset."
   ]
  },
  {
   "cell_type": "code",
   "execution_count": 1,
   "metadata": {},
   "outputs": [],
   "source": [
    "# Import python packages\n",
    "import us\n",
    "import sys\n",
    "import spacy\n",
    "import numpy as np\n",
    "import pandas as pd\n",
    "import seaborn as sns\n",
    "from uszipcode import SearchEngine\n",
    "from gensim.utils import simple_preprocess"
   ]
  },
  {
   "cell_type": "markdown",
   "metadata": {},
   "source": [
    "## Business Data"
   ]
  },
  {
   "cell_type": "code",
   "execution_count": 2,
   "metadata": {},
   "outputs": [],
   "source": [
    "# Read in 2017 and 2018 data\n",
    "business_2017 = pd.read_json('business_2017.json', lines=True)\n",
    "business_2018 = pd.read_json('business_2018.json', lines=True)"
   ]
  },
  {
   "cell_type": "code",
   "execution_count": 3,
   "metadata": {},
   "outputs": [
    {
     "data": {
      "text/plain": [
       "(174567, 15)"
      ]
     },
     "execution_count": 3,
     "metadata": {},
     "output_type": "execute_result"
    }
   ],
   "source": [
    "# Print the dimension of data\n",
    "business_2017.shape"
   ]
  },
  {
   "cell_type": "code",
   "execution_count": 4,
   "metadata": {},
   "outputs": [
    {
     "data": {
      "text/html": [
       "<div>\n",
       "<style scoped>\n",
       "    .dataframe tbody tr th:only-of-type {\n",
       "        vertical-align: middle;\n",
       "    }\n",
       "\n",
       "    .dataframe tbody tr th {\n",
       "        vertical-align: top;\n",
       "    }\n",
       "\n",
       "    .dataframe thead th {\n",
       "        text-align: right;\n",
       "    }\n",
       "</style>\n",
       "<table border=\"1\" class=\"dataframe\">\n",
       "  <thead>\n",
       "    <tr style=\"text-align: right;\">\n",
       "      <th></th>\n",
       "      <th>address</th>\n",
       "      <th>attributes</th>\n",
       "      <th>business_id</th>\n",
       "      <th>categories</th>\n",
       "      <th>city</th>\n",
       "      <th>hours</th>\n",
       "      <th>is_open</th>\n",
       "      <th>latitude</th>\n",
       "      <th>longitude</th>\n",
       "      <th>name</th>\n",
       "      <th>neighborhood</th>\n",
       "      <th>postal_code</th>\n",
       "      <th>review_count</th>\n",
       "      <th>stars</th>\n",
       "      <th>state</th>\n",
       "    </tr>\n",
       "  </thead>\n",
       "  <tbody>\n",
       "    <tr>\n",
       "      <th>0</th>\n",
       "      <td>4855 E Warner Rd, Ste B9</td>\n",
       "      <td>{'AcceptsInsurance': True, 'ByAppointmentOnly'...</td>\n",
       "      <td>FYWN1wneV18bWNgQjJ2GNg</td>\n",
       "      <td>[Dentists, General Dentistry, Health &amp; Medical...</td>\n",
       "      <td>Ahwatukee</td>\n",
       "      <td>{'Friday': '7:30-17:00', 'Tuesday': '7:30-17:0...</td>\n",
       "      <td>1</td>\n",
       "      <td>33.330690</td>\n",
       "      <td>-111.978599</td>\n",
       "      <td>Dental by Design</td>\n",
       "      <td></td>\n",
       "      <td>85044</td>\n",
       "      <td>22</td>\n",
       "      <td>4.0</td>\n",
       "      <td>AZ</td>\n",
       "    </tr>\n",
       "    <tr>\n",
       "      <th>1</th>\n",
       "      <td>3101 Washington Rd</td>\n",
       "      <td>{'BusinessParking': {'garage': False, 'street'...</td>\n",
       "      <td>He-G7vWjzVUysIKrfNbPUQ</td>\n",
       "      <td>[Hair Stylists, Hair Salons, Men's Hair Salons...</td>\n",
       "      <td>McMurray</td>\n",
       "      <td>{'Monday': '9:00-20:00', 'Tuesday': '9:00-20:0...</td>\n",
       "      <td>1</td>\n",
       "      <td>40.291685</td>\n",
       "      <td>-80.104900</td>\n",
       "      <td>Stephen Szabo Salon</td>\n",
       "      <td></td>\n",
       "      <td>15317</td>\n",
       "      <td>11</td>\n",
       "      <td>3.0</td>\n",
       "      <td>PA</td>\n",
       "    </tr>\n",
       "    <tr>\n",
       "      <th>2</th>\n",
       "      <td>6025 N 27th Ave, Ste 1</td>\n",
       "      <td>{}</td>\n",
       "      <td>KQPW8lFf1y5BT2MxiSZ3QA</td>\n",
       "      <td>[Departments of Motor Vehicles, Public Service...</td>\n",
       "      <td>Phoenix</td>\n",
       "      <td>{}</td>\n",
       "      <td>1</td>\n",
       "      <td>33.524903</td>\n",
       "      <td>-112.115310</td>\n",
       "      <td>Western Motor Vehicle</td>\n",
       "      <td></td>\n",
       "      <td>85017</td>\n",
       "      <td>18</td>\n",
       "      <td>1.5</td>\n",
       "      <td>AZ</td>\n",
       "    </tr>\n",
       "    <tr>\n",
       "      <th>3</th>\n",
       "      <td>5000 Arizona Mills Cr, Ste 435</td>\n",
       "      <td>{'BusinessAcceptsCreditCards': True, 'Restaura...</td>\n",
       "      <td>8DShNS-LuFqpEWIp0HxijA</td>\n",
       "      <td>[Sporting Goods, Shopping]</td>\n",
       "      <td>Tempe</td>\n",
       "      <td>{'Monday': '10:00-21:00', 'Tuesday': '10:00-21...</td>\n",
       "      <td>0</td>\n",
       "      <td>33.383147</td>\n",
       "      <td>-111.964725</td>\n",
       "      <td>Sports Authority</td>\n",
       "      <td></td>\n",
       "      <td>85282</td>\n",
       "      <td>9</td>\n",
       "      <td>3.0</td>\n",
       "      <td>AZ</td>\n",
       "    </tr>\n",
       "    <tr>\n",
       "      <th>4</th>\n",
       "      <td>581 Howe Ave</td>\n",
       "      <td>{'Alcohol': 'full_bar', 'HasTV': True, 'NoiseL...</td>\n",
       "      <td>PfOCPjBrlQAnz__NXj9h_w</td>\n",
       "      <td>[American (New), Nightlife, Bars, Sandwiches, ...</td>\n",
       "      <td>Cuyahoga Falls</td>\n",
       "      <td>{'Monday': '11:00-1:00', 'Tuesday': '11:00-1:0...</td>\n",
       "      <td>1</td>\n",
       "      <td>41.119535</td>\n",
       "      <td>-81.475690</td>\n",
       "      <td>Brick House Tavern + Tap</td>\n",
       "      <td></td>\n",
       "      <td>44221</td>\n",
       "      <td>116</td>\n",
       "      <td>3.5</td>\n",
       "      <td>OH</td>\n",
       "    </tr>\n",
       "  </tbody>\n",
       "</table>\n",
       "</div>"
      ],
      "text/plain": [
       "                          address  \\\n",
       "0        4855 E Warner Rd, Ste B9   \n",
       "1              3101 Washington Rd   \n",
       "2          6025 N 27th Ave, Ste 1   \n",
       "3  5000 Arizona Mills Cr, Ste 435   \n",
       "4                    581 Howe Ave   \n",
       "\n",
       "                                          attributes             business_id  \\\n",
       "0  {'AcceptsInsurance': True, 'ByAppointmentOnly'...  FYWN1wneV18bWNgQjJ2GNg   \n",
       "1  {'BusinessParking': {'garage': False, 'street'...  He-G7vWjzVUysIKrfNbPUQ   \n",
       "2                                                 {}  KQPW8lFf1y5BT2MxiSZ3QA   \n",
       "3  {'BusinessAcceptsCreditCards': True, 'Restaura...  8DShNS-LuFqpEWIp0HxijA   \n",
       "4  {'Alcohol': 'full_bar', 'HasTV': True, 'NoiseL...  PfOCPjBrlQAnz__NXj9h_w   \n",
       "\n",
       "                                          categories            city  \\\n",
       "0  [Dentists, General Dentistry, Health & Medical...       Ahwatukee   \n",
       "1  [Hair Stylists, Hair Salons, Men's Hair Salons...        McMurray   \n",
       "2  [Departments of Motor Vehicles, Public Service...         Phoenix   \n",
       "3                         [Sporting Goods, Shopping]           Tempe   \n",
       "4  [American (New), Nightlife, Bars, Sandwiches, ...  Cuyahoga Falls   \n",
       "\n",
       "                                               hours  is_open   latitude  \\\n",
       "0  {'Friday': '7:30-17:00', 'Tuesday': '7:30-17:0...        1  33.330690   \n",
       "1  {'Monday': '9:00-20:00', 'Tuesday': '9:00-20:0...        1  40.291685   \n",
       "2                                                 {}        1  33.524903   \n",
       "3  {'Monday': '10:00-21:00', 'Tuesday': '10:00-21...        0  33.383147   \n",
       "4  {'Monday': '11:00-1:00', 'Tuesday': '11:00-1:0...        1  41.119535   \n",
       "\n",
       "    longitude                      name neighborhood postal_code  \\\n",
       "0 -111.978599          Dental by Design                    85044   \n",
       "1  -80.104900       Stephen Szabo Salon                    15317   \n",
       "2 -112.115310     Western Motor Vehicle                    85017   \n",
       "3 -111.964725          Sports Authority                    85282   \n",
       "4  -81.475690  Brick House Tavern + Tap                    44221   \n",
       "\n",
       "   review_count  stars state  \n",
       "0            22    4.0    AZ  \n",
       "1            11    3.0    PA  \n",
       "2            18    1.5    AZ  \n",
       "3             9    3.0    AZ  \n",
       "4           116    3.5    OH  "
      ]
     },
     "execution_count": 4,
     "metadata": {},
     "output_type": "execute_result"
    }
   ],
   "source": [
    "# Display first few row of business data\n",
    "business_2017.head()"
   ]
  },
  {
   "cell_type": "markdown",
   "metadata": {},
   "source": [
    "## Merge Data"
   ]
  },
  {
   "cell_type": "code",
   "execution_count": 5,
   "metadata": {},
   "outputs": [],
   "source": [
    "# Rename is_open columns\n",
    "business_2017.rename(columns={'is_open':'is_open_2017'}, inplace=True)\n",
    "business_2018.rename(columns={'is_open':'is_open_2018'}, inplace=True)"
   ]
  },
  {
   "cell_type": "code",
   "execution_count": 6,
   "metadata": {},
   "outputs": [],
   "source": [
    "# Filter columns in 2018 business data\n",
    "var_to_keep = ['business_id', 'is_open_2018']\n",
    "business_2018 = business_2018[var_to_keep]"
   ]
  },
  {
   "cell_type": "code",
   "execution_count": 7,
   "metadata": {},
   "outputs": [
    {
     "data": {
      "text/plain": [
       "(159490, 16)"
      ]
     },
     "execution_count": 7,
     "metadata": {},
     "output_type": "execute_result"
    }
   ],
   "source": [
    "# Merge two dataframe based on business id\n",
    "business = business_2017.merge(business_2018, how='inner', on='business_id')\n",
    "business.shape"
   ]
  },
  {
   "cell_type": "markdown",
   "metadata": {},
   "source": [
    "## Create Bankruptcy Label"
   ]
  },
  {
   "cell_type": "code",
   "execution_count": 8,
   "metadata": {},
   "outputs": [],
   "source": [
    "# Extract all open business in 2017 and create bankruptcy label\n",
    "business_df = business[business['is_open_2017'] == 1].reset_index().drop('index', axis=1)\n",
    "business_df['isBankrupt'] = (business_df['is_open_2017'] != business_df['is_open_2018']).astype(int)"
   ]
  },
  {
   "cell_type": "code",
   "execution_count": 9,
   "metadata": {},
   "outputs": [
    {
     "data": {
      "text/plain": [
       "(133828, 17)"
      ]
     },
     "execution_count": 9,
     "metadata": {},
     "output_type": "execute_result"
    }
   ],
   "source": [
    "business_df.shape"
   ]
  },
  {
   "cell_type": "markdown",
   "metadata": {},
   "source": [
    "## Extract Restaurant Data"
   ]
  },
  {
   "cell_type": "code",
   "execution_count": 10,
   "metadata": {},
   "outputs": [
    {
     "data": {
      "text/plain": [
       "(36512, 17)"
      ]
     },
     "execution_count": 10,
     "metadata": {},
     "output_type": "execute_result"
    }
   ],
   "source": [
    "# Filter restaurant data\n",
    "business_df = business_df[business_df['categories'].apply(lambda row: 'Restaurants' in str(row))]\n",
    "business_df.shape"
   ]
  },
  {
   "cell_type": "markdown",
   "metadata": {},
   "source": [
    "## Extract United States Restaurants"
   ]
  },
  {
   "cell_type": "code",
   "execution_count": 11,
   "metadata": {},
   "outputs": [
    {
     "data": {
      "text/plain": [
       "(22832, 17)"
      ]
     },
     "execution_count": 11,
     "metadata": {},
     "output_type": "execute_result"
    }
   ],
   "source": [
    "# Keep only US restaurant data\n",
    "us_states = us.states.mapping('name','abbr')\n",
    "business_df = business_df[business_df['state'].apply(lambda row: row in us_states.values())]\n",
    "business_df.shape"
   ]
  },
  {
   "cell_type": "code",
   "execution_count": 12,
   "metadata": {},
   "outputs": [
    {
     "data": {
      "text/plain": [
       "AZ    7183\n",
       "NV    4780\n",
       "OH    3695\n",
       "NC    2837\n",
       "PA    2655\n",
       "WI    1100\n",
       "IL     434\n",
       "SC     138\n",
       "NY       9\n",
       "AK       1\n",
       "Name: state, dtype: int64"
      ]
     },
     "execution_count": 12,
     "metadata": {},
     "output_type": "execute_result"
    }
   ],
   "source": [
    "# Compute the count of each US state\n",
    "state_count = business_df['state'].value_counts()\n",
    "state_count"
   ]
  },
  {
   "cell_type": "code",
   "execution_count": 13,
   "metadata": {},
   "outputs": [
    {
     "data": {
      "text/plain": [
       "(7183, 17)"
      ]
     },
     "execution_count": 13,
     "metadata": {},
     "output_type": "execute_result"
    }
   ],
   "source": [
    "# Keep only the US states with most number of restaurant\n",
    "state_to_keep = state_count.index[0]\n",
    "business_df = business_df[business_df['state'].apply(lambda row: row == state_to_keep)]\n",
    "business_df.shape"
   ]
  },
  {
   "cell_type": "code",
   "execution_count": 14,
   "metadata": {},
   "outputs": [],
   "source": [
    "# Extract restaurant ids from business data\n",
    "restaurant_ids = business_df['business_id'].tolist()"
   ]
  },
  {
   "cell_type": "markdown",
   "metadata": {},
   "source": [
    "## Review Data"
   ]
  },
  {
   "cell_type": "code",
   "execution_count": 16,
   "metadata": {},
   "outputs": [
    {
     "name": "stdout",
     "output_type": "stream",
     "text": [
      "5261669 review_2017.json\n"
     ]
    }
   ],
   "source": [
    "# Count the number of line in review data\n",
    "! wc -l review_2017.json"
   ]
  },
  {
   "cell_type": "code",
   "execution_count": 17,
   "metadata": {},
   "outputs": [],
   "source": [
    "# Save the review line count into a python variable and read in dataset using pandas reader\n",
    "review_count = 5261669\n",
    "review_reader = pd.read_json('review_2017.json', lines=True, chunksize=50000)"
   ]
  },
  {
   "cell_type": "code",
   "execution_count": 18,
   "metadata": {},
   "outputs": [],
   "source": [
    "# Define function that filters the dataset using loop\n",
    "def df_filter(reader, num_line):\n",
    "    \n",
    "    # Calculate the number of iteration required\n",
    "    if num_line % reader.chunksize == 0:\n",
    "        num_iteration = num_line // reader.chunksize\n",
    "    else: \n",
    "        num_iteration = num_line // reader.chunksize + 1\n",
    "\n",
    "    # Loop through the dataset and filter all restaurant business\n",
    "    for i in range(num_iteration):\n",
    "        temp = next(reader)\n",
    "        temp = temp[temp['business_id'].apply(lambda row: row in restaurant_ids)]\n",
    "        \n",
    "        # Append the resulting dataframe into the original one if already exists\n",
    "        try:\n",
    "            df = pd.concat([df, temp])\n",
    "        except:\n",
    "            df = temp\n",
    "    \n",
    "    return df"
   ]
  },
  {
   "cell_type": "code",
   "execution_count": 19,
   "metadata": {},
   "outputs": [
    {
     "name": "stdout",
     "output_type": "stream",
     "text": [
      "(781473, 9)\n",
      "Wall time: 20min 11s\n"
     ]
    }
   ],
   "source": [
    "%%time\n",
    "# Filter the review data\n",
    "review_df = df_filter(review_reader, review_count)\n",
    "print(review_df.shape)"
   ]
  },
  {
   "cell_type": "code",
   "execution_count": 20,
   "metadata": {},
   "outputs": [],
   "source": [
    "# Save the resulting datasets into csv files\n",
    "business_df.to_csv('yelp_business.csv', index=False)\n",
    "review_df.to_csv('yelp_review.csv', index=False)"
   ]
  },
  {
   "cell_type": "markdown",
   "metadata": {},
   "source": [
    "# Clean Business Data"
   ]
  },
  {
   "cell_type": "code",
   "execution_count": 2,
   "metadata": {},
   "outputs": [
    {
     "data": {
      "text/plain": [
       "(7183, 17)"
      ]
     },
     "execution_count": 2,
     "metadata": {},
     "output_type": "execute_result"
    }
   ],
   "source": [
    "# Read business data\n",
    "business = pd.read_csv('yelp_business.csv')\n",
    "business.shape"
   ]
  },
  {
   "cell_type": "code",
   "execution_count": 3,
   "metadata": {},
   "outputs": [
    {
     "data": {
      "text/html": [
       "<div>\n",
       "<style scoped>\n",
       "    .dataframe tbody tr th:only-of-type {\n",
       "        vertical-align: middle;\n",
       "    }\n",
       "\n",
       "    .dataframe tbody tr th {\n",
       "        vertical-align: top;\n",
       "    }\n",
       "\n",
       "    .dataframe thead th {\n",
       "        text-align: right;\n",
       "    }\n",
       "</style>\n",
       "<table border=\"1\" class=\"dataframe\">\n",
       "  <thead>\n",
       "    <tr style=\"text-align: right;\">\n",
       "      <th></th>\n",
       "      <th>address</th>\n",
       "      <th>attributes</th>\n",
       "      <th>business_id</th>\n",
       "      <th>categories</th>\n",
       "      <th>city</th>\n",
       "      <th>hours</th>\n",
       "      <th>is_open_2017</th>\n",
       "      <th>latitude</th>\n",
       "      <th>longitude</th>\n",
       "      <th>name</th>\n",
       "      <th>neighborhood</th>\n",
       "      <th>postal_code</th>\n",
       "      <th>review_count</th>\n",
       "      <th>stars</th>\n",
       "      <th>state</th>\n",
       "      <th>is_open_2018</th>\n",
       "      <th>isBankrupt</th>\n",
       "    </tr>\n",
       "  </thead>\n",
       "  <tbody>\n",
       "    <tr>\n",
       "      <th>0</th>\n",
       "      <td>719 E Thunderbird Rd</td>\n",
       "      <td>{'RestaurantsTableService': False, 'GoodForMea...</td>\n",
       "      <td>rDMptJYWtnMhpQu_rRXHng</td>\n",
       "      <td>['Fast Food', 'Burgers', 'Restaurants']</td>\n",
       "      <td>Phoenix</td>\n",
       "      <td>{}</td>\n",
       "      <td>1</td>\n",
       "      <td>33.607070</td>\n",
       "      <td>-112.064382</td>\n",
       "      <td>McDonald's</td>\n",
       "      <td>NaN</td>\n",
       "      <td>85022.0</td>\n",
       "      <td>10</td>\n",
       "      <td>1.0</td>\n",
       "      <td>AZ</td>\n",
       "      <td>1</td>\n",
       "      <td>0</td>\n",
       "    </tr>\n",
       "    <tr>\n",
       "      <th>1</th>\n",
       "      <td>777 E Thunderbird Rd, Ste 107</td>\n",
       "      <td>{'RestaurantsTableService': True, 'GoodForMeal...</td>\n",
       "      <td>1WBkAuQg81kokZIPMpn9Zg</td>\n",
       "      <td>['Burgers', 'Restaurants']</td>\n",
       "      <td>Phoenix</td>\n",
       "      <td>{'Monday': '11:00-22:00', 'Tuesday': '11:00-22...</td>\n",
       "      <td>1</td>\n",
       "      <td>33.607310</td>\n",
       "      <td>-112.063404</td>\n",
       "      <td>Charr An American Burger Bar</td>\n",
       "      <td>NaN</td>\n",
       "      <td>85022.0</td>\n",
       "      <td>232</td>\n",
       "      <td>3.0</td>\n",
       "      <td>AZ</td>\n",
       "      <td>1</td>\n",
       "      <td>0</td>\n",
       "    </tr>\n",
       "    <tr>\n",
       "      <th>2</th>\n",
       "      <td>1635 E Camelback Rd</td>\n",
       "      <td>{'RestaurantsTableService': False, 'GoodForMea...</td>\n",
       "      <td>iPa__LOhse-hobC2Xmp-Kw</td>\n",
       "      <td>['Restaurants', 'Burgers', 'Fast Food']</td>\n",
       "      <td>Phoenix</td>\n",
       "      <td>{'Monday': '5:00-23:00', 'Tuesday': '5:00-23:0...</td>\n",
       "      <td>1</td>\n",
       "      <td>33.508765</td>\n",
       "      <td>-112.046240</td>\n",
       "      <td>McDonald's</td>\n",
       "      <td>NaN</td>\n",
       "      <td>85016.0</td>\n",
       "      <td>34</td>\n",
       "      <td>3.0</td>\n",
       "      <td>AZ</td>\n",
       "      <td>1</td>\n",
       "      <td>0</td>\n",
       "    </tr>\n",
       "    <tr>\n",
       "      <th>3</th>\n",
       "      <td>NaN</td>\n",
       "      <td>{'BusinessAcceptsCreditCards': True, 'Business...</td>\n",
       "      <td>YhV93k9uiMdr3FlV4FHjwA</td>\n",
       "      <td>['Marketing', \"Men's Clothing\", 'Restaurants',...</td>\n",
       "      <td>Phoenix</td>\n",
       "      <td>{'Monday': '8:00-17:00', 'Tuesday': '8:00-17:0...</td>\n",
       "      <td>1</td>\n",
       "      <td>33.449967</td>\n",
       "      <td>-112.070223</td>\n",
       "      <td>Caviness Studio</td>\n",
       "      <td>NaN</td>\n",
       "      <td>85001.0</td>\n",
       "      <td>4</td>\n",
       "      <td>5.0</td>\n",
       "      <td>AZ</td>\n",
       "      <td>1</td>\n",
       "      <td>0</td>\n",
       "    </tr>\n",
       "    <tr>\n",
       "      <th>4</th>\n",
       "      <td>8140 N Hayden Rd, Ste H115</td>\n",
       "      <td>{'Alcohol': 'full_bar', 'HasTV': True, 'NoiseL...</td>\n",
       "      <td>VdlPZg2NAu8t8GkdbPLecg</td>\n",
       "      <td>['Restaurants', 'Gluten-Free', 'Indian', 'Seaf...</td>\n",
       "      <td>Scottsdale</td>\n",
       "      <td>{'Tuesday': '17:00-22:00', 'Friday': '17:00-22...</td>\n",
       "      <td>1</td>\n",
       "      <td>33.555212</td>\n",
       "      <td>-111.900456</td>\n",
       "      <td>Tandoori Times Indian Bistro</td>\n",
       "      <td>NaN</td>\n",
       "      <td>85258.0</td>\n",
       "      <td>263</td>\n",
       "      <td>3.5</td>\n",
       "      <td>AZ</td>\n",
       "      <td>1</td>\n",
       "      <td>0</td>\n",
       "    </tr>\n",
       "  </tbody>\n",
       "</table>\n",
       "</div>"
      ],
      "text/plain": [
       "                         address  \\\n",
       "0           719 E Thunderbird Rd   \n",
       "1  777 E Thunderbird Rd, Ste 107   \n",
       "2            1635 E Camelback Rd   \n",
       "3                            NaN   \n",
       "4     8140 N Hayden Rd, Ste H115   \n",
       "\n",
       "                                          attributes             business_id  \\\n",
       "0  {'RestaurantsTableService': False, 'GoodForMea...  rDMptJYWtnMhpQu_rRXHng   \n",
       "1  {'RestaurantsTableService': True, 'GoodForMeal...  1WBkAuQg81kokZIPMpn9Zg   \n",
       "2  {'RestaurantsTableService': False, 'GoodForMea...  iPa__LOhse-hobC2Xmp-Kw   \n",
       "3  {'BusinessAcceptsCreditCards': True, 'Business...  YhV93k9uiMdr3FlV4FHjwA   \n",
       "4  {'Alcohol': 'full_bar', 'HasTV': True, 'NoiseL...  VdlPZg2NAu8t8GkdbPLecg   \n",
       "\n",
       "                                          categories        city  \\\n",
       "0            ['Fast Food', 'Burgers', 'Restaurants']     Phoenix   \n",
       "1                         ['Burgers', 'Restaurants']     Phoenix   \n",
       "2            ['Restaurants', 'Burgers', 'Fast Food']     Phoenix   \n",
       "3  ['Marketing', \"Men's Clothing\", 'Restaurants',...     Phoenix   \n",
       "4  ['Restaurants', 'Gluten-Free', 'Indian', 'Seaf...  Scottsdale   \n",
       "\n",
       "                                               hours  is_open_2017   latitude  \\\n",
       "0                                                 {}             1  33.607070   \n",
       "1  {'Monday': '11:00-22:00', 'Tuesday': '11:00-22...             1  33.607310   \n",
       "2  {'Monday': '5:00-23:00', 'Tuesday': '5:00-23:0...             1  33.508765   \n",
       "3  {'Monday': '8:00-17:00', 'Tuesday': '8:00-17:0...             1  33.449967   \n",
       "4  {'Tuesday': '17:00-22:00', 'Friday': '17:00-22...             1  33.555212   \n",
       "\n",
       "    longitude                          name  neighborhood  postal_code  \\\n",
       "0 -112.064382                    McDonald's           NaN      85022.0   \n",
       "1 -112.063404  Charr An American Burger Bar           NaN      85022.0   \n",
       "2 -112.046240                    McDonald's           NaN      85016.0   \n",
       "3 -112.070223               Caviness Studio           NaN      85001.0   \n",
       "4 -111.900456  Tandoori Times Indian Bistro           NaN      85258.0   \n",
       "\n",
       "   review_count  stars state  is_open_2018  isBankrupt  \n",
       "0            10    1.0    AZ             1           0  \n",
       "1           232    3.0    AZ             1           0  \n",
       "2            34    3.0    AZ             1           0  \n",
       "3             4    5.0    AZ             1           0  \n",
       "4           263    3.5    AZ             1           0  "
      ]
     },
     "execution_count": 3,
     "metadata": {},
     "output_type": "execute_result"
    }
   ],
   "source": [
    "# Look at first few rows of data\n",
    "business.head()"
   ]
  },
  {
   "cell_type": "code",
   "execution_count": 4,
   "metadata": {},
   "outputs": [],
   "source": [
    "# Make a copy of raw dataset\n",
    "business_df = business.copy()"
   ]
  },
  {
   "cell_type": "markdown",
   "metadata": {},
   "source": [
    "## Check Duplicates"
   ]
  },
  {
   "cell_type": "code",
   "execution_count": 5,
   "metadata": {},
   "outputs": [
    {
     "name": "stdout",
     "output_type": "stream",
     "text": [
      "(7183, 17)\n",
      "(7183, 17)\n"
     ]
    }
   ],
   "source": [
    "# Check row duplicates\n",
    "print(business_df.shape)\n",
    "print(business_df.drop_duplicates().shape)"
   ]
  },
  {
   "cell_type": "code",
   "execution_count": 6,
   "metadata": {},
   "outputs": [
    {
     "name": "stdout",
     "output_type": "stream",
     "text": [
      "7183\n",
      "7183\n"
     ]
    }
   ],
   "source": [
    "# Check business_id duplicates\n",
    "print(len(business_df['business_id']))\n",
    "print(len(business_df['business_id'].unique()))"
   ]
  },
  {
   "cell_type": "markdown",
   "metadata": {},
   "source": [
    "## Check Missing Values"
   ]
  },
  {
   "cell_type": "code",
   "execution_count": 7,
   "metadata": {},
   "outputs": [],
   "source": [
    "# Mark invisible missing values\n",
    "business_df = business_df.replace(['{}','[]'], np.nan)"
   ]
  },
  {
   "cell_type": "code",
   "execution_count": 8,
   "metadata": {
    "scrolled": true
   },
   "outputs": [
    {
     "data": {
      "text/plain": [
       "neighborhood    7183\n",
       "hours           1397\n",
       "address           75\n",
       "attributes        56\n",
       "postal_code        8\n",
       "is_open_2017       0\n",
       "business_id        0\n",
       "categories         0\n",
       "city               0\n",
       "isBankrupt         0\n",
       "latitude           0\n",
       "is_open_2018       0\n",
       "name               0\n",
       "review_count       0\n",
       "stars              0\n",
       "state              0\n",
       "longitude          0\n",
       "dtype: int64"
      ]
     },
     "execution_count": 8,
     "metadata": {},
     "output_type": "execute_result"
    }
   ],
   "source": [
    "# Check NA's before cleaning\n",
    "business_df.isna().sum().sort_values(ascending=False)"
   ]
  },
  {
   "cell_type": "code",
   "execution_count": 9,
   "metadata": {},
   "outputs": [
    {
     "data": {
      "text/plain": [
       "(7183, 14)"
      ]
     },
     "execution_count": 9,
     "metadata": {},
     "output_type": "execute_result"
    }
   ],
   "source": [
    "# Drop variables\n",
    "business_df = business_df.drop(['neighborhood', 'hours', 'address'], axis=1)\n",
    "business_df.shape"
   ]
  },
  {
   "cell_type": "code",
   "execution_count": 10,
   "metadata": {},
   "outputs": [
    {
     "data": {
      "text/plain": [
       "(7122, 14)"
      ]
     },
     "execution_count": 10,
     "metadata": {},
     "output_type": "execute_result"
    }
   ],
   "source": [
    "# Drop observations\n",
    "business_df = business_df.dropna(axis=0, how='any')\n",
    "business_df.shape"
   ]
  },
  {
   "cell_type": "code",
   "execution_count": 11,
   "metadata": {},
   "outputs": [
    {
     "data": {
      "text/plain": [
       "attributes      0\n",
       "business_id     0\n",
       "categories      0\n",
       "city            0\n",
       "is_open_2017    0\n",
       "latitude        0\n",
       "longitude       0\n",
       "name            0\n",
       "postal_code     0\n",
       "review_count    0\n",
       "stars           0\n",
       "state           0\n",
       "is_open_2018    0\n",
       "isBankrupt      0\n",
       "dtype: int64"
      ]
     },
     "execution_count": 11,
     "metadata": {},
     "output_type": "execute_result"
    }
   ],
   "source": [
    "# Check if NAs are being handled\n",
    "business_df.isna().sum()"
   ]
  },
  {
   "cell_type": "markdown",
   "metadata": {},
   "source": [
    "## Check City"
   ]
  },
  {
   "cell_type": "code",
   "execution_count": 12,
   "metadata": {},
   "outputs": [
    {
     "data": {
      "text/plain": [
       "array(['Phoenix', 'Scottsdale', 'Mesa', 'Laveen', 'Chandler', 'Glendale',\n",
       "       'Avondale', 'Sun City', 'Peoria', 'Litchfield Park', 'El Mirage',\n",
       "       'Gilbert', 'Tempe', 'Goodyear', 'Surprise', 'Cave Creek', 'MESA',\n",
       "       'Paradise Valley', 'Sun City West', 'Fountain Hills', 'Ahwatukee',\n",
       "       'Tolleson', 'Carefree', 'Central City', 'Scottdale', 'Sun Lakes',\n",
       "       'Youngtown', 'Higley', 'Central City Village', 'Guadalupe',\n",
       "       'Mesa AZ', 'Fort McDowell', 'Anthem', 'Waddell', 'Laveen Village',\n",
       "       'Phoenix Valley', 'Glendale Az', 'Schottsdale', 'Phx'],\n",
       "      dtype=object)"
      ]
     },
     "execution_count": 12,
     "metadata": {},
     "output_type": "execute_result"
    }
   ],
   "source": [
    "# Check the count of each city\n",
    "business_df['city'].unique()"
   ]
  },
  {
   "cell_type": "markdown",
   "metadata": {},
   "source": [
    "## Check Postal Code"
   ]
  },
  {
   "cell_type": "code",
   "execution_count": 13,
   "metadata": {},
   "outputs": [],
   "source": [
    "# Convert Postal Code from float to int \n",
    "business_df['postal_code'] = business_df['postal_code'].astype(int)"
   ]
  },
  {
   "cell_type": "code",
   "execution_count": 14,
   "metadata": {},
   "outputs": [
    {
     "data": {
      "text/plain": [
       "array([85022, 85016, 85001, 85258, 85035, 85204, 85051, 85029, 85013,\n",
       "       85339, 85004, 85248, 85044, 85215, 85306, 85323, 85224, 85373,\n",
       "       85381, 85286, 85032, 85255, 85262, 85201, 85019, 85340, 85335,\n",
       "       85251, 85249, 85233, 85296, 85298, 85382, 85006, 85206, 85281,\n",
       "       85392, 85053, 85210, 85282, 85054, 85338, 85308, 85050, 85304,\n",
       "       85379, 85305, 85301, 85085, 85014, 85202, 85302, 85284, 85283,\n",
       "       85331, 85012, 85254, 85297, 85351, 85388, 85226, 85042, 85383,\n",
       "       85295, 85209, 85018, 85020, 85040, 85017, 85033, 85208, 85374,\n",
       "       85207, 85023, 85234, 85086, 85008, 85009, 85303, 85048, 85024,\n",
       "       85253, 85260, 85043, 85266, 85212, 85027, 85034, 85083, 85236,\n",
       "       85015, 85021, 85003, 85345, 85041, 85378, 85375, 85268, 85310,\n",
       "       85259, 85007, 85225, 85028, 85205, 85395, 85250, 85257, 85353,\n",
       "       85377, 85037, 85256, 85213, 85203, 85307, 85031, 85363, 85287,\n",
       "       85073, 85005, 85280, 85058, 85264, 85821, 85252, 85355, 84295,\n",
       "       85734, 85064, 85394, 85318], dtype=int64)"
      ]
     },
     "execution_count": 14,
     "metadata": {},
     "output_type": "execute_result"
    }
   ],
   "source": [
    "# Check all unique postal codes\n",
    "business_df['postal_code'].unique()"
   ]
  },
  {
   "cell_type": "markdown",
   "metadata": {},
   "source": [
    "## Retrieve City and County"
   ]
  },
  {
   "cell_type": "code",
   "execution_count": 15,
   "metadata": {},
   "outputs": [
    {
     "name": "stdout",
     "output_type": "stream",
     "text": [
      "Wall time: 14.3 s\n"
     ]
    }
   ],
   "source": [
    "%%time\n",
    "# Find city and county based on zipcode\n",
    "search = SearchEngine() # Create an instance of uszipcode search engine\n",
    "business_df['city'] = business_df['postal_code'].apply(lambda x: search.by_zipcode(str(x)).major_city)\n",
    "business_df['county'] = business_df['postal_code'].apply(lambda x: search.by_zipcode(str(x)).county)"
   ]
  },
  {
   "cell_type": "code",
   "execution_count": 16,
   "metadata": {},
   "outputs": [
    {
     "name": "stdout",
     "output_type": "stream",
     "text": [
      "['Phoenix' 'Scottsdale' 'Mesa' 'Laveen' 'Chandler' 'Glendale' 'Avondale'\n",
      " 'Sun City' 'Peoria' 'Litchfield Park' 'El Mirage' 'Gilbert' 'Tempe'\n",
      " 'Goodyear' 'Surprise' 'Cave Creek' 'Paradise Valley' 'Higley'\n",
      " 'Sun City West' 'Fountain Hills' 'Tolleson' 'Carefree' 'Youngtown' None\n",
      " 'Fort Mcdowell' 'Waddell' 'Tucson']\n",
      "['Maricopa County' None 'Pima County']\n"
     ]
    }
   ],
   "source": [
    "# Check all unique values of cities and counties\n",
    "print(business_df['city'].unique())\n",
    "print(business_df['county'].unique())"
   ]
  },
  {
   "cell_type": "code",
   "execution_count": 17,
   "metadata": {},
   "outputs": [
    {
     "data": {
      "text/plain": [
       "county          4\n",
       "city            4\n",
       "isBankrupt      0\n",
       "is_open_2018    0\n",
       "state           0\n",
       "stars           0\n",
       "review_count    0\n",
       "postal_code     0\n",
       "name            0\n",
       "longitude       0\n",
       "latitude        0\n",
       "is_open_2017    0\n",
       "categories      0\n",
       "business_id     0\n",
       "attributes      0\n",
       "dtype: int64"
      ]
     },
     "execution_count": 17,
     "metadata": {},
     "output_type": "execute_result"
    }
   ],
   "source": [
    "# Check all missing values\n",
    "business_df.isna().sum().sort_values(ascending=False)"
   ]
  },
  {
   "cell_type": "code",
   "execution_count": 18,
   "metadata": {},
   "outputs": [
    {
     "data": {
      "text/html": [
       "<div>\n",
       "<style scoped>\n",
       "    .dataframe tbody tr th:only-of-type {\n",
       "        vertical-align: middle;\n",
       "    }\n",
       "\n",
       "    .dataframe tbody tr th {\n",
       "        vertical-align: top;\n",
       "    }\n",
       "\n",
       "    .dataframe thead th {\n",
       "        text-align: right;\n",
       "    }\n",
       "</style>\n",
       "<table border=\"1\" class=\"dataframe\">\n",
       "  <thead>\n",
       "    <tr style=\"text-align: right;\">\n",
       "      <th></th>\n",
       "      <th>attributes</th>\n",
       "      <th>business_id</th>\n",
       "      <th>categories</th>\n",
       "      <th>city</th>\n",
       "      <th>is_open_2017</th>\n",
       "      <th>latitude</th>\n",
       "      <th>longitude</th>\n",
       "      <th>name</th>\n",
       "      <th>postal_code</th>\n",
       "      <th>review_count</th>\n",
       "      <th>stars</th>\n",
       "      <th>state</th>\n",
       "      <th>is_open_2018</th>\n",
       "      <th>isBankrupt</th>\n",
       "      <th>county</th>\n",
       "    </tr>\n",
       "  </thead>\n",
       "  <tbody>\n",
       "    <tr>\n",
       "      <th>2472</th>\n",
       "      <td>{'RestaurantsTableService': False, 'GoodForMea...</td>\n",
       "      <td>9h2FCxdB5uk4bjX3P47L9g</td>\n",
       "      <td>['Breakfast &amp; Brunch', 'Sandwiches', 'Delis', ...</td>\n",
       "      <td>None</td>\n",
       "      <td>1</td>\n",
       "      <td>33.711515</td>\n",
       "      <td>-112.111381</td>\n",
       "      <td>Jersey Mike's Subs</td>\n",
       "      <td>85058</td>\n",
       "      <td>78</td>\n",
       "      <td>4.0</td>\n",
       "      <td>AZ</td>\n",
       "      <td>1</td>\n",
       "      <td>0</td>\n",
       "      <td>None</td>\n",
       "    </tr>\n",
       "    <tr>\n",
       "      <th>3321</th>\n",
       "      <td>{'RestaurantsTableService': False, 'GoodForMea...</td>\n",
       "      <td>LBAkHJJfCoDj9aa5sc0Mxw</td>\n",
       "      <td>['Fast Food', 'Ice Cream &amp; Frozen Yogurt', 'Bu...</td>\n",
       "      <td>None</td>\n",
       "      <td>1</td>\n",
       "      <td>33.423351</td>\n",
       "      <td>-111.939747</td>\n",
       "      <td>Steak 'n Shake</td>\n",
       "      <td>85821</td>\n",
       "      <td>232</td>\n",
       "      <td>2.5</td>\n",
       "      <td>AZ</td>\n",
       "      <td>1</td>\n",
       "      <td>0</td>\n",
       "      <td>None</td>\n",
       "    </tr>\n",
       "    <tr>\n",
       "      <th>4119</th>\n",
       "      <td>{'GoodForMeal': {'dessert': False, 'latenight'...</td>\n",
       "      <td>MBYMEdAI-ZlE-gr61fqs8Q</td>\n",
       "      <td>['Breakfast &amp; Brunch', 'Cafes', 'Restaurants',...</td>\n",
       "      <td>None</td>\n",
       "      <td>1</td>\n",
       "      <td>33.305359</td>\n",
       "      <td>-111.754638</td>\n",
       "      <td>First Watch - Breakfast, Brunch &amp; Lunch</td>\n",
       "      <td>84295</td>\n",
       "      <td>38</td>\n",
       "      <td>4.0</td>\n",
       "      <td>AZ</td>\n",
       "      <td>1</td>\n",
       "      <td>0</td>\n",
       "      <td>None</td>\n",
       "    </tr>\n",
       "    <tr>\n",
       "      <th>6373</th>\n",
       "      <td>{'Alcohol': 'full_bar', 'HasTV': True, 'NoiseL...</td>\n",
       "      <td>DZbMvBWb3OjC9045XLHmVg</td>\n",
       "      <td>['Bars', 'Nightlife', 'American (New)', 'Chick...</td>\n",
       "      <td>None</td>\n",
       "      <td>1</td>\n",
       "      <td>33.464146</td>\n",
       "      <td>-112.388143</td>\n",
       "      <td>Native Grill &amp; Wings</td>\n",
       "      <td>85394</td>\n",
       "      <td>49</td>\n",
       "      <td>3.0</td>\n",
       "      <td>AZ</td>\n",
       "      <td>1</td>\n",
       "      <td>0</td>\n",
       "      <td>None</td>\n",
       "    </tr>\n",
       "  </tbody>\n",
       "</table>\n",
       "</div>"
      ],
      "text/plain": [
       "                                             attributes  \\\n",
       "2472  {'RestaurantsTableService': False, 'GoodForMea...   \n",
       "3321  {'RestaurantsTableService': False, 'GoodForMea...   \n",
       "4119  {'GoodForMeal': {'dessert': False, 'latenight'...   \n",
       "6373  {'Alcohol': 'full_bar', 'HasTV': True, 'NoiseL...   \n",
       "\n",
       "                 business_id  \\\n",
       "2472  9h2FCxdB5uk4bjX3P47L9g   \n",
       "3321  LBAkHJJfCoDj9aa5sc0Mxw   \n",
       "4119  MBYMEdAI-ZlE-gr61fqs8Q   \n",
       "6373  DZbMvBWb3OjC9045XLHmVg   \n",
       "\n",
       "                                             categories  city  is_open_2017  \\\n",
       "2472  ['Breakfast & Brunch', 'Sandwiches', 'Delis', ...  None             1   \n",
       "3321  ['Fast Food', 'Ice Cream & Frozen Yogurt', 'Bu...  None             1   \n",
       "4119  ['Breakfast & Brunch', 'Cafes', 'Restaurants',...  None             1   \n",
       "6373  ['Bars', 'Nightlife', 'American (New)', 'Chick...  None             1   \n",
       "\n",
       "       latitude   longitude                                     name  \\\n",
       "2472  33.711515 -112.111381                       Jersey Mike's Subs   \n",
       "3321  33.423351 -111.939747                           Steak 'n Shake   \n",
       "4119  33.305359 -111.754638  First Watch - Breakfast, Brunch & Lunch   \n",
       "6373  33.464146 -112.388143                     Native Grill & Wings   \n",
       "\n",
       "      postal_code  review_count  stars state  is_open_2018  isBankrupt county  \n",
       "2472        85058            78    4.0    AZ             1           0   None  \n",
       "3321        85821           232    2.5    AZ             1           0   None  \n",
       "4119        84295            38    4.0    AZ             1           0   None  \n",
       "6373        85394            49    3.0    AZ             1           0   None  "
      ]
     },
     "execution_count": 18,
     "metadata": {},
     "output_type": "execute_result"
    }
   ],
   "source": [
    "# Check missing cities and countiess\n",
    "business_df[business_df['city'].isna()]"
   ]
  },
  {
   "cell_type": "code",
   "execution_count": 19,
   "metadata": {},
   "outputs": [
    {
     "data": {
      "text/plain": [
       "(7118, 15)"
      ]
     },
     "execution_count": 19,
     "metadata": {},
     "output_type": "execute_result"
    }
   ],
   "source": [
    "# Drop observations that contain invalid postal codes\n",
    "business_df = business_df.dropna()\n",
    "business_df.shape"
   ]
  },
  {
   "cell_type": "code",
   "execution_count": 20,
   "metadata": {},
   "outputs": [
    {
     "data": {
      "text/plain": [
       "attributes      0\n",
       "business_id     0\n",
       "categories      0\n",
       "city            0\n",
       "is_open_2017    0\n",
       "latitude        0\n",
       "longitude       0\n",
       "name            0\n",
       "postal_code     0\n",
       "review_count    0\n",
       "stars           0\n",
       "state           0\n",
       "is_open_2018    0\n",
       "isBankrupt      0\n",
       "county          0\n",
       "dtype: int64"
      ]
     },
     "execution_count": 20,
     "metadata": {},
     "output_type": "execute_result"
    }
   ],
   "source": [
    "# Check if the observation with invalid zipcodes are removed\n",
    "business_df.isna().sum()"
   ]
  },
  {
   "cell_type": "markdown",
   "metadata": {},
   "source": [
    "## Check County"
   ]
  },
  {
   "cell_type": "code",
   "execution_count": 21,
   "metadata": {},
   "outputs": [
    {
     "data": {
      "text/plain": [
       "Maricopa County    7117\n",
       "Pima County           1\n",
       "Name: county, dtype: int64"
      ]
     },
     "execution_count": 21,
     "metadata": {},
     "output_type": "execute_result"
    }
   ],
   "source": [
    "# Check the number of restaurants in the county\n",
    "business_df['county'].value_counts()"
   ]
  },
  {
   "cell_type": "code",
   "execution_count": 22,
   "metadata": {},
   "outputs": [
    {
     "data": {
      "text/plain": [
       "(7117, 15)"
      ]
     },
     "execution_count": 22,
     "metadata": {},
     "output_type": "execute_result"
    }
   ],
   "source": [
    "# Remove the only observation in pima county\n",
    "business_df = business_df[~(business_df['county'] == 'Pima County')]\n",
    "business_df.shape"
   ]
  },
  {
   "cell_type": "code",
   "execution_count": 23,
   "metadata": {},
   "outputs": [
    {
     "data": {
      "text/plain": [
       "Maricopa County    7117\n",
       "Name: county, dtype: int64"
      ]
     },
     "execution_count": 23,
     "metadata": {},
     "output_type": "execute_result"
    }
   ],
   "source": [
    "# Check if the observation is removed\n",
    "business_df['county'].value_counts()"
   ]
  },
  {
   "cell_type": "markdown",
   "metadata": {},
   "source": [
    "## Check Geographic Coordinates"
   ]
  },
  {
   "cell_type": "code",
   "execution_count": 24,
   "metadata": {},
   "outputs": [
    {
     "data": {
      "image/png": "[encoded data removed]",
      "text/plain": [
       "<Figure size 432x288 with 1 Axes>"
      ]
     },
     "metadata": {
      "needs_background": "light"
     },
     "output_type": "display_data"
    }
   ],
   "source": [
    "# Plot the location of all restaurants\n",
    "sns.scatterplot('longitude', 'latitude', data=business_df);"
   ]
  },
  {
   "cell_type": "code",
   "execution_count": 25,
   "metadata": {},
   "outputs": [
    {
     "data": {
      "text/plain": [
       "(7116, 15)"
      ]
     },
     "execution_count": 25,
     "metadata": {},
     "output_type": "execute_result"
    }
   ],
   "source": [
    "# Remove the restaurant that is far away from the rest of the population\n",
    "business_df = business_df[~((business_df['longitude'] < -119) & (business_df['latitude'] > 37))]\n",
    "business_df.shape"
   ]
  },
  {
   "cell_type": "code",
   "execution_count": 26,
   "metadata": {},
   "outputs": [
    {
     "data": {
      "image/png": "[encoded data removed]",
      "text/plain": [
       "<Figure size 432x288 with 1 Axes>"
      ]
     },
     "metadata": {
      "needs_background": "light"
     },
     "output_type": "display_data"
    }
   ],
   "source": [
    "# Check if the outlier is removed\n",
    "sns.scatterplot('longitude', 'latitude', data=business_df);"
   ]
  },
  {
   "cell_type": "code",
   "execution_count": 27,
   "metadata": {},
   "outputs": [
    {
     "data": {
      "text/plain": [
       "attributes      0\n",
       "business_id     0\n",
       "categories      0\n",
       "city            0\n",
       "is_open_2017    0\n",
       "latitude        0\n",
       "longitude       0\n",
       "name            0\n",
       "postal_code     0\n",
       "review_count    0\n",
       "stars           0\n",
       "state           0\n",
       "is_open_2018    0\n",
       "isBankrupt      0\n",
       "county          0\n",
       "dtype: int64"
      ]
     },
     "execution_count": 27,
     "metadata": {},
     "output_type": "execute_result"
    }
   ],
   "source": [
    "# Check NA's after cleaning\n",
    "business_df.isna().sum()"
   ]
  },
  {
   "cell_type": "code",
   "execution_count": 28,
   "metadata": {},
   "outputs": [
    {
     "data": {
      "text/plain": [
       "(7116, 13)"
      ]
     },
     "execution_count": 28,
     "metadata": {},
     "output_type": "execute_result"
    }
   ],
   "source": [
    "# Drop unwanted columns\n",
    "business_df = business_df.drop(columns=['is_open_2017', 'is_open_2018'])\n",
    "business_df.shape"
   ]
  },
  {
   "cell_type": "code",
   "execution_count": 29,
   "metadata": {},
   "outputs": [
    {
     "data": {
      "text/html": [
       "<div>\n",
       "<style scoped>\n",
       "    .dataframe tbody tr th:only-of-type {\n",
       "        vertical-align: middle;\n",
       "    }\n",
       "\n",
       "    .dataframe tbody tr th {\n",
       "        vertical-align: top;\n",
       "    }\n",
       "\n",
       "    .dataframe thead th {\n",
       "        text-align: right;\n",
       "    }\n",
       "</style>\n",
       "<table border=\"1\" class=\"dataframe\">\n",
       "  <thead>\n",
       "    <tr style=\"text-align: right;\">\n",
       "      <th></th>\n",
       "      <th>attributes</th>\n",
       "      <th>business_id</th>\n",
       "      <th>categories</th>\n",
       "      <th>city</th>\n",
       "      <th>latitude</th>\n",
       "      <th>longitude</th>\n",
       "      <th>name</th>\n",
       "      <th>postal_code</th>\n",
       "      <th>review_count</th>\n",
       "      <th>stars</th>\n",
       "      <th>state</th>\n",
       "      <th>isBankrupt</th>\n",
       "      <th>county</th>\n",
       "    </tr>\n",
       "  </thead>\n",
       "  <tbody>\n",
       "    <tr>\n",
       "      <th>0</th>\n",
       "      <td>{'RestaurantsTableService': False, 'GoodForMea...</td>\n",
       "      <td>rDMptJYWtnMhpQu_rRXHng</td>\n",
       "      <td>['Fast Food', 'Burgers', 'Restaurants']</td>\n",
       "      <td>Phoenix</td>\n",
       "      <td>33.607070</td>\n",
       "      <td>-112.064382</td>\n",
       "      <td>McDonald's</td>\n",
       "      <td>85022</td>\n",
       "      <td>10</td>\n",
       "      <td>1.0</td>\n",
       "      <td>AZ</td>\n",
       "      <td>0</td>\n",
       "      <td>Maricopa County</td>\n",
       "    </tr>\n",
       "    <tr>\n",
       "      <th>1</th>\n",
       "      <td>{'RestaurantsTableService': True, 'GoodForMeal...</td>\n",
       "      <td>1WBkAuQg81kokZIPMpn9Zg</td>\n",
       "      <td>['Burgers', 'Restaurants']</td>\n",
       "      <td>Phoenix</td>\n",
       "      <td>33.607310</td>\n",
       "      <td>-112.063404</td>\n",
       "      <td>Charr An American Burger Bar</td>\n",
       "      <td>85022</td>\n",
       "      <td>232</td>\n",
       "      <td>3.0</td>\n",
       "      <td>AZ</td>\n",
       "      <td>0</td>\n",
       "      <td>Maricopa County</td>\n",
       "    </tr>\n",
       "    <tr>\n",
       "      <th>2</th>\n",
       "      <td>{'RestaurantsTableService': False, 'GoodForMea...</td>\n",
       "      <td>iPa__LOhse-hobC2Xmp-Kw</td>\n",
       "      <td>['Restaurants', 'Burgers', 'Fast Food']</td>\n",
       "      <td>Phoenix</td>\n",
       "      <td>33.508765</td>\n",
       "      <td>-112.046240</td>\n",
       "      <td>McDonald's</td>\n",
       "      <td>85016</td>\n",
       "      <td>34</td>\n",
       "      <td>3.0</td>\n",
       "      <td>AZ</td>\n",
       "      <td>0</td>\n",
       "      <td>Maricopa County</td>\n",
       "    </tr>\n",
       "    <tr>\n",
       "      <th>3</th>\n",
       "      <td>{'BusinessAcceptsCreditCards': True, 'Business...</td>\n",
       "      <td>YhV93k9uiMdr3FlV4FHjwA</td>\n",
       "      <td>['Marketing', \"Men's Clothing\", 'Restaurants',...</td>\n",
       "      <td>Phoenix</td>\n",
       "      <td>33.449967</td>\n",
       "      <td>-112.070223</td>\n",
       "      <td>Caviness Studio</td>\n",
       "      <td>85001</td>\n",
       "      <td>4</td>\n",
       "      <td>5.0</td>\n",
       "      <td>AZ</td>\n",
       "      <td>0</td>\n",
       "      <td>Maricopa County</td>\n",
       "    </tr>\n",
       "    <tr>\n",
       "      <th>4</th>\n",
       "      <td>{'Alcohol': 'full_bar', 'HasTV': True, 'NoiseL...</td>\n",
       "      <td>VdlPZg2NAu8t8GkdbPLecg</td>\n",
       "      <td>['Restaurants', 'Gluten-Free', 'Indian', 'Seaf...</td>\n",
       "      <td>Scottsdale</td>\n",
       "      <td>33.555212</td>\n",
       "      <td>-111.900456</td>\n",
       "      <td>Tandoori Times Indian Bistro</td>\n",
       "      <td>85258</td>\n",
       "      <td>263</td>\n",
       "      <td>3.5</td>\n",
       "      <td>AZ</td>\n",
       "      <td>0</td>\n",
       "      <td>Maricopa County</td>\n",
       "    </tr>\n",
       "  </tbody>\n",
       "</table>\n",
       "</div>"
      ],
      "text/plain": [
       "                                          attributes             business_id  \\\n",
       "0  {'RestaurantsTableService': False, 'GoodForMea...  rDMptJYWtnMhpQu_rRXHng   \n",
       "1  {'RestaurantsTableService': True, 'GoodForMeal...  1WBkAuQg81kokZIPMpn9Zg   \n",
       "2  {'RestaurantsTableService': False, 'GoodForMea...  iPa__LOhse-hobC2Xmp-Kw   \n",
       "3  {'BusinessAcceptsCreditCards': True, 'Business...  YhV93k9uiMdr3FlV4FHjwA   \n",
       "4  {'Alcohol': 'full_bar', 'HasTV': True, 'NoiseL...  VdlPZg2NAu8t8GkdbPLecg   \n",
       "\n",
       "                                          categories        city   latitude  \\\n",
       "0            ['Fast Food', 'Burgers', 'Restaurants']     Phoenix  33.607070   \n",
       "1                         ['Burgers', 'Restaurants']     Phoenix  33.607310   \n",
       "2            ['Restaurants', 'Burgers', 'Fast Food']     Phoenix  33.508765   \n",
       "3  ['Marketing', \"Men's Clothing\", 'Restaurants',...     Phoenix  33.449967   \n",
       "4  ['Restaurants', 'Gluten-Free', 'Indian', 'Seaf...  Scottsdale  33.555212   \n",
       "\n",
       "    longitude                          name  postal_code  review_count  stars  \\\n",
       "0 -112.064382                    McDonald's        85022            10    1.0   \n",
       "1 -112.063404  Charr An American Burger Bar        85022           232    3.0   \n",
       "2 -112.046240                    McDonald's        85016            34    3.0   \n",
       "3 -112.070223               Caviness Studio        85001             4    5.0   \n",
       "4 -111.900456  Tandoori Times Indian Bistro        85258           263    3.5   \n",
       "\n",
       "  state  isBankrupt           county  \n",
       "0    AZ           0  Maricopa County  \n",
       "1    AZ           0  Maricopa County  \n",
       "2    AZ           0  Maricopa County  \n",
       "3    AZ           0  Maricopa County  \n",
       "4    AZ           0  Maricopa County  "
      ]
     },
     "execution_count": 29,
     "metadata": {},
     "output_type": "execute_result"
    }
   ],
   "source": [
    "# Look at first few rows of finalized business data\n",
    "business_df.head()"
   ]
  },
  {
   "cell_type": "markdown",
   "metadata": {},
   "source": [
    "# Clean Review Data"
   ]
  },
  {
   "cell_type": "code",
   "execution_count": 30,
   "metadata": {},
   "outputs": [
    {
     "data": {
      "text/plain": [
       "(781473, 9)"
      ]
     },
     "execution_count": 30,
     "metadata": {},
     "output_type": "execute_result"
    }
   ],
   "source": [
    "# Read review data\n",
    "review = pd.read_csv('yelp_review.csv')\n",
    "review.shape"
   ]
  },
  {
   "cell_type": "code",
   "execution_count": 31,
   "metadata": {},
   "outputs": [
    {
     "data": {
      "text/html": [
       "<div>\n",
       "<style scoped>\n",
       "    .dataframe tbody tr th:only-of-type {\n",
       "        vertical-align: middle;\n",
       "    }\n",
       "\n",
       "    .dataframe tbody tr th {\n",
       "        vertical-align: top;\n",
       "    }\n",
       "\n",
       "    .dataframe thead th {\n",
       "        text-align: right;\n",
       "    }\n",
       "</style>\n",
       "<table border=\"1\" class=\"dataframe\">\n",
       "  <thead>\n",
       "    <tr style=\"text-align: right;\">\n",
       "      <th></th>\n",
       "      <th>business_id</th>\n",
       "      <th>cool</th>\n",
       "      <th>date</th>\n",
       "      <th>funny</th>\n",
       "      <th>review_id</th>\n",
       "      <th>stars</th>\n",
       "      <th>text</th>\n",
       "      <th>useful</th>\n",
       "      <th>user_id</th>\n",
       "    </tr>\n",
       "  </thead>\n",
       "  <tbody>\n",
       "    <tr>\n",
       "      <th>0</th>\n",
       "      <td>JlNeaOymdVbE6_bubqjohg</td>\n",
       "      <td>0</td>\n",
       "      <td>2014-08-09</td>\n",
       "      <td>0</td>\n",
       "      <td>BF0ANB54sc_f-3_howQBCg</td>\n",
       "      <td>1</td>\n",
       "      <td>We always go to the chevo's in chandler which ...</td>\n",
       "      <td>3</td>\n",
       "      <td>ssuXFjkH4neiBgwv-oN4IA</td>\n",
       "    </tr>\n",
       "    <tr>\n",
       "      <th>1</th>\n",
       "      <td>0Rni7ocMC_Lg2UH0lDeKMQ</td>\n",
       "      <td>0</td>\n",
       "      <td>2014-08-09</td>\n",
       "      <td>0</td>\n",
       "      <td>DbLUpPT61ykLTakknCF9CQ</td>\n",
       "      <td>1</td>\n",
       "      <td>This place is always so dirty and grimy, been ...</td>\n",
       "      <td>6</td>\n",
       "      <td>ssuXFjkH4neiBgwv-oN4IA</td>\n",
       "    </tr>\n",
       "    <tr>\n",
       "      <th>2</th>\n",
       "      <td>S-oLPRdhlyL5HAknBKTUcQ</td>\n",
       "      <td>0</td>\n",
       "      <td>2017-11-30</td>\n",
       "      <td>0</td>\n",
       "      <td>z_mVLygzPn8uHp63SSCErw</td>\n",
       "      <td>4</td>\n",
       "      <td>Holy portion sizes! You get a lot of bang for ...</td>\n",
       "      <td>0</td>\n",
       "      <td>MzEnYCyZlRYQRISNMXTWIg</td>\n",
       "    </tr>\n",
       "    <tr>\n",
       "      <th>3</th>\n",
       "      <td>iIjVO7cLD1UEmIO7G05Ujw</td>\n",
       "      <td>0</td>\n",
       "      <td>2016-06-11</td>\n",
       "      <td>0</td>\n",
       "      <td>xatycgntu_F_Ioyny3iflw</td>\n",
       "      <td>4</td>\n",
       "      <td>Flavor was actually pretty good. Not used to e...</td>\n",
       "      <td>0</td>\n",
       "      <td>vaXJ7-xLrnD6FAEhUqYKwQ</td>\n",
       "    </tr>\n",
       "    <tr>\n",
       "      <th>4</th>\n",
       "      <td>1JF9TbJ2d5hH8xsQvvklHg</td>\n",
       "      <td>0</td>\n",
       "      <td>2016-06-18</td>\n",
       "      <td>0</td>\n",
       "      <td>Z7U7MMef6Tbj_ZbSFzLRUw</td>\n",
       "      <td>5</td>\n",
       "      <td>This is place very great flavor. Server was on...</td>\n",
       "      <td>1</td>\n",
       "      <td>vaXJ7-xLrnD6FAEhUqYKwQ</td>\n",
       "    </tr>\n",
       "  </tbody>\n",
       "</table>\n",
       "</div>"
      ],
      "text/plain": [
       "              business_id  cool        date  funny               review_id  \\\n",
       "0  JlNeaOymdVbE6_bubqjohg     0  2014-08-09      0  BF0ANB54sc_f-3_howQBCg   \n",
       "1  0Rni7ocMC_Lg2UH0lDeKMQ     0  2014-08-09      0  DbLUpPT61ykLTakknCF9CQ   \n",
       "2  S-oLPRdhlyL5HAknBKTUcQ     0  2017-11-30      0  z_mVLygzPn8uHp63SSCErw   \n",
       "3  iIjVO7cLD1UEmIO7G05Ujw     0  2016-06-11      0  xatycgntu_F_Ioyny3iflw   \n",
       "4  1JF9TbJ2d5hH8xsQvvklHg     0  2016-06-18      0  Z7U7MMef6Tbj_ZbSFzLRUw   \n",
       "\n",
       "   stars                                               text  useful  \\\n",
       "0      1  We always go to the chevo's in chandler which ...       3   \n",
       "1      1  This place is always so dirty and grimy, been ...       6   \n",
       "2      4  Holy portion sizes! You get a lot of bang for ...       0   \n",
       "3      4  Flavor was actually pretty good. Not used to e...       0   \n",
       "4      5  This is place very great flavor. Server was on...       1   \n",
       "\n",
       "                  user_id  \n",
       "0  ssuXFjkH4neiBgwv-oN4IA  \n",
       "1  ssuXFjkH4neiBgwv-oN4IA  \n",
       "2  MzEnYCyZlRYQRISNMXTWIg  \n",
       "3  vaXJ7-xLrnD6FAEhUqYKwQ  \n",
       "4  vaXJ7-xLrnD6FAEhUqYKwQ  "
      ]
     },
     "execution_count": 31,
     "metadata": {},
     "output_type": "execute_result"
    }
   ],
   "source": [
    "# Look at first few rows of data\n",
    "review.head()"
   ]
  },
  {
   "cell_type": "code",
   "execution_count": 32,
   "metadata": {},
   "outputs": [],
   "source": [
    "# Make a copy of raw dataset\n",
    "review_df = review.copy()"
   ]
  },
  {
   "cell_type": "markdown",
   "metadata": {},
   "source": [
    "## Check Duplicates"
   ]
  },
  {
   "cell_type": "code",
   "execution_count": 33,
   "metadata": {},
   "outputs": [
    {
     "name": "stdout",
     "output_type": "stream",
     "text": [
      "(781473, 9)\n",
      "(781473, 9)\n"
     ]
    }
   ],
   "source": [
    "# Check row duplicates\n",
    "print(review_df.shape)\n",
    "print(review_df.drop_duplicates().shape)"
   ]
  },
  {
   "cell_type": "markdown",
   "metadata": {},
   "source": [
    "## Check Missing Values"
   ]
  },
  {
   "cell_type": "code",
   "execution_count": 34,
   "metadata": {},
   "outputs": [
    {
     "data": {
      "text/plain": [
       "business_id    0\n",
       "cool           0\n",
       "date           0\n",
       "funny          0\n",
       "review_id      0\n",
       "stars          0\n",
       "text           0\n",
       "useful         0\n",
       "user_id        0\n",
       "dtype: int64"
      ]
     },
     "execution_count": 34,
     "metadata": {},
     "output_type": "execute_result"
    }
   ],
   "source": [
    "# Check NA's\n",
    "review_df.isna().sum()"
   ]
  },
  {
   "cell_type": "markdown",
   "metadata": {},
   "source": [
    "## Calculate Number of Words"
   ]
  },
  {
   "cell_type": "code",
   "execution_count": 35,
   "metadata": {},
   "outputs": [],
   "source": [
    "# Calculate number of words\n",
    "review_df['review_length'] = review_df['text'].apply(lambda doc: len(str(doc).split(' ')))"
   ]
  },
  {
   "cell_type": "markdown",
   "metadata": {},
   "source": [
    "## Clean Text "
   ]
  },
  {
   "cell_type": "code",
   "execution_count": 36,
   "metadata": {},
   "outputs": [],
   "source": [
    "def keep_token(x):\n",
    "    # Drop word that do not belong to the required part of speech\n",
    "    pos_to_keep = ['ADJ', 'ADV', 'NOUN', 'VERB']\n",
    "    if x.pos_ not in pos_to_keep:\n",
    "        return False\n",
    "    \n",
    "    # Keep only alphabetical words\n",
    "    if x.is_alpha == False:\n",
    "        return False\n",
    "    \n",
    "    # Remove stopwords\n",
    "    if x.is_stop == True:\n",
    "        return False\n",
    "    \n",
    "    # Keep the token if it does not get filtered out\n",
    "    return True"
   ]
  },
  {
   "cell_type": "code",
   "execution_count": 37,
   "metadata": {},
   "outputs": [],
   "source": [
    "# Load spacy nlp model\n",
    "nlp = spacy.load('en_core_web_sm')\n",
    "\n",
    "# Define function that lemmatize and remove\n",
    "clean_text = lambda x: ' '.join([word.lemma_ for word in nlp(u'{}'.format(x)) if keep_token(word)])"
   ]
  },
  {
   "cell_type": "code",
   "execution_count": 38,
   "metadata": {},
   "outputs": [
    {
     "name": "stdout",
     "output_type": "stream",
     "text": [
      "Wall time: 5h 41min 16s\n"
     ]
    }
   ],
   "source": [
    "%%time\n",
    "# Clean text\n",
    "review_df['clean_text'] = review_df['text'].apply(clean_text)"
   ]
  },
  {
   "cell_type": "code",
   "execution_count": 39,
   "metadata": {},
   "outputs": [
    {
     "name": "stdout",
     "output_type": "stream",
     "text": [
      "Wall time: 1min 18s\n"
     ]
    }
   ],
   "source": [
    "%%time\n",
    "# Remove accents from all words\n",
    "review_df['clean_text'] = review_df['clean_text'].apply(lambda doc: ' '.join(simple_preprocess(str(doc), deacc=True)))"
   ]
  },
  {
   "cell_type": "code",
   "execution_count": 40,
   "metadata": {},
   "outputs": [
    {
     "data": {
      "text/plain": [
       "(781473, 9)"
      ]
     },
     "execution_count": 40,
     "metadata": {},
     "output_type": "execute_result"
    }
   ],
   "source": [
    "# Drop unwanted column\n",
    "review_df = review_df.drop(columns = ['review_id', 'text', 'user_id'])\n",
    "review_df.shape"
   ]
  },
  {
   "cell_type": "code",
   "execution_count": 41,
   "metadata": {},
   "outputs": [
    {
     "data": {
      "text/html": [
       "<div>\n",
       "<style scoped>\n",
       "    .dataframe tbody tr th:only-of-type {\n",
       "        vertical-align: middle;\n",
       "    }\n",
       "\n",
       "    .dataframe tbody tr th {\n",
       "        vertical-align: top;\n",
       "    }\n",
       "\n",
       "    .dataframe thead th {\n",
       "        text-align: right;\n",
       "    }\n",
       "</style>\n",
       "<table border=\"1\" class=\"dataframe\">\n",
       "  <thead>\n",
       "    <tr style=\"text-align: right;\">\n",
       "      <th></th>\n",
       "      <th>business_id</th>\n",
       "      <th>cool</th>\n",
       "      <th>date</th>\n",
       "      <th>funny</th>\n",
       "      <th>stars</th>\n",
       "      <th>useful</th>\n",
       "      <th>review_length</th>\n",
       "      <th>clean_text</th>\n",
       "    </tr>\n",
       "  </thead>\n",
       "  <tbody>\n",
       "    <tr>\n",
       "      <th>0</th>\n",
       "      <td>JlNeaOymdVbE6_bubqjohg</td>\n",
       "      <td>0</td>\n",
       "      <td>2014-08-09</td>\n",
       "      <td>0</td>\n",
       "      <td>1</td>\n",
       "      <td>3</td>\n",
       "      <td>81</td>\n",
       "      <td>chevo chandler delicious ahwatukee different r...</td>\n",
       "    </tr>\n",
       "    <tr>\n",
       "      <th>1</th>\n",
       "      <td>0Rni7ocMC_Lg2UH0lDeKMQ</td>\n",
       "      <td>0</td>\n",
       "      <td>2014-08-09</td>\n",
       "      <td>0</td>\n",
       "      <td>1</td>\n",
       "      <td>6</td>\n",
       "      <td>21</td>\n",
       "      <td>place dirty grimy twice service horrible</td>\n",
       "    </tr>\n",
       "    <tr>\n",
       "      <th>2</th>\n",
       "      <td>S-oLPRdhlyL5HAknBKTUcQ</td>\n",
       "      <td>0</td>\n",
       "      <td>2017-11-30</td>\n",
       "      <td>0</td>\n",
       "      <td>4</td>\n",
       "      <td>0</td>\n",
       "      <td>25</td>\n",
       "      <td>holy portion size lot bang buck service super ...</td>\n",
       "    </tr>\n",
       "    <tr>\n",
       "      <th>3</th>\n",
       "      <td>iIjVO7cLD1UEmIO7G05Ujw</td>\n",
       "      <td>0</td>\n",
       "      <td>2016-06-11</td>\n",
       "      <td>0</td>\n",
       "      <td>4</td>\n",
       "      <td>0</td>\n",
       "      <td>60</td>\n",
       "      <td>flavor actually pretty good eat menudo tortill...</td>\n",
       "    </tr>\n",
       "    <tr>\n",
       "      <th>4</th>\n",
       "      <td>1JF9TbJ2d5hH8xsQvvklHg</td>\n",
       "      <td>0</td>\n",
       "      <td>2016-06-18</td>\n",
       "      <td>0</td>\n",
       "      <td>5</td>\n",
       "      <td>1</td>\n",
       "      <td>94</td>\n",
       "      <td>place great flavor thing ask bring chip salsa ...</td>\n",
       "    </tr>\n",
       "  </tbody>\n",
       "</table>\n",
       "</div>"
      ],
      "text/plain": [
       "              business_id  cool        date  funny  stars  useful  \\\n",
       "0  JlNeaOymdVbE6_bubqjohg     0  2014-08-09      0      1       3   \n",
       "1  0Rni7ocMC_Lg2UH0lDeKMQ     0  2014-08-09      0      1       6   \n",
       "2  S-oLPRdhlyL5HAknBKTUcQ     0  2017-11-30      0      4       0   \n",
       "3  iIjVO7cLD1UEmIO7G05Ujw     0  2016-06-11      0      4       0   \n",
       "4  1JF9TbJ2d5hH8xsQvvklHg     0  2016-06-18      0      5       1   \n",
       "\n",
       "   review_length                                         clean_text  \n",
       "0             81  chevo chandler delicious ahwatukee different r...  \n",
       "1             21           place dirty grimy twice service horrible  \n",
       "2             25  holy portion size lot bang buck service super ...  \n",
       "3             60  flavor actually pretty good eat menudo tortill...  \n",
       "4             94  place great flavor thing ask bring chip salsa ...  "
      ]
     },
     "execution_count": 41,
     "metadata": {},
     "output_type": "execute_result"
    }
   ],
   "source": [
    "# Look at first few rows of finalized review data\n",
    "review_df.head()"
   ]
  },
  {
   "cell_type": "code",
   "execution_count": 42,
   "metadata": {},
   "outputs": [
    {
     "data": {
      "text/plain": [
       "business_id      0\n",
       "cool             0\n",
       "date             0\n",
       "funny            0\n",
       "review_id        0\n",
       "stars            0\n",
       "useful           0\n",
       "review_length    0\n",
       "clean_text       0\n",
       "dtype: int64"
      ]
     },
     "execution_count": 42,
     "metadata": {},
     "output_type": "execute_result"
    }
   ],
   "source": [
    "review_df.isna().sum()"
   ]
  },
  {
   "cell_type": "markdown",
   "metadata": {},
   "source": [
    "# Export Cleaned Datasets"
   ]
  },
  {
   "cell_type": "code",
   "execution_count": 43,
   "metadata": {},
   "outputs": [],
   "source": [
    "# Export datasets\n",
    "business_df.to_csv('clean_business.csv', index=False)\n",
    "review_df.to_csv('clean_review.csv', index=False)"
   ]
  },
  {
   "cell_type": "code",
   "execution_count": null,
   "metadata": {},
   "outputs": [],
   "source": []
  }
 ],
 "metadata": {
  "kernelspec": {
   "display_name": "Python 3",
   "language": "python",
   "name": "python3"
  },
  "language_info": {
   "codemirror_mode": {
    "name": "ipython",
    "version": 3
   },
   "file_extension": ".py",
   "mimetype": "text/x-python",
   "name": "python",
   "nbconvert_exporter": "python",
   "pygments_lexer": "ipython3",
   "version": "3.7.1"
  }
 },
 "nbformat": 4,
 "nbformat_minor": 2
}
